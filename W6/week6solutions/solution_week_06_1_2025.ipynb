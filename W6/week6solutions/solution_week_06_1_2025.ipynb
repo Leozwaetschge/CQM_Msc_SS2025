{
 "cells": [
  {
   "cell_type": "markdown",
   "id": "WwkJjHqOO8cK",
   "metadata": {
    "id": "WwkJjHqOO8cK"
   },
   "source": [
    "# Applying DMRG to the transverse-field Ising model\n",
    "\n",
    "In this exercise, we want to do some physics with the MPS/MPO and DMRG implementations from the last exercises! We study the transverse-field Ising model (TFIM)\n",
    "$$\n",
    "H = -J\\sum_i \\hat{\\sigma}_i^z \\hat{\\sigma}_{i+1}^z + h \\sum_i \\hat{\\sigma}_i^x,\n",
    "$$\n",
    "with $\\hat{\\sigma}_{z(x)}$ the Pauli $z$ ($x$) operator. As you have already learned in the ED exercise, the TFIM undergoes a phase transition for $|h/J|=1$, from an ordered to a disordered phase.\n",
    "\n",
    "## Part I: Preparations\n",
    "### TFIM MPO\n",
    "We start with the definition of the MPO representation of the TFIM Hamiltonian, with tensors\n",
    "\n",
    "$O^{[1]}=\\begin{pmatrix}   h\\hat{\\sigma}^x & -J\\hat{\\sigma}^{z} & I \\end{pmatrix}$,\n",
    "\n",
    "$O^{[i]}=\\begin{pmatrix}  I & 0 & 0 \\\\ \\hat{\\sigma}^{z} & 0 & 0 \\\\ h\\hat{\\sigma}^x & -J\\hat{\\sigma}^z & I  \\end{pmatrix}$,\n",
    "\n",
    "$O^{[N]}=\\begin{pmatrix}  I  \\\\ \\hat{\\sigma}^{z} \\\\ h\\hat{\\sigma}^{x} \\end{pmatrix}$."
   ]
  },
  {
   "cell_type": "code",
   "execution_count": 2,
   "id": "6JG_wkZpTgZX",
   "metadata": {
    "colab": {
     "base_uri": "https://localhost:8080/"
    },
    "executionInfo": {
     "elapsed": 19535,
     "status": "ok",
     "timestamp": 1742854592412,
     "user": {
      "displayName": "Andrew Jreissaty",
      "userId": "11469340572625382644"
     },
     "user_tz": -60
    },
    "id": "6JG_wkZpTgZX",
    "outputId": "3c2189cc-173e-4bcf-f028-cc6bb8d46a9c"
   },
   "outputs": [],
   "source": [
    "# IF YOU ARE USING GOOGLE COLAB, you need to run the following code to be able to access the dmrg.py file\n",
    "# assuming it is uploaded onto your Google Drive\n",
    "##from google.colab import drive\n",
    "##drive.mount('/content/drive')\n",
    "##import sys\n",
    "# Append the directory to your python path using sys\n",
    "##sys.path.append('/content/drive/MyDrive/ETH Computational Physics Course/Week 6 Notebooks/')\n",
    "# YOU NEED TO REPLACE THE PATH I HAVE UP HERE WITH THE PATH TO YOUR dmrg.py file\n",
    "\n",
    "# IF YOU ARE USING VS CODE, COMMENT OUT ALL THE ABOVE."
   ]
  },
  {
   "cell_type": "code",
   "execution_count": 3,
   "id": "guxs22JQO8cM",
   "metadata": {
    "executionInfo": {
     "elapsed": 1316,
     "status": "ok",
     "timestamp": 1742854593730,
     "user": {
      "displayName": "Andrew Jreissaty",
      "userId": "11469340572625382644"
     },
     "user_tz": -60
    },
    "id": "guxs22JQO8cM"
   },
   "outputs": [],
   "source": [
    "import sys\n",
    "import numpy as np\n",
    "import matplotlib.pyplot as plt\n",
    "import scipy\n",
    "import math\n",
    "from scipy import linalg\n",
    "import scipy.sparse\n",
    "from scipy.sparse import linalg\n",
    "\n",
    "from numpy import transpose as tr, conjugate as co\n",
    "from scipy.linalg import expm, svd\n",
    "from scipy.sparse.linalg import eigsh, LinearOperator\n",
    "import math\n",
    "\n",
    "# this is the local module with the codes from the last two exercises (with slight changes)!\n",
    "from dmrg import run_DMRG, canonize, calculate_exp, random_mps"
   ]
  },
  {
   "cell_type": "code",
   "execution_count": 4,
   "id": "MpGV8oslO8cN",
   "metadata": {
    "executionInfo": {
     "elapsed": 60,
     "status": "ok",
     "timestamp": 1742854593789,
     "user": {
      "displayName": "Andrew Jreissaty",
      "userId": "11469340572625382644"
     },
     "user_tz": -60
    },
    "id": "MpGV8oslO8cN"
   },
   "outputs": [
    {
     "name": "stdout",
     "output_type": "stream",
     "text": [
      "\u001b[0;31mSignature:\u001b[0m \u001b[0mcanonize\u001b[0m\u001b[0;34m(\u001b[0m\u001b[0mM\u001b[0m\u001b[0;34m)\u001b[0m\u001b[0;34m\u001b[0m\u001b[0;34m\u001b[0m\u001b[0m\n",
      "\u001b[0;31mDocstring:\u001b[0m\n",
      "Given an MPS, this function computes the Vidal form \n",
      "by first right-normalizing and then performing a sweep from the left.\n",
      "\n",
      "Parameters\n",
      "----------\n",
      "M: list of tensors [M_1, ...M_N]\n",
      "   where M_i is an array of shape (s,dleft,dright)-> s=2 (physical index), dleft and dright are the bond dimensions\n",
      "   Matrix Product representation of a given state with N spins\n",
      "\n",
      "Returns\n",
      "-------\n",
      "Gammas: list\n",
      "   [Gamma1,...GammaN]\n",
      "Lambdas: list\n",
      "   [Lambda1,....LambdaN-1]\n",
      "       \n",
      "s.t. the MPS in Vidalform is: [Gamma1,Lambda1,Gamma2,....LambdaN-1,GammaN]\n",
      "\u001b[0;31mFile:\u001b[0m      ~/Documents/14_Master/Msc_SS25/CQM_Msc_SS2025/W6/week6solutions/dmrg.py\n",
      "\u001b[0;31mType:\u001b[0m      function"
     ]
    }
   ],
   "source": [
    "# if you need to know how to call the local functions, type this:\n",
    "?canonize"
   ]
  },
  {
   "cell_type": "code",
   "execution_count": 5,
   "id": "ujsYCkFJO8cO",
   "metadata": {
    "executionInfo": {
     "elapsed": 8,
     "status": "ok",
     "timestamp": 1742854593822,
     "user": {
      "displayName": "Andrew Jreissaty",
      "userId": "11469340572625382644"
     },
     "user_tz": -60
    },
    "id": "ujsYCkFJO8cO"
   },
   "outputs": [],
   "source": [
    "sigma_x=np.array([[0,1],[1,0]])\n",
    "sigma_y=np.array([[0+0j,0-1j],[0+0j,0+1j]])\n",
    "sigma_z=np.array([[1,0],[0,-1]])\n",
    "\n",
    "def make_Ising(N, J, h):\n",
    "    \"\"\"\n",
    "    N: number of spins\n",
    "    J: coupling strength\n",
    "    h: transverse field\n",
    "    return a list of MPO [O1, ...ON] with dim(Oi)=(s,s,da,db); here s=2 and da=db=3\n",
    "    \"\"\"\n",
    "\n",
    "    O1 = np.zeros((2,2,1,3))\n",
    "    O1[:,:,0,0]=h*sigma_x\n",
    "    O1[:,:,0,1]=-J*sigma_z\n",
    "    O1[:,:,0,2]=np.eye(2)\n",
    "\n",
    "    O2=np.zeros((2,2,3,3))\n",
    "    O2[:,:,0,0]=np.eye(2)\n",
    "    O2[:,:,1,0]=sigma_z\n",
    "    O2[:,:,2,0]=h*sigma_x\n",
    "    O2[:,:,2,1]=-J*sigma_z\n",
    "    O2[:,:,2,2]=np.eye(2)\n",
    "\n",
    "    O3=np.zeros((2,2,3,1))\n",
    "    O3[:,:,0,0]=np.eye(2)\n",
    "    O3[:,:,1,0]=sigma_z\n",
    "    O3[:,:,2,0]=h*sigma_x\n",
    "\n",
    "    O_Ising=[O1]\n",
    "    for i in range(N-2):\n",
    "        O_Ising.append(O2)\n",
    "    O_Ising.append(O3)\n",
    "    return O_Ising"
   ]
  },
  {
   "cell_type": "markdown",
   "id": "g0meLNa6O8cO",
   "metadata": {
    "id": "g0meLNa6O8cO"
   },
   "source": [
    "### 1&2. Local expectation values\n",
    "\n",
    "To analyse MPS quantum states, we want to calculate expectation values of local operators. For this, we first need to transform the Lambda and Gamma matrices to the local M tensors:\n",
    "\n",
    "\n",
    "\n",
    "![M.png](data:image/png;base64,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)"
   ]
  },
  {
   "cell_type": "code",
   "execution_count": 6,
   "id": "M_AOavH1O8cP",
   "metadata": {
    "executionInfo": {
     "elapsed": 0,
     "status": "ok",
     "timestamp": 1742854593826,
     "user": {
      "displayName": "Andrew Jreissaty",
      "userId": "11469340572625382644"
     },
     "user_tz": -60
    },
    "id": "M_AOavH1O8cP"
   },
   "outputs": [],
   "source": [
    "def get_M(Gammas, Lambdas, i):\n",
    "    \"\"\"\n",
    "    Calculate effective single-site wave function on sites i in mixed canonical form.\n",
    "    The returned array has legs 'i, vL, vR' (as one of the Gammas).\n",
    "    \"\"\"\n",
    "    M = np.tensordot(np.diag(Lambdas[i]), Gammas[i], axes=(1, 1)).transpose((1, 0, 2))\n",
    "    M = np.tensordot(M, np.diag(Lambdas[i+1]), axes=(2,0))\n",
    "    return M"
   ]
  },
  {
   "cell_type": "markdown",
   "id": "lnXBu-iyO8cP",
   "metadata": {
    "id": "lnXBu-iyO8cP"
   },
   "source": [
    "Using the local M tensors and a local operator with shape $(d, d)$, we can calculate its expectation value as:\n",
    "\n",
    "![expect.png](data:image/png;base64,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)\n",
    "\n",
    "Note that the left and right part of the MPS overlap $\\langle \\psi | O |\\psi \\rangle$ reduce to identities because of the canonized form! This shows the power of the MPS representation: this expectation value with a non-canonized quantum state is very costly ($O(d^L)$). With the canonized form it reduces to $O(d^2\\chi^2)$, with $\\chi$ the bond dimension."
   ]
  },
  {
   "cell_type": "code",
   "execution_count": 7,
   "id": "9WqXsj9pO8cP",
   "metadata": {
    "executionInfo": {
     "elapsed": 4,
     "status": "ok",
     "timestamp": 1742854593831,
     "user": {
      "displayName": "Andrew Jreissaty",
      "userId": "11469340572625382644"
     },
     "user_tz": -60
    },
    "id": "9WqXsj9pO8cP"
   },
   "outputs": [],
   "source": [
    "def site_expectation_value(Gammas, Lambdas, op):\n",
    "    \"\"\"\n",
    "    Calculate expectation values of a local operator at each site.\n",
    "    \"\"\"\n",
    "    result = []\n",
    "    for i in range(L):\n",
    "        M = get_M(Gammas, Lambdas, i)\n",
    "        op_theta = np.tensordot(op, M, axes=(0, 0))\n",
    "        result.append(np.tensordot(M.conj(), op_theta, axes=([0, 1, 2], [0, 1, 2])))\n",
    "    return np.real_if_close(result)"
   ]
  },
  {
   "cell_type": "markdown",
   "id": "9JZqkTauO8cP",
   "metadata": {
    "id": "9JZqkTauO8cP"
   },
   "source": [
    "### 3. Antiferromagnetic order parameter\n",
    "The phase transition of the TFIM can be observed by the antiferromagnetic order parameter\n",
    "$$\n",
    "S_{\\rm AFM} = \\frac{1}{L}\\sum_{i=1}^L (-1)^i \\hat{\\sigma}_z^i.\n",
    "$$\n",
    "Implement a function that calculates $\\langle \\psi |S_{\\rm AFM}|\\psi \\rangle$ for an MPS $|\\psi\\rangle$ in canonized form!"
   ]
  },
  {
   "cell_type": "code",
   "execution_count": 8,
   "id": "bKlRMKsYO8cP",
   "metadata": {
    "executionInfo": {
     "elapsed": 51,
     "status": "ok",
     "timestamp": 1742854593882,
     "user": {
      "displayName": "Andrew Jreissaty",
      "userId": "11469340572625382644"
     },
     "user_tz": -60
    },
    "id": "bKlRMKsYO8cP"
   },
   "outputs": [],
   "source": [
    "def afm_order_parameter(Gammas, Lambdas):\n",
    "    \"\"\"\n",
    "    Calculate the antiferromagnetic order parameter\n",
    "    S = 1/L \\sum_i (-1)^i \\sigma_z^i\n",
    "    \"\"\"\n",
    "    spins = site_expectation_value(Gammas, Lambdas, sigma_z)\n",
    "    return np.mean([(-1)**(i+1) * spins[i] for i in range(len(spins))])"
   ]
  },
  {
   "cell_type": "markdown",
   "id": "h3KAB4PjO8cQ",
   "metadata": {
    "id": "h3KAB4PjO8cQ"
   },
   "source": [
    "We can also calculate the antiferromagnetic order parameter using an MPO (though the expectation value of the MPO is less efficient to compute). Note that this MPO implementation is not needed for the rest of the exercise, but it's nice to compare!"
   ]
  },
  {
   "cell_type": "code",
   "execution_count": 9,
   "id": "mmf4zWg-O8cQ",
   "metadata": {
    "executionInfo": {
     "elapsed": 1,
     "status": "ok",
     "timestamp": 1742854593884,
     "user": {
      "displayName": "Andrew Jreissaty",
      "userId": "11469340572625382644"
     },
     "user_tz": -60
    },
    "id": "mmf4zWg-O8cQ"
   },
   "outputs": [],
   "source": [
    "def afm_mpo(L):\n",
    "    O1 = np.zeros((2,2,1,2))\n",
    "    O1[:,:,0,0]=np.eye(2)\n",
    "    O1[:,:,0,1]=-1/L*sigma_z\n",
    "    operators = [O1]\n",
    "\n",
    "    for i in range(1, L-1):\n",
    "        Oi=np.zeros((2,2,2, 2))\n",
    "        Oi[:,:,0,0]=np.eye(2)\n",
    "        Oi[:,:,0,1]=(-1)**(i+1)/L*sigma_z\n",
    "        Oi[:,:,1,1]=np.eye(2)\n",
    "        operators.append(Oi)\n",
    "\n",
    "    O3=np.zeros((2,2,2,1))\n",
    "    O3[:,:,0,0]=(-1)**L/L*sigma_z\n",
    "    O3[:,:,1,0]=np.eye(2)\n",
    "    operators.append(O3)\n",
    "    return operators"
   ]
  },
  {
   "cell_type": "code",
   "execution_count": 10,
   "id": "YwvPvIudO8cQ",
   "metadata": {
    "executionInfo": {
     "elapsed": 57,
     "status": "ok",
     "timestamp": 1742854593941,
     "user": {
      "displayName": "Andrew Jreissaty",
      "userId": "11469340572625382644"
     },
     "user_tz": -60
    },
    "id": "YwvPvIudO8cQ"
   },
   "outputs": [],
   "source": [
    "def afm_order_parameter_by_mpo(Gammas, Lambdas):\n",
    "    W = afm_mpo(len(Gammas))\n",
    "    exp = calculate_exp(Gammas, Lambdas, W)\n",
    "    return exp"
   ]
  },
  {
   "cell_type": "markdown",
   "id": "TNtK0lnIO8cQ",
   "metadata": {
    "id": "TNtK0lnIO8cQ"
   },
   "source": [
    "Let's compare the two implementations - they should give the same result (up to some error). But the MPO calculations takes longer!"
   ]
  },
  {
   "cell_type": "code",
   "execution_count": 11,
   "id": "3EYwHw1mO8cR",
   "metadata": {
    "executionInfo": {
     "elapsed": 37,
     "status": "ok",
     "timestamp": 1742854593979,
     "user": {
      "displayName": "Andrew Jreissaty",
      "userId": "11469340572625382644"
     },
     "user_tz": -60
    },
    "id": "3EYwHw1mO8cR"
   },
   "outputs": [],
   "source": [
    "L = 10\n",
    "chi = 100\n",
    "for _ in range(10):\n",
    "    M = random_mps(L, chi)\n",
    "    Gammas, Lambdas = canonize(M)\n",
    "    afm_by_local = afm_order_parameter(Gammas, Lambdas)\n",
    "    afm_by_mpo = afm_order_parameter_by_mpo(Gammas, Lambdas)\n",
    "    assert np.isclose(afm_by_local, afm_by_mpo, 1e-4)"
   ]
  },
  {
   "cell_type": "code",
   "execution_count": 12,
   "id": "GBAsPgy7O8cR",
   "metadata": {
    "colab": {
     "base_uri": "https://localhost:8080/"
    },
    "executionInfo": {
     "elapsed": 15492,
     "status": "ok",
     "timestamp": 1742854609476,
     "user": {
      "displayName": "Andrew Jreissaty",
      "userId": "11469340572625382644"
     },
     "user_tz": -60
    },
    "id": "GBAsPgy7O8cR",
    "outputId": "f355a8a3-ff97-456c-ed5c-bc4d260a7bb3"
   },
   "outputs": [
    {
     "name": "stdout",
     "output_type": "stream",
     "text": [
      "23.8 ms ± 3.08 ms per loop (mean ± std. dev. of 7 runs, 10 loops each)\n",
      "55.2 ms ± 2.79 ms per loop (mean ± std. dev. of 7 runs, 10 loops each)\n"
     ]
    }
   ],
   "source": [
    "L = 40\n",
    "chi = 100\n",
    "M = random_mps(L, chi)\n",
    "Gammas, Lambdas = canonize(M)\n",
    "%timeit afm_order_parameter(Gammas, Lambdas)\n",
    "%timeit afm_order_parameter_by_mpo(Gammas, Lambdas)"
   ]
  },
  {
   "cell_type": "markdown",
   "id": "9Y9Y6vQ-O8cR",
   "metadata": {
    "id": "9Y9Y6vQ-O8cR"
   },
   "source": [
    "### 4. Entanglement entropy\n",
    "The $\\Lambda^{[i]}$-matrices give access to the entanglement entropy of the quantum state at that bond,\n",
    "$$\n",
    "S_{\\text{ent}}(i) = - \\sum_j (\\Lambda_j^{[i]})^2 \\log (\\Lambda_j^{[i]})^2.\n",
    "$$\n",
    "Implement a function that calculates the entanglement entropy given $\\Lambda^{[i]}$."
   ]
  },
  {
   "cell_type": "code",
   "execution_count": 13,
   "id": "97jQ3oL7O8cR",
   "metadata": {
    "executionInfo": {
     "elapsed": 15,
     "status": "ok",
     "timestamp": 1742854609492,
     "user": {
      "displayName": "Andrew Jreissaty",
      "userId": "11469340572625382644"
     },
     "user_tz": -60
    },
    "id": "97jQ3oL7O8cR"
   },
   "outputs": [],
   "source": [
    "def entanglement_entropy(Lambda):\n",
    "    Lambda = Lambda[Lambda > 0]\n",
    "    return -np.sum(Lambda ** 2 * np.log(Lambda **2))"
   ]
  },
  {
   "cell_type": "markdown",
   "id": "FXVxmzt8O8cR",
   "metadata": {
    "id": "FXVxmzt8O8cR"
   },
   "source": [
    "## Part II: DMRG of the TFIM\n",
    "\n",
    "Before looking at the phase transition, let us understand the two limiting cases, $|h/J|=0$ and $|h/J|\\rightarrow\\infty$.\n",
    "\n",
    "### 1. Classical Ising model: $h=0$\n",
    "For $h=0$, the TFIM reduces to the classical Ising model and the ground state is in an ordered phase. Use DMRG to obtain the ground state of the Ising model for different bond dimensions $\\chi\\in [1,5]$. How does the ground state look like for the two bond dimensions? What's the ground state energy?"
   ]
  },
  {
   "cell_type": "code",
   "execution_count": 14,
   "id": "Aw4g30SkO8cS",
   "metadata": {
    "colab": {
     "base_uri": "https://localhost:8080/",
     "height": 963
    },
    "executionInfo": {
     "elapsed": 614,
     "status": "ok",
     "timestamp": 1742854610107,
     "user": {
      "displayName": "Andrew Jreissaty",
      "userId": "11469340572625382644"
     },
     "user_tz": -60
    },
    "id": "Aw4g30SkO8cS",
    "outputId": "ce8a8264-ab24-4152-a323-f2be910739f5"
   },
   "outputs": [
    {
     "name": "stdout",
     "output_type": "stream",
     "text": [
      "Ground state energy for chi=1: -39.0\n"
     ]
    },
    {
     "data": {
      "image/png": "[encoded data removed]",
      "text/plain": [
       "<Figure size 640x480 with 1 Axes>"
      ]
     },
     "metadata": {},
     "output_type": "display_data"
    },
    {
     "name": "stdout",
     "output_type": "stream",
     "text": [
      "Ground state energy for chi=5: -37.0\n"
     ]
    },
    {
     "data": {
      "image/png": "[encoded data removed]",
      "text/plain": [
       "<Figure size 640x480 with 1 Axes>"
      ]
     },
     "metadata": {},
     "output_type": "display_data"
    }
   ],
   "source": [
    "h = 0\n",
    "J = -1\n",
    "L = 40\n",
    "H = make_Ising(L, J, h)\n",
    "for chi in [1, 5]:\n",
    "    energies, Lambdas, M = run_DMRG(H, chi=chi, verbose=False)\n",
    "    print(f\"Ground state energy for chi={chi}: {energies[-1]}\")\n",
    "    # the ground state is the antiferromagnetic state (it is degenerate)!\n",
    "    gammas, lambdas = canonize(M)\n",
    "    spins = site_expectation_value(gammas, lambdas, sigma_z)\n",
    "    plt.bar(np.arange(0,L), spins)\n",
    "    plt.title(f\"Spin-z for chi={chi}\")\n",
    "    plt.xlabel('site')\n",
    "    plt.yticks([1,-1],[\"Spin up\", \"Spin down\"])\n",
    "    plt.show()"
   ]
  },
  {
   "cell_type": "markdown",
   "id": "MFUX48y1O8cS",
   "metadata": {
    "id": "MFUX48y1O8cS"
   },
   "source": [
    "### 2. Transverse field only: $J=0$\n",
    "For $J=0$, the Ising term of the TFIM vanishes, and we enter a disordered phase. Use DMRG to obtain the ground state of the transverse field model for different bond dimensions $\\chi\\in [1,5]$. How does the ground state look like for the two bond dimensions? What's the ground state energy?"
   ]
  },
  {
   "cell_type": "code",
   "execution_count": 15,
   "id": "jAdsP2kpO8cS",
   "metadata": {
    "colab": {
     "base_uri": "https://localhost:8080/",
     "height": 963
    },
    "executionInfo": {
     "elapsed": 452,
     "status": "ok",
     "timestamp": 1742854610560,
     "user": {
      "displayName": "Andrew Jreissaty",
      "userId": "11469340572625382644"
     },
     "user_tz": -60
    },
    "id": "jAdsP2kpO8cS",
    "outputId": "c59e49b0-2727-4eef-c447-53b9ee615225"
   },
   "outputs": [
    {
     "name": "stdout",
     "output_type": "stream",
     "text": [
      "Ground state energy for chi=1: -39.999999999999815\n"
     ]
    },
    {
     "data": {
      "image/png": "[encoded data removed]",
      "text/plain": [
       "<Figure size 640x480 with 1 Axes>"
      ]
     },
     "metadata": {},
     "output_type": "display_data"
    },
    {
     "name": "stdout",
     "output_type": "stream",
     "text": [
      "Ground state energy for chi=5: -39.99999999999986\n"
     ]
    },
    {
     "data": {
      "image/png": "[encoded data removed]",
      "text/plain": [
       "<Figure size 640x480 with 1 Axes>"
      ]
     },
     "metadata": {},
     "output_type": "display_data"
    }
   ],
   "source": [
    "J = 0\n",
    "h = 1\n",
    "L = 40\n",
    "H = make_Ising(L, J, h)\n",
    "for chi in [1, 5]:\n",
    "    energies, Lambdas, M = run_DMRG(H, chi=chi, verbose=False)\n",
    "    print(f\"Ground state energy for chi={chi}: {energies[-1]}\")\n",
    "    # the ground state is the ferromagnetic state with all spins aligned (it is degenerate)!\n",
    "    gammas, lambdas = canonize(M)\n",
    "    spins = site_expectation_value(gammas, lambdas, sigma_x)\n",
    "    plt.bar(np.arange(0,L), spins)\n",
    "    plt.title(f\"Spin-x for chi={chi}\")\n",
    "    plt.xlabel('site')\n",
    "    plt.yticks([1,-1],[\"Spin up\", \"Spin down\"])\n",
    "    plt.show()"
   ]
  },
  {
   "cell_type": "markdown",
   "id": "4843d0ef",
   "metadata": {
    "id": "4843d0ef"
   },
   "source": [
    "### 3. DMRG vs ED\n",
    "\n",
    "For small system sizes, we can compare the DMRG results to the ED results from exercise sheet 4. Compare the DMRG ground state energy error for different values of $h$ and different bond dimensions $\\chi$. What can you observe?"
   ]
  },
  {
   "cell_type": "code",
   "execution_count": 16,
   "id": "e604b994",
   "metadata": {
    "executionInfo": {
     "elapsed": 13,
     "status": "ok",
     "timestamp": 1742854610574,
     "user": {
      "displayName": "Andrew Jreissaty",
      "userId": "11469340572625382644"
     },
     "user_tz": -60
    },
    "id": "e604b994"
   },
   "outputs": [],
   "source": [
    "h_values = np.linspace(-2.0, 2., 40)\n",
    "ed_energies = [16.88514149, -16.11371075, -15.34813327, -14.58954249, -13.83939066,\n",
    " -13.09957136, -12.37260294, -11.66190959, -10.97225662, -10.31041124,\n",
    "  -9.68603011,  -9.11232027,  -8.60466595,  -8.17470017,  -7.82344932,\n",
    "  -7.54325216,  -7.32563437,  -7.1652095,   -7.05927768,  -7.00657592,\n",
    "  -7.00657592,  -7.05927768,  -7.1652095,   -7.32563437,  -7.54325216,\n",
    "  -7.82344932,  -8.17470017,  -8.60466595,  -9.11232027,  -9.68603011,\n",
    " -10.31041124, -10.97225662, -11.66190959, -12.37260294, -13.09957136,\n",
    " -13.83939066, -14.58954249, -15.34813327, -16.11371075, -16.88514149]"
   ]
  },
  {
   "cell_type": "code",
   "execution_count": 17,
   "id": "587a36d9",
   "metadata": {
    "colab": {
     "base_uri": "https://localhost:8080/",
     "height": 457
    },
    "executionInfo": {
     "elapsed": 11519,
     "status": "ok",
     "timestamp": 1742854622093,
     "user": {
      "displayName": "Andrew Jreissaty",
      "userId": "11469340572625382644"
     },
     "user_tz": -60
    },
    "id": "587a36d9",
    "outputId": "517e9ed3-846d-45f7-f867-c8f3c3af1775"
   },
   "outputs": [
    {
     "data": {
      "image/png": "[encoded data removed]",
      "text/plain": [
       "<Figure size 640x480 with 1 Axes>"
      ]
     },
     "metadata": {},
     "output_type": "display_data"
    }
   ],
   "source": [
    "L = 8\n",
    "J = -1\n",
    "for max_chi in [1, 2, 4, 8, 16]:\n",
    "    energies = np.array([run_DMRG(make_Ising(L, J, h), max_chi)[0][-1] for h in h_values])\n",
    "    plt.scatter(h_values, np.abs(energies - ed_energies) / np.abs(energies), marker='*', s = 10.,\n",
    "                label = '$\\chi = {:d}$'.format(max_chi))\n",
    "plt.grid(True)\n",
    "plt.yscale('log')\n",
    "plt.ylim([1e-12, 1e+2])\n",
    "plt.xlabel(\"h/J\")\n",
    "plt.legend(loc='upper left', ncol=2)\n",
    "plt.show()"
   ]
  },
  {
   "cell_type": "code",
   "execution_count": 18,
   "id": "70dda154",
   "metadata": {
    "colab": {
     "base_uri": "https://localhost:8080/"
    },
    "executionInfo": {
     "elapsed": 6,
     "status": "ok",
     "timestamp": 1742854622099,
     "user": {
      "displayName": "Andrew Jreissaty",
      "userId": "11469340572625382644"
     },
     "user_tz": -60
    },
    "id": "70dda154",
    "outputId": "acf7228a-77f7-4499-d18d-ace26bd18cdd"
   },
   "outputs": [
    {
     "name": "stdout",
     "output_type": "stream",
     "text": [
      "[-16.88514149 -16.11371075 -15.34813327 -14.58954249 -13.83939066\n",
      " -13.09957136 -12.37260294 -11.66190959 -10.97225662 -10.31041124\n",
      "  -9.68603011  -9.11232027  -8.60466595  -8.17470017  -7.82344932\n",
      "  -7.54325216  -7.32563437  -7.1652095   -7.05927768  -7.00657592\n",
      "  -7.00657592  -7.05927768  -7.1652095   -7.32563437  -7.54325216\n",
      "  -7.82344932  -8.17470017  -8.60466595  -9.11232027  -9.68603011\n",
      " -10.31041124 -10.97225662 -11.66190959 -12.37260294 -13.09957136\n",
      " -13.83939066 -14.58954249 -15.34813327 -16.11371075 -16.88514149]\n"
     ]
    }
   ],
   "source": [
    "print(energies)"
   ]
  },
  {
   "cell_type": "markdown",
   "id": "59f04a2a",
   "metadata": {
    "id": "59f04a2a"
   },
   "source": [
    "So, as expected the relative energy error decreases as the max bond dimension grows. But does not get any better beyond $\\chi = 16$, because this bond dimension is already enough to encode the whole ground state exactly. <br>Note also that usually we observe the worst ground state energy approximation in the vicinity of $|h|/J = 1$, which corresponds to the phase transition (the location of the peak is slightly shifted since we work in the finite volume)."
   ]
  },
  {
   "cell_type": "markdown",
   "id": "kzgSnLG6O8cT",
   "metadata": {
    "id": "kzgSnLG6O8cT"
   },
   "source": [
    "### 4. The TFIM at the phase transition\n",
    "\n",
    "At the critical value $|h/J|=1$, the bond dimension matters for the ground state energy. Analyze the DMRG energies you obtain for different bond dimensions (if you plot the intermediate energies from the local updates, you can see the convergence!). Why does an increasing bond dimension allow for lower energies?"
   ]
  },
  {
   "cell_type": "code",
   "execution_count": 19,
   "id": "PsMNctjvO8cU",
   "metadata": {
    "colab": {
     "base_uri": "https://localhost:8080/",
     "height": 490
    },
    "executionInfo": {
     "elapsed": 1567,
     "status": "ok",
     "timestamp": 1742854623667,
     "user": {
      "displayName": "Andrew Jreissaty",
      "userId": "11469340572625382644"
     },
     "user_tz": -60
    },
    "id": "PsMNctjvO8cU",
    "outputId": "9b93f59e-a465-42c4-a34d-6af24d366043"
   },
   "outputs": [
    {
     "data": {
      "text/plain": [
       "<matplotlib.legend.Legend at 0x7ede63ba49d0>"
      ]
     },
     "execution_count": 19,
     "metadata": {},
     "output_type": "execute_result"
    },
    {
     "data": {
      "image/png": "[encoded data removed]",
      "text/plain": [
       "<Figure size 640x480 with 1 Axes>"
      ]
     },
     "metadata": {},
     "output_type": "display_data"
    }
   ],
   "source": [
    "J = -1\n",
    "h = 1\n",
    "L = 40\n",
    "H = make_Ising(L, J, h)\n",
    "nmax = 2  # for our instructive analysis, two sweeps are enough!\n",
    "chis = [1, 2, 3, 4, 5]\n",
    "for chi in chis:\n",
    "    energies, Lambdas, M = run_DMRG(H, chi, verbose=False, nmax=nmax)\n",
    "    plt.scatter(np.arange(len(energies)), energies, label=f\"chi={chi}\", linewidths=0.1, alpha=0.8)\n",
    "plt.title(f\"DMRG of TFIM for h={h}\")\n",
    "plt.ylabel(\"energy\")\n",
    "plt.xlabel(\"number of updates\")\n",
    "plt.legend()"
   ]
  },
  {
   "cell_type": "markdown",
   "id": "HkX7UbWtO8cU",
   "metadata": {
    "id": "HkX7UbWtO8cU"
   },
   "source": [
    "### 5. Antiferromagnetic order parameter\n",
    "\n",
    "After our analysis of the bond dimension around the phase transistion it is time to observe the transition! We use the antiferromagnetic order parameter $S_{\\rm AFM}$ that we have implemented above. Use DMRG with a high enough bond dimension to obtain $S_{\\rm AFM}$ for the ground states of the TFIM with $L=40$ and $h\\in [-2, 2]$. Because of the spin-flip symmetry of the antiferromagnetic state you might want to compare the absolute value $|S_{\\rm AFM}|$!"
   ]
  },
  {
   "cell_type": "code",
   "execution_count": 20,
   "id": "EpcJ31-JO8cU",
   "metadata": {
    "executionInfo": {
     "elapsed": 31519,
     "status": "ok",
     "timestamp": 1742854655185,
     "user": {
      "displayName": "Andrew Jreissaty",
      "userId": "11469340572625382644"
     },
     "user_tz": -60
    },
    "id": "EpcJ31-JO8cU"
   },
   "outputs": [],
   "source": [
    "L = 40\n",
    "J = -1\n",
    "chi = 16\n",
    "afm_order_params = []\n",
    "for h in h_values:\n",
    "    H = make_Ising(L, J, h)\n",
    "    energies, Lambdas, M = run_DMRG(H, chi)\n",
    "    Gammas, Lambdas = canonize(M)\n",
    "    afm_order_params.append(afm_order_parameter(Gammas, Lambdas))"
   ]
  },
  {
   "cell_type": "code",
   "execution_count": 21,
   "id": "vb5CkPJVO8cV",
   "metadata": {
    "colab": {
     "base_uri": "https://localhost:8080/",
     "height": 472
    },
    "executionInfo": {
     "elapsed": 400,
     "status": "ok",
     "timestamp": 1742854655594,
     "user": {
      "displayName": "Andrew Jreissaty",
      "userId": "11469340572625382644"
     },
     "user_tz": -60
    },
    "id": "vb5CkPJVO8cV",
    "outputId": "3fdf38ec-1992-432d-f7d9-b7cff89873e2"
   },
   "outputs": [
    {
     "data": {
      "image/png": "[encoded data removed]",
      "text/plain": [
       "<Figure size 640x480 with 1 Axes>"
      ]
     },
     "metadata": {},
     "output_type": "display_data"
    }
   ],
   "source": [
    "plt.plot(h_values, np.abs(afm_order_params), \"*\")\n",
    "plt.title(\"quantum phase transition of the TFIM\")\n",
    "plt.xlabel(\"h/J\")\n",
    "plt.ylabel(\"|S_AFM|\");"
   ]
  },
  {
   "cell_type": "markdown",
   "id": "aKGqZxuoO8cV",
   "metadata": {
    "id": "aKGqZxuoO8cV"
   },
   "source": [
    "### 6. Entanglement entropy of the middle bond\n",
    "\n",
    "Now let us measure the entanglement entropy over the central cut as a function of $\\chi$ and $h/J$. The canonisation procedure we employ for normalisation produces the diagonal matrix of singular values $\\Lambda$ (in the Vidal notation), and the entanglement entropy at bond $i$ reads:\n",
    "$$\\rho_i = - Tr[\\Lambda_i^2 \\log \\Lambda_i^2].$$\n",
    "\n",
    "Here $\\Lambda_i$ is the singular value matrix produced during the right canonization step of matrixes $M_{i}$ and $M_{i - 1}$.\n",
    "\n",
    "We take $L = 40$ and plot the entanglement entropy of the central cut in the region $0.5 \\leqslant h/J \\leqslant 1.5$. Due to the instability around the critical point $h/J=1$ we need to average over several DMRG runs."
   ]
  },
  {
   "cell_type": "code",
   "execution_count": null,
   "id": "V8vKCy-QO8cV",
   "metadata": {
    "id": "V8vKCy-QO8cV"
   },
   "outputs": [],
   "source": [
    "L = 40\n",
    "middle_bond = L // 2 - 1\n",
    "J = -1  # to have positive h/J\n",
    "h_values = np.linspace(0.5, 1.5, 20)\n",
    "nruns = 10\n",
    "for max_chi in [1, 2, 4, 8, 16]:\n",
    "    entropies = np.zeros((len(h_values), nruns))\n",
    "    for run in range(nruns):\n",
    "        Lambdas_per_h = [run_DMRG(make_Ising(L, J, h), chi=max_chi)[1] for h in h_values]\n",
    "        entropies[:, run] = [entanglement_entropy(Lambdas[middle_bond]) for Lambdas in Lambdas_per_h]\n",
    "    entropies_per_h = np.mean(entropies, axis=1)\n",
    "    plt.plot(h_values, entropies_per_h, \"*\", label = f'$\\chi = {max_chi}$')\n",
    "plt.grid(True)\n",
    "plt.legend(loc='upper left', ncol=1)\n",
    "plt.show()"
   ]
  },
  {
   "cell_type": "code",
   "execution_count": null,
   "id": "LEfE3ttmO8cW",
   "metadata": {
    "executionInfo": {
     "elapsed": 1,
     "status": "aborted",
     "timestamp": 1742854696598,
     "user": {
      "displayName": "Andrew Jreissaty",
      "userId": "11469340572625382644"
     },
     "user_tz": -60
    },
    "id": "LEfE3ttmO8cW"
   },
   "outputs": [],
   "source": []
  }
 ],
 "metadata": {
  "colab": {
   "provenance": []
  },
  "kernelspec": {
   "display_name": "venv_CQM",
   "language": "python",
   "name": "python3"
  },
  "language_info": {
   "codemirror_mode": {
    "name": "ipython",
    "version": 3
   },
   "file_extension": ".py",
   "mimetype": "text/x-python",
   "name": "python",
   "nbconvert_exporter": "python",
   "pygments_lexer": "ipython3",
   "version": "3.9.7"
  }
 },
 "nbformat": 4,
 "nbformat_minor": 5
}
