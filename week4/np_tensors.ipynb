{
 "cells": [
  {
   "cell_type": "code",
   "execution_count": 1,
   "id": "3623d8bc-3db2-4311-bb7c-0b6be3340b5a",
   "metadata": {
    "tags": []
   },
   "outputs": [],
   "source": [
    "import numpy as np"
   ]
  },
  {
   "cell_type": "markdown",
   "id": "e4d5be84-d247-4360-bdfb-47a61b87ac7c",
   "metadata": {
    "tags": []
   },
   "source": [
    "## Reshaping"
   ]
  },
  {
   "cell_type": "markdown",
   "id": "5d130c6f",
   "metadata": {},
   "source": [
    "We can convert a matrix to an array using  `np.reshape`"
   ]
  },
  {
   "cell_type": "code",
   "execution_count": 2,
   "id": "187911b2-04d3-4846-8e88-d9ecfcf2066a",
   "metadata": {
    "tags": []
   },
   "outputs": [
    {
     "name": "stdout",
     "output_type": "stream",
     "text": [
      "[[1 2 3 4]\n",
      " [5 6 7 8]]\n",
      "[1 2 3 4 5 6 7 8]\n"
     ]
    }
   ],
   "source": [
    "M = np.array([[1, 2, 3, 4], [5, 6, 7, 8]])\n",
    "print(M)\n",
    "print(np.reshape(M, -1))"
   ]
  },
  {
   "cell_type": "markdown",
   "id": "480b3078",
   "metadata": {},
   "source": [
    "We can also use  `np.reshape` to modify the dimensions of $M$. Here we convert the $2 \\times 4$ matrix to a $2 \\times 2 \\times 2$ tensor"
   ]
  },
  {
   "cell_type": "code",
   "execution_count": 5,
   "id": "5fc6d0c5-c332-4f97-befb-d76dbaf5240a",
   "metadata": {
    "tags": []
   },
   "outputs": [
    {
     "name": "stdout",
     "output_type": "stream",
     "text": [
      "[[1 2]\n",
      " [3 4]]\n",
      "[[5 6]\n",
      " [7 8]]\n"
     ]
    }
   ],
   "source": [
    "X = np.reshape(M, [2, 2, 2])\n",
    "print(X[0,:,:])\n",
    "print(X[1,:,:])"
   ]
  },
  {
   "cell_type": "markdown",
   "id": "c33842f4",
   "metadata": {},
   "source": [
    "The default order is row-major. One can change it by inserting the option 'F'."
   ]
  },
  {
   "cell_type": "code",
   "execution_count": 4,
   "id": "1c3f9bed",
   "metadata": {},
   "outputs": [
    {
     "name": "stdout",
     "output_type": "stream",
     "text": [
      "[[1 3]\n",
      " [2 4]]\n",
      "[[5 7]\n",
      " [6 8]]\n"
     ]
    }
   ],
   "source": [
    "#Try\n",
    "#X = np.reshape(M, [2, 2, 2],order='F')\n",
    "#print(X[0,:,:])\n",
    "#print(X[1,:,:])"
   ]
  },
  {
   "cell_type": "markdown",
   "id": "e14334fb",
   "metadata": {},
   "source": [
    "Access to $M$ elements"
   ]
  },
  {
   "cell_type": "code",
   "execution_count": 6,
   "id": "101e947d-cd9b-4f38-a02b-24aa703aff22",
   "metadata": {
    "tags": []
   },
   "outputs": [
    {
     "name": "stdout",
     "output_type": "stream",
     "text": [
      "6\n",
      "6\n"
     ]
    }
   ],
   "source": [
    "print(X[1, 0, 1])\n",
    "print(np.reshape(M, -1)[1*4 + 0*2 + 1*1])"
   ]
  },
  {
   "cell_type": "code",
   "execution_count": 7,
   "id": "a879d10e-b5fe-4ecc-bc07-b6c4076f66e3",
   "metadata": {
    "tags": []
   },
   "outputs": [
    {
     "name": "stdout",
     "output_type": "stream",
     "text": [
      "[[ 1  2  3  4]\n",
      " [ 5 42  7  8]]\n"
     ]
    }
   ],
   "source": [
    "X[1, 0, 1] = 42\n",
    "print(M) # The original is modified. Reshaping provides a new view of the same data (usually)."
   ]
  },
  {
   "cell_type": "markdown",
   "id": "dd93e636-96f6-43f9-98c1-eb454a3cdb3f",
   "metadata": {},
   "source": [
    "## `np.tensordot` and `np.transpose`"
   ]
  },
  {
   "cell_type": "code",
   "execution_count": 8,
   "id": "81f882fa-a9c2-491c-92d0-1fd32a7db0ec",
   "metadata": {
    "tags": []
   },
   "outputs": [],
   "source": [
    "s_plus = np.array([[0,0], [1,0]])\n",
    "s_minus = np.array([[0,1], [0,0]])\n",
    "\n",
    "\n",
    "M = np.zeros((2, 2, 2))\n",
    "M[0,:,:] = s_plus\n",
    "M[1,:,:] = s_minus\n",
    "\"\"\"    ┏━━━┓\n",
    "M = 1 ━┫   ┣━ 2\n",
    "       ┗━┳━┛\n",
    "         0\n",
    "\"\"\"\n",
    "\n",
    "\n",
    "N = np.tensordot(M, M, axes=(2, 1))\n",
    "\n",
    "\"\"\"    ┏━━━┓ ┏━━━┓\n",
    "N = 1 ━┫ M ┣━┫ M ┣━ 3\n",
    "       ┗━┳━┛ ┗━┳━┛\n",
    "         0     2\n",
    "\"\"\"\n",
    "\n",
    "\n",
    "N = np.transpose(N, [0,2,1,3])\n",
    "\"\"\"    ┏━━━┓ ┏━━━┓\n",
    "N = 2 ━┫ M ┣━┫ M ┣━ 3\n",
    "       ┗━┳━┛ ┗━┳━┛\n",
    "         0     1\n",
    "\"\"\"\n",
    "\n",
    "\n",
    "N = np.trace(N, axis1=0, axis2=1)\n",
    "\"\"\"    ┏━━━┓ ┏━━━┓\n",
    "N = 0 ━┫ M ┣━┫ M ┣━ 1\n",
    "       ┗━┳━┛ ┗━┳━┛\n",
    "         ┗━━━━━┛\n",
    "\"\"\"\n",
    "\n",
    "\n",
    "# We could also do this with a single tensordot:\n",
    "N2 = np.tensordot(M, M, axes=([2, 0], [1, 0]))\n",
    "assert(np.all(N == N2))"
   ]
  },
  {
   "cell_type": "markdown",
   "id": "0f7b846e-f408-4cf4-b7ff-69d3276006b3",
   "metadata": {},
   "source": [
    "## Reshape + SVD"
   ]
  },
  {
   "cell_type": "code",
   "execution_count": 9,
   "id": "511a1ed8-7412-435f-b248-fec3ac695d80",
   "metadata": {
    "tags": []
   },
   "outputs": [
    {
     "name": "stdout",
     "output_type": "stream",
     "text": [
      "[[1. 0.]\n",
      " [0. 1.]]\n"
     ]
    }
   ],
   "source": [
    "M = np.zeros((2, 2, 2))\n",
    "M[0,:,:] = s_plus\n",
    "M[1,:,:] = s_minus\n",
    "\"\"\"    ┏━━━┓\n",
    "M = 1 ━┫   ┣━ 2\n",
    "       ┗━┳━┛\n",
    "         0\n",
    "\"\"\"\n",
    "\n",
    "\n",
    "M_reshaped = np.reshape(M, [2*2, 2])\n",
    "\"\"\"          ┏━━━┓\n",
    "M_reshaped = ┃   ┣━ 1\n",
    "             ┗┳━┳┛\n",
    "              0 0\n",
    "\"\"\"\n",
    "\n",
    "\n",
    "U, S, Vh = np.linalg.svd(M_reshaped, full_matrices=False)\n",
    "\"\"\"\n",
    " ┏━━━┓      ┏━━━┓ ┏━━━┓ ┏━━━━┓\n",
    " ┃   ┣━ 1 = ┃ U ┣━┫ S ┣━┫ Vh ┣━ 1\n",
    " ┗┳━┳┛      ┗┳━┳┛ ┗━━━┛ ┗━━━━┛\n",
    "  0 0        0 0\n",
    "\"\"\"\n",
    "\n",
    "\n",
    "A = np.reshape(U, [2, 2, 2])\n",
    "\"\"\"┏━━━┓         ┏━━━┓ ┏━━━┓ ┏━━━━┓\n",
    "1 ━┫ M ┣━ 2 = 1 ━┫ A ┣━┫ S ┣━┫ Vh ┣━ 2\n",
    "   ┗━┳━┛         ┗━┳━┛ ┗━━━┛ ┗━━━━┛\n",
    "     0             0\n",
    "\"\"\"\n",
    "\n",
    "# Check the normalization\n",
    "X = np.zeros((2, 2))\n",
    "for s in range(2):\n",
    "    X += A[s,:,:].T.conj() @ A[s,:,:]\n",
    "\n",
    "print(X)"
   ]
  },
  {
   "cell_type": "code",
   "execution_count": null,
   "id": "10da5a86-6845-4663-a9f7-eccfdc4a8d2f",
   "metadata": {},
   "outputs": [],
   "source": []
  }
 ],
 "metadata": {
  "kernelspec": {
   "display_name": "Python 3",
   "language": "python",
   "name": "python3"
  },
  "language_info": {
   "codemirror_mode": {
    "name": "ipython",
    "version": 3
   },
   "file_extension": ".py",
   "mimetype": "text/x-python",
   "name": "python",
   "nbconvert_exporter": "python",
   "pygments_lexer": "ipython3",
   "version": "3.10.0"
  }
 },
 "nbformat": 4,
 "nbformat_minor": 5
}
