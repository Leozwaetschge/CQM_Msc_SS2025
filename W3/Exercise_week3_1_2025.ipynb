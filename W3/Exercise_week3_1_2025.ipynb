{
  "cells": [
    {
      "cell_type": "code",
      "execution_count": 1,
      "metadata": {
        "id": "qT1QEIZ-SoE2"
      },
      "outputs": [],
      "source": [
        "import numpy as np\n",
        "import scipy as sp\n",
        "from scipy.sparse.linalg import LinearOperator, eigsh\n",
        "import matplotlib.pyplot as plt"
      ]
    },
    {
      "cell_type": "markdown",
      "metadata": {
        "id": "cuxQ6lPN9IkX"
      },
      "source": [
        "## Part A: transverse Ising model $(J, h)$ phase diagram (without symmetries)\n",
        "\n",
        "First, let us form the many-body Hamiltonian of the form ($J = 1$, periodic BC):\n",
        "$$H = \\sum\\limits_{i=0}^{N - 1} \\sigma_i^z \\sigma_{i + 1}^z + h \\sum\\limits_i \\sigma^x.$$\n",
        "\n",
        "First, please construct the first term:"
      ]
    },
    {
      "cell_type": "code",
      "execution_count": 2,
      "metadata": {
        "id": "Asijg94Q9IkY"
      },
      "outputs": [],
      "source": [
        "sigma_x = np.array([[0, 1], [1, 0]])\n",
        "sigma_y = np.array([[0, -1j], [1j, 0]])\n",
        "sigma_z = np.diag([1, -1])\n",
        "sigma_0 = np.eye(2)\n",
        "N = 8 # the number of spins in the system\n",
        "\n",
        "def fill_identities(h_local, begin, end):\n",
        "    # fill the sites to the left of the local Hamiltonian (h_local) with identities\n",
        "    # hint: take care to consider the boundary terms separately\n",
        "    # note I: begin and end are site indices\n",
        "    # note II: make sure to return the result of multiplying (by tensor product) the identities with h_local to the LEFT of h_local\n",
        "    left = [sigma_0] * begin\n",
        "    right = [sigma_0] * (N - end - 1)\n",
        "    individual_matrices = left + [h_local] + right\n",
        "    #print(individual_matrices)\n",
        "    tensorial_result = individual_matrices[0]\n",
        "    for i in range(1, len(individual_matrices)):\n",
        "        tensorial_result = np.kron(tensorial_result, individual_matrices[i])\n",
        "    #print(tensorial_result.shape)\n",
        "    return tensorial_result\n",
        "\n",
        "\n",
        "def hamiltonian_j(N):\n",
        "    # sigma_z term of the Hamiltonian\n",
        "    H = np.zeros((2 ** N, 2 ** N), dtype=np.complex128)  # shape of the full many-body N-spins hamiltonian\n",
        "    for i in range(N - 1):  # loop over all spins except the boundary pair\n",
        "        # fill sites i and i+1 with sigma_z\n",
        "        h_local = np.kron(sigma_z, sigma_z)\n",
        "        # fill the rest of the sites with identities\n",
        "        term = fill_identities(h_local, i, i + 1)\n",
        "        H += term\n",
        "    # construct the boundary term separately\n",
        "    h_boundary = np.kron(sigma_z, sigma_z)\n",
        "    H += fill_identities(h_boundary, 0, 1)\n",
        "    H += fill_identities(h_boundary, N-2, N-1)\n",
        "\n",
        "    return H.real\n",
        "    \n",
        "    "
      ]
    },
    {
      "cell_type": "code",
      "execution_count": 3,
      "metadata": {},
      "outputs": [
        {
          "name": "stdout",
          "output_type": "stream",
          "text": [
            "[[0. 0. 1. 0.]\n",
            " [0. 0. 0. 1.]\n",
            " [1. 0. 0. 0.]\n",
            " [0. 1. 0. 0.]]\n"
          ]
        }
      ],
      "source": [
        "print(np.kron(sigma_x, sigma_0))"
      ]
    },
    {
      "cell_type": "markdown",
      "metadata": {
        "id": "jXCjrCSH9Ika"
      },
      "source": [
        "Then please construct the transverse field term with $h = 1$:"
      ]
    },
    {
      "cell_type": "code",
      "execution_count": 4,
      "metadata": {
        "id": "ImeCGqHE9Ika"
      },
      "outputs": [],
      "source": [
        "def hamiltonian_h(N):\n",
        "    # the sigma_x term of the Hamiltonian\n",
        "    H = np.zeros((2 ** N, 2 ** N), dtype=np.complex128)  # shape of the full many-body N-spins hamiltonian\n",
        "    for i in range(N):\n",
        "        # fill site i with sigma_x)\n",
        "        # fill the rest of the sites with identities\n",
        "        H += fill_identities(sigma_x, i, i)\n",
        "\n",
        "    return H.real"
      ]
    },
    {
      "cell_type": "code",
      "execution_count": 7,
      "metadata": {
        "id": "bCqg7Cy89Ikb"
      },
      "outputs": [],
      "source": [
        "H_j = hamiltonian_j(N)  # obtain the j-part (remains unchanged)\n",
        "H_h = hamiltonian_h(N)  # obtain normalized h--part"
      ]
    },
    {
      "cell_type": "markdown",
      "metadata": {
        "id": "OSZgRKXs9Ikb"
      },
      "source": [
        "Now obtain the low-energy spectrum of the model:"
      ]
    },
    {
      "cell_type": "code",
      "execution_count": null,
      "metadata": {
        "id": "yhVF_RmN9Ikc"
      },
      "outputs": [
        {
          "ename": "IndentationError",
          "evalue": "expected an indented block (4227160715.py, line 11)",
          "output_type": "error",
          "traceback": [
            "\u001b[0;36m  Cell \u001b[0;32mIn[8], line 11\u001b[0;36m\u001b[0m\n\u001b[0;31m    levels = np.array(levels)\u001b[0m\n\u001b[0m    ^\u001b[0m\n\u001b[0;31mIndentationError\u001b[0m\u001b[0;31m:\u001b[0m expected an indented block\n"
          ]
        }
      ],
      "source": [
        "# obtain the low-energy spectrum of the model\n",
        "n_low_levels = 10\n",
        "h_vals = np.linspace(-2, 2, 40)\n",
        "levels = []\n",
        "\n",
        "for h in h_vals:\n",
        "    # construct the total Hamiltonian\n",
        "    H = H_j + h * H_h\n",
        "    # obtain the eigenvalues\n",
        "    eigenvalues = eigh(H)\n",
        "    # append the `n_low_levels` lowest eigenvalues to levels\n",
        "\n",
        "levels = np.array(levels)"
      ]
    },
    {
      "cell_type": "markdown",
      "metadata": {
        "id": "FPVBTSDc9Ikd"
      },
      "source": [
        "Plot the obtained energy spectrum as a function of $h / J$:"
      ]
    },
    {
      "cell_type": "code",
      "execution_count": null,
      "metadata": {
        "id": "hKnbpAJ_9Ike"
      },
      "outputs": [],
      "source": [
        "for level in range(n_low_levels):\n",
        "    plt.scatter(h_vals, levels[:, level] / N - levels[:, 0] / N, marker='*', s = 10.,label='$E = E%s$' % (level))\n",
        "\n",
        "plt.legend(fontsize=7,ncol=3)\n",
        "plt.grid(True)\n",
        "plt.xlabel('h/J')\n",
        "plt.ylabel('$(E - E_0) / J$ per spin')\n",
        "plt.show()"
      ]
    },
    {
      "cell_type": "markdown",
      "metadata": {
        "id": "MHatACx09Ikf"
      },
      "source": [
        "As $|h| < J$, the system is in the antiferromagnetic phase, the lowest two states with momenta $k = 0$ and $k = \\pi$ are degenerate (you can check this by expressing the Hamiltonian in the basis of eigenstates of the translation operator $\\hat{T}$ and diagonalizing it in this basis). At $|h| > J$ the system undergoes a phase transition to the paramagnetic phase, where this degeneracy is broken."
      ]
    },
    {
      "cell_type": "markdown",
      "metadata": {
        "id": "JJRovNQJ9Ikg"
      },
      "source": [
        "## Part B\n",
        "\n",
        "Instead of constructing a dense matrix, you can also use the bit representation to implement the action of the Hamiltonian in terms of bitwise operations. This function can be used as a scipy linear operator in the Lanczos eigenvalue solver. This procedure is particularly useful for larger problems.\n",
        "\n",
        "To employ the bitstring represenation: the basis element number $k$ should be written in the binary representation to get the individual spin orientations. For instance, the basis element $k = 415 = 256 + 128 + 16 + 8 + 4 + 2 + 1$ with $N = 10$ spins would correspond to the bitstring (0, 1, 1, 0, 0, 1, 1, 1, 1, 1), meaning, 0-th, 3-rd and 4-th spins are down, others up."
      ]
    },
    {
      "cell_type": "markdown",
      "metadata": {
        "id": "IzSk9Zdx9Ikg"
      },
      "source": [
        "We reuse our the code from last week for computations on binary strings:"
      ]
    },
    {
      "cell_type": "code",
      "execution_count": null,
      "metadata": {
        "id": "q0AVYBha9Ikg"
      },
      "outputs": [],
      "source": [
        "def shift_right(spins: int, shift: int, N: int) -> int:\n",
        "    for j in range(0,shift):\n",
        "        spins = (spins>>1) + 2**(N-1)*(spins%2)\n",
        "    return spins\n",
        "\n",
        "def shift_left(spins:int, shift:int, N:int) -> int:\n",
        "    for j in range(0, shift):\n",
        "        if spins >= 2**(N-1):\n",
        "            spins = (spins<<1) - (2**(N)) +1\n",
        "        else:\n",
        "            spins = spins<<1\n",
        "    return spins\n",
        "\n",
        "def count_upspins(i:int) -> int:\n",
        "    return format(i,'b').count('1')\n",
        "\n",
        "def spin_at_j(i: int, j: int) -> int:\n",
        "    return (i>>j)%2\n",
        "\n",
        "def flip_spin(i: int, j: int) -> int:\n",
        "    return (1<<j)^i\n",
        "\n",
        "def flip_all_spins(i: int, N: int) -> int:\n",
        "    return i^(2**N-1)"
      ]
    },
    {
      "cell_type": "markdown",
      "metadata": {
        "id": "mmEvSZbJ9Ikh"
      },
      "source": [
        "Then, we can construct the action of the Hamiltonian on the states as bitwise operations. To implement the action of the Hamiltonian as a Scipy Linear Operator, we want to define the operation $\\vec{y}=H\\vec{x}$.\n",
        "\n",
        "To this end, note that the wavefunction is written as $|\\psi\\rangle=\\sum_{i=0}^{2^N-1} x[i]|i\\rangle$, where $|i\\rangle$ is the index corresponding to a spin configuration and $x[i]$ is the corresponding weight. Since the $\\sigma_z$ term in the Hamiltonian is diagonal, we have $y[i]=E_z(i)x[i]$ under the action of this term, where $E_z(i)$ is the eigenvalue of the diagonal term associated with state $|i\\rangle$. The $h$ (i.e. $\\sigma_x$) term has matrix elements between the different indices, so we have $y[i]=H_{ij}x[j]$.\n"
      ]
    },
    {
      "cell_type": "code",
      "execution_count": null,
      "metadata": {
        "id": "SZ8ZWy6W9Ikh"
      },
      "outputs": [],
      "source": [
        "def act_hz(x):\n",
        "    y = np.zeros(2 ** N)\n",
        "    for spins in range(2 ** N):\n",
        "        # implement the action of Hz\n",
        "        # hint: the bit shift \"<<\" and the XOR \"^\" operations are useful here!\n",
        "        # y[spins] = ...\n",
        "\n",
        "    return y"
      ]
    },
    {
      "cell_type": "code",
      "execution_count": null,
      "metadata": {
        "id": "Ljy5hcqa9Ikh"
      },
      "outputs": [],
      "source": [
        "def act_h(x, h):\n",
        "    y = np.zeros(2 ** N)\n",
        "    for spins in range(2 ** N):\n",
        "        # implement the action of Hx\n",
        "        # you'll need to flip a single spin at site s and sum them up\n",
        "        # hint: the bit shift \"<<\" and the XOR \"^\" operations are useful here!\n",
        "\n",
        "    return h * y"
      ]
    },
    {
      "cell_type": "markdown",
      "metadata": {
        "id": "Q-Yd0pCU9Ikh"
      },
      "source": [
        "Now we're in a good position to implement the Lanczos algorithm -- does this give the same result as Part A?"
      ]
    },
    {
      "cell_type": "code",
      "execution_count": null,
      "metadata": {
        "id": "aOmcs0ye9Ikh"
      },
      "outputs": [],
      "source": [
        "n_low_levels = 10\n",
        "h_vals = np.linspace(-2, 2, 40)\n",
        "levels = []\n",
        "\n",
        "for h in h_vals:\n",
        "    def act_H(vec):\n",
        "        return act_hz(vec) + act_h(vec, h)\n",
        "\n",
        "    # construct the Linear Operator corresponding to act_H\n",
        "    # obtain the n_low_levels lowest eigenvalues from Lanczos, append to levels\n",
        "    # word of caution: obtain more eigenvalues than needed from Lanczos to avoid convergence issues\n",
        "\n",
        "levels = np.array(levels)"
      ]
    },
    {
      "cell_type": "code",
      "execution_count": null,
      "metadata": {
        "id": "VZIMIrox9Iki",
        "tags": []
      },
      "outputs": [],
      "source": [
        "for level in range(n_low_levels):\n",
        "    plt.scatter(h_vals, levels[:, level] / N - levels[:, 0] / N, marker='*', s = 10.,label='$E = E%s$' % (level))\n",
        "\n",
        "plt.legend(fontsize=7,ncol=3)\n",
        "plt.grid(True)\n",
        "plt.xlabel('h/J')\n",
        "plt.ylabel('$(E - E_0) / J$ per spin')\n",
        "plt.show()"
      ]
    },
    {
      "cell_type": "markdown",
      "metadata": {
        "id": "HwxPbLKl9Iki"
      },
      "source": [
        "## Part C\n",
        "\n",
        "The transverse field Ising Hamiltonian has many symmetries. Finding the symmetry essentially means finding another basis where the hamiltonian takes the _block-diagonal form_. Among the possible symmetries, there are:\n",
        "\n",
        "1) Flipping all spins with the operator $X = \\otimes_i \\sigma_i^x$,\n",
        "\n",
        "2) Total magnetisation conservation with the operator $M = \\sum\\limits_i \\sigma_i^z$ (only at $h = 0$)\n",
        "\n",
        "3) Translation symmetry $T: i \\to i + 1\\,\\text{mod N}$ with a rather non-local operator form.\n",
        "\n",
        "If the Hamiltonian has a symmetry $[H, A] = 0$ (block-diagonal form in some basis), $H$ and $A$ can be diagonalized simultaneously. This means that the Hamiltonian does not mix the eigenstates from sectors with different eigenvalues of $A$. This fact allows one to search for $H$ eigenstates in the sectors of $A$ eigenvalues one-by-one, which might significantly reduce the ED-complexity."
      ]
    },
    {
      "cell_type": "markdown",
      "metadata": {
        "id": "7JKcibHZ9Iki"
      },
      "source": [
        "At the end of this first exercise, please constuct the operators for the symmetries (1) and (2) and explicitly check that $[\\hat H, \\hat A] = 0$ for both of them.\n",
        "\n",
        "We start with the flipping symmetry:"
      ]
    },
    {
      "cell_type": "code",
      "execution_count": null,
      "metadata": {
        "id": "VH17FGIM9Iki"
      },
      "outputs": [],
      "source": [
        "A = np.eye(1)\n",
        "H = H_j + H_h * np.random.uniform(-2, 2)  # hamiltonian with arbitrary value of field h\n",
        "\n",
        "# construct the A--operator\n",
        "\n",
        "assert np.allclose(H.dot(A), A.dot(H))"
      ]
    },
    {
      "cell_type": "markdown",
      "metadata": {
        "id": "SLbJVOU_9Ikj"
      },
      "source": [
        "We proceed with the total magnetisation operator M, which is the symmetry only for $h = 0$:"
      ]
    },
    {
      "cell_type": "code",
      "execution_count": null,
      "metadata": {
        "id": "L3en9wvp9Ikj",
        "tags": []
      },
      "outputs": [],
      "source": [
        "M = np.zeros((2 ** N, 2 ** N))\n",
        "H = H_j + H_h * np.random.uniform(-1, 1)  # hamiltonian with arbitrary value of field h\n",
        "\n",
        "# construct the M--operator\n",
        "\n",
        "assert not np.allclose(H.dot(M), M.dot(H))\n",
        "assert np.allclose(H_j.dot(M), M.dot(H_j))"
      ]
    },
    {
      "cell_type": "code",
      "execution_count": null,
      "metadata": {
        "id": "cao-lhtO9Ikj"
      },
      "outputs": [],
      "source": []
    }
  ],
  "metadata": {
    "colab": {
      "provenance": []
    },
    "kernelspec": {
      "display_name": "venv_CQM",
      "language": "python",
      "name": "python3"
    },
    "language_info": {
      "codemirror_mode": {
        "name": "ipython",
        "version": 3
      },
      "file_extension": ".py",
      "mimetype": "text/x-python",
      "name": "python",
      "nbconvert_exporter": "python",
      "pygments_lexer": "ipython3",
      "version": "3.9.7"
    }
  },
  "nbformat": 4,
  "nbformat_minor": 0
}
