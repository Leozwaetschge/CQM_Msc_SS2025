{
  "cells": [
    {
      "cell_type": "code",
      "execution_count": 21,
      "metadata": {
        "id": "qT1QEIZ-SoE2"
      },
      "outputs": [],
      "source": [
        "import numpy as np\n",
        "import scipy as sp\n",
        "from scipy.linalg import eigh\n",
        "from scipy.sparse.linalg import LinearOperator, eigsh\n",
        "import matplotlib.pyplot as plt"
      ]
    },
    {
      "cell_type": "markdown",
      "metadata": {
        "id": "cuxQ6lPN9IkX"
      },
      "source": [
        "## Part A: transverse Ising model $(J, h)$ phase diagram (without symmetries)\n",
        "\n",
        "First, let us form the many-body Hamiltonian of the form ($J = 1$, periodic BC):\n",
        "$$H = \\sum\\limits_{i=0}^{N - 1} \\sigma_i^z \\sigma_{i + 1}^z + h \\sum\\limits_i \\sigma^x.$$\n",
        "\n",
        "First, please construct the first term:"
      ]
    },
    {
      "cell_type": "code",
      "execution_count": 22,
      "metadata": {
        "id": "Asijg94Q9IkY"
      },
      "outputs": [],
      "source": [
        "sigma_x = np.array([[0, 1], [1, 0]])\n",
        "sigma_y = np.array([[0, -1j], [1j, 0]])\n",
        "sigma_z = np.diag([1, -1])\n",
        "sigma_0 = np.eye(2)\n",
        "N = 8 # the number of spins in the system\n",
        "\n",
        "def fill_identities(h_local, begin, end):\n",
        "    # fill the sites to the left of the local Hamiltonian (h_local) with identities\n",
        "    # hint: take care to consider the boundary terms separately\n",
        "    # note I: begin and end are site indices\n",
        "    # note II: make sure to return the result of multiplying (by tensor product) the identities with h_local to the LEFT of h_local\n",
        "    left = [sigma_0] * begin\n",
        "    right = [sigma_0] * (N - end - 1)\n",
        "    individual_matrices = left + [h_local] + right\n",
        "    #print(individual_matrices)\n",
        "    tensorial_result = individual_matrices[0]\n",
        "    for i in range(1, len(individual_matrices)):\n",
        "        tensorial_result = np.kron(tensorial_result, individual_matrices[i])\n",
        "    #print(tensorial_result.shape)\n",
        "    return tensorial_result\n",
        "\n",
        "\n",
        "def hamiltonian_j(N):\n",
        "    # sigma_z term of the Hamiltonian\n",
        "    H = np.zeros((2 ** N, 2 ** N), dtype=np.complex128)  # shape of the full many-body N-spins hamiltonian\n",
        "    for i in range(N - 1):  # loop over all spins except the boundary pair\n",
        "        # fill sites i and i+1 with sigma_z\n",
        "        h_local = np.kron(sigma_z, sigma_z)\n",
        "        # fill the rest of the sites with identities\n",
        "        term = fill_identities(h_local, i, i + 1)\n",
        "        H += term\n",
        "    # construct the boundary term separately\n",
        "    h_boundary = np.kron(sigma_z, sigma_z)\n",
        "    H += fill_identities(h_boundary, 0, 1)\n",
        "    H += fill_identities(h_boundary, N-2, N-1)\n",
        "\n",
        "    return H.real\n",
        "    \n",
        "    "
      ]
    },
    {
      "cell_type": "code",
      "execution_count": 23,
      "metadata": {},
      "outputs": [
        {
          "name": "stdout",
          "output_type": "stream",
          "text": [
            "[[0. 0. 1. 0.]\n",
            " [0. 0. 0. 1.]\n",
            " [1. 0. 0. 0.]\n",
            " [0. 1. 0. 0.]]\n"
          ]
        }
      ],
      "source": [
        "print(np.kron(sigma_x, sigma_0))"
      ]
    },
    {
      "cell_type": "markdown",
      "metadata": {
        "id": "jXCjrCSH9Ika"
      },
      "source": [
        "Then please construct the transverse field term with $h = 1$:"
      ]
    },
    {
      "cell_type": "code",
      "execution_count": 24,
      "metadata": {
        "id": "ImeCGqHE9Ika"
      },
      "outputs": [],
      "source": [
        "def hamiltonian_h(N):\n",
        "    # the sigma_x term of the Hamiltonian\n",
        "    H = np.zeros((2 ** N, 2 ** N), dtype=np.complex128)  # shape of the full many-body N-spins hamiltonian\n",
        "    for i in range(N):\n",
        "        # fill site i with sigma_x)\n",
        "        # fill the rest of the sites with identities\n",
        "        H += fill_identities(sigma_x, i, i)\n",
        "\n",
        "    return H.real"
      ]
    },
    {
      "cell_type": "code",
      "execution_count": 25,
      "metadata": {
        "id": "bCqg7Cy89Ikb"
      },
      "outputs": [],
      "source": [
        "H_j = hamiltonian_j(N)  # obtain the j-part (remains unchanged)\n",
        "H_h = hamiltonian_h(N)  # obtain normalized h--part"
      ]
    },
    {
      "cell_type": "markdown",
      "metadata": {
        "id": "OSZgRKXs9Ikb"
      },
      "source": [
        "Now obtain the low-energy spectrum of the model:"
      ]
    },
    {
      "cell_type": "code",
      "execution_count": 26,
      "metadata": {
        "id": "yhVF_RmN9Ikc"
      },
      "outputs": [],
      "source": [
        "# obtain the low-energy spectrum of the model\n",
        "n_low_levels = 10\n",
        "h_vals = np.linspace(-2, 2, 40)\n",
        "levels = []\n",
        "\n",
        "for h in h_vals:\n",
        "    # construct the total Hamiltonian\n",
        "    H = H_j + h * H_h\n",
        "    # obtain the eigenvalues\n",
        "    eigenvalues = eigh(H)\n",
        "    # append the `n_low_levels` lowest eigenvalues to levels\n",
        "    levels += [eigenvalues[0][:n_low_levels]]\n",
        "\n",
        "levels = np.array(levels)"
      ]
    },
    {
      "cell_type": "markdown",
      "metadata": {
        "id": "FPVBTSDc9Ikd"
      },
      "source": [
        "Plot the obtained energy spectrum as a function of $h / J$:"
      ]
    },
    {
      "cell_type": "code",
      "execution_count": 32,
      "metadata": {
        "id": "hKnbpAJ_9Ike"
      },
      "outputs": [
        {
          "data": {
            "image/png": "[encoded data removed]",
            "text/plain": [
              "<Figure size 640x480 with 1 Axes>"
            ]
          },
          "metadata": {},
          "output_type": "display_data"
        }
      ],
      "source": [
        "for level in range(n_low_levels):\n",
        "    plt.scatter(h_vals, levels[:, level] / N - levels[:, 0] / N, marker='*', s = 10.,label='$E = E%s$' % (level))\n",
        "\n",
        "plt.legend(fontsize=7,ncol=3)\n",
        "plt.grid(True)\n",
        "plt.xlabel('h/J')\n",
        "plt.ylabel('$(E - E_0) / J$ per spin')\n",
        "plt.show()"
      ]
    },
    {
      "cell_type": "markdown",
      "metadata": {
        "id": "MHatACx09Ikf"
      },
      "source": [
        "As $|h| < J$, the system is in the antiferromagnetic phase, the lowest two states with momenta $k = 0$ and $k = \\pi$ are degenerate (you can check this by expressing the Hamiltonian in the basis of eigenstates of the translation operator $\\hat{T}$ and diagonalizing it in this basis). At $|h| > J$ the system undergoes a phase transition to the paramagnetic phase, where this degeneracy is broken."
      ]
    },
    {
      "cell_type": "markdown",
      "metadata": {
        "id": "JJRovNQJ9Ikg"
      },
      "source": [
        "## Part B\n",
        "\n",
        "Instead of constructing a dense matrix, you can also use the bit representation to implement the action of the Hamiltonian in terms of bitwise operations. This function can be used as a scipy linear operator in the Lanczos eigenvalue solver. This procedure is particularly useful for larger problems.\n",
        "\n",
        "To employ the bitstring represenation: the basis element number $k$ should be written in the binary representation to get the individual spin orientations. For instance, the basis element $k = 415 = 256 + 128 + 16 + 8 + 4 + 2 + 1$ with $N = 10$ spins would correspond to the bitstring (0, 1, 1, 0, 0, 1, 1, 1, 1, 1), meaning, 0-th, 3-rd and 4-th spins are down, others up."
      ]
    },
    {
      "cell_type": "markdown",
      "metadata": {
        "id": "IzSk9Zdx9Ikg"
      },
      "source": [
        "We reuse our the code from last week for computations on binary strings:"
      ]
    },
    {
      "cell_type": "code",
      "execution_count": 33,
      "metadata": {
        "id": "q0AVYBha9Ikg"
      },
      "outputs": [],
      "source": [
        "def shift_right(spins: int, shift: int, N: int) -> int:\n",
        "    for j in range(0,shift):\n",
        "        spins = (spins>>1) + 2**(N-1)*(spins%2)\n",
        "    return spins\n",
        "\n",
        "def shift_left(spins:int, shift:int, N:int) -> int:\n",
        "    for j in range(0, shift):\n",
        "        if spins >= 2**(N-1):\n",
        "            spins = (spins<<1) - (2**(N)) +1\n",
        "        else:\n",
        "            spins = spins<<1\n",
        "    return spins\n",
        "\n",
        "def count_upspins(i:int) -> int:\n",
        "    return format(i,'b').count('1')\n",
        "\n",
        "def spin_at_j(i: int, j: int) -> int:\n",
        "    return (i>>j)%2\n",
        "\n",
        "def flip_spin(i: int, j: int) -> int:\n",
        "    return (1<<j)^i\n",
        "\n",
        "def flip_all_spins(i: int, N: int) -> int:\n",
        "    return i^(2**N-1)"
      ]
    },
    {
      "cell_type": "markdown",
      "metadata": {
        "id": "mmEvSZbJ9Ikh"
      },
      "source": [
        "Then, we can construct the action of the Hamiltonian on the states as bitwise operations. To implement the action of the Hamiltonian as a Scipy Linear Operator, we want to define the operation $\\vec{y}=H\\vec{x}$.\n",
        "\n",
        "To this end, note that the wavefunction is written as $|\\psi\\rangle=\\sum_{i=0}^{2^N-1} x[i]|i\\rangle$, where $|i\\rangle$ is the index corresponding to a spin configuration and $x[i]$ is the corresponding weight. Since the $\\sigma_z$ term in the Hamiltonian is diagonal, we have $y[i]=E_z(i)x[i]$ under the action of this term, where $E_z(i)$ is the eigenvalue of the diagonal term associated with state $|i\\rangle$. The $h$ (i.e. $\\sigma_x$) term has matrix elements between the different indices, so we have $y[i]=H_{ij}x[j]$.\n"
      ]
    },
    {
      "cell_type": "code",
      "execution_count": null,
      "metadata": {
        "id": "SZ8ZWy6W9Ikh"
      },
      "outputs": [],
      "source": [
        "def act_hz(x):\n",
        "    y = np.zeros(2 ** N)\n",
        "    for spins in range(2**N):\n",
        "        spin_interaction = spins ^ shift_left(spins, 1, N)\n",
        "        E_z = spin_interaction - (N-spin_interaction)\n",
        "        # implement the action of Hz\n",
        "        # hint: the bit shift \"<<\" and the XOR \"^\" operations are useful here!\n",
        "        y[spins] = E_z*x[spins]\n",
        "        # y[spins] = ...\n",
        "\n",
        "    return y\n",
        "\n",
        "#NÖÖÖÖÖÖÖÖÖÖDDD SIIICHER"
      ]
    },
    {
      "cell_type": "code",
      "execution_count": 35,
      "metadata": {
        "id": "Ljy5hcqa9Ikh"
      },
      "outputs": [],
      "source": [
        "def act_h(x, h):\n",
        "    y = np.zeros(2 ** N)\n",
        "    for spins in range(2 ** N):\n",
        "        # implement the action of Hx\n",
        "        for k in range(N):\n",
        "            spins_interacttion = spins ^ shift_left(spins, k, N)\n",
        "            spin_energy = count_upspins(spins_interacttion)\n",
        "            E_x = spin_energy - (N - spin_energy)\n",
        "            y[spins] +=E_x * x[spins]\n",
        "        # you'll need to flip a single spin at site s and sum them up\n",
        "        # hint: the bit shift \"<<\" and the XOR \"^\" operations are useful here!\n",
        "\n",
        "    return h * y"
      ]
    },
    {
      "cell_type": "markdown",
      "metadata": {
        "id": "Q-Yd0pCU9Ikh"
      },
      "source": [
        "Now we're in a good position to implement the Lanczos algorithm -- does this give the same result as Part A?"
      ]
    },
    {
      "cell_type": "code",
      "execution_count": 40,
      "metadata": {
        "id": "aOmcs0ye9Ikh"
      },
      "outputs": [
        {
          "name": "stderr",
          "output_type": "stream",
          "text": [
            "/var/folders/x0/zx3zh2g96tvbvblvgctx16n00000gn/T/ipykernel_14874/1823616206.py:10: ComplexWarning: Casting complex values to real discards the imaginary part\n",
            "  y[spins] += E_z*x[spins]\n",
            "/var/folders/x0/zx3zh2g96tvbvblvgctx16n00000gn/T/ipykernel_14874/889470843.py:9: ComplexWarning: Casting complex values to real discards the imaginary part\n",
            "  y[spins] +=E_x * x[spins]\n"
          ]
        },
        {
          "ename": "KeyboardInterrupt",
          "evalue": "",
          "output_type": "error",
          "traceback": [
            "\u001b[0;31m---------------------------------------------------------------------------\u001b[0m",
            "\u001b[0;31mKeyboardInterrupt\u001b[0m                         Traceback (most recent call last)",
            "Cell \u001b[0;32mIn[40], line 9\u001b[0m\n\u001b[1;32m      7\u001b[0m     \u001b[38;5;28;01mreturn\u001b[39;00m act_hz(vec) \u001b[38;5;241m+\u001b[39m act_h(vec, h)\n\u001b[1;32m      8\u001b[0m H \u001b[38;5;241m=\u001b[39m LinearOperator((\u001b[38;5;241m2\u001b[39m\u001b[38;5;241m*\u001b[39m\u001b[38;5;241m*\u001b[39mN, \u001b[38;5;241m2\u001b[39m\u001b[38;5;241m*\u001b[39m\u001b[38;5;241m*\u001b[39mN), matvec\u001b[38;5;241m=\u001b[39m\u001b[38;5;28;01mlambda\u001b[39;00m vec: act_H(vec), dtype\u001b[38;5;241m=\u001b[39mnp\u001b[38;5;241m.\u001b[39mcomplex128)\n\u001b[0;32m----> 9\u001b[0m eigenvalues, _ \u001b[38;5;241m=\u001b[39m \u001b[43meigsh\u001b[49m\u001b[43m(\u001b[49m\u001b[43mH\u001b[49m\u001b[43m,\u001b[49m\u001b[43m \u001b[49m\u001b[43mk\u001b[49m\u001b[38;5;241;43m=\u001b[39;49m\u001b[43mn_low_levels\u001b[49m\u001b[43m \u001b[49m\u001b[38;5;241;43m+\u001b[39;49m\u001b[43m \u001b[49m\u001b[38;5;241;43m1\u001b[39;49m\u001b[43m,\u001b[49m\u001b[43m \u001b[49m\u001b[43mwhich\u001b[49m\u001b[38;5;241;43m=\u001b[39;49m\u001b[38;5;124;43m'\u001b[39;49m\u001b[38;5;124;43mSA\u001b[39;49m\u001b[38;5;124;43m'\u001b[39;49m\u001b[43m)\u001b[49m\n\u001b[1;32m     10\u001b[0m levels\u001b[38;5;241m.\u001b[39mappend(eigenvalues[:n_low_levels])\n\u001b[1;32m     12\u001b[0m \u001b[38;5;66;03m# construct the Linear Operator corresponding to act_H\u001b[39;00m\n\u001b[1;32m     13\u001b[0m \u001b[38;5;66;03m# obtain the n_low_levels lowest eigenvalues from Lanczos, append to levels\u001b[39;00m\n\u001b[1;32m     14\u001b[0m \u001b[38;5;66;03m# word of caution: obtain more eigenvalues than needed from Lanczos to avoid convergence issues\u001b[39;00m\n",
            "File \u001b[0;32m~/Documents/14_Master/Msc_SS25/CQM_Msc_SS2025/venv_CQM/lib/python3.9/site-packages/scipy/sparse/linalg/_eigen/arpack/arpack.py:1577\u001b[0m, in \u001b[0;36meigsh\u001b[0;34m(A, k, M, sigma, which, v0, ncv, maxiter, tol, return_eigenvectors, Minv, OPinv, mode)\u001b[0m\n\u001b[1;32m   1575\u001b[0m \u001b[38;5;28;01melif\u001b[39;00m which \u001b[38;5;241m==\u001b[39m \u001b[38;5;124m'\u001b[39m\u001b[38;5;124mSA\u001b[39m\u001b[38;5;124m'\u001b[39m:\n\u001b[1;32m   1576\u001b[0m     which \u001b[38;5;241m=\u001b[39m \u001b[38;5;124m'\u001b[39m\u001b[38;5;124mSR\u001b[39m\u001b[38;5;124m'\u001b[39m\n\u001b[0;32m-> 1577\u001b[0m ret \u001b[38;5;241m=\u001b[39m \u001b[43meigs\u001b[49m\u001b[43m(\u001b[49m\u001b[43mA\u001b[49m\u001b[43m,\u001b[49m\u001b[43m \u001b[49m\u001b[43mk\u001b[49m\u001b[43m,\u001b[49m\u001b[43m \u001b[49m\u001b[43mM\u001b[49m\u001b[38;5;241;43m=\u001b[39;49m\u001b[43mM\u001b[49m\u001b[43m,\u001b[49m\u001b[43m \u001b[49m\u001b[43msigma\u001b[49m\u001b[38;5;241;43m=\u001b[39;49m\u001b[43msigma\u001b[49m\u001b[43m,\u001b[49m\u001b[43m \u001b[49m\u001b[43mwhich\u001b[49m\u001b[38;5;241;43m=\u001b[39;49m\u001b[43mwhich\u001b[49m\u001b[43m,\u001b[49m\u001b[43m \u001b[49m\u001b[43mv0\u001b[49m\u001b[38;5;241;43m=\u001b[39;49m\u001b[43mv0\u001b[49m\u001b[43m,\u001b[49m\n\u001b[1;32m   1578\u001b[0m \u001b[43m           \u001b[49m\u001b[43mncv\u001b[49m\u001b[38;5;241;43m=\u001b[39;49m\u001b[43mncv\u001b[49m\u001b[43m,\u001b[49m\u001b[43m \u001b[49m\u001b[43mmaxiter\u001b[49m\u001b[38;5;241;43m=\u001b[39;49m\u001b[43mmaxiter\u001b[49m\u001b[43m,\u001b[49m\u001b[43m \u001b[49m\u001b[43mtol\u001b[49m\u001b[38;5;241;43m=\u001b[39;49m\u001b[43mtol\u001b[49m\u001b[43m,\u001b[49m\n\u001b[1;32m   1579\u001b[0m \u001b[43m           \u001b[49m\u001b[43mreturn_eigenvectors\u001b[49m\u001b[38;5;241;43m=\u001b[39;49m\u001b[43mreturn_eigenvectors\u001b[49m\u001b[43m,\u001b[49m\u001b[43m \u001b[49m\u001b[43mMinv\u001b[49m\u001b[38;5;241;43m=\u001b[39;49m\u001b[43mMinv\u001b[49m\u001b[43m,\u001b[49m\n\u001b[1;32m   1580\u001b[0m \u001b[43m           \u001b[49m\u001b[43mOPinv\u001b[49m\u001b[38;5;241;43m=\u001b[39;49m\u001b[43mOPinv\u001b[49m\u001b[43m)\u001b[49m\n\u001b[1;32m   1582\u001b[0m \u001b[38;5;28;01mif\u001b[39;00m return_eigenvectors:\n\u001b[1;32m   1583\u001b[0m     \u001b[38;5;28;01mreturn\u001b[39;00m ret[\u001b[38;5;241m0\u001b[39m]\u001b[38;5;241m.\u001b[39mreal, ret[\u001b[38;5;241m1\u001b[39m]\n",
            "File \u001b[0;32m~/Documents/14_Master/Msc_SS25/CQM_Msc_SS2025/venv_CQM/lib/python3.9/site-packages/scipy/sparse/linalg/_eigen/arpack/arpack.py:1355\u001b[0m, in \u001b[0;36meigs\u001b[0;34m(A, k, M, sigma, which, v0, ncv, maxiter, tol, return_eigenvectors, Minv, OPinv, OPpart)\u001b[0m\n\u001b[1;32m   1353\u001b[0m \u001b[38;5;28;01mwith\u001b[39;00m _ARPACK_LOCK:\n\u001b[1;32m   1354\u001b[0m     \u001b[38;5;28;01mwhile\u001b[39;00m \u001b[38;5;129;01mnot\u001b[39;00m params\u001b[38;5;241m.\u001b[39mconverged:\n\u001b[0;32m-> 1355\u001b[0m         \u001b[43mparams\u001b[49m\u001b[38;5;241;43m.\u001b[39;49m\u001b[43miterate\u001b[49m\u001b[43m(\u001b[49m\u001b[43m)\u001b[49m\n\u001b[1;32m   1357\u001b[0m     \u001b[38;5;28;01mreturn\u001b[39;00m params\u001b[38;5;241m.\u001b[39mextract(return_eigenvectors)\n",
            "File \u001b[0;32m~/Documents/14_Master/Msc_SS25/CQM_Msc_SS2025/venv_CQM/lib/python3.9/site-packages/scipy/sparse/linalg/_eigen/arpack/arpack.py:746\u001b[0m, in \u001b[0;36m_UnsymmetricArpackParams.iterate\u001b[0;34m(self)\u001b[0m\n\u001b[1;32m    743\u001b[0m \u001b[38;5;28;01melif\u001b[39;00m \u001b[38;5;28mself\u001b[39m\u001b[38;5;241m.\u001b[39mido \u001b[38;5;241m==\u001b[39m \u001b[38;5;241m1\u001b[39m:\n\u001b[1;32m    744\u001b[0m     \u001b[38;5;66;03m# compute y = Op*x\u001b[39;00m\n\u001b[1;32m    745\u001b[0m     \u001b[38;5;28;01mif\u001b[39;00m \u001b[38;5;28mself\u001b[39m\u001b[38;5;241m.\u001b[39mmode \u001b[38;5;129;01min\u001b[39;00m (\u001b[38;5;241m1\u001b[39m, \u001b[38;5;241m2\u001b[39m):\n\u001b[0;32m--> 746\u001b[0m         \u001b[38;5;28mself\u001b[39m\u001b[38;5;241m.\u001b[39mworkd[yslice] \u001b[38;5;241m=\u001b[39m \u001b[38;5;28;43mself\u001b[39;49m\u001b[38;5;241;43m.\u001b[39;49m\u001b[43mOP\u001b[49m\u001b[43m(\u001b[49m\u001b[38;5;28;43mself\u001b[39;49m\u001b[38;5;241;43m.\u001b[39;49m\u001b[43mworkd\u001b[49m\u001b[43m[\u001b[49m\u001b[43mxslice\u001b[49m\u001b[43m]\u001b[49m\u001b[43m)\u001b[49m\n\u001b[1;32m    747\u001b[0m     \u001b[38;5;28;01melse\u001b[39;00m:\n\u001b[1;32m    748\u001b[0m         Bxslice \u001b[38;5;241m=\u001b[39m \u001b[38;5;28mslice\u001b[39m(\u001b[38;5;28mself\u001b[39m\u001b[38;5;241m.\u001b[39mipntr[\u001b[38;5;241m2\u001b[39m] \u001b[38;5;241m-\u001b[39m \u001b[38;5;241m1\u001b[39m, \u001b[38;5;28mself\u001b[39m\u001b[38;5;241m.\u001b[39mipntr[\u001b[38;5;241m2\u001b[39m] \u001b[38;5;241m-\u001b[39m \u001b[38;5;241m1\u001b[39m \u001b[38;5;241m+\u001b[39m \u001b[38;5;28mself\u001b[39m\u001b[38;5;241m.\u001b[39mn)\n",
            "File \u001b[0;32m~/Documents/14_Master/Msc_SS25/CQM_Msc_SS2025/venv_CQM/lib/python3.9/site-packages/scipy/sparse/linalg/_interface.py:236\u001b[0m, in \u001b[0;36mLinearOperator.matvec\u001b[0;34m(self, x)\u001b[0m\n\u001b[1;32m    233\u001b[0m \u001b[38;5;28;01mif\u001b[39;00m x\u001b[38;5;241m.\u001b[39mshape \u001b[38;5;241m!=\u001b[39m (N,) \u001b[38;5;129;01mand\u001b[39;00m x\u001b[38;5;241m.\u001b[39mshape \u001b[38;5;241m!=\u001b[39m (N,\u001b[38;5;241m1\u001b[39m):\n\u001b[1;32m    234\u001b[0m     \u001b[38;5;28;01mraise\u001b[39;00m \u001b[38;5;167;01mValueError\u001b[39;00m(\u001b[38;5;124m'\u001b[39m\u001b[38;5;124mdimension mismatch\u001b[39m\u001b[38;5;124m'\u001b[39m)\n\u001b[0;32m--> 236\u001b[0m y \u001b[38;5;241m=\u001b[39m \u001b[38;5;28;43mself\u001b[39;49m\u001b[38;5;241;43m.\u001b[39;49m\u001b[43m_matvec\u001b[49m\u001b[43m(\u001b[49m\u001b[43mx\u001b[49m\u001b[43m)\u001b[49m\n\u001b[1;32m    238\u001b[0m \u001b[38;5;28;01mif\u001b[39;00m \u001b[38;5;28misinstance\u001b[39m(x, np\u001b[38;5;241m.\u001b[39mmatrix):\n\u001b[1;32m    239\u001b[0m     y \u001b[38;5;241m=\u001b[39m asmatrix(y)\n",
            "File \u001b[0;32m~/Documents/14_Master/Msc_SS25/CQM_Msc_SS2025/venv_CQM/lib/python3.9/site-packages/scipy/sparse/linalg/_interface.py:593\u001b[0m, in \u001b[0;36m_CustomLinearOperator._matvec\u001b[0;34m(self, x)\u001b[0m\n\u001b[1;32m    592\u001b[0m \u001b[38;5;28;01mdef\u001b[39;00m\u001b[38;5;250m \u001b[39m\u001b[38;5;21m_matvec\u001b[39m(\u001b[38;5;28mself\u001b[39m, x):\n\u001b[0;32m--> 593\u001b[0m     \u001b[38;5;28;01mreturn\u001b[39;00m \u001b[38;5;28;43mself\u001b[39;49m\u001b[38;5;241;43m.\u001b[39;49m\u001b[43m__matvec_impl\u001b[49m\u001b[43m(\u001b[49m\u001b[43mx\u001b[49m\u001b[43m)\u001b[49m\n",
            "Cell \u001b[0;32mIn[40], line 8\u001b[0m, in \u001b[0;36m<lambda>\u001b[0;34m(vec)\u001b[0m\n\u001b[1;32m      6\u001b[0m \u001b[38;5;28;01mdef\u001b[39;00m\u001b[38;5;250m \u001b[39m\u001b[38;5;21mact_H\u001b[39m(vec):\n\u001b[1;32m      7\u001b[0m     \u001b[38;5;28;01mreturn\u001b[39;00m act_hz(vec) \u001b[38;5;241m+\u001b[39m act_h(vec, h)\n\u001b[0;32m----> 8\u001b[0m H \u001b[38;5;241m=\u001b[39m LinearOperator((\u001b[38;5;241m2\u001b[39m\u001b[38;5;241m*\u001b[39m\u001b[38;5;241m*\u001b[39mN, \u001b[38;5;241m2\u001b[39m\u001b[38;5;241m*\u001b[39m\u001b[38;5;241m*\u001b[39mN), matvec\u001b[38;5;241m=\u001b[39m\u001b[38;5;28;01mlambda\u001b[39;00m vec: \u001b[43mact_H\u001b[49m\u001b[43m(\u001b[49m\u001b[43mvec\u001b[49m\u001b[43m)\u001b[49m, dtype\u001b[38;5;241m=\u001b[39mnp\u001b[38;5;241m.\u001b[39mcomplex128)\n\u001b[1;32m      9\u001b[0m eigenvalues, _ \u001b[38;5;241m=\u001b[39m eigsh(H, k\u001b[38;5;241m=\u001b[39mn_low_levels \u001b[38;5;241m+\u001b[39m \u001b[38;5;241m1\u001b[39m, which\u001b[38;5;241m=\u001b[39m\u001b[38;5;124m'\u001b[39m\u001b[38;5;124mSA\u001b[39m\u001b[38;5;124m'\u001b[39m)\n\u001b[1;32m     10\u001b[0m levels\u001b[38;5;241m.\u001b[39mappend(eigenvalues[:n_low_levels])\n",
            "Cell \u001b[0;32mIn[40], line 7\u001b[0m, in \u001b[0;36mact_H\u001b[0;34m(vec)\u001b[0m\n\u001b[1;32m      6\u001b[0m \u001b[38;5;28;01mdef\u001b[39;00m\u001b[38;5;250m \u001b[39m\u001b[38;5;21mact_H\u001b[39m(vec):\n\u001b[0;32m----> 7\u001b[0m     \u001b[38;5;28;01mreturn\u001b[39;00m act_hz(vec) \u001b[38;5;241m+\u001b[39m \u001b[43mact_h\u001b[49m\u001b[43m(\u001b[49m\u001b[43mvec\u001b[49m\u001b[43m,\u001b[49m\u001b[43m \u001b[49m\u001b[43mh\u001b[49m\u001b[43m)\u001b[49m\n",
            "Cell \u001b[0;32mIn[35], line 6\u001b[0m, in \u001b[0;36mact_h\u001b[0;34m(x, h)\u001b[0m\n\u001b[1;32m      3\u001b[0m \u001b[38;5;28;01mfor\u001b[39;00m spins \u001b[38;5;129;01min\u001b[39;00m \u001b[38;5;28mrange\u001b[39m(\u001b[38;5;241m2\u001b[39m \u001b[38;5;241m*\u001b[39m\u001b[38;5;241m*\u001b[39m N):\n\u001b[1;32m      4\u001b[0m     \u001b[38;5;66;03m# implement the action of Hx\u001b[39;00m\n\u001b[1;32m      5\u001b[0m     \u001b[38;5;28;01mfor\u001b[39;00m k \u001b[38;5;129;01min\u001b[39;00m \u001b[38;5;28mrange\u001b[39m(N):\n\u001b[0;32m----> 6\u001b[0m         spins_interacttion \u001b[38;5;241m=\u001b[39m spins \u001b[38;5;241m^\u001b[39m \u001b[43mshift_left\u001b[49m\u001b[43m(\u001b[49m\u001b[43mspins\u001b[49m\u001b[43m,\u001b[49m\u001b[43m \u001b[49m\u001b[43mk\u001b[49m\u001b[43m,\u001b[49m\u001b[43m \u001b[49m\u001b[43mN\u001b[49m\u001b[43m)\u001b[49m\n\u001b[1;32m      7\u001b[0m         spin_energy \u001b[38;5;241m=\u001b[39m count_upspins(spins_interacttion)\n\u001b[1;32m      8\u001b[0m         E_x \u001b[38;5;241m=\u001b[39m spin_energy \u001b[38;5;241m-\u001b[39m (N \u001b[38;5;241m-\u001b[39m spin_energy)\n",
            "Cell \u001b[0;32mIn[33], line 7\u001b[0m, in \u001b[0;36mshift_left\u001b[0;34m(spins, shift, N)\u001b[0m\n\u001b[1;32m      6\u001b[0m \u001b[38;5;28;01mdef\u001b[39;00m\u001b[38;5;250m \u001b[39m\u001b[38;5;21mshift_left\u001b[39m(spins:\u001b[38;5;28mint\u001b[39m, shift:\u001b[38;5;28mint\u001b[39m, N:\u001b[38;5;28mint\u001b[39m) \u001b[38;5;241m-\u001b[39m\u001b[38;5;241m>\u001b[39m \u001b[38;5;28mint\u001b[39m:\n\u001b[0;32m----> 7\u001b[0m     \u001b[38;5;28;01mfor\u001b[39;00m j \u001b[38;5;129;01min\u001b[39;00m \u001b[38;5;28;43mrange\u001b[39;49m\u001b[43m(\u001b[49m\u001b[38;5;241;43m0\u001b[39;49m\u001b[43m,\u001b[49m\u001b[43m \u001b[49m\u001b[43mshift\u001b[49m\u001b[43m)\u001b[49m:\n\u001b[1;32m      8\u001b[0m         \u001b[38;5;28;01mif\u001b[39;00m spins \u001b[38;5;241m>\u001b[39m\u001b[38;5;241m=\u001b[39m \u001b[38;5;241m2\u001b[39m\u001b[38;5;241m*\u001b[39m\u001b[38;5;241m*\u001b[39m(N\u001b[38;5;241m-\u001b[39m\u001b[38;5;241m1\u001b[39m):\n\u001b[1;32m      9\u001b[0m             spins \u001b[38;5;241m=\u001b[39m (spins\u001b[38;5;241m<<\u001b[39m\u001b[38;5;241m1\u001b[39m) \u001b[38;5;241m-\u001b[39m (\u001b[38;5;241m2\u001b[39m\u001b[38;5;241m*\u001b[39m\u001b[38;5;241m*\u001b[39m(N)) \u001b[38;5;241m+\u001b[39m\u001b[38;5;241m1\u001b[39m\n",
            "\u001b[0;31mKeyboardInterrupt\u001b[0m: "
          ]
        }
      ],
      "source": [
        "n_low_levels = 10\n",
        "h_vals = np.linspace(-2, 2, 40)\n",
        "levels = []\n",
        "\n",
        "for h in h_vals:\n",
        "    def act_H(vec):\n",
        "        return act_hz(vec) + act_h(vec, h)\n",
        "    H = LinearOperator((2**N, 2**N), matvec=lambda vec: act_H(vec), dtype=np.complex128)\n",
        "    eigenvalues, _ = eigsh(H, k=n_low_levels + 1, which='SA')\n",
        "    levels.append(eigenvalues[:n_low_levels])\n",
        "\n",
        "    # construct the Linear Operator corresponding to act_H\n",
        "    # obtain the n_low_levels lowest eigenvalues from Lanczos, append to levels\n",
        "    # word of caution: obtain more eigenvalues than needed from Lanczos to avoid convergence issues\n",
        "\n",
        "levels = np.array(levels)"
      ]
    },
    {
      "cell_type": "code",
      "execution_count": null,
      "metadata": {
        "id": "VZIMIrox9Iki",
        "tags": []
      },
      "outputs": [
        {
          "ename": "IndexError",
          "evalue": "too many indices for array: array is 1-dimensional, but 2 were indexed",
          "output_type": "error",
          "traceback": [
            "\u001b[0;31m---------------------------------------------------------------------------\u001b[0m",
            "\u001b[0;31mIndexError\u001b[0m                                Traceback (most recent call last)",
            "Cell \u001b[0;32mIn[37], line 2\u001b[0m\n\u001b[1;32m      1\u001b[0m \u001b[38;5;28;01mfor\u001b[39;00m level \u001b[38;5;129;01min\u001b[39;00m \u001b[38;5;28mrange\u001b[39m(n_low_levels):\n\u001b[0;32m----> 2\u001b[0m     plt\u001b[38;5;241m.\u001b[39mscatter(h_vals, \u001b[43mlevels\u001b[49m\u001b[43m[\u001b[49m\u001b[43m:\u001b[49m\u001b[43m,\u001b[49m\u001b[43m \u001b[49m\u001b[43mlevel\u001b[49m\u001b[43m]\u001b[49m \u001b[38;5;241m/\u001b[39m N \u001b[38;5;241m-\u001b[39m levels[:, \u001b[38;5;241m0\u001b[39m] \u001b[38;5;241m/\u001b[39m N, marker\u001b[38;5;241m=\u001b[39m\u001b[38;5;124m'\u001b[39m\u001b[38;5;124m*\u001b[39m\u001b[38;5;124m'\u001b[39m, s \u001b[38;5;241m=\u001b[39m \u001b[38;5;241m10.\u001b[39m,label\u001b[38;5;241m=\u001b[39m\u001b[38;5;124m'\u001b[39m\u001b[38;5;124m$E = E\u001b[39m\u001b[38;5;132;01m%s\u001b[39;00m\u001b[38;5;124m$\u001b[39m\u001b[38;5;124m'\u001b[39m \u001b[38;5;241m%\u001b[39m (level))\n\u001b[1;32m      4\u001b[0m plt\u001b[38;5;241m.\u001b[39mlegend(fontsize\u001b[38;5;241m=\u001b[39m\u001b[38;5;241m7\u001b[39m,ncol\u001b[38;5;241m=\u001b[39m\u001b[38;5;241m3\u001b[39m)\n\u001b[1;32m      5\u001b[0m plt\u001b[38;5;241m.\u001b[39mgrid(\u001b[38;5;28;01mTrue\u001b[39;00m)\n",
            "\u001b[0;31mIndexError\u001b[0m: too many indices for array: array is 1-dimensional, but 2 were indexed"
          ]
        }
      ],
      "source": [
        "for level in range(n_low_levels):\n",
        "    plt.scatter(h_vals, levels[:, level] / N - levels[:, 0] / N, marker='*', s = 10.,label='$E = E%s$' % (level))\n",
        "\n",
        "plt.legend(fontsize=7,ncol=3)\n",
        "plt.grid(True)\n",
        "plt.xlabel('h/J')\n",
        "plt.ylabel('$(E - E_0) / J$ per spin')\n",
        "plt.show()"
      ]
    },
    {
      "cell_type": "markdown",
      "metadata": {
        "id": "HwxPbLKl9Iki"
      },
      "source": [
        "## Part C\n",
        "\n",
        "The transverse field Ising Hamiltonian has many symmetries. Finding the symmetry essentially means finding another basis where the hamiltonian takes the _block-diagonal form_. Among the possible symmetries, there are:\n",
        "\n",
        "1) Flipping all spins with the operator $X = \\otimes_i \\sigma_i^x$,\n",
        "\n",
        "2) Total magnetisation conservation with the operator $M = \\sum\\limits_i \\sigma_i^z$ (only at $h = 0$)\n",
        "\n",
        "3) Translation symmetry $T: i \\to i + 1\\,\\text{mod N}$ with a rather non-local operator form.\n",
        "\n",
        "If the Hamiltonian has a symmetry $[H, A] = 0$ (block-diagonal form in some basis), $H$ and $A$ can be diagonalized simultaneously. This means that the Hamiltonian does not mix the eigenstates from sectors with different eigenvalues of $A$. This fact allows one to search for $H$ eigenstates in the sectors of $A$ eigenvalues one-by-one, which might significantly reduce the ED-complexity."
      ]
    },
    {
      "cell_type": "markdown",
      "metadata": {
        "id": "7JKcibHZ9Iki"
      },
      "source": [
        "At the end of this first exercise, please constuct the operators for the symmetries (1) and (2) and explicitly check that $[\\hat H, \\hat A] = 0$ for both of them.\n",
        "\n",
        "We start with the flipping symmetry:"
      ]
    },
    {
      "cell_type": "code",
      "execution_count": null,
      "metadata": {
        "id": "VH17FGIM9Iki"
      },
      "outputs": [],
      "source": [
        "A = np.eye(1)\n",
        "H = H_j + H_h * np.random.uniform(-2, 2)  # hamiltonian with arbitrary value of field h\n",
        "\n",
        "# construct the A--operator\n",
        "\n",
        "assert np.allclose(H.dot(A), A.dot(H))"
      ]
    },
    {
      "cell_type": "markdown",
      "metadata": {
        "id": "SLbJVOU_9Ikj"
      },
      "source": [
        "We proceed with the total magnetisation operator M, which is the symmetry only for $h = 0$:"
      ]
    },
    {
      "cell_type": "code",
      "execution_count": null,
      "metadata": {
        "id": "L3en9wvp9Ikj",
        "tags": []
      },
      "outputs": [],
      "source": [
        "M = np.zeros((2 ** N, 2 ** N))\n",
        "H = H_j + H_h * np.random.uniform(-1, 1)  # hamiltonian with arbitrary value of field h\n",
        "\n",
        "# construct the M--operator\n",
        "\n",
        "assert not np.allclose(H.dot(M), M.dot(H))\n",
        "assert np.allclose(H_j.dot(M), M.dot(H_j))"
      ]
    },
    {
      "cell_type": "code",
      "execution_count": null,
      "metadata": {
        "id": "cao-lhtO9Ikj"
      },
      "outputs": [],
      "source": []
    }
  ],
  "metadata": {
    "colab": {
      "provenance": []
    },
    "kernelspec": {
      "display_name": "venv_CQM",
      "language": "python",
      "name": "python3"
    },
    "language_info": {
      "codemirror_mode": {
        "name": "ipython",
        "version": 3
      },
      "file_extension": ".py",
      "mimetype": "text/x-python",
      "name": "python",
      "nbconvert_exporter": "python",
      "pygments_lexer": "ipython3",
      "version": "3.9.7"
    }
  },
  "nbformat": 4,
  "nbformat_minor": 0
}
