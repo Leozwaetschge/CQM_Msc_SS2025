{
  "cells": [
    {
      "cell_type": "code",
      "execution_count": 2,
      "metadata": {
        "id": "Ohts54SjJZnb",
        "tags": []
      },
      "outputs": [],
      "source": [
        "import numpy as np\n",
        "import matplotlib.pyplot as plt"
      ]
    },
    {
      "cell_type": "markdown",
      "metadata": {
        "id": "6FglglAHJZnd",
        "tags": []
      },
      "source": [
        "We again reuse the code from last week's exercise:"
      ]
    },
    {
      "cell_type": "code",
      "execution_count": 3,
      "metadata": {
        "id": "NvnjJQ14JZne",
        "tags": []
      },
      "outputs": [],
      "source": [
        "def shift_right(spins: int, shift: int, N: int) -> int:\n",
        "    for j in range(0,shift):\n",
        "        spins = (spins>>1) + 2**(N-1)*(spins%2)\n",
        "    return spins\n",
        "\n",
        "def shift_left(spins:int, shift:int, N:int) -> int:\n",
        "    for j in range(0, shift):\n",
        "        if spins >= 2**(N-1):\n",
        "            spins = (spins<<1) - (2**(N)) +1\n",
        "        else:\n",
        "            spins = spins<<1\n",
        "    return spins\n",
        "\n",
        "def count_upspins(i:int) -> int:\n",
        "    return i.bit_count()\n",
        "\n",
        "def spin_at_j(i: int, j: int) -> int:\n",
        "    return (i>>j)%2\n",
        "\n",
        "def flip_spin(i: int, j: int) -> int:\n",
        "    return (1<<j)^i\n",
        "\n",
        "def flip_all_spins(i: int, N: int) -> int:\n",
        "    return i^(2**N-1)"
      ]
    },
    {
      "cell_type": "markdown",
      "metadata": {
        "id": "odzqxLiwJZnf"
      },
      "source": [
        "Here we will work with the translational symmetry given by\n",
        "$$\n",
        "    T: |s_1,s_2,\\ldots,s_N\\rangle \\rightarrow |s_N,s_1,\\ldots,s_{N-1}\\rangle\n",
        "$$\n",
        "For any spin configuration, this operator shifts all spins one position forward (recall that we assume periodic boundary conditions). This operator is a bit complicated in the sense that its orbits have different lengths and some orbits are incompatible with some eigenvalues.\n",
        "\n",
        "The Hamiltonian commutes with the shift operator $T$. This can be utilized in order to decrease the Hilbert space size of the problem in the following way. For every state (bitstring) $|s\\rangle$, define its _orbit_ as $O(|s\\rangle) = \\{T^n |s\\rangle\\}_n,$ e.g. the set of all possible unique bitstrings that can be constructed out of $|s\\rangle$ by applying $T$ arbitrarily many times.\n",
        "\n",
        "This defines an *equivalence relation*: all the bitstrings split into non-intersecting orbits (equivalence classes) $O_1, O_2, \\ldots O_m$. Since $H$ and $T$ can be diagonalized simultaneously, let us fix some specific eigenvalue $z_k$ of $T$ and for each orbit $O_{\\alpha}$ construct one $T$ eigenstate as\n",
        "$$\n",
        "|\\chi_{k}^{\\alpha}\\rangle = \\frac{1}{\\sqrt{|O_{\\alpha}|}} \\sum\\limits_{i = 0}^{|O_{\\alpha}| - 1} z_k^{-i} T^i |\\phi^{\\alpha}\\rangle.\n",
        "$$\n",
        "\n",
        "Here $|\\phi^{\\alpha}\\rangle$ is the _orbit representative_ --- any priorly chosen state of the $O_{\\alpha}$ orbit. It can be shown that the states $|\\chi_{k}^{\\alpha}\\rangle$ united over all eigenvalues $z_k$ and orbits $\\alpha$ form a new basis in the Hilbert space.\n",
        "\n",
        "Finally, in this basis it can be shown that $\\langle \\chi^{k_1}_{\\alpha}|H|\\chi^{k_2}_{\\beta}\\rangle \\propto \\delta_{k_1 k_2}$: the Hamiltonian takes the _block-diagonal_ form, different eigenvalues do not mix (the Hamiltonian can only connect states with the same momentum eigenvalue) and the problem can be solved for every $z_k$ independently."
      ]
    },
    {
      "cell_type": "markdown",
      "metadata": {
        "id": "FXZHhj_1JZng"
      },
      "source": [
        "1. As a start, we will need the action of operator $T$ on index (it is convenient to define $T^n$ operator for arbitrary power $n$):"
      ]
    },
    {
      "cell_type": "code",
      "execution_count": 4,
      "metadata": {
        "id": "pqftoK4KJZnh",
        "tags": []
      },
      "outputs": [
        {
          "name": "stdout",
          "output_type": "stream",
          "text": [
            "All trials passed! You are perfect!\n"
          ]
        }
      ],
      "source": [
        "N = 8  # the number of spins in the system\n",
        "\n",
        "def act_T(index: int, shift: int, num_spins: int) -> int:\n",
        "    # Implement this\n",
        "    return shift_right(index, shift, num_spins)\n",
        "#  check that T^N = E\n",
        "for _ in range(100):\n",
        "    a = np.random.randint(0, 1024)\n",
        "    assert act_T(a, shift = 10, num_spins = 10) == a\n",
        "\n",
        "print('All trials passed! You are perfect!')"
      ]
    },
    {
      "cell_type": "markdown",
      "metadata": {
        "id": "u-X8pm4dJZni"
      },
      "source": [
        "2. Now we need to define the lookup table: it maps each bitstring to the bitstring of its representative in the orbit. We will also need the list of unique representatives for each orbit. How to do this was already covered in last week's exercise:"
      ]
    },
    {
      "cell_type": "code",
      "execution_count": null,
      "metadata": {
        "id": "ogWi0oUpJZni",
        "tags": []
      },
      "outputs": [
        {
          "name": "stdout",
          "output_type": "stream",
          "text": [
            "[  0   1   1   3   1   5   3   7   1   9   5  11   3  13   7  15   1  17\n",
            "   9  19   5  21  11  23   3  25  13  27   7  29  15  31   1   9  17  25\n",
            "   9  37  19  39   5  37  21  43  11  45  23  47   3  19  25  51  13  53\n",
            "  27  55   7  39  29  59  15  61  31  63   1   5   9  13  17  21  25  29\n",
            "   9  37  37  45  19  53  39  61   5  21  37  53  21  85  43  87  11  43\n",
            "  45  91  23  87  47  95   3  11  19  27  25  43  51  59  13  45  53  91\n",
            "  27  91  55 111   7  23  39  55  29  87  59 119  15  47  61 111  31  95\n",
            "  63 127   1   3   5   7   9  11  13  15  17  19  21  23  25  27  29  31\n",
            "   9  25  37  39  37  43  45  47  19  51  53  55  39  59  61  63   5  13\n",
            "  21  29  37  45  53  61  21  53  85  87  43  91  87  95  11  27  43  59\n",
            "  45  91  91 111  23  55  87 119  47 111  95 127   3   7  11  15  19  23\n",
            "  27  31  25  39  43  47  51  55  59  63  13  29  45  61  53  87  91  95\n",
            "  27  59  91 111  55 119 111 127   7  15  23  31  39  47  55  63  29  61\n",
            "  87  95  59 111 119 127  15  31  47  63  61  95 111 127  31  63  95 127\n",
            "  63 127 127 255]\n",
            "[  0   1   3   5   7   9  11  13  15  17  19  21  23  25  27  29  31  37\n",
            "  39  43  45  47  51  53  55  59  61  63  85  87  91  95 111 119 127 255]\n"
          ]
        }
      ],
      "source": [
        "def orbit_representatives(num_spins: int) -> np.ndarray:\n",
        "    representatives = []\n",
        "    # |i> corresponds to a configuration\n",
        "    for i in range(2 ** num_spins):\n",
        "        i_shifts = [act_T(i, shift, num_spins) for shift in range(num_spins)]\n",
        "        hits = [i_shift in representatives for i_shift in i_shifts]\n",
        "\n",
        "        # Check if |j> := T^n|i> is already in the table for some n\n",
        "        if np.any(hits):\n",
        "            # If so use the state |j> as the representative\n",
        "            representatives.append(i_shifts[np.where(hits)[0][0]]) #erst gefundenes Element da tiefstes\n",
        "        else:\n",
        "            # Otherwise, use |i> as the representative\n",
        "            representatives.append(i) # da das beudtet das es noch nicht in der Liste ist\n",
        "\n",
        "    return np.array(representatives)\n",
        "\n",
        "representatives = orbit_representatives(N)  # in practice, one would find the representative \"on the fly\"\n",
        "all_repr = np.unique(representatives)  # list of representatives\n",
        "\n",
        "#  test that for every element table[i] in the table all its shifts have the same representative,\n",
        "#  i.e. table[i] == table[shift(i)] for all shifts\n",
        "for i in range(len(representatives)):\n",
        "    representative = representatives[i]\n",
        "    assert np.all(np.array([representatives[act_T(i, shift, N)] for shift in range(N)]) == representative)"
      ]
    },
    {
      "cell_type": "markdown",
      "metadata": {
        "id": "GG22H5q9JZni"
      },
      "source": [
        "Since $T^N = 1$, the possible eigenvalues are $$z_k = \\exp\\left(2 \\pi i \\frac{k}{N}\\right).$$ Note that each orbit can have only specific eigenvalues, namely, we require that $$z_k^{|O_{\\alpha}|} = 1,$$ which is quite obvious: if one shifted the state so many times that it comes into itself (length of the orbit $|O_{\\alpha}|$), the amplitude should be the same.\n",
        "\n",
        "Now we are ready to rewrite the Hamiltonian in the new basis of $|\\chi_{k}^{\\alpha}\\rangle.$ Since the Hamiltonian has the block diagonal form in the $\\chi$--basis, we will write a routine that will construct the block of a given eigenvalue $z_k$. The algorithm for this might be as follows: <br>\n",
        "1) Loop over all orbits and find those that satisfy the $z_k^{|O|} = 1$ property. Write down the list of representatives. The length of this list would be the block dimension.<br>\n",
        "2) Express the Hamiltonian in the $\\chi$-basis. Luckily, we know the exact formula for every $|\\chi_{k}^{\\alpha}\\rangle$ as the decomposition into bitstring basis states (see above). Let us consider explicitly the action of the Hamiltonian components <br>\n",
        "2.a) The action of $H_J$ on the bitstring is trivial (diagonal). It leaves all bitstrings in their orbits, which means that $H_J$ does not mix different orbits and is diagonal in the $\\chi$--basis:\n",
        "\\begin{gather} \\langle \\chi_{k}^{\\alpha}|H_J| \\chi_{k}^{\\beta}\\rangle = \\delta_{\\alpha \\beta}\\frac{1}{|O_{\\alpha}|}\\sum\\limits_{j = 0}^{|O_{\\alpha}| - 1} \\langle T^{j} \\phi^{\\alpha} |H_J| T^{j} \\phi^{\\alpha}\\rangle = \\delta_{\\alpha \\beta} \\langle \\phi^{\\alpha} |H_J| \\phi^{\\alpha}\\rangle,\\end{gather}\n",
        "where we used $|z_k| = 1$ and the translational invariance of $H_J$.<br>\n",
        "2.b) The $H_h = h \\sum\\limits_i \\sigma^x_i$ field term flips spins and kicks a bitstring to another orbit. To write down its matrix elements, let us fix some specific spin $\\sigma^x_{s}$. Then spins of the orbit $O_{\\alpha}$ are mapped to some other orbits. For instance, $\\sigma_s^x T^{j} |\\phi^{\\alpha}\\rangle = T^{\\zeta(j)} |\\phi^{\\gamma(j)}\\rangle$. So, for every $j$ one has to define the resulting orbit index $\\gamma(j)$ and the distance to the representative $\\zeta(j)$. Then the matrix element reads <br>\n",
        "    $$\n",
        "        \\langle \\chi_{k}^{\\beta}|\\sigma^x_s|\\chi_{k}^{\\alpha}\\rangle = \\frac{1}{\\sqrt{|O_{\\alpha}| |O_{\\beta}|}}\\sum\\limits_{j = 0}^{|O_{\\alpha}| - 1} z_k^{\\zeta(j) - j} \\delta_{\\beta \\gamma(j)}.\n",
        "    $$\n",
        "    \n",
        "Note that for any selected $s$ there will be projections onto orbitals that are not compatible with $z_k$. This is no surprise though: the Hamiltonian becomes translationally symmetric only after taking the sum over $s$. So, below we will neglect such contributions, but keeping in mind that they vanish only if the sum over $s$ is performed.\n",
        "\n",
        "3. You already saw last week how to compute orbits that are compatible with a specific eigenvalue $z_k$:"
      ]
    },
    {
      "cell_type": "code",
      "execution_count": 7,
      "metadata": {
        "id": "eACXtqNXJZnj",
        "tags": []
      },
      "outputs": [],
      "source": [
        "def compatible_representatives(z_k: float, all_repr: list, representatives: np.ndarray) -> list: #oben haben wir dann mier dden ersten wert genommen aber das ist egal, es gfaht darum ds wir aufliestne wie oft wir systemee haben welche dirch T erreicht werden können. Wir benutzen dafuer die liste bevor unique eingesetz wurde\n",
        "    list_compatible_orbits = []\n",
        "\n",
        "    for state in all_repr:\n",
        "        orbit_length = np.sum(representatives == state)\n",
        "        if np.isclose(z_k ** orbit_length, 1):\n",
        "            list_compatible_orbits.append(state)\n",
        "    return list_compatible_orbits\n",
        "\n",
        "assert len(compatible_representatives(1.0, all_repr, representatives)) == len(all_repr)\n",
        "#  sanity check that for $eig = 1$ any orbit goes"
      ]
    },
    {
      "cell_type": "markdown",
      "metadata": {
        "id": "K-Vl_qcCJZnk"
      },
      "source": [
        "4. Check the resulting block dimensions and sum them to compare with the size of the full Hilbert space. What is the size of the largest block?"
      ]
    },
    {
      "cell_type": "code",
      "execution_count": 10,
      "metadata": {
        "id": "-CvNgYZWJZnk",
        "tags": []
      },
      "outputs": [
        {
          "name": "stdout",
          "output_type": "stream",
          "text": [
            "Dimension is consistent!\n",
            "Maximum block size:  36 ; this corresponds to the eigenvalue (1+0j)\n"
          ]
        },
        {
          "name": "stderr",
          "output_type": "stream",
          "text": [
            "/var/folders/x0/zx3zh2g96tvbvblvgctx16n00000gn/T/ipykernel_54871/3922865354.py:13: DeprecationWarning: Calling nonzero on 0d arrays is deprecated, as it behaves surprisingly. Use `atleast_1d(arr).nonzero()` if the old behavior was intended.\n",
            "  print(\"Maximum block size: \", int(np.max(block_dim)), \"; this corresponds to the eigenvalue\", eigenvalues[np.where(np.max(block_dim))[0][0]])\n"
          ]
        }
      ],
      "source": [
        "eigenvalues = [np.exp(1j * 2 * np.pi / N * k) for k in range(N)]\n",
        "\n",
        "block_dim = np.zeros(N)\n",
        "for i in range(N):\n",
        "    orbits = compatible_representatives(eigenvalues[i], all_repr, representatives)\n",
        "    block_dim[i] = len(orbits)\n",
        "\n",
        "\n",
        "# Sanity check: \\sum_{\\lambda} (block dimension) = dimension of full Hilbert space\n",
        "assert np.sum(block_dim) == 2 ** N\n",
        "print(\"Dimension is consistent!\")\n",
        "\n",
        "print(\"Maximum block size: \", int(np.max(block_dim)), \"; this corresponds to the eigenvalue\", eigenvalues[np.where(np.max(block_dim))[0][0]])"
      ]
    },
    {
      "cell_type": "markdown",
      "metadata": {
        "id": "EOgdDtejJZnk"
      },
      "source": [
        "Write the routine to calculate the diagonal part of $H^{\\chi}$:"
      ]
    },
    {
      "cell_type": "code",
      "execution_count": 19,
      "metadata": {
        "id": "ow87rfrSJZnl",
        "tags": []
      },
      "outputs": [],
      "source": [
        "def H_J_chi(allowed_reprs: list, num_spins: int) -> np.ndarray:\n",
        "    diag = []\n",
        "    # get the diagonal matrix elements:\n",
        "    for value in allowed_reprs:\n",
        "        num_opposite = count_upspins(value ^ shift_right(value, 1, num_spins))\n",
        "        diag.append((-1*num_opposite + (num_spins - num_opposite)))\n",
        "    return np.diag(diag)"
      ]
    },
    {
      "cell_type": "markdown",
      "metadata": {
        "id": "S_npeJHPJZnl"
      },
      "source": [
        "And now the routine for the non-diagonal part (set $h^x = 1$):"
      ]
    },
    {
      "cell_type": "code",
      "execution_count": null,
      "metadata": {
        "id": "unaGzbqWJZnl",
        "tags": []
      },
      "outputs": [],
      "source": [
        "def how_shifted(representative: int, state: int, num_spins: int) -> int:\n",
        "    # find n such that |state> = T^n|representative>\n",
        "    # if n is found: this means that the state belongs to that orbit, so return n\n",
        "    # otherwise return False\n",
        "    for i in range(num_spins):\n",
        "        if state == act_T(representative, i, num_spins):\n",
        "            return i\n",
        "    return False\n",
        "\n",
        "def H_h_chi(z_k: float, allowed_reprs: np.ndarray, representatives: np.ndarray, num_spins: int) -> np.ndarray:\n",
        "    H_h = np.zeros((len(allowed_reprs), len(allowed_reprs)), dtype = np.complex128)\n",
        "\n",
        "    for s in range(num_spins):  # which spin id we are flipping\n",
        "        for index_alpha, phi_alpha in enumerate(allowed_reprs):\n",
        "            N_alpha = np.sum(representatives == phi_alpha) # Compute size of the orbit alpha\n",
        "\n",
        "            # Here you should compute the contribution of sigma_s^x|phi_alpha> to H_h\n",
        "            for j in range(N_alpha):  # iterate over all states in this orbit\n",
        "                # Compute sigma_s^x T^j|phi_alpha>.\n",
        "                phi_alpha_j = act_T(phi_alpha, j, num_spins)  # we move along the orbit\n",
        "                phi_alpha_j_flipped = flip_spin(phi_alpha_j, s) # flip the s-th spin so we compute sigma_s^x T^j|phi_alpha>\n",
        "                \n",
        "                # Find the representative |phi_gamma> of sigma_s^x T^j|phi_alpha>.\n",
        "                phi_gamma = representatives[phi_alpha_j_flipped] # find representative of image orbit, in this list all reperestative of tghe orgiinrial state are shwon and with that we justr see which the representative is\n",
        "                if phi_gamma not in allowed_reprs:\n",
        "                    continue\n",
        "                # Find zeta such that T^zeta|phi_gamma> = sigma_s^x T^j|phi_alpha>.\n",
        "                zeta = how_shifted(phi_gamma, phi_alpha_j_flipped, num_spins) # zeta(j), tells us how often we shifted the og function to get to the representative state of that orbital\n",
        "                \n",
        "                # Find the size of the gamma orbit.\n",
        "                index_gamma = np.where(allowed_reprs == phi_gamma)[0][0] # index of the representative in the list of allowed representatives\n",
        "                N_gamma = np.sum(representatives == phi_gamma)  # number of states in the orbit\n",
        "                # Compute the term in Eqn (5) and add it to H_h.\n",
        "                H_h[index_alpha, index_gamma] += 1/np.sqrt(N_alpha*N_gamma)*z_k**(zeta-j)\n",
        "                # Hint: You need to skip invalid representatives |phi_gamma>.\n",
        "\n",
        "    return H_h"
      ]
    },
    {
      "cell_type": "markdown",
      "metadata": {
        "id": "U1rLSLn4JZnm"
      },
      "source": [
        "5. Now let us plot the ground state in each $z_k$--segment. Note that the energy levels for $z_k$ and $z_k^*$ are degenerate, so we will only see $N / 2 + 1$ energy levels."
      ]
    },
    {
      "cell_type": "code",
      "execution_count": 22,
      "metadata": {
        "id": "Z_nmMc_7JZnn",
        "tags": []
      },
      "outputs": [
        {
          "name": "stdout",
          "output_type": "stream",
          "text": [
            "(8, 40, 2)\n",
            "(40,)\n",
            "(40,)\n",
            "(40,)\n",
            "(40,)\n",
            "(40,)\n",
            "(40,)\n",
            "(40,)\n",
            "(40,)\n"
          ]
        },
        {
          "data": {
            "image/png": "[encoded data removed]",
            "text/plain": [
              "<Figure size 640x480 with 1 Axes>"
            ]
          },
          "metadata": {},
          "output_type": "display_data"
        }
      ],
      "source": [
        "h_vals = np.linspace(-2, 2, 40)\n",
        "\n",
        "levels_all = []\n",
        "for k in np.arange(N):\n",
        "    levels = []\n",
        "    z_k = np.exp(2.0j * np.pi / N * k)\n",
        "    allowed_reprs = compatible_representatives(z_k, all_repr, representatives)\n",
        "\n",
        "    H_J_chibasis = H_J_chi(allowed_reprs, N)\n",
        "    H_h_chibasis = H_h_chi(z_k, np.array(allowed_reprs), representatives, N)\n",
        "    for h in h_vals:\n",
        "        H_chibasis = H_J_chibasis + H_h_chibasis * h  # construct the total Hamiltonian\n",
        "        assert np.allclose(H_chibasis, H_chibasis.conj().T)\n",
        "\n",
        "        energies_h, _ = np.linalg.eigh(H_chibasis)\n",
        "        levels.append(energies_h[:2])\n",
        "    levels_all.append(np.array(levels))\n",
        "\n",
        "print(np.array(levels_all).shape)\n",
        "k = 0\n",
        "for levels in levels_all: # each element of levels_all corresponds to a value of k\n",
        "    plt.scatter(h_vals, levels[:,0] / N - levels_all[0][:,0] / N, marker='*', s = 10.,label = '$E_0^{(k=%s)}-E_0^{(k=0)}$'%(k))\n",
        "    k += 1\n",
        "\n",
        "k = 0\n",
        "for levels in levels_all: # each element of levels_all corresponds to a value of k\n",
        "    print(levels[:,0].shape)\n",
        "    plt.scatter(h_vals, levels[:,1] / N - levels_all[0][:,0] / N, marker='*', s = 10.,label = '$E_1^{(k=%s)}-E_0^{(k=0)}$'%(k))\n",
        "    k += 1\n",
        "\n",
        "plt.legend(ncols=4,fontsize = 7)\n",
        "plt.grid(True)\n",
        "plt.xlabel('h / J')\n",
        "plt.ylabel('$(E - E_0)$ / J per spin')\n",
        "plt.show()"
      ]
    },
    {
      "cell_type": "markdown",
      "metadata": {
        "id": "kbKHwENwJZnn"
      },
      "source": [
        "What is it all necessary for? The splitting of the Hamiltonian into the subsectors allows us to save considerable computational effort for large systems. If the Hilbert space is divided roughly into $m$ sectors, construction of one sector Hamiltonian generates an overhead of order $\\mathcal{O}(N^2 / m)$ (we iterate over $N / m$ orbitals and consider in the worst case $\\mathcal{O}(N)$ terms in each). Mostly the existing algorithms for finding the ground state of $H$ do that through consecutive application of $H$ to the trial vector. The cost of this operation is reduced as $\\mathcal{O}(N^2 / m^2)$ and most importantly this operation is repeated thousands of times.\n",
        "\n",
        "Another neat advantage of accounting for symmetries is that once you diagonalize the Hamiltonian in some specific sector, you immediately know its ground state properties (for instance, its momentum as in the case of $T$). Diagonalizing the Hamiltonian in the computational basis as a whole does not reflect the fact that the ground state properties can be quite subtle. For instance, in the region $|h| < 1$ the states $k = 0$ and $k = \\pi$ are degenerate and one's ED solver can mix these solutions when diagonalizing the full Hamiltonian."
      ]
    },
    {
      "cell_type": "code",
      "execution_count": null,
      "metadata": {
        "id": "LKDuhnJhJZnp"
      },
      "outputs": [],
      "source": []
    }
  ],
  "metadata": {
    "colab": {
      "provenance": []
    },
    "kernelspec": {
      "display_name": "venv_CQM",
      "language": "python",
      "name": "python3"
    },
    "language_info": {
      "codemirror_mode": {
        "name": "ipython",
        "version": 3
      },
      "file_extension": ".py",
      "mimetype": "text/x-python",
      "name": "python",
      "nbconvert_exporter": "python",
      "pygments_lexer": "ipython3",
      "version": "3.9.7"
    }
  },
  "nbformat": 4,
  "nbformat_minor": 0
}
