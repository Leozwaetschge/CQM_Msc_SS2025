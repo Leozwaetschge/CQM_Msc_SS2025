{
 "cells": [
  {
   "cell_type": "markdown",
   "metadata": {
    "id": "7NVh9Kh_2g_G"
   },
   "source": [
    "***Installing Packages Needed for This Notebook and/or Beyond***"
   ]
  },
  {
   "cell_type": "code",
   "execution_count": 42,
   "metadata": {
    "id": "NbEtiulx2g_R"
   },
   "outputs": [],
   "source": [
    "#%pip install tensorflow\n",
    "#%pip install --upgrade pip\n",
    "#%pip install numpy"
   ]
  },
  {
   "cell_type": "code",
   "execution_count": 43,
   "metadata": {
    "executionInfo": {
     "elapsed": 283,
     "status": "ok",
     "timestamp": 1739802052729,
     "user": {
      "displayName": "Andrew Jreissaty",
      "userId": "11469340572625382644"
     },
     "user_tz": -60
    },
    "id": "fAQTwjfV2g_Y"
   },
   "outputs": [],
   "source": [
    "import numpy as np"
   ]
  },
  {
   "cell_type": "markdown",
   "metadata": {
    "id": "tyYvv78a2g_e"
   },
   "source": [
    "***Fast standard tensors definition***"
   ]
  },
  {
   "cell_type": "code",
   "execution_count": 44,
   "metadata": {
    "id": "j-MoewYW2g_e"
   },
   "outputs": [
    {
     "data": {
      "text/plain": [
       "array([[1., 0., 0., 0.],\n",
       "       [0., 1., 0., 0.],\n",
       "       [0., 0., 1., 0.],\n",
       "       [0., 0., 0., 1.]])"
      ]
     },
     "execution_count": 44,
     "metadata": {},
     "output_type": "execute_result"
    }
   ],
   "source": [
    "identity_4x4 = np.eye(4)  # takes only one dimension (square matrix)\n",
    "identity_4x4"
   ]
  },
  {
   "cell_type": "code",
   "execution_count": 45,
   "metadata": {
    "id": "cUrxPtwF2g_f"
   },
   "outputs": [
    {
     "data": {
      "text/plain": [
       "array([0., 0., 0., 0.])"
      ]
     },
     "execution_count": 45,
     "metadata": {},
     "output_type": "execute_result"
    }
   ],
   "source": [
    "zero_vector_4 = np.zeros(4)\n",
    "zero_vector_4"
   ]
  },
  {
   "cell_type": "code",
   "execution_count": 46,
   "metadata": {
    "id": "-spJlnOM2g_f"
   },
   "outputs": [
    {
     "data": {
      "text/plain": [
       "array([[0., 0., 0., 0.],\n",
       "       [0., 0., 0., 0.],\n",
       "       [0., 0., 0., 0.],\n",
       "       [0., 0., 0., 0.]])"
      ]
     },
     "execution_count": 46,
     "metadata": {},
     "output_type": "execute_result"
    }
   ],
   "source": [
    "zero_matrix_4x4 = np.zeros((4, 4))\n",
    "zero_matrix_4x4"
   ]
  },
  {
   "cell_type": "code",
   "execution_count": 47,
   "metadata": {
    "id": "IU7vBoLW2g_l"
   },
   "outputs": [
    {
     "data": {
      "text/plain": [
       "array([[1., 1., 1., 1.],\n",
       "       [1., 1., 1., 1.],\n",
       "       [1., 1., 1., 1.],\n",
       "       [1., 1., 1., 1.]])"
      ]
     },
     "execution_count": 47,
     "metadata": {},
     "output_type": "execute_result"
    }
   ],
   "source": [
    "ones_matrix_4x4 = np.ones((4, 4))\n",
    "ones_matrix_4x4"
   ]
  },
  {
   "cell_type": "code",
   "execution_count": 48,
   "metadata": {
    "id": "6Z_U8znT2g_l"
   },
   "outputs": [
    {
     "data": {
      "text/plain": [
       "array([0, 1, 2, 3, 4, 5, 6, 7, 8, 9])"
      ]
     },
     "execution_count": 48,
     "metadata": {},
     "output_type": "execute_result"
    }
   ],
   "source": [
    "progression_vector = np.arange(10)\n",
    "progression_vector"
   ]
  },
  {
   "cell_type": "markdown",
   "metadata": {
    "id": "PcbXZomF2g_m"
   },
   "source": [
    "***Linear algebra operations***"
   ]
  },
  {
   "cell_type": "code",
   "execution_count": 49,
   "metadata": {
    "id": "HuAq38pI2g_r"
   },
   "outputs": [],
   "source": [
    "a = np.random.uniform(-1, 1, size = 5) + 1.0j * np.random.uniform(-1, 1, size = 5)\n",
    "    # define a random complex vector from U[-1, 1] with size 5\n",
    "#print(\"a =\",a)\n",
    "\n",
    "b = np.random.normal(loc = 0, scale = 1, size = 5) + 1.0j * np.random.normal(loc = 0, scale = 1, size = 5)\n",
    "    # define a random complex vector from N(0, 1) (normal distribution of mean 0 and std 1) with size 5\n",
    "#print(\"b =\",b)\n",
    "\n",
    "M = np.random.uniform(-1, 1, size = (5, 5)) + 1.0j * np.random.uniform(-1, 1, size = (5, 5))\n",
    "    # random complex matrix from U[-1, 1] with dimensions 5x5\n",
    "#print(\"M =\",M)\n",
    "\n",
    "N = np.random.normal(-1, 1, size = (5, 5)) + 1.0j * np.random.normal(-1, 1, size = (5, 5))\n",
    "    # random complex matrix from N[-1, 1] with dimensions 5x5\n",
    "#print(\"N =\",N)\n",
    "\n",
    "M = M + M.conj().T  # make it Hermitian (all the good matrices are Hermitian, aren't they?)\n",
    "N = N + N.conj().T"
   ]
  },
  {
   "cell_type": "code",
   "execution_count": 50,
   "metadata": {
    "id": "5-WTt2Z32g_y"
   },
   "outputs": [
    {
     "name": "stdout",
     "output_type": "stream",
     "text": [
      "[-0.76380846-0.52315038j -0.34367475+2.03172002j  0.12658317-0.2138789j\n",
      "  2.95477953+0.39747704j  1.16703984+1.6876804j ]\n",
      "[ 2.51120531-1.11791859j  0.15317925-2.16953882j -0.92225418-0.67307678j\n",
      " -1.18637124-0.91557375j  0.32382302-1.36795664j]\n",
      "[-1.18667328+1.60345489j  0.16841523-0.18296126j -0.10681033-0.32391067j\n",
      "  2.00088316+0.04412333j  0.07004022+1.20628306j]\n",
      "[-0.60461446+0.39128492j -0.02706331+0.04854307j -0.94728533-0.43091931j\n",
      "  0.35197777-0.23671232j  0.2223423 -0.42654938j]\n"
     ]
    }
   ],
   "source": [
    "print(a + b)  # point-wise vector addition\n",
    "print(a - b)  # point-wise vector subtraction\n",
    "print(a * b)  # point-wise vector multiplication\n",
    "print(a / b)  # point-wise vector division (be careful here!)"
   ]
  },
  {
   "cell_type": "code",
   "execution_count": 51,
   "metadata": {
    "id": "QC8plYNw2g_y"
   },
   "outputs": [
    {
     "name": "stdout",
     "output_type": "stream",
     "text": [
      "(3.2355389604954294+0j)\n",
      "(0.11301309221468203+1.0285858825178593j)\n"
     ]
    }
   ],
   "source": [
    "# scalar products\n",
    "print(np.dot(a.conj().T, a))  # |a|^2 = (a^*, a)\n",
    "print(np.dot(a.conj().T, b))  # (a^*, b)"
   ]
  },
  {
   "cell_type": "code",
   "execution_count": 52,
   "metadata": {
    "id": "iHJf7SbZ2hAP"
   },
   "outputs": [
    {
     "name": "stdout",
     "output_type": "stream",
     "text": [
      "(3.2355389604954294+0j)\n",
      "(0.11301309221468203+1.0285858825178593j)\n"
     ]
    }
   ],
   "source": [
    "# scalar products\n",
    "print(np.dot(a.conj().T, a))  # |a|^2 = (a^*, a)\n",
    "print(np.dot(a.conj().T, b))  # (a^*, b)"
   ]
  },
  {
   "cell_type": "code",
   "execution_count": 53,
   "metadata": {
    "id": "fR1IqAZV2hAq"
   },
   "outputs": [
    {
     "data": {
      "text/plain": [
       "array([[ 0.08017388-0.j        ,  0.2431183 -0.00762324j,\n",
       "        -0.23746552-0.06946354j,  0.02932622+0.1783569j ,\n",
       "        -1.23082817+0.19492853j],\n",
       "       [ 0.2431183 +0.00762324j, -1.54662651-0.j        ,\n",
       "         0.0627205 +0.28482604j,  0.91425158-0.34565833j,\n",
       "        -0.07981144-0.20180558j],\n",
       "       [-0.23746552+0.06946354j,  0.0627205 -0.28482604j,\n",
       "        -1.06760147-0.j        ,  0.26662248+0.48152227j,\n",
       "         0.03486952-0.11304214j],\n",
       "       [ 0.02932622-0.1783569j ,  0.91425158+0.34565833j,\n",
       "         0.26662248-0.48152227j,  0.19073386-0.j        ,\n",
       "         0.15781481-0.02267114j],\n",
       "       [-1.23082817-0.19492853j, -0.07981144+0.20180558j,\n",
       "         0.03486952+0.11304214j,  0.15781481+0.02267114j,\n",
       "        -0.47915325-0.j        ]])"
      ]
     },
     "execution_count": 53,
     "metadata": {},
     "output_type": "execute_result"
    }
   ],
   "source": [
    "# matrix operations\n",
    "M + N  # point-wise matrix addition\n",
    "M - N  # point-wise matrix subtraction\n",
    "M * N  # point-wise matrix multiplication\n",
    "M / N  # point-wise matrix division"
   ]
  },
  {
   "cell_type": "code",
   "execution_count": 54,
   "metadata": {
    "id": "kgpayIo52hAq"
   },
   "outputs": [
    {
     "data": {
      "text/plain": [
       "array([-0.93553478+1.54221446j,  0.62090155+0.88174253j,\n",
       "       -1.17742621-0.52473501j, -1.44451283+1.15261101j,\n",
       "        0.77256906-1.00160786j])"
      ]
     },
     "execution_count": 54,
     "metadata": {},
     "output_type": "execute_result"
    }
   ],
   "source": [
    "# matrix-vector operations\n",
    "a.dot(M)  # a.M standard vector-matrix multiplication\n",
    "np.dot(a, M)  # the same thing"
   ]
  },
  {
   "cell_type": "code",
   "execution_count": 55,
   "metadata": {
    "id": "SxEXrZCB2hAr"
   },
   "outputs": [
    {
     "data": {
      "text/plain": [
       "array([[-0.48040008+3.19775513j, -0.3329767 +3.35611861j,\n",
       "         3.01198043+5.80453639j,  2.49396331+3.91044919j,\n",
       "        -0.43587737+3.70300841j],\n",
       "       [-2.69352332+7.34874955j,  2.43513804-2.14343592j,\n",
       "        -4.60335403+1.16602587j,  2.61667749+5.11587011j,\n",
       "        -5.52959615-1.3380329j ],\n",
       "       [-1.16100285+3.70425493j, -4.4902811 -2.75950041j,\n",
       "        -1.11399317+0.1277699j ,  1.21350733+6.53047434j,\n",
       "        -2.5659208 -4.56974086j],\n",
       "       [ 7.97850827-4.17773555j,  4.64511769-3.75869815j,\n",
       "         5.6315059 -4.5154873j ,  7.48958872-6.03629759j,\n",
       "         5.96026117-3.85907426j],\n",
       "       [ 0.36720258-2.54235485j, -7.72800963-0.417j     ,\n",
       "        -6.52327242+2.84449507j, -3.59421348-3.2260122j ,\n",
       "        -9.59255022+4.85420849j]])"
      ]
     },
     "execution_count": 55,
     "metadata": {},
     "output_type": "execute_result"
    }
   ],
   "source": [
    "# matrix-matrix operations\n",
    "np.dot(M, N)  # M.N matrix multiplication, although np.matmul is more often used for matrix multiplication than np.dot, as is np.einsum (see below)\n",
    "M.dot(N)  # the same thing"
   ]
  },
  {
   "cell_type": "code",
   "execution_count": 56,
   "metadata": {
    "id": "Xi3Ay1VI2hAw"
   },
   "outputs": [
    {
     "data": {
      "text/plain": [
       "(-1.2622167256784937-8.881784197001252e-16j)"
      ]
     },
     "execution_count": 56,
     "metadata": {},
     "output_type": "execute_result"
    }
   ],
   "source": [
    "np.trace(M)  # trace M\n",
    "np.trace(M.dot(N))  # trace MN"
   ]
  },
  {
   "cell_type": "markdown",
   "metadata": {
    "id": "c-CnbYSl2hAx"
   },
   "source": [
    "Einstein summation notation and ***np.einsum*** (a **very** useful operation)\n",
    "\n",
    "Supposing one has two tensors with arbitrarily many indexes (vector, matrix, 3--tensor, ...) $M_{i_1, i_2, \\ldots, i_n}$ and $N_{j_1, j_2, \\ldots, j_m}$ and writes an expression in the form $\\sum\\limits_{k_1, k_2, \\ldots k_l} M_{i_1, i_2, \\ldots, i_n} N_{j_1, j_2, \\ldots, j_m}.$\n",
    "\n",
    "For instance: $$|a|^2 = \\sum_i a^{\\dagger}_i a_i,\\;\\text{vector norm},$$\n",
    "$$b_j = (M a)_j = \\sum_k M_{jk} a_k,\\;\\text{matrix-vector multiplication}$$\n",
    "$$(MN)_{ij} = \\sum_k M_{ik} B_{kj},\\;\\text{matrix-matrix multiplication}$$\n",
    "$$(a \\otimes b)_{ij} =  a_i b_j,\\;\\text{outer product}.$$\n",
    "\n",
    "\n",
    "**Einstein summation notation**: any repeated index implies summation over this index: $$|a|^2 = a^{\\dagger}_i a_i,$$, $$b_j = (M a)_j = A_{jk} a_k,$$, $$(MN)_{ij} = M_{ik} B_{kj},$$, $$(a \\otimes b)_{ij} =  a_i b_j.$$"
   ]
  },
  {
   "cell_type": "code",
   "execution_count": 57,
   "metadata": {
    "id": "TV6Am_4Z2hAx"
   },
   "outputs": [
    {
     "data": {
      "text/plain": [
       "array([[ 0.25617756-0.34615186j, -0.96221706-1.05553866j,\n",
       "         0.47695873-0.04047082j, -1.97688624-0.76671587j,\n",
       "         1.30983273-1.78086938j],\n",
       "       [-0.09399541-0.05756785j,  0.07436416-0.080787j  ,\n",
       "        -0.04322933+0.03023186j, -0.31916014+0.21268652j,\n",
       "         0.16482796+0.0241664j ],\n",
       "       [ 0.63622249+0.27142532j,  0.50362371+0.84974833j,\n",
       "        -0.15330854-0.46492012j,  0.25348979+1.81704933j,\n",
       "         0.07116008+0.40904488j],\n",
       "       [ 0.35613534-1.19698825j, -2.85857151+0.629962j  ,\n",
       "        -0.73847642+0.1175572j , -1.43808251-0.03171249j,\n",
       "         0.1738668 -0.24189589j],\n",
       "       [-0.0812254 -1.47431734j,  1.23633769+0.74185075j,\n",
       "        -0.03893014-0.18791477j, -0.26705199+0.20690114j,\n",
       "         0.13630908+2.34761301j]])"
      ]
     },
     "execution_count": 57,
     "metadata": {},
     "output_type": "execute_result"
    }
   ],
   "source": [
    "#  now several examples of tensor contraction using np.einsum:\n",
    "\n",
    "np.einsum('i,i->', a.conj(), a)  # |a|^2\n",
    "np.einsum('i,i->', b.conj(), a)  # b^dag a\n",
    "np.einsum('ik,kj->ij', M, N)  # M.N matrix-matrix\n",
    "np.einsum('ik,k->i', M, a)  # M.a matrix-vector\n",
    "np.einsum('i,j->ij', a, b)  # outer product\n",
    "np.einsum('ii->', M)  # trace M\n",
    "np.einsum('ij,ji->', M, N)  # trace MN\n",
    "np.einsum('i,ij,j->ij', a, M, b)  # M_ij -> M_ij a_i b_j)\n",
    "\n",
    "# np.einsum is sometimes the fastest way to perform an operation. For instance,\n",
    "# np.einsum('ij,ji->', M, M) (trace MN) runs in O(N^2) operations, while np.trace(M.dot(N)) in O(N^3) operations\n",
    "\n",
    "# np.einsum is a Swiss army knife: inside it chooses the fastest numpy implementation for contraction itself"
   ]
  },
  {
   "cell_type": "code",
   "execution_count": 58,
   "metadata": {},
   "outputs": [
    {
     "data": {
      "text/plain": [
       "(-1.262216725678492+0j)"
      ]
     },
     "execution_count": 58,
     "metadata": {},
     "output_type": "execute_result"
    }
   ],
   "source": [
    "np.einsum('ik,ki->',M,N)"
   ]
  },
  {
   "cell_type": "markdown",
   "metadata": {
    "id": "_i1DsyK02hBR"
   },
   "source": [
    "**Fast slicing**"
   ]
  },
  {
   "cell_type": "code",
   "execution_count": 59,
   "metadata": {
    "id": "BqUO3HFV2hBS"
   },
   "outputs": [
    {
     "name": "stdout",
     "output_type": "stream",
     "text": [
      "[0 1 2 3 4 5 6 7 8 9] [0 2 4 6 8] [1 3 5 7 9]\n"
     ]
    }
   ],
   "source": [
    "#  split vector into odd and even index parts:\n",
    "a = np.arange(10)\n",
    "even_indexes = np.arange(0, a.shape[0], 2)\n",
    "odd_indexes = np.arange(1, a.shape[0], 2)\n",
    "\n",
    "print(a, a[even_indexes], a[odd_indexes])"
   ]
  },
  {
   "cell_type": "code",
   "execution_count": 60,
   "metadata": {
    "id": "pQzXHWdA2hBS"
   },
   "outputs": [
    {
     "data": {
      "text/plain": [
       "array([[-0.21587877+0.j        , -0.56037457+0.0578489j ,\n",
       "         0.67474386+0.17711737j, -0.5574161 -0.59376468j,\n",
       "         0.10070279-1.15935326j],\n",
       "       [ 0.67474386-0.17711737j, -0.0614416 +0.7814035j ,\n",
       "         1.4353344 +0.j        , -1.36027672-0.39932848j,\n",
       "        -0.32393661+0.29732262j]])"
      ]
     },
     "execution_count": 60,
     "metadata": {},
     "output_type": "execute_result"
    }
   ],
   "source": [
    "# take the first and the third row of the matrix\n",
    "#M = np.arange(1, 10).reshape(3, 3)\n",
    "M[np.array([0, 2]), :]  # this is a new matrix of shape (2,3) containing the first and third rows only of the matrix M"
   ]
  },
  {
   "cell_type": "code",
   "execution_count": 72,
   "metadata": {
    "id": "dxjQBvqX2hBT"
   },
   "outputs": [
    {
     "name": "stdout",
     "output_type": "stream",
     "text": [
      "A (4, 4, 4, 4)\n",
      "B (2, 4, 4, 4)\n",
      "(4, 4, 4)\n",
      "(4, 1, 4, 4)\n",
      "(4, 1, 4, 4)\n"
     ]
    }
   ],
   "source": [
    "#  how about more complex tensors?\n",
    "A = np.random.uniform(-1, 1, size = (4, 4, 4, 4))  # 4x4x4x4 tensor\n",
    "print(\"A\",A.shape)\n",
    "#  take only 1-st and 3-rd indexes in the first index:\n",
    "B = A[np.array([0, 2]), ...]  # \"...\" means \"full slice in all other dimensions\"\n",
    "print(\"B\",B.shape)\n",
    "#  take the last index in the 2-nd dimension:\n",
    "C = A[:, -1, :, :]\n",
    "print(C.shape)  # the dimensionality reduced\n",
    "\n",
    "C = A[:, -1:, :, :]  # if want to keep the degenerate dimension\n",
    "print(C.shape)\n",
    "\n",
    "#  or\n",
    "C = A[:, -1, :, :][:, np.newaxis, :, :]  # remove then restore the dimension\n",
    "print(C.shape)"
   ]
  },
  {
   "cell_type": "markdown",
   "metadata": {
    "id": "wVEzAo6e2hBY"
   },
   "source": [
    "Final: **solvers and advanced linear algebra**"
   ]
  },
  {
   "cell_type": "code",
   "execution_count": 76,
   "metadata": {
    "id": "WjpJFnQZ2hBZ"
   },
   "outputs": [
    {
     "name": "stdout",
     "output_type": "stream",
     "text": [
      "(5,) (5, 5)\n",
      "[-2.63295373 -0.89171036  0.90028256  2.34182485  3.17099525]\n"
     ]
    },
    {
     "data": {
      "text/plain": [
       "[True, True, True, True, True]"
      ]
     },
     "execution_count": 76,
     "metadata": {},
     "output_type": "execute_result"
    }
   ],
   "source": [
    "eigvals, U = np.linalg.eigh(M)  # diagonalise Hermitian conjugate matrix\n",
    "print(eigvals.shape, U.shape)\n",
    "#U[:, i] #contains the i-th eigenvector corresponding to the eigenvalue i (eigvals[i])\n",
    "\n",
    "#  check that M v_i = lambda_i v_i for all i\n",
    "print(eigvals)\n",
    "[np.allclose(U[:, i] * eigvals[i], M.dot(U[:, i])) for i in range(eigvals.shape[0])]\n",
    "#  actually (eigentlich) eigenvectors!"
   ]
  },
  {
   "cell_type": "code",
   "execution_count": 75,
   "metadata": {
    "id": "kcO-4ZzL2hBZ"
   },
   "outputs": [
    {
     "data": {
      "text/plain": [
       "True"
      ]
     },
     "execution_count": 75,
     "metadata": {},
     "output_type": "execute_result"
    }
   ],
   "source": [
    "#  also, the following must hold: U.D.U^{dag} = M\n",
    "np.allclose(U.dot(np.diag(eigvals)).dot(U.conj().T), M)"
   ]
  },
  {
   "cell_type": "code",
   "execution_count": 77,
   "metadata": {
    "id": "3ByPk3Ra2hBf"
   },
   "outputs": [
    {
     "data": {
      "text/plain": [
       "True"
      ]
     },
     "execution_count": 77,
     "metadata": {},
     "output_type": "execute_result"
    }
   ],
   "source": [
    "#  SVD decomposition (required for DQMC)\n",
    "U, s, V = np.linalg.svd(M, full_matrices = True)\n",
    "np.allclose(U.dot(np.diag(s)).dot(V), M)\n",
    "\n",
    "# and may other! LU, QR, et cetera"
   ]
  },
  {
   "cell_type": "markdown",
   "metadata": {
    "id": "yjKGA1D_2hBf"
   },
   "source": [
    "Bonus: **for-loops vs numpy** comparison"
   ]
  },
  {
   "cell_type": "code",
   "execution_count": 79,
   "metadata": {
    "id": "yT5geBSq2hBg"
   },
   "outputs": [
    {
     "name": "stdout",
     "output_type": "stream",
     "text": [
      "1.96 ms ± 6.46 µs per loop (mean ± std. dev. of 7 runs, 100 loops each)\n",
      "6.39 µs ± 39.1 ns per loop (mean ± std. dev. of 7 runs, 100,000 loops each)\n"
     ]
    }
   ],
   "source": [
    "a = np.arange(100)\n",
    "b = np.arange(100)\n",
    "%timeit [a[i] * b[j] for i in range(100) for j in range(100)]\n",
    "%timeit np.einsum('i,j->ij', a, b)  # numpy is ~240 times faster"
   ]
  },
  {
   "cell_type": "code",
   "execution_count": 80,
   "metadata": {
    "id": "CDWjepoV2hBg"
   },
   "outputs": [
    {
     "name": "stdout",
     "output_type": "stream",
     "text": [
      "460 ms ± 3.97 ms per loop (mean ± std. dev. of 7 runs, 1 loop each)\n",
      "121 µs ± 14.2 µs per loop (mean ± std. dev. of 7 runs, 10,000 loops each)\n"
     ]
    }
   ],
   "source": [
    "M = np.random.uniform(-1, 1, size = (100, 100))\n",
    "N = np.random.uniform(-1, 1, size = (100, 100))\n",
    "def prod_naive(M, N):\n",
    "    C = np.zeros((100, 100))\n",
    "    for i in range(100):\n",
    "        for j in range(100):\n",
    "            for k in range(100):\n",
    "                C[i, j] += M[i, k] * N[k, j]\n",
    "    return C\n",
    "%timeit prod_naive(M, N)\n",
    "%timeit M.dot(N)  # numpy is ~ 60 times faster"
   ]
  },
  {
   "cell_type": "code",
   "execution_count": 81,
   "metadata": {
    "id": "N707skoo2hBm"
   },
   "outputs": [
    {
     "name": "stdout",
     "output_type": "stream",
     "text": [
      "4.19 ms ± 6.18 µs per loop (mean ± std. dev. of 7 runs, 100 loops each)\n",
      "2.16 µs ± 7.66 ns per loop (mean ± std. dev. of 7 runs, 100,000 loops each)\n"
     ]
    }
   ],
   "source": [
    "def prod_naive(M, a):\n",
    "    b = np.zeros(100)\n",
    "    for j in range(100):\n",
    "        for k in range(100):\n",
    "            b[j] += M[j, k] * a[k]\n",
    "    return b\n",
    "%timeit prod_naive(M, a)\n",
    "%timeit M.dot(a)  # numpy is ~ 60 times faster"
   ]
  },
  {
   "cell_type": "markdown",
   "metadata": {
    "id": "-f33gdp72hBm"
   },
   "source": [
    "Take home message: **always avoid using pythonic for-loops**, they are **very slow**. You are **very unlikely** to meet any linear algebra operation that can not be done purely within numpy."
   ]
  },
  {
   "cell_type": "markdown",
   "metadata": {
    "id": "iuaLKJAf2hBn"
   },
   "source": [
    "**Excercises**: using only numpy routines (for objects creation and manipulation), compute the following: $$\\sum\\limits_{i=0}^{10} i,\\; \\sum\\limits_{i = 0}^{10} 2^i,\\;\\sum\\limits_{i = 0}^{10} i 2^i,$$\n",
    "\n",
    "$$\\sum\\limits_{n=0}^{9} e^{2 \\pi i n / 10},\\;\\sum\\limits_{n=0}^{9} e^{2 \\pi i n / 10} n,$$\n",
    "\n",
    "$$a^{\\dagger} M a, a = (0, 1, \\ldots, 10), M_{ij} = ij.$$"
   ]
  },
  {
   "cell_type": "code",
   "execution_count": 84,
   "metadata": {
    "id": "NS8XqMZK2hBn"
   },
   "outputs": [
    {
     "name": "stdout",
     "output_type": "stream",
     "text": [
      "sum1: 55\n",
      "sum2: 2047\n",
      "sum3: 18434\n",
      "sum4: (-3.3306690738754696e-16+1.1102230246251565e-16j)\n",
      "sum41: (-3.3306690738754696e-16+1.1102230246251565e-16j)\n",
      "sum5: (-5.000000000000002-15.388417685876266j)\n",
      "sum51: (-5.000000000000002-15.388417685876266j)\n",
      "result: 148225\n",
      "result2: 148225\n"
     ]
    }
   ],
   "source": [
    "# WRITE SOLUTIONS HERE\n",
    "sum1 = np.sum(np.arange(11))\n",
    "sum2 = np.sum(2**(np.arange(11)))\n",
    "sum3 = np.sum(np.arange(11)*2**(np.arange(11)))\n",
    "sum4 = np.sum(np.exp(2j*np.pi*np.arange(10)/10))\n",
    "s = np.arange(10)\n",
    "sum41 = np.sum(np.exp(2j*np.pi*s/10))\n",
    "sum5 = np.sum(np.exp(2j*np.pi*np.arange(10)/10)*np.arange(10))\n",
    "sum51 = np.sum(np.exp(2j*np.pi*s/10)*s)\n",
    "\n",
    "a = np.arange(11)\n",
    "M = np.outer(a, a)\n",
    "a_dagger = a.conj().T\n",
    "result = a_dagger.dot(M).dot(a)\n",
    "result2 = np.einsum('i,ij,j->', a_dagger, M, a)\n",
    "\n",
    "\n",
    "print(\"sum1:\", sum1)\n",
    "print(\"sum2:\", sum2)\n",
    "print(\"sum3:\", sum3)\n",
    "print(\"sum4:\", sum4)\n",
    "print(\"sum41:\", sum41)\n",
    "print(\"sum5:\", sum5)\n",
    "print(\"sum51:\", sum51)\n",
    "print(\"result:\", result)\n",
    "print(\"result2:\", result2)\n"
   ]
  },
  {
   "cell_type": "code",
   "execution_count": 74,
   "metadata": {
    "id": "n5EBPLmDK_Gr"
   },
   "outputs": [
    {
     "name": "stdout",
     "output_type": "stream",
     "text": [
      "Pauli-Matrizen:\n",
      "sigma_x:\n",
      " [[0 1]\n",
      " [1 0]]\n",
      "sigma_y:\n",
      " [[ 0.+0.j -0.-1.j]\n",
      " [ 0.+1.j  0.+0.j]]\n",
      "sigma_z:\n",
      " [[ 1  0]\n",
      " [ 0 -1]]\n",
      "\n",
      "Einheitsvektor e: [1 0 0]\n",
      "\n",
      "Resultierende 2x2-Matrix S.e:\n",
      "[[0. +0.j 0.5+0.j]\n",
      " [0.5+0.j 0. +0.j]]\n"
     ]
    }
   ],
   "source": [
    "import numpy as np\n",
    "\n",
    "# Definiere die Pauli-Matrizen\n",
    "sigma_x = np.array([[0, 1], [1, 0]])\n",
    "sigma_y = np.array([[0, -1j], [1j, 0]])\n",
    "sigma_z = np.array([[1, 0], [0, -1]])\n",
    "\n",
    "# Einheitsvektor (ex, ey, ez)\n",
    "e = np.array([1, 0, 0])  # Beispiel: Einheitsvektor in x-Richtung\n",
    "\n",
    "# Spin-Operator S.e\n",
    "S_dot_e = (e[0] * sigma_x + e[1] * sigma_y + e[2] * sigma_z) * (1/2)\n",
    "\n",
    "print(\"Pauli-Matrizen:\")\n",
    "print(\"sigma_x:\\n\", sigma_x)\n",
    "print(\"sigma_y:\\n\", sigma_y)\n",
    "print(\"sigma_z:\\n\", sigma_z)\n",
    "\n",
    "print(\"\\nEinheitsvektor e:\", e)\n",
    "\n",
    "print(\"\\nResultierende 2x2-Matrix S.e:\")\n",
    "print(S_dot_e)"
   ]
  },
  {
   "cell_type": "code",
   "execution_count": null,
   "metadata": {},
   "outputs": [],
   "source": []
  },
  {
   "cell_type": "code",
   "execution_count": null,
   "metadata": {},
   "outputs": [],
   "source": []
  }
 ],
 "metadata": {
  "colab": {
   "provenance": []
  },
  "kernelspec": {
   "display_name": "base",
   "language": "python",
   "name": "python3"
  },
  "language_info": {
   "codemirror_mode": {
    "name": "ipython",
    "version": 3
   },
   "file_extension": ".py",
   "mimetype": "text/x-python",
   "name": "python",
   "nbconvert_exporter": "python",
   "pygments_lexer": "ipython3",
   "version": "3.9.7"
  }
 },
 "nbformat": 4,
 "nbformat_minor": 0
}
