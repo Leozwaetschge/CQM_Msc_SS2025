{
 "cells": [
  {
   "cell_type": "markdown",
   "metadata": {
    "id": "9p0W-5eMkB-M"
   },
   "source": [
    "# Jupyter notebook test file\n",
    "\n",
    "Welcome to the first jupyter notebook. This is a test file to verify your installation of python.\n",
    "\n",
    "If you have never heard about or used jupyter notebooks before, don't worry! Jupyter notebooks provide an easy way to combine formatted text (such as this paragraph) with python code (such as the box below). The great thing is that you can also execute the python code live on this page. You select the cell (more on *cells* below) containing the code you want to execute, and you press the \"Play\" symbol in the top left of the cell (or you do Shift-Enter in the case of Google Colab, or Control-Enter in the case of VS Code; other IDE's will probably have similar commands to run a cell containing Python code)"
   ]
  },
  {
   "cell_type": "markdown",
   "metadata": {
    "id": "JYFj_XkskB-P"
   },
   "source": [
    "This is how jupyter notebooks operate: the formatted text blocks and the code blocks are organised in _cells_ – each of which can be executed. Now, executing a cell with only text doesn't do anything of course ... If you want to edit a cell with formatted text (not Python code), you can just double click that cell, edit it as you please, and then hit Shift-Enter if you are in Colab or Ctrl-Enter if you are in VS Code to leave edit-mode. Now go ahead and run the code in the cell below."
   ]
  },
  {
   "cell_type": "code",
   "execution_count": 1,
   "metadata": {
    "colab": {
     "base_uri": "https://localhost:8080/",
     "height": 35
    },
    "executionInfo": {
     "elapsed": 265,
     "status": "ok",
     "timestamp": 1739801790725,
     "user": {
      "displayName": "Andrew Jreissaty",
      "userId": "11469340572625382644"
     },
     "user_tz": -60
    },
    "id": "vddKWKebkB-v",
    "outputId": "561371e7-4cf9-45c5-a84a-8007b9e32963"
   },
   "outputs": [
    {
     "data": {
      "text/plain": [
       "'3.8.10 (default, Jan 17 2025, 14:40:23) \\n[GCC 9.4.0]'"
      ]
     },
     "execution_count": 1,
     "metadata": {},
     "output_type": "execute_result"
    }
   ],
   "source": [
    "import sys\n",
    "sys.version"
   ]
  },
  {
   "cell_type": "markdown",
   "metadata": {
    "id": "EFz135IDkB-y"
   },
   "source": [
    "Great, you've executed your first bit of python code! Python is an extremely _modular_ language, meaning that it is organised in chunks of code called _modules_. These modules provide all sorts of functionalities, usually dedicated to specific tasks. For example, the module collection [numpy](https://www.numpy.org/) provides functionality for numerical computations. It is one of the most widely used collections in scientific programming. By the way, collections of modules are called `packages`.\n",
    "\n",
    "The above two commands import one module called `sys`, which provides some functions to learn about the python installation itself. The command `sys.version` executes some functionality within the `sys` module, which returns the version of the python installation. Hopefully, the output says something like:\n",
    "```\n",
    "Python version: 3.10.12 (some more info ...)\n",
    "```\n",
    "which is the python version we would like to use for these tutorials (anything greater than version 3.8 should be OK for our purposes, but in the event of any issues with some code down the line, go ahead and revert to 3.10.12). Now execute the code in the cells below (if you do not have NumPy and Matplotlib installed, you can uncomment the \"%pip install ____\" lines in the cells below and run those cells as well)"
   ]
  },
  {
   "cell_type": "code",
   "execution_count": null,
   "metadata": {
    "colab": {
     "base_uri": "https://localhost:8080/"
    },
    "executionInfo": {
     "elapsed": 4705,
     "status": "ok",
     "timestamp": 1739801803791,
     "user": {
      "displayName": "Andrew Jreissaty",
      "userId": "11469340572625382644"
     },
     "user_tz": -60
    },
    "id": "aRMJW0_VuMwh",
    "outputId": "f8d1fef8-6716-4fc1-c3e4-515a0642fd99"
   },
   "outputs": [
    {
     "name": "stdout",
     "output_type": "stream",
     "text": [
      "Requirement already satisfied: numpy in /usr/local/lib/python3.11/dist-packages (1.26.4)\n"
     ]
    }
   ],
   "source": [
    "# Numpy installation if need be\n",
    "#%pip install numpy"
   ]
  },
  {
   "cell_type": "code",
   "execution_count": null,
   "metadata": {
    "colab": {
     "base_uri": "https://localhost:8080/"
    },
    "executionInfo": {
     "elapsed": 2933,
     "status": "ok",
     "timestamp": 1739801822326,
     "user": {
      "displayName": "Andrew Jreissaty",
      "userId": "11469340572625382644"
     },
     "user_tz": -60
    },
    "id": "8HynwlDiueBZ",
    "outputId": "da62e0df-5b73-4279-989d-977fcb5314a4"
   },
   "outputs": [
    {
     "name": "stdout",
     "output_type": "stream",
     "text": [
      "Requirement already satisfied: matplotlib in /usr/local/lib/python3.11/dist-packages (3.10.0)\n",
      "Requirement already satisfied: contourpy>=1.0.1 in /usr/local/lib/python3.11/dist-packages (from matplotlib) (1.3.1)\n",
      "Requirement already satisfied: cycler>=0.10 in /usr/local/lib/python3.11/dist-packages (from matplotlib) (0.12.1)\n",
      "Requirement already satisfied: fonttools>=4.22.0 in /usr/local/lib/python3.11/dist-packages (from matplotlib) (4.56.0)\n",
      "Requirement already satisfied: kiwisolver>=1.3.1 in /usr/local/lib/python3.11/dist-packages (from matplotlib) (1.4.8)\n",
      "Requirement already satisfied: numpy>=1.23 in /usr/local/lib/python3.11/dist-packages (from matplotlib) (1.26.4)\n",
      "Requirement already satisfied: packaging>=20.0 in /usr/local/lib/python3.11/dist-packages (from matplotlib) (24.2)\n",
      "Requirement already satisfied: pillow>=8 in /usr/local/lib/python3.11/dist-packages (from matplotlib) (11.1.0)\n",
      "Requirement already satisfied: pyparsing>=2.3.1 in /usr/local/lib/python3.11/dist-packages (from matplotlib) (3.2.1)\n",
      "Requirement already satisfied: python-dateutil>=2.7 in /usr/local/lib/python3.11/dist-packages (from matplotlib) (2.8.2)\n",
      "Requirement already satisfied: six>=1.5 in /usr/local/lib/python3.11/dist-packages (from python-dateutil>=2.7->matplotlib) (1.17.0)\n"
     ]
    }
   ],
   "source": [
    "# Matplotlib installation if need be\n",
    "#%pip install matplotlib"
   ]
  },
  {
   "cell_type": "code",
   "execution_count": null,
   "metadata": {
    "colab": {
     "base_uri": "https://localhost:8080/",
     "height": 35
    },
    "executionInfo": {
     "elapsed": 248,
     "status": "ok",
     "timestamp": 1739801816255,
     "user": {
      "displayName": "Andrew Jreissaty",
      "userId": "11469340572625382644"
     },
     "user_tz": -60
    },
    "id": "kOSeDDIskB-y",
    "outputId": "d1ce3625-2534-4cdd-8248-3c722eff05fe"
   },
   "outputs": [
    {
     "data": {
      "application/vnd.google.colaboratory.intrinsic+json": {
       "type": "string"
      },
      "text/plain": [
       "'1.26.4'"
      ]
     },
     "execution_count": 3,
     "metadata": {},
     "output_type": "execute_result"
    }
   ],
   "source": [
    "import numpy as np\n",
    "np.__version__"
   ]
  },
  {
   "cell_type": "code",
   "execution_count": null,
   "metadata": {
    "colab": {
     "base_uri": "https://localhost:8080/",
     "height": 35
    },
    "executionInfo": {
     "elapsed": 236,
     "status": "ok",
     "timestamp": 1739801825846,
     "user": {
      "displayName": "Andrew Jreissaty",
      "userId": "11469340572625382644"
     },
     "user_tz": -60
    },
    "id": "LiZQeXAUkB-z",
    "outputId": "9c0df554-f4fc-4bfe-c8de-8ae41c5342e6"
   },
   "outputs": [
    {
     "data": {
      "application/vnd.google.colaboratory.intrinsic+json": {
       "type": "string"
      },
      "text/plain": [
       "'3.10.0'"
      ]
     },
     "execution_count": 5,
     "metadata": {},
     "output_type": "execute_result"
    }
   ],
   "source": [
    "import matplotlib as mpl\n",
    "import matplotlib.pyplot as plt\n",
    "mpl.__version__"
   ]
  },
  {
   "cell_type": "markdown",
   "metadata": {
    "id": "orT7XP1ykB_-"
   },
   "source": [
    "As you might have guessed, the two `import` lines above load two more modules: the numpy package for scientific programming, and [matplotlib](https://matplotlib.org), a package for visualising data. Two more gimmicks:\n",
    "- the `import` command can also create aliases for modules/packages with the `as` keyword. This can be useful if the names of modules/packages are very long. In the above example, anything within `matplotlib` can be accessed with the alias `mpl`.\n",
    "- You can also import only _parts_ of a package. Many packages have functionalities bundled in their own small modules. In the above example, the `matplotlib.pyplot` module is imported separately from `matplotlib` and given the alias `plt`.\n",
    "\n",
    "If your python installation was done correctly, you should get version numbers like these:\n",
    "```\n",
    "Numpy version:      1.25.2\n",
    "Matplotlib version: 3.7.1\n",
    "```\n",
    "The patch version (which is the number after the second dot) you have might be different, but the major and minor version number will probably be identical if you have downloaded the latest versions. Usually, this should be enough to verify the installation. But let's run the following piece of code, which uses these two packages to create some random data, perform a polynomial regression, and plot the result:"
   ]
  },
  {
   "cell_type": "code",
   "execution_count": null,
   "metadata": {
    "colab": {
     "base_uri": "https://localhost:8080/",
     "height": 471
    },
    "executionInfo": {
     "elapsed": 536,
     "status": "ok",
     "timestamp": 1739801880919,
     "user": {
      "displayName": "Andrew Jreissaty",
      "userId": "11469340572625382644"
     },
     "user_tz": -60
    },
    "id": "gQ5O-9ZjkB_-",
    "outputId": "bba1ea5b-c441-4f6a-8306-429d3fc4e4c3"
   },
   "outputs": [
    {
     "data": {
      "text/plain": [
       "<matplotlib.legend.Legend at 0x7e478e8739d0>"
      ]
     },
     "execution_count": 6,
     "metadata": {},
     "output_type": "execute_result"
    },
    {
     "data": {
      "image/png": "[encoded data removed]",
      "text/plain": [
       "<Figure size 640x480 with 1 Axes>"
      ]
     },
     "metadata": {},
     "output_type": "display_data"
    }
   ],
   "source": [
    "# Generate 50 random x values in the interval [0, 2].\n",
    "# For each of these random values, generate a y value\n",
    "# following the formula y = 3 + 5x. To make our data\n",
    "# more interesting, we add some random noise.\n",
    "m = 50\n",
    "X = 2 * np.random.rand(m)\n",
    "Y = 3 + 5 * X + 2 * np.random.randn(m)\n",
    "\n",
    "# Add some labels to the axes before plotting.\n",
    "plt.xlabel(\"x\", fontsize=12)\n",
    "plt.ylabel(\"y\", rotation=0, fontsize=12,labelpad = 10)\n",
    "\n",
    "# Now, plot the data\n",
    "plt.scatter(X,Y,label='data')\n",
    "\n",
    "# Polynomial regression of degree 1 (so linear regression), and plotting the fit)\n",
    "degree = 1\n",
    "poly = np.polyfit(X,Y,degree)\n",
    "Z = np.polyval(poly,X)\n",
    "plt.plot(X,Z,color='green',label = 'fit')\n",
    "plt.legend()"
   ]
  },
  {
   "cell_type": "markdown",
   "metadata": {
    "id": "AsdiY1RSkB__"
   },
   "source": [
    "Hopefully this worked, too. By the way, you can always click on the code and start to modify it! For example, try to change the value of `m` in the above cell, and then run the cell again. Does the plot look different?\n",
    "\n",
    "Another thing: you can always jump back in forth within a notebook by using your up/down arrow keys or simply clicking on the cells. Sometimes it is useful to reset the jupyter notebook and start from scratch. This will remove all generated output and only leave the formatted text and code cells. To do this, click on \"Edit\", then \"Clear all outputs\" in Colab, or simply \"Clear All Outputs\" in VS Code. This kernel restart means that python will also \"forget\" about anything you did: variables you assigned, modules you imported etc.\n",
    "\n",
    "Before we finish, let's make sure that another package used in this course has the correct version as well. Execute the following code cell to import [SciPy](https://www.scipy.org), a common package for mathematics, science, and engineering and check its version (if you don't have Scipy installed, go ahead and uncomment the \"%pip install scipy\" line below and run that cell, and then run the cell that verifies its version)"
   ]
  },
  {
   "cell_type": "code",
   "execution_count": null,
   "metadata": {
    "colab": {
     "base_uri": "https://localhost:8080/"
    },
    "executionInfo": {
     "elapsed": 2920,
     "status": "ok",
     "timestamp": 1739801901488,
     "user": {
      "displayName": "Andrew Jreissaty",
      "userId": "11469340572625382644"
     },
     "user_tz": -60
    },
    "id": "V_BqSOV6zTzp",
    "outputId": "3f82dd7c-ec6b-4aa4-dbe7-a425f7e8a6c2"
   },
   "outputs": [
    {
     "name": "stdout",
     "output_type": "stream",
     "text": [
      "Requirement already satisfied: scipy in /usr/local/lib/python3.11/dist-packages (1.13.1)\n",
      "Requirement already satisfied: numpy<2.3,>=1.22.4 in /usr/local/lib/python3.11/dist-packages (from scipy) (1.26.4)\n"
     ]
    }
   ],
   "source": [
    "# SciPy installation if need be\n",
    "%pip install scipy"
   ]
  },
  {
   "cell_type": "code",
   "execution_count": null,
   "metadata": {
    "colab": {
     "base_uri": "https://localhost:8080/",
     "height": 35
    },
    "executionInfo": {
     "elapsed": 234,
     "status": "ok",
     "timestamp": 1739801903434,
     "user": {
      "displayName": "Andrew Jreissaty",
      "userId": "11469340572625382644"
     },
     "user_tz": -60
    },
    "id": "1y5OOwLckB__",
    "outputId": "89c98037-0358-4c6b-920b-2f508c5500e4"
   },
   "outputs": [
    {
     "data": {
      "application/vnd.google.colaboratory.intrinsic+json": {
       "type": "string"
      },
      "text/plain": [
       "'1.13.1'"
      ]
     },
     "execution_count": 8,
     "metadata": {},
     "output_type": "execute_result"
    }
   ],
   "source": [
    "import scipy as scp\n",
    "scp.__version__"
   ]
  },
  {
   "cell_type": "markdown",
   "metadata": {
    "id": "D0GUKzPikCAA"
   },
   "source": [
    "If everything is set up correctly, the version should be:\n",
    "```\n",
    "SciPy version: 1.13.* (but anything above 1.9.* should be OK)\n",
    "```\n",
    "Hurray, the setup was successful!"
   ]
  },
  {
   "cell_type": "code",
   "execution_count": null,
   "metadata": {
    "id": "kqYO64YVkCAA"
   },
   "outputs": [],
   "source": []
  }
 ],
 "metadata": {
  "colab": {
   "provenance": []
  },
  "kernelspec": {
   "display_name": "Python 3",
   "language": "python",
   "name": "python3"
  },
  "language_info": {
   "codemirror_mode": {
    "name": "ipython",
    "version": 3
   },
   "file_extension": ".py",
   "mimetype": "text/x-python",
   "name": "python",
   "nbconvert_exporter": "python",
   "pygments_lexer": "ipython3",
   "version": "3.8.10"
  }
 },
 "nbformat": 4,
 "nbformat_minor": 0
}
