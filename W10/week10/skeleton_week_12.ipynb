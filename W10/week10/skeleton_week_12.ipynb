{
 "cells": [
  {
   "cell_type": "markdown",
   "id": "6592a597-abe3-4e1d-aaa4-29b4d2ba2c53",
   "metadata": {},
   "source": [
    "# Path-integral Monte Carlo for the 1d oscillator\n",
    "Jan Gukelberger, Andreas Hehn, Georg Winkler, Dominik Gresch (2011-2017)"
   ]
  },
  {
   "cell_type": "code",
   "execution_count": null,
   "id": "6fa3b60b-7bf9-4f56-b1ee-5d56793fe253",
   "metadata": {},
   "outputs": [],
   "source": [
    "from __future__ import division, print_function\n",
    "\n",
    "import numpy as np\n",
    "import numpy.random as rnd\n",
    "import matplotlib.pyplot as plt\n",
    "from sys import stdout\n",
    "%matplotlib inline\n",
    "plt.rcParams['figure.figsize'] = 16, 9"
   ]
  },
  {
   "cell_type": "code",
   "execution_count": null,
   "id": "a9002873-4a54-450b-9280-8447238dfcde",
   "metadata": {},
   "outputs": [],
   "source": [
    "# hbar = m = 1\n",
    "w = 1.0\n",
    "# seed random number generator once at program start\n",
    "rnd.seed(42)"
   ]
  },
  {
   "cell_type": "markdown",
   "id": "b428c47c-15b4-41b0-8bed-fee2ee17b7da",
   "metadata": {},
   "source": [
    "### Class for storing world-line configuration and doing updates/measurements"
   ]
  },
  {
   "cell_type": "markdown",
   "id": "bcef3759-eb86-4b3f-8d72-a379b6c96350",
   "metadata": {},
   "source": [
    "A note on kinetic energy: it was shown that calculating the kinetic energy of a configuration as $\\langle KE\\rangle=\\frac{1}{2M}\\sum_{i=0}^{M-1}\\left(\\frac{x_{j+1}-x_j}{\\Delta\\tau}\\right)^2$ is unstable when the number of timeslices is large due to the growth of the variance of the estimator. A numerically preferred form is $\\langle KE\\rangle=\\frac{1}{2}\\langle x\\frac{dV}{dx}\\rangle$, obtained from the Virial theorem.\n",
    "\n",
    "Reference: https://aip.scitation.org/doi/10.1063/1.442815"
   ]
  },
  {
   "cell_type": "code",
   "execution_count": null,
   "id": "eaa01f94-6fba-4a5c-be6b-74ea3cbb1fa8",
   "metadata": {
    "tags": []
   },
   "outputs": [],
   "source": [
    "def V_oscillator(x):\n",
    "    return w ** 2 * x ** 2 / 2.\n",
    "\n",
    "def V_Higgs(x, eta):\n",
    "    return (x ** 2 - eta ** 2) ** 2\n",
    "\n",
    "def dVdx_oscillator(x):\n",
    "    return w ** 2 * x\n",
    "\n",
    "def dVdx_Higgs(x, eta):\n",
    "    return 4 * x  * (x ** 2 - eta ** 2)\n",
    "\n",
    "\n",
    "class Config:\n",
    "    \"\"\"PIMC configuration: world-line for one particle\"\"\"\n",
    "\n",
    "    def __init__(self, beta, numslices, V, dVdx):\n",
    "        self._beta = beta\n",
    "        self._numslices = numslices\n",
    "        self._tau = self._beta / self._numslices    # \\Delta\\tau=\\beta/M\n",
    "        self._config = rnd.uniform(-1., 1., numslices)    # initial configuration\n",
    "        self.V = V\n",
    "        self.dVdx = dVdx\n",
    "\n",
    "    def potential_energy(self):\n",
    "        \"\"\"Return the potential energy of a configuration X\"\"\"\n",
    "        # implement here\n",
    "        return \n",
    "\n",
    "    def kinetic_energy(self):\n",
    "        \"\"\"Return the kinetic energy of a configuration X\"\"\"\n",
    "        # implement here\n",
    "        return \n",
    "        \n",
    "    def position_histogram(self, bins, value_range):\n",
    "        \"\"\"Return histogram of positions in all time slices\"\"\"\n",
    "        return np.histogram(self._config, bins, range=value_range)[0]\n",
    "\n",
    "    def update(self, max_displacement):\n",
    "        \"\"\"Metropolis algorithm local configuration update\"\"\"\n",
    "        j = # pick a random time slice \n",
    "        new_position_j = # propose a new position where \\Delta x\\in[-max_displacement, max_displacement]\n",
    "\n",
    "        # periodic boundary conditions \n",
    "        jp1 = (j + 1) % self._config.size\n",
    "\n",
    "        acceptance_ratio = # as given in the lecture\n",
    "\n",
    "        if acceptance_ratio >= 1 or rnd.uniform() < acceptance_ratio:\n",
    "            self._config[j] = new_position_j\n",
    "            return True\n",
    "        else:\n",
    "            return False\n",
    "\n",
    "    def sweep(self, max_displacement):\n",
    "        \"\"\"One sweep of Metropolis local updates (i.e. self._slices update proposals)\"\"\"\n",
    "        accepted_proposals = 0\n",
    "        for l in range(self._config.size):\n",
    "            accepted_proposals += self.update(max_displacement)\n",
    "        return accepted_proposals / self._numslices    # to calculate acceptance rate later"
   ]
  },
  {
   "cell_type": "markdown",
   "id": "3afa5854-3c4a-4309-b85f-56d90fd4e69f",
   "metadata": {},
   "source": [
    "### Autocorrelation analysis\n",
    "\n",
    "This is again binning analysis, the same as the past 2 exercises."
   ]
  },
  {
   "cell_type": "code",
   "execution_count": null,
   "id": "828ea464-30dc-49dd-b9f0-b567f2d8c411",
   "metadata": {},
   "outputs": [],
   "source": [
    "def stats(samples, n_levels=9):\n",
    "    \"\"\"\n",
    "    Perform a binning analysis over samples and return an array of the error estimates at each binning level.\n",
    "    \n",
    "    \"\"\"\n",
    "    bins = np.array(samples)\n",
    "    errors = np.zeros(n_levels + 1)\n",
    "    errors[0] = np.std(bins) / np.sqrt(len(bins) - 1)\n",
    "    for k in range(n_levels):\n",
    "        bins = np.array([(bins[2*i]+bins[2*i+1])/2. for i in range(len(bins)//2)])\n",
    "        errors[k+1] = np.std(bins) / np.sqrt(len(bins) - 1)\n",
    "    # calculate autocorrelation time\n",
    "    tau = 0.5*(errors[-1]**2/np.std(samples)**2*(len(samples)-1.)-1.)\n",
    "    \n",
    "    return np.mean(samples), errors[-1], tau"
   ]
  },
  {
   "cell_type": "markdown",
   "id": "d22db5bc-bee0-4463-9d7f-25148510155b",
   "metadata": {},
   "source": [
    "### PIMC simulation and measuring energies"
   ]
  },
  {
   "cell_type": "markdown",
   "id": "4f95dd5e",
   "metadata": {},
   "source": [
    "Here you implement the core part of the simulation and the autocorrelation analysis."
   ]
  },
  {
   "cell_type": "code",
   "execution_count": null,
   "id": "8efc3b85-5628-4265-9e1a-d9e3e8b27db8",
   "metadata": {},
   "outputs": [],
   "source": [
    "# simulation parameters\n",
    "beta = 1.\n",
    "P = 10\n",
    "max_displacement = .5\n",
    "# parameters for wave function measurements (x histogram)\n",
    "histo_range = (-4.0, 4.0)\n",
    "histo_bins = 100\n",
    "histo_samples = 64\n",
    "\n",
    "def simulate(config, steps, thermal_steps):\n",
    "    # initialize configuration and observables\n",
    "    potential_energy = np.empty(steps, dtype=float)\n",
    "    kinetic_energy = np.empty(steps, dtype=float)\n",
    "    position_histogram = np.zeros((histo_samples, histo_bins))\n",
    "    acc_rate = 0.\n",
    "\n",
    "    # thermalize configuration\n",
    "    print('Thermalization (' + str(thermal_steps) + ' sweeps)...')\n",
    "    # implement here\n",
    "\n",
    "    # simulation: measures after each update sweep\n",
    "    print('Simulation (' + str(steps) + ' sweeps)')\n",
    "    \n",
    "    for i in range(steps):\n",
    "        # implement here; track acceptance rate, PE, KE and wavefunction (position_histogram)\n",
    "\n",
    "        # Progress marker: one . for each percent\n",
    "        if i % (steps // 100) == 0:\n",
    "            stdout.write('.')\n",
    "            stdout.flush()\n",
    "\n",
    "    # If the acceptance rate is not somewhere around 0.5, max_displacement needs to be tuned.\n",
    "    acc_rate /= steps\n",
    "    print('\\nAcceptance rate = ' + str(acc_rate))\n",
    "    \n",
    "    return potential_energy, kinetic_energy, position_histogram\n",
    "\n",
    "\n",
    "def autocorrelation_analysis(potential_energy, kinetic_energy, steps):\n",
    "    # Evaluate results\n",
    "    # get the mean, error and autocorrelation time for PE, KE and total energy\n",
    "    pot, pot_error, pot_autocorr = ...\n",
    "    kin, kin_error, kin_autocorr = ...\n",
    "    etot, etot_error, etot_autocorr = ...\n",
    "\n",
    "    # running mean\n",
    "    pot_series = np.cumsum(potential_energy) / np.arange(1, steps + 1)\n",
    "    kin_series = np.cumsum(kinetic_energy) / np.arange(1, steps + 1)\n",
    "\n",
    "    print(\"Potential Energy = \" + str(pot) + \" +/- \" +\n",
    "          str(pot_error) + \"\\tCorrelation time: \" + str(pot_autocorr))\n",
    "    print(\"Kinetic Energy   = \" + str(kin) + \" +/- \" +\n",
    "          str(kin_error) + \"\\tCorrelation time: \" + str(kin_autocorr))\n",
    "    print(\"Total Energy     = \" + str(etot) + \" +/- \" + \n",
    "          str(etot_error) + \"\\tCorrelation time: \" + str(etot_autocorr))\n",
    "    \n",
    "    return pot, kin, pot_series, kin_series\n"
   ]
  },
  {
   "cell_type": "markdown",
   "id": "d2e7757f-d107-4baa-a82e-d6fbbfd81502",
   "metadata": {},
   "source": [
    "#### Plotting the energy\n",
    "\n",
    "Take care to normalise the histogram!"
   ]
  },
  {
   "cell_type": "code",
   "execution_count": null,
   "id": "95975760-5992-4abb-88f3-218ba91eb3b3",
   "metadata": {},
   "outputs": [],
   "source": [
    "def plot_energy(potential_energy, kinetic_energy, pot, kin, pot_series, kin_series, position_histogram, steps, ylim=[0.1, 0.7]):\n",
    "    # Plot raw samples\n",
    "    plt.figure()\n",
    "    plt.title('Potential Energy Samples')\n",
    "    plt.xlabel('MC step')\n",
    "    plt.ylabel('potential energy')\n",
    "    plt.plot(potential_energy, label='$V_i$')\n",
    "    plt.plot([0, steps - 1], [pot, pot], label='$\\\\bar{V}$')\n",
    "    plt.xlim([0, 10000])\n",
    "    plt.legend()\n",
    "\n",
    "    # Plot raw samples\n",
    "    plt.figure()\n",
    "    plt.title('Kinetic Energy Samples')\n",
    "    plt.xlabel('MC step')\n",
    "    plt.ylabel('kinetic energy')\n",
    "    plt.plot(range(steps),kinetic_energy,label='$T_i$')\n",
    "    plt.plot([0,steps-1],[kin,kin],label='$\\\\bar{T}$')\n",
    "    plt.xlim([0, 10000])\n",
    "    plt.legend()\n",
    "\n",
    "    # Plot running mean\n",
    "    plt.figure()\n",
    "    plt.title('Time series for energy observables')\n",
    "    plt.xlabel('MC steps')\n",
    "    plt.ylabel('energy')\n",
    "    plt.plot(range(steps), pot_series, label='$\\\\bar{V}_i$')\n",
    "    plt.plot([0, steps - 1], [pot, pot], label='$\\\\bar{V}$')\n",
    "    plt.plot(range(steps), kin_series, label='$\\\\bar{T}_i$')\n",
    "    plt.plot([0, steps - 1], [kin, kin], label='$\\\\bar{T}$')\n",
    "    plt.ylim(ylim)\n",
    "    plt.legend()\n",
    "\n",
    "    # Normalize histogram and calculate error bars:\n",
    "    # We did not collect a complete time series, but a fixed number of bins.\n",
    "    # This works as long as the size of each bin [steps/histo_samples] >>\n",
    "    # [autocorrelation time]\n",
    "    position_histogram /= np.sum(position_histogram,\n",
    "                                 axis=1).reshape((histo_samples, 1))\n",
    "    histomean = np.mean(position_histogram, axis=0)\n",
    "    histoerr = np.std(position_histogram, axis=0) / np.sqrt(histo_samples - 1)\n",
    "\n",
    "    # Plot wave function\n",
    "    plt.figure()\n",
    "    plt.title('Wave function')\n",
    "    plt.xlabel('x')\n",
    "    plt.ylabel(\"$|\\\\psi|^2$\")\n",
    "    binwidth = (histo_range[1] - histo_range[0]) / histo_bins\n",
    "    plt.errorbar(np.linspace(histo_range[\n",
    "                 0] + binwidth / 2, histo_range[1] - binwidth / 2, histo_bins), histomean, histoerr)\n",
    "    plt.show()\n",
    "    \n",
    "    return None\n"
   ]
  },
  {
   "cell_type": "markdown",
   "id": "4e430f69-0038-45ed-9237-29d47592ca21",
   "metadata": {},
   "source": [
    "## 1. Harmonic oscillator"
   ]
  },
  {
   "cell_type": "markdown",
   "id": "c74a7ffc",
   "metadata": {},
   "source": [
    "#### PIMC simulation"
   ]
  },
  {
   "cell_type": "code",
   "execution_count": null,
   "id": "aa874008-40bc-488b-8ba5-218296662c26",
   "metadata": {},
   "outputs": [],
   "source": [
    "step = 100000\n",
    "thermal_step = 20000  \n",
    "c = Config(beta, P, V_oscillator, dVdx_oscillator)\n",
    "pe, ke, xs = simulate(c, step, thermal_step)"
   ]
  },
  {
   "cell_type": "code",
   "execution_count": null,
   "id": "7b503ef6-3c27-45d8-9e5c-d113dc564f97",
   "metadata": {},
   "outputs": [],
   "source": [
    "pe_mean, ke_mean, pe_running, ke_running = autocorrelation_analysis(pe, ke, step)\n",
    "print('Exact result   E = ' + str(.5 * w / np.tanh(.5 * w * beta)))"
   ]
  },
  {
   "cell_type": "code",
   "execution_count": null,
   "id": "7606bd4c-a7f4-45a2-8851-16eec96b928c",
   "metadata": {},
   "outputs": [],
   "source": [
    "plot_energy(pe, ke, pe_mean, ke_mean, pe_running, ke_running, xs, step)"
   ]
  },
  {
   "cell_type": "markdown",
   "id": "0e00de7a-75a0-4eba-8395-c6ab9e7af32b",
   "metadata": {},
   "source": [
    "## 2. Higgs potential"
   ]
  },
  {
   "cell_type": "markdown",
   "id": "05b471e0-6d20-47c1-8982-711a6bb79696",
   "metadata": {},
   "source": [
    "Let us first plot the potential at various values of $\\eta$. There are two minima at $\\pm\\eta$."
   ]
  },
  {
   "cell_type": "code",
   "execution_count": null,
   "id": "cf3f5a40-7e99-425f-a620-096977020834",
   "metadata": {},
   "outputs": [],
   "source": [
    "x = np.linspace(-4., 4., 100)\n",
    "eta_vals = [1., 2., 3.]\n",
    "plt.figure(figsize=(6,4))\n",
    "for eta in eta_vals:\n",
    "    plt.plot(x, V_Higgs(x, eta), label='$\\eta=$'+str(eta))\n",
    "plt.xlabel('x')\n",
    "plt.ylabel('V')\n",
    "plt.legend()\n",
    "plt.show()"
   ]
  },
  {
   "cell_type": "markdown",
   "id": "2c60a0f4-9d42-42c8-8d9b-578ce12fb9db",
   "metadata": {},
   "source": [
    "#### PIMC simulation"
   ]
  },
  {
   "cell_type": "code",
   "execution_count": null,
   "id": "f7d95d50-1cfc-4f7e-a127-d8b2bc55a2cf",
   "metadata": {},
   "outputs": [],
   "source": [
    "step = 100000\n",
    "thermal_step = 20000 \n",
    "eta = [1., 3.]\n",
    "lims = [[0.2, 0.9], [1.2, 3.]]\n",
    "\n",
    "for e, lim in zip(eta, lims):\n",
    "    c = Config(beta, P, lambda x: V_Higgs(x, e), lambda x: dVdx_Higgs(x, e))\n",
    "    pe, ke, xs = simulate(c, step, thermal_step)\n",
    "    pe_mean, ke_mean, pe_running, ke_running = autocorrelation_analysis(pe, ke, step)\n",
    "    plot_energy(pe, ke, pe_mean, ke_mean, pe_running, ke_running, xs, step, lim)\n",
    "    "
   ]
  }
 ],
 "metadata": {
  "kernelspec": {
   "display_name": "Python 3",
   "language": "python",
   "name": "python3"
  },
  "language_info": {
   "codemirror_mode": {
    "name": "ipython",
    "version": 3
   },
   "file_extension": ".py",
   "mimetype": "text/x-python",
   "name": "python",
   "nbconvert_exporter": "python",
   "pygments_lexer": "ipython3",
   "version": "3.10.0"
  }
 },
 "nbformat": 4,
 "nbformat_minor": 5
}
