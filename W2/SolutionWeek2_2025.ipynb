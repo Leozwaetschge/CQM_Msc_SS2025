{
  "cells": [
    {
      "cell_type": "code",
      "execution_count": 2,
      "id": "688d6a66",
      "metadata": {
        "id": "688d6a66"
      },
      "outputs": [],
      "source": [
        "import numpy as np\n",
        "import scipy as sp\n",
        "import cmath"
      ]
    },
    {
      "cell_type": "markdown",
      "id": "06a7cbd4",
      "metadata": {
        "id": "06a7cbd4"
      },
      "source": [
        "**Part 1: Bitwise operations** $$ \\\\ $$\n",
        "Let us see how to represent a spin $\\frac{1}{2}$ chain (or a chain of spinless fermions) using integers and their bit representation. First, let us see how to get the bitstring out of an integer:"
      ]
    },
    {
      "cell_type": "code",
      "execution_count": 3,
      "id": "46977c09",
      "metadata": {
        "id": "46977c09"
      },
      "outputs": [
        {
          "name": "stdout",
          "output_type": "stream",
          "text": [
            "0b1000\n",
            "1000\n"
          ]
        }
      ],
      "source": [
        "print(bin(8))\n",
        "#or\n",
        "print(format(8,'b'))"
      ]
    },
    {
      "cell_type": "markdown",
      "id": "1e54e516",
      "metadata": {
        "id": "1e54e516"
      },
      "source": [
        "Using bitwise operators, create a function that shifts every state to the right by $n$ units:"
      ]
    },
    {
      "cell_type": "code",
      "execution_count": 4,
      "id": "fbd15e7c",
      "metadata": {
        "id": "fbd15e7c"
      },
      "outputs": [],
      "source": [
        "def shift_right(i:int,n:int,N:int):\n",
        "    for j in range(0,n):\n",
        "        i=(i>>1)+2**(N-1)*(i%2)\n",
        "    return(i)\n"
      ]
    },
    {
      "cell_type": "markdown",
      "id": "ad87d425",
      "metadata": {
        "id": "ad87d425"
      },
      "source": [
        "Let us time it for later comparison"
      ]
    },
    {
      "cell_type": "code",
      "execution_count": 5,
      "id": "f4b29db4",
      "metadata": {
        "id": "f4b29db4"
      },
      "outputs": [
        {
          "name": "stdout",
          "output_type": "stream",
          "text": [
            "796 ns ± 29.6 ns per loop (mean ± std. dev. of 7 runs, 1,000,000 loops each)\n"
          ]
        }
      ],
      "source": [
        "%timeit shift_right(4,2,4)"
      ]
    },
    {
      "cell_type": "markdown",
      "id": "7fe4a2af",
      "metadata": {
        "id": "7fe4a2af"
      },
      "source": [
        "Let us write the same function for an array, using np.roll:"
      ]
    },
    {
      "cell_type": "code",
      "execution_count": 6,
      "id": "cd7b6a54",
      "metadata": {
        "id": "cd7b6a54"
      },
      "outputs": [],
      "source": [
        "def shift_right_array(a:np.array,n):\n",
        "    return(np.roll(a,n))"
      ]
    },
    {
      "cell_type": "markdown",
      "id": "fb97e37e",
      "metadata": {
        "id": "fb97e37e"
      },
      "source": [
        "Let us time it as well and compare:"
      ]
    },
    {
      "cell_type": "code",
      "execution_count": 7,
      "id": "b04ebf70",
      "metadata": {
        "id": "b04ebf70"
      },
      "outputs": [
        {
          "name": "stdout",
          "output_type": "stream",
          "text": [
            "6.22 µs ± 80.2 ns per loop (mean ± std. dev. of 7 runs, 100,000 loops each)\n"
          ]
        }
      ],
      "source": [
        "ar=np.array([1,0,1,0])\n",
        "%timeit shift_right_array(ar,2)"
      ]
    },
    {
      "cell_type": "markdown",
      "id": "9ea2696a",
      "metadata": {
        "id": "9ea2696a"
      },
      "source": [
        "Great, we can actually save quite some time by resorting to the representation of states as bits of an integer. Similarly to above, create a function that shifts every state to the left by $n$ units:"
      ]
    },
    {
      "cell_type": "code",
      "execution_count": 8,
      "id": "59499460",
      "metadata": {
        "id": "59499460"
      },
      "outputs": [],
      "source": [
        "def shift_left(i:int,n:int,N:int):\n",
        "\n",
        "    for j in range(0,n):\n",
        "        if i>=2**(N-1):\n",
        "\n",
        "            i=(i<<1) -(2**(N)) +1\n",
        "        else:\n",
        "            i=i<<1\n",
        "    return(i)"
      ]
    },
    {
      "cell_type": "markdown",
      "id": "c5789dfd",
      "metadata": {
        "id": "c5789dfd"
      },
      "source": [
        "Write a function to count the number of up spins:\n"
      ]
    },
    {
      "cell_type": "code",
      "execution_count": 9,
      "id": "a7bdfb83",
      "metadata": {
        "id": "a7bdfb83"
      },
      "outputs": [],
      "source": [
        "def count_upspins(i:int):\n",
        "    return(format(i,'b').count('1'))"
      ]
    },
    {
      "cell_type": "markdown",
      "id": "4049c7c8",
      "metadata": {
        "id": "4049c7c8"
      },
      "source": [
        "Write a function to check the spin at site j:"
      ]
    },
    {
      "cell_type": "code",
      "execution_count": 10,
      "id": "d5e7c1a7",
      "metadata": {
        "id": "d5e7c1a7"
      },
      "outputs": [],
      "source": [
        "def spin_at_j(i:int,j:int):\n",
        "    return((i>>j)%2)"
      ]
    },
    {
      "cell_type": "markdown",
      "id": "bba78bfd",
      "metadata": {
        "id": "bba78bfd"
      },
      "source": [
        "Write a function to flip the spin at site j:"
      ]
    },
    {
      "cell_type": "code",
      "execution_count": 11,
      "id": "fe1faf70",
      "metadata": {
        "id": "fe1faf70"
      },
      "outputs": [],
      "source": [
        "def flip_spin(i:int,j:int):\n",
        "    return((1<<j)^i)"
      ]
    },
    {
      "cell_type": "markdown",
      "id": "18501189",
      "metadata": {
        "id": "18501189"
      },
      "source": [
        "Write a function to flip all the spins at once:"
      ]
    },
    {
      "cell_type": "code",
      "execution_count": 12,
      "id": "a65e07fc",
      "metadata": {
        "id": "a65e07fc"
      },
      "outputs": [],
      "source": [
        "def flip_all_spins(i:int,N:int):\n",
        "    return(i^(2**N-1))"
      ]
    },
    {
      "cell_type": "markdown",
      "id": "72efef05",
      "metadata": {
        "id": "72efef05"
      },
      "source": [
        "Assuming we have a chain of 10 spin-$\\frac{1}{2}$'s, compute the sizes of the different magnetization sectors of the Hilbert space."
      ]
    },
    {
      "cell_type": "code",
      "execution_count": 13,
      "id": "5956e688",
      "metadata": {
        "id": "5956e688",
        "scrolled": false
      },
      "outputs": [
        {
          "name": "stdout",
          "output_type": "stream",
          "text": [
            "-10 1\n",
            "-8 10\n",
            "-6 45\n",
            "-4 120\n",
            "-2 210\n",
            "0 252\n",
            "2 210\n",
            "4 120\n",
            "6 45\n",
            "8 10\n",
            "10 1\n"
          ]
        }
      ],
      "source": [
        "#state the size of your system\n",
        "N=10\n",
        "\n",
        "#state the possible values the magnetization may take\n",
        "possible_magnetizations=np.arange(-N,N+1,2)\n",
        "\n",
        "#Create a dictionary to save the set of states for each magnetization sector\n",
        "m_sectors={}\n",
        "\n",
        "#Initialize an empty list in the dictionary for every possible m-value\n",
        "for m in possible_magnetizations:\n",
        "    m_sectors[f'{m}']=[]\n",
        "\n",
        "\n",
        "#Iterate over all the basis states and order them according to their magnetization\n",
        "for n in range(0,2**N):\n",
        "    n_up=count_upspins(n)\n",
        "    n_down=N-n_up\n",
        "    m=n_up-n_down\n",
        "    m_sectors[f'{m}'].append(n)\n",
        "\n",
        "#print the dimensions of the subspaces for the different magnetization sectors\n",
        "\n",
        "for m,basis in m_sectors.items():\n",
        "    print(m,len(basis))"
      ]
    },
    {
      "cell_type": "markdown",
      "id": "61aaadf1",
      "metadata": {
        "id": "61aaadf1"
      },
      "source": [
        "**Part 2: Transverse Field Ising Model**\n",
        "\n",
        "By now you should have solved the analytical exercise to express the Transverse Field Ising Hamiltonian in the momentum state basis. Let us apply what we have learned to the numerical study of the TFIM,\n",
        "$$\\hat H = \\sum\\limits_{i=0}^{N - 1} \\sigma_i^z \\sigma_{i + 1}^z + h^x \\sum\\limits_i \\sigma^x.$$\n",
        "The ultimate goal will be to exactly diagonalize the model and make use of the translation symmetry. Here we'll do some preparatory work. Assume $N=8$. What are the possible momenta $P_n$ that the system can have?$ \\\\ $\n",
        "$ P_n=\\frac{2\\pi}{N}n, \\; n=0,1,...,7.$ For every momentum $P_n$: $ \\\\ $-Find the representatives of all the orbits generated by the translation operator $\\hat{T}$. Choose as representative of an orbit the state of the orbit corresponding to the lowest integer value (state with up- and down spins <--> integer value via the bit representation). $ \\\\ $ -Next, check which orbits are compatible with the momentum $P_n$ (remember that e.g. the orbit created by the state $|\\uparrow\\downarrow\\uparrow\\downarrow\\uparrow\\downarrow\\uparrow\\downarrow\\rangle$ is only compatible with the momenta $P_0=\\frac{2\\pi}{8}0=0$ and $P_2=\\frac{2\\pi}{8}4=\\pi$, because translating the state twice must bring it back to itself, meaning that $\\exp(-iP_n2)$ must be equal to $1$.)\n"
      ]
    },
    {
      "cell_type": "code",
      "execution_count": null,
      "id": "f33558aa",
      "metadata": {
        "id": "f33558aa"
      },
      "outputs": [],
      "source": [
        "#Write a function that gives you the representatives for every orbit:\n",
        "def orbit_representatives(N:int):\n",
        "\n",
        "    reps=[]\n",
        "\n",
        "    for i in range(0,2**N):\n",
        "\n",
        "        rep_i=2**N\n",
        "\n",
        "        for j in range(0,N):\n",
        "\n",
        "            moved_state=shift_right(i,j,N)\n",
        "\n",
        "            if moved_state < rep_i:\n",
        "\n",
        "                rep_i=moved_state\n",
        "\n",
        "        if rep_i not in reps:\n",
        "            reps.append(rep_i)\n",
        "\n",
        "    return(np.array(reps))\n",
        "\n",
        "\n",
        "#Using the array with representatives, i.e. the output of orbit_representatives, check which orbits\n",
        "#are compatible with the momentum P_n and return the representatives:\n",
        "\n",
        "def compatible_representatives(reps:np.array,n:int,N:int):\n",
        "\n",
        "    compat_reps=[]\n",
        "\n",
        "    for rep in reps:\n",
        "         #check how many different states are in an orbit:\n",
        "            counter=0\n",
        "            state=rep\n",
        "            new_state=2**N\n",
        "\n",
        "            while new_state!=rep:\n",
        "\n",
        "                new_state=shift_right(state,1,N)\n",
        "                state=new_state\n",
        "                counter+=1\n",
        "                #print(new_state)\n",
        "\n",
        "            if (counter*n/N).is_integer():\n",
        "\n",
        "                compat_reps.append(rep)\n",
        "                print(\"rep possible\", compat_reps)\n",
        "\n",
        "    return(np.array(compat_reps))\n",
        "\n",
        "\n"
      ]
    },
    {
      "cell_type": "code",
      "execution_count": 19,
      "id": "3f9b1d85",
      "metadata": {
        "id": "3f9b1d85"
      },
      "outputs": [
        {
          "name": "stdout",
          "output_type": "stream",
          "text": [
            "[0 1 3 7]\n",
            "0\n",
            "4\n",
            "2\n",
            "1\n",
            "rep possible [np.int64(1)]\n",
            "5\n",
            "6\n",
            "3\n",
            "rep possible [np.int64(1), np.int64(3)]\n",
            "7\n",
            "[1 3]\n"
          ]
        }
      ],
      "source": [
        "print(orbit_representatives(3))\n",
        "print(compatible_representatives(orbit_representatives(3),2,3))"
      ]
    },
    {
      "cell_type": "markdown",
      "id": "697ab53a",
      "metadata": {
        "id": "697ab53a"
      },
      "source": [
        "The number of representatives that are compatible with a certain momentum is also the dimension of the corresponding invariant subspace (make sure that you understand that it is not a basis for the invariant subspace, though...). Check that everything adds up (in the case N=8), i.e. that the compatible states for all the momenta sum up to 256."
      ]
    },
    {
      "cell_type": "code",
      "execution_count": null,
      "id": "5fc7076a",
      "metadata": {
        "id": "5fc7076a"
      },
      "outputs": [],
      "source": [
        "#Define the system size:\n",
        "N=8\n",
        "\n",
        "#initialize a counter\n",
        "counter=0\n",
        "\n",
        "for n in range(0,N):\n",
        "    counter+=len(compatible_representatives(orbit_representatives(N),n,N))\n",
        "\n",
        "print(counter)\n",
        "\n"
      ]
    },
    {
      "cell_type": "code",
      "execution_count": null,
      "id": "5ecd4af0",
      "metadata": {},
      "outputs": [],
      "source": []
    }
  ],
  "metadata": {
    "colab": {
      "provenance": []
    },
    "kernelspec": {
      "display_name": "venv_CQM",
      "language": "python",
      "name": "python3"
    },
    "language_info": {
      "codemirror_mode": {
        "name": "ipython",
        "version": 3
      },
      "file_extension": ".py",
      "mimetype": "text/x-python",
      "name": "python",
      "nbconvert_exporter": "python",
      "pygments_lexer": "ipython3",
      "version": "3.9.7"
    }
  },
  "nbformat": 4,
  "nbformat_minor": 5
}
