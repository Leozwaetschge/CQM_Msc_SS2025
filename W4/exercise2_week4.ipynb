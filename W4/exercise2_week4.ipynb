{
 "cells": [
  {
   "cell_type": "code",
   "execution_count": null,
   "metadata": {
    "tags": []
   },
   "outputs": [],
   "source": [
    "import numpy as np"
   ]
  },
  {
   "cell_type": "markdown",
   "metadata": {
    "tags": []
   },
   "source": [
    "# Exercise 2\n",
    "Throughout this exercise we will use the following labelling of legs:\n",
    "![title](labelling.png)\n",
    "\n",
    "We will also be using the convention that we include trivial (i.e., one-dimensional) \"phantom\" singular values at either end of the MPS chain."
   ]
  },
  {
   "cell_type": "markdown",
   "metadata": {
    "tags": []
   },
   "source": [
    "## 2.1"
   ]
  },
  {
   "cell_type": "markdown",
   "metadata": {},
   "source": [
    "The first step is to implement functions that, given a MPS representation $M = [M^{[1]\\sigma_1} , . . . ,M^{[N]\\sigma_N}]$, compute the left-normalized\n",
    "representation $[A^{[1]}, . . . ,A^{[n]}]$ and the right-normalized representation $[B^{[1]}, . . . ,B^{[n]}]$."
   ]
  },
  {
   "cell_type": "code",
   "execution_count": null,
   "metadata": {
    "tags": []
   },
   "outputs": [],
   "source": [
    "def left_normalize(Ms):\n",
    "    \"\"\"\n",
    "    Convert a MPS to a left-normalized MPS.\n",
    "\n",
    "    Parameters\n",
    "    ----------\n",
    "    Ms : list of rank 3 tensors.\n",
    "        A MPS representation of the state.\n",
    "\n",
    "    Returns\n",
    "    -------\n",
    "    As : list of rank 3 tensors.\n",
    "        A left-normalized MPS representation of the state.\n",
    "    \"\"\"\n",
    "\n",
    "    As = []\n",
    "    # TODO: Implement\n",
    "    return As\n",
    "\n",
    "def right_normalize(Ms):\n",
    "    \"\"\"\n",
    "    Convert a MPS to a right-normalized MPS.\n",
    "\n",
    "    Parameters\n",
    "    ----------\n",
    "    Ms : list of rank 3 tensors.\n",
    "        A MPS representation of the state.\n",
    "\n",
    "    Returns\n",
    "    -------\n",
    "    Bs : list of rank 3 tensors.\n",
    "        A right-normalized MPS representation of the state.\n",
    "    \"\"\"\n",
    "\n",
    "    Bs = []\n",
    "    # TODO: Implement\n",
    "    return Bs\n"
   ]
  },
  {
   "cell_type": "markdown",
   "metadata": {
    "tags": []
   },
   "source": [
    "## 2.2"
   ]
  },
  {
   "cell_type": "markdown",
   "metadata": {},
   "source": [
    "Implement a function that constructs the Vidal canonical form and returns the matrices $\\Gamma = [\\Gamma^{[1]\\sigma_1} , . . . ,\\Gamma^{[N]\\sigma_N}]$ and $\\Lambda = [\\Lambda^{[1]} , . . . ,\\Lambda^{[N-1]}]$."
   ]
  },
  {
   "cell_type": "code",
   "execution_count": null,
   "metadata": {},
   "outputs": [],
   "source": [
    "def truncate(U, S, Vh):\n",
    "    \"\"\"\n",
    "    Remove singular values below threshold.\n",
    "    \"\"\"\n",
    "\n",
    "    l = np.sum(np.abs(S) > 1e-8)\n",
    "    return U[:, :l], S[:l], Vh[:l, :]\n",
    "\n",
    "def vidal_form(Ms):\n",
    "    \"\"\"\n",
    "    Convert a MPS to Vidal canonical form.\n",
    "\n",
    "    Parameters\n",
    "    ----------\n",
    "    Ms : list of rank 3 tensors.\n",
    "        A MPS representation of the state.\n",
    "\n",
    "    Returns\n",
    "    -------\n",
    "    Lambdas : list of rank 1 tensors.\n",
    "        The Schmidt values of every site.\n",
    "\n",
    "    Gammas : list of rank 3 tensors.\n",
    "        The Gamma matrices in the Vidal canonical form.\n",
    "    \"\"\"\n",
    "\n",
    "    Lambdas = [np.array([1])]\n",
    "    Gammas = []\n",
    "    # TODO: Implement\n",
    "\n",
    "    return Lambdas, Gammas"
   ]
  },
  {
   "cell_type": "markdown",
   "metadata": {},
   "source": [
    "You can use the implemented functions to get the Vidal's canonical form for states $|\\Psi_1>$ and $|\\Psi_2>$. "
   ]
  },
  {
   "cell_type": "code",
   "execution_count": null,
   "metadata": {
    "tags": []
   },
   "outputs": [],
   "source": [
    "def phi1(N):\n",
    "    \"\"\"\n",
    "    Get MPS form of phi1.\n",
    "\n",
    "    Parameters\n",
    "    ----------\n",
    "    N : int\n",
    "        The number of sites.\n",
    "\n",
    "    Returns\n",
    "    -------\n",
    "    Lambdas\n",
    "        The Schmidt values of phi1.\n",
    "\n",
    "    Gammas\n",
    "        The Gamma matrices in the Vidal canonical form of phi1.\n",
    "    \"\"\"\n",
    "\n",
    "    # TODO: Implement\n",
    "    pass\n",
    "\n",
    "def phi2(N):\n",
    "    \"\"\"\n",
    "    Get MPS form of phi2.\n",
    "\n",
    "    Parameters\n",
    "    ----------\n",
    "    N : int\n",
    "        The number of sites.\n",
    "\n",
    "    Returns\n",
    "    -------\n",
    "    Lambdas\n",
    "        The Schmidt values of phi2.\n",
    "        \n",
    "    Gammas\n",
    "        The Gamma matrices in the Vidal canonical form of phi2.\n",
    "    \"\"\"\n",
    "\n",
    "    # TODO: Implement\n",
    "    pass"
   ]
  },
  {
   "cell_type": "markdown",
   "metadata": {},
   "source": [
    "## 2.4"
   ]
  },
  {
   "cell_type": "markdown",
   "metadata": {},
   "source": [
    "Write a function that, given two generic states in the Vidal's canonical form, evaluates their overlap as describe in the exercise sheet. Then, calculate the overlap between $|\\Psi_1>$ and $|\\Psi_2>$ for N = 30 spins."
   ]
  },
  {
   "cell_type": "code",
   "execution_count": null,
   "metadata": {},
   "outputs": [],
   "source": [
    "def overlap(Lambdas1, Gammas1, Lambdas2, Gammas2):\n",
    "    \"\"\"\n",
    "    Compute the overlap of two wave functions given in Vidal canonical form.\n",
    "\n",
    "    Parameters\n",
    "    ----------\n",
    "    Lambdas1 : list of rank 1 tensors.\n",
    "        Schmidt values of the first state.\n",
    "\n",
    "    Gammas1 : list of rank 3 tensors.\n",
    "        Gamma matrices of the first state.\n",
    "\n",
    "    Lambdas2 : list of rank 1 tensors.\n",
    "        Schmidt values of the second state.\n",
    "\n",
    "    Gammas2 : list of rank 3 tensors.\n",
    "        Gamma matrices of the second state.\n",
    "\n",
    "    Returns\n",
    "    -------\n",
    "    complex\n",
    "        Overlap of the two states\n",
    "    \"\"\"\n",
    "\n",
    "    # TODO: Implement\n",
    "    pass"
   ]
  },
  {
   "cell_type": "code",
   "execution_count": null,
   "metadata": {
    "tags": []
   },
   "outputs": [],
   "source": [
    "N = 30\n",
    "Lambdas1, Gammas1 = phi1(N)\n",
    "Lambdas2, Gammas2 = phi2(N)\n",
    "print(\"Numeric:   \", overlap(Lambdas1, Gammas1, Lambdas2, Gammas2))\n",
    "print(\"Analytical:\", 2/np.sqrt(2)/(np.sqrt(2))**N)"
   ]
  },
  {
   "cell_type": "markdown",
   "metadata": {},
   "source": [
    "Verify the correct implementation of your function by calculating the normalization of an arbitrary MPS state in canonical form (should be equal to 1)."
   ]
  },
  {
   "cell_type": "code",
   "execution_count": null,
   "metadata": {
    "tags": []
   },
   "outputs": [],
   "source": [
    "def random_MPS(d, N):\n",
    "    \"\"\"\n",
    "    returns random MPS with bond dimension d\n",
    "    \"\"\"\n",
    "\n",
    "    # TODO: Implement\n",
    "    pass\n",
    "\n",
    "def check_left_normalisation(A):\n",
    "    \"\"\"\n",
    "    returns True, if A is right-normalized. \n",
    "    Only yields true result if rank of singular values not smaller than bond dimension.\n",
    "    has to be modified!\n",
    "    \"\"\"\n",
    "    E = np.tensordot(A, np.conjugate(A), axes=([0, 1], [0, 1]))\n",
    "    return np.linalg.norm(E - np.eye(np.shape(E)[0])) < 1e-4\n",
    "\n",
    "def check_right_normalisation(A):\n",
    "    \"\"\"\n",
    "    returns True, if A is right-normalized. \n",
    "    Only yields true result if rank of singular values not smaller than bond dimension.\n",
    "    has to be modified!\n",
    "    \"\"\"\n",
    "    E = np.tensordot(A, np.conjugate(A), axes=([0, 2], [0, 2]))\n",
    "    return np.linalg.norm(E - np.eye(np.shape(E)[0])) < 1e-4\n",
    "\n",
    "def check_properties(Lambdas, Gammas):\n",
    "    properties = True\n",
    "    for i in range(len(Gammas)):\n",
    "        A = np.tensordot(np.diag(Lambdas[i]), Gammas[i], axes=(1, 1))\n",
    "        A = np.transpose(A, [1, 0, 2])\n",
    "        B = np.tensordot(Gammas[i], np.diag(Lambdas[i+1]), axes=(2, 0))\n",
    "        properties = properties and check_left_normalisation(A) and check_right_normalisation(B)\n",
    "\n",
    "    return properties\n",
    "\n",
    "Lambdas_rand, Gammas_rand = vidal_form(random_MPS(2, 30))\n",
    "print(\"Norm:\", overlap(Lambdas_rand, Gammas_rand, Lambdas_rand, Gammas_rand))\n",
    "print(\"Is canonical:\", check_properties(Lambdas_rand, Gammas_rand))"
   ]
  }
 ],
 "metadata": {
  "kernelspec": {
   "display_name": "Python 3 (ipykernel)",
   "language": "python",
   "name": "python3"
  },
  "language_info": {
   "codemirror_mode": {
    "name": "ipython",
    "version": 3
   },
   "file_extension": ".py",
   "mimetype": "text/x-python",
   "name": "python",
   "nbconvert_exporter": "python",
   "pygments_lexer": "ipython3",
   "version": "3.10.0"
  }
 },
 "nbformat": 4,
 "nbformat_minor": 4
}
