{
 "cells": [
  {
   "cell_type": "code",
   "execution_count": 9,
   "metadata": {
    "tags": []
   },
   "outputs": [],
   "source": [
    "import numpy as np"
   ]
  },
  {
   "cell_type": "markdown",
   "metadata": {},
   "source": [
    "## 1.1\n",
    "The MPS tensors for the GHZ state are given as follows\n",
    "- at the left hand side boundary: $M^{[1]}_{\\uparrow}=\\frac{1}{\\sqrt{2}}\\begin{pmatrix} 1 & 0 \\end{pmatrix}$, $M^{[1]}_{\\downarrow}=\\frac{1}{\\sqrt{2}}   \\begin{pmatrix} 0 & 1 \\end{pmatrix}$\n",
    "- at all the intermediate sites $i=2,...,N-1$:  $M^{[i]}_{\\uparrow}=\\begin{pmatrix} 1 & 0 \\\\ 0 & 0\\end{pmatrix}$, $M^{[i]}_{\\downarrow}=\\begin{pmatrix} 0 & 0 \\\\ 0 & 1\\end{pmatrix}$ \n",
    "- at the right hand side boundary: $M^{[N]}_{\\uparrow}=\\begin{pmatrix} 1  \\\\ 0 \\end{pmatrix}$, $M^{[N]}_{\\downarrow}=   \\begin{pmatrix} 0 \\\\ 1 \\end{pmatrix}$;\n",
    "\n",
    "\n",
    "In this way, all the states different from $|111...1>$ and $|000...0>$ have weight equal to 0. \n",
    "\n",
    "We can derive the solution for $|\\Psi_1\\rangle$ modifying the construction above. In this case, we only have to allow for the two states\n",
    "\\begin{equation}\n",
    "|10101...0>, \\quad |01010...1>\n",
    "\\end{equation}\n",
    "if the number of spins $N$ is even, or for\n",
    "\\begin{equation}\n",
    "|10101...1>, \\quad |01010...0>\n",
    "\\end{equation}\n",
    "if $N$ is odd.\n",
    "It follows that:\n",
    "- at the left hand side boundary:  \n",
    "$M^{[1]}_{\\uparrow}=\\frac{1}{\\sqrt{2}}\\begin{pmatrix} 1 & 0 \\end{pmatrix}$, $M^{[1]}_{\\downarrow}=\\frac{1}{\\sqrt{2}}   \\begin{pmatrix} 0 & 1 \\end{pmatrix}$\n",
    "\n",
    "- at the right hand side boundary:\n",
    "1) for number of spins $N$ odd -> $M^{[N]}_{\\uparrow}=\\begin{pmatrix} 1 \\\\ 0\\end{pmatrix}$, $M^{[N]}_{\\downarrow}=\\begin{pmatrix} 0 \\\\ 1\\end{pmatrix}$\n",
    "\n",
    "2) for number of spins $N$ even -> $M^{[N]}_{\\uparrow}=\\begin{pmatrix} 0 \\\\ 1\\end{pmatrix}$, $M^{[N]}_{\\downarrow}=\\begin{pmatrix} 1 \\\\ 0\\end{pmatrix}$.\n",
    "\n",
    "At an even site $i$ mod $2=0$, the tensor $M^{[i]}_{\\sigma_i}$ is specified by: $M^{[i]}_{\\uparrow}=\\begin{pmatrix} 0 & 0 \\\\ 0 & 1\\end{pmatrix}$, $M^{[i]}_{\\downarrow}=\\begin{pmatrix} 1 & 0 \\\\ 0 & 0\\end{pmatrix}$.\n",
    "\n",
    "At an odd site $i$ mod $2=1$, the tensor $M^{[i]}_{\\sigma_i}$ is specified by: $M^{[i]}_{\\uparrow}=\\begin{pmatrix} 1 & 0 \\\\ 0 & 0\\end{pmatrix}$, $M^{[i]}_{\\downarrow}=\\begin{pmatrix} 0 & 0 \\\\ 0 & 1\\end{pmatrix}$.\n",
    "\n"
   ]
  },
  {
   "cell_type": "markdown",
   "metadata": {
    "tags": []
   },
   "source": [
    "# Exercise 1"
   ]
  },
  {
   "cell_type": "markdown",
   "metadata": {},
   "source": [
    "Note: in this exercise the numeration of the sites starts from 1. Consider that, in the numerical implementation in exercise 2, the first site is 0, so the role of matrices at even and odd sites will be reversed."
   ]
  },
  {
   "cell_type": "markdown",
   "metadata": {},
   "source": [
    "## 1.2\n",
    "For the state $|\\Psi_2\\rangle$, we notice that it is a superposition of all the possible spin configurations in the basis. Moreover, the coefficients of all the computational basis states $|s_1, ...s_N\\rangle$ (spin-configuration) are equal to $(\\frac{1}{\\sqrt{2}})^{N}$. Therefore, we can find a representation with bond dimension $d=1$: $M^{[i]}_{\\sigma_i}=\\frac{1}{\\sqrt{2}}$. Indeed, this choice satisfies the constraint $\\sum_{\\sigma_i} M^{[i]\\dagger}_{\\sigma_i} M^{[i]}_{\\sigma_i} = 1$ for all $i$."
   ]
  },
  {
   "cell_type": "markdown",
   "metadata": {},
   "source": [
    "## 1.3.\n",
    "In the canonical form, the following properties (left- and right-normalization) should be fulfilled\n",
    "\n",
    "$\\sum \\limits_{\\sigma_i}(A^{[i]\\sigma_i})^{\\dagger} A^{[i]\\sigma_i}=I$ with $A^{[i]\\sigma_i}=\\Lambda^{[i-1]}\\Gamma^{[i]\\sigma_{i}}$, $A^{[1]\\sigma_1}=\\Gamma^{[1]\\sigma_{1}}$, $\\ \\ \\ (1)$\n",
    "\n",
    "as well as\n",
    "\n",
    "$\\sum \\limits_{\\sigma_i}B^{[i]\\sigma_i}(B^{[i]\\sigma_i})^{\\dagger}=I$ with $B^{[i]\\sigma_i}=\\Gamma^{[i]\\sigma_i}\\Lambda^{[i]}$, $B^{[N]\\sigma_N}=\\Gamma^{[i]\\sigma_i}$. $\\ \\ \\ (2)$\n",
    "\n",
    "The canonical form is easy to guess for $|\\Psi_1\\rangle$ and $|\\Psi_2\\rangle$. In particular, for\n",
    "$|\\Psi_1\\rangle$ with MPS representation $[M^{[1]\\sigma_1},...M^{[N]\\sigma_N}]$ stated in 1.1, the matrices $[\\Gamma^{[1]\\sigma_1}, ...\\Gamma^{[N]\\sigma_N}]$, $[\\Lambda^{[1]}, ...\\Lambda^{[N-1]}]$ are given by\n",
    "\n",
    "$\\Gamma^{[i]\\sigma_i}=\\sqrt{2}M^{[i]\\sigma_i}$ for $i \\neq 1,N$\n",
    "\n",
    "and at the boundaries\n",
    "\n",
    "$\\Gamma^{[1]\\uparrow}=\\begin{pmatrix} 1 & 0 \\end{pmatrix}$, $\\Gamma^{[1]\\downarrow}=\\begin{pmatrix} 0 & 1 \\end{pmatrix}$,\n",
    "$\\Gamma^{[N]\\sigma_N}=M^{[N]\\sigma_N}$.\n",
    "\n",
    "The singular values are $\\Lambda^{[i]}=\\begin{pmatrix} \\frac{1}{\\sqrt{2}} & 0 \\\\ 0 & \\frac{1}{\\sqrt{2}} \\end{pmatrix}$.\n",
    "\n",
    "Plugging the found tensors into conditions (1), (2) we can confirm that they are fulfilled.\n",
    "\n",
    "\n",
    "The canonical form of the state $|\\Psi_2\\rangle$ is given by\n",
    "\n",
    "$\\Gamma^{[i]\\sigma_i}=\\frac{1}{\\sqrt{2}}$ and singular (Schmidt) values $\\Lambda^{[i]}=1$.\n"
   ]
  },
  {
   "cell_type": "markdown",
   "metadata": {},
   "source": [
    "## 1.4 (Optional)\n",
    "We can find an MPO representation of the Heisenberg model with bond dimension $d=5$\n",
    "\n",
    "$O^{[i]}=\\begin{pmatrix}  I & 0 & 0 & 0 & 0 \\\\ S^{x}_i & 0 & 0 & 0 & 0 \\\\ S^{y}_i & 0 & 0 & 0 & 0 \\\\ S^{z}_i & 0 & 0 & 0 & 0 \\\\ 0 & -JS^{x}_{i}& -JS^{y}_{i}& -JS^{z}_{i} & I \\end{pmatrix}$\n",
    "\n",
    "with boundary tensors\n",
    "$O^{[1]}=\\begin{pmatrix}   0 & -JS^{x}_{1}& -JS^{y}_{1}& -JS^{z}_{1} & I \\end{pmatrix}$\n",
    "\n",
    "and  \n",
    "\n",
    "$O^{[N]}=\\begin{pmatrix}  I  \\\\ S^{x}_N \\\\ S^{y}_N \\\\ S^{z}_N \\\\ 0 \\end{pmatrix}$"
   ]
  },
  {
   "cell_type": "markdown",
   "metadata": {
    "tags": []
   },
   "source": [
    "# Exercise 2\n",
    "Throughout this exercise we will use the following labelling of legs:\n",
    "![title](labelling.png)\n",
    "\n",
    "We will also be using the convention that we include trivial (i.e., one-dimensional) \"phantom\" singular values at either end of the MPS chain."
   ]
  },
  {
   "cell_type": "markdown",
   "metadata": {
    "tags": []
   },
   "source": [
    "## 2.1"
   ]
  },
  {
   "cell_type": "markdown",
   "metadata": {},
   "source": [
    "The first step is to implement functions that, given a MPS representation $M = [M^{[1]\\sigma_1} , . . . ,M^{[N]\\sigma_N}]$, compute the left-normalized\n",
    "representation $[A^{[1]}, . . . ,A^{[n]}]$ and the right-normalized representation $[B^{[1]}, . . . ,B^{[n]}]$."
   ]
  },
  {
   "cell_type": "code",
   "execution_count": null,
   "metadata": {},
   "outputs": [],
   "source": [
    "def left_normalize(Ms):\n",
    "    \"\"\"\n",
    "    Convert a MPS to a left-normalized MPS.\n",
    "\n",
    "    Parameters\n",
    "    ----------\n",
    "    Ms : list of rank 3 tensors.\n",
    "        A MPS representation of the state.\n",
    "\n",
    "    Returns\n",
    "    -------\n",
    "    As : list of rank 3 tensors.\n",
    "        A left-normalized MPS representation of the state.\n",
    "    \"\"\"\n",
    "\n",
    "    As = []\n",
    "    T = np.ones((1, 1))\n",
    "    for M in Ms:\n",
    "        M = np.tensordot(T, M, axes=(1, 1)) \n",
    "        M = np.transpose(M, [1, 0, 2])\n",
    "        d, chi1, chi2 = M.shape             \n",
    "        U, S, Vh = np.linalg.svd(np.reshape(M, [d*chi1, chi2]), full_matrices=False)\n",
    "        A = np.reshape(U, [d, chi1, -1])   \n",
    "        As.append(A)                        \n",
    "        T = np.diag(S) @ Vh                 \n",
    "\n",
    "    # Keep leftover signs (but no normalization)\n",
    "    As[0] = As[0]*np.sign(T)\n",
    "    return As\n",
    "\n",
    "def right_normalize(Ms):\n",
    "    \"\"\"\n",
    "    Convert a MPS to a right-normalized MPS.\n",
    "\n",
    "    Parameters\n",
    "    ----------\n",
    "    Ms : list of rank 3 tensors.\n",
    "        A MPS representation of the state.\n",
    "\n",
    "    Returns\n",
    "    -------\n",
    "    Bs : list of rank 3 tensors.\n",
    "        A right-normalized MPS representation of the state.\n",
    "    \"\"\"\n",
    "\n",
    "    Bs = []\n",
    "    T = np.ones((1, 1))\n",
    "    for M in reversed(Ms):\n",
    "        M = np.tensordot(M, T, axes=(2, 0))\n",
    "        d, chi1, chi2 = M.shape\n",
    "        M = np.transpose(M, [1, 0, 2])\n",
    "        U, S, Vh = np.linalg.svd(np.reshape(M, [chi1, d*chi2]), full_matrices=False)\n",
    "        B = np.transpose(np.reshape(Vh, [-1, d, chi2]), [1, 0, 2])\n",
    "\n",
    "        Bs.append(B)\n",
    "        T = U @ np.diag(S)\n",
    "\n",
    "    # reverse Bs\n",
    "    Bs = Bs[::-1]\n",
    "    # Keep leftover signs (but no normalization)\n",
    "    Bs[0] = Bs[0]*np.sign(T)\n",
    "    return Bs\n",
    "\n"
   ]
  },
  {
   "cell_type": "markdown",
   "metadata": {},
   "source": [
    "## 2.2"
   ]
  },
  {
   "cell_type": "markdown",
   "metadata": {},
   "source": [
    "Implement a function that constructs the Vidal canonical form and returns the matrices $\\Gamma = [\\Gamma^{[1]\\sigma_1} , . . . ,\\Gamma^{[N]\\sigma_N}]$ and $\\Lambda = [\\Lambda^{[1]} , . . . ,\\Lambda^{[N-1]}]$."
   ]
  },
  {
   "cell_type": "code",
   "execution_count": 17,
   "metadata": {},
   "outputs": [],
   "source": [
    "def truncate(U, S, Vh):\n",
    "    \"\"\"\n",
    "    Remove singular values below threshold.\n",
    "    \"\"\"\n",
    "\n",
    "    l = np.sum(np.abs(S) > 1e-8)\n",
    "    return U[:, :l], S[:l], Vh[:l, :]\n",
    "\n",
    "def vidal_form(Ms):\n",
    "    \"\"\"\n",
    "    Convert a MPS to Vidal canonical form.\n",
    "\n",
    "    Parameters\n",
    "    ----------\n",
    "    Ms : list of rank 3 tensors.\n",
    "        A MPS representation of the state.\n",
    "\n",
    "    Returns\n",
    "    -------\n",
    "    Lambdas : list of rank 1 tensors.\n",
    "        The Schmidt values of every site.\n",
    "\n",
    "    Gammas : list of rank 3 tensors.\n",
    "        The Gamma matrices in the Vidal canonical form.\n",
    "    \"\"\"\n",
    "\n",
    "    Lambdas = [np.array([1])]\n",
    "    Gammas = []\n",
    "    Bs = right_normalize(Ms)\n",
    "    N = len(Bs)\n",
    "    T = np.ones((1, 1))\n",
    "    for i in range(N):\n",
    "        Bi = np.tensordot(T, Bs[i], axes=(1, 1))\n",
    "        Bi = np.transpose(Bi, [1, 0, 2])\n",
    "        d, chi1, chi2 = Bi.shape\n",
    "        U, S, Vh = truncate(*np.linalg.svd(np.reshape(Bi, [d*chi1, chi2]), full_matrices=False))\n",
    "\n",
    "        A = np.reshape(U, [d, chi1, len(S)])\n",
    "        Gamma = np.tensordot(np.diag(1.0/Lambdas[-1]), A, axes=(1, 1))\n",
    "        Gammas.append(Gamma.transpose([1, 0, 2]))\n",
    "        Lambdas.append(S)\n",
    "        T = np.diag(S)@Vh\n",
    "\n",
    "    return Lambdas, Gammas"
   ]
  },
  {
   "cell_type": "markdown",
   "metadata": {},
   "source": [
    "You can use the implemented functions to get the Vidal's canonical form for states $|\\Psi_1>$ and $|\\Psi_2>$. "
   ]
  },
  {
   "cell_type": "markdown",
   "metadata": {},
   "source": [
    "Given the two MPS forms found in exercise 1.1 and 1.2, one can apply the canonization procedure implemented above."
   ]
  },
  {
   "cell_type": "code",
   "execution_count": 18,
   "metadata": {},
   "outputs": [],
   "source": [
    "def phi1(N):\n",
    "    \"\"\"\n",
    "    Get MPS form of phi1.\n",
    "\n",
    "    Parameters\n",
    "    ----------\n",
    "    N : int\n",
    "        The number of sites.\n",
    "\n",
    "    Returns\n",
    "    -------\n",
    "    Lambdas\n",
    "        The Schmidt values of phi1.\n",
    "\n",
    "    Gammas\n",
    "        The Gamma matrices in the Vidal canonical form of phi1.\n",
    "    \"\"\"\n",
    "\n",
    "    M0 = np.zeros((2, 1, 2))\n",
    "    M0[0,:,:] = [1, 0]/np.sqrt(2)\n",
    "    M0[1,:,:] = [0, 1]/np.sqrt(2)\n",
    "    if N % 2 == 0:\n",
    "        MN = np.zeros((2, 2, 1)) #MN is actually the matrix at site N-1\n",
    "        MN[0,:,:] = np.vstack([0, 1]) \n",
    "        MN[1,:,:] = np.vstack([1, 0])\n",
    "    else:\n",
    "        MN = np.zeros((2, 2, 1))\n",
    "        MN[0, :] = np.vstack([1, 0])\n",
    "        MN[1, :] = np.vstack([0, 1])\n",
    "\n",
    "    M_even = np.zeros((2, 2, 2))\n",
    "    M_even[0,:,:] = [[1, 0], [0, 0]]\n",
    "    M_even[1,:,:] = [[0, 0], [0, 1]]\n",
    "    \n",
    "    M_odd = np.flip(M_even, 0)\n",
    "\n",
    "    Ms = [M0]\n",
    "    for i in range(1, N - 1):\n",
    "        if i % 2 == 0:\n",
    "            Ms.append(np.copy(M_even))\n",
    "        else:\n",
    "            Ms.append(np.copy(M_odd))\n",
    "\n",
    "    Ms.append(MN)\n",
    "    return vidal_form(Ms)\n",
    "\n",
    "def phi2(N):\n",
    "    \"\"\"\n",
    "    Get MPS form of phi2.\n",
    "\n",
    "    Parameters\n",
    "    ----------\n",
    "    N : int\n",
    "        The number of sites.\n",
    "\n",
    "    Returns\n",
    "    -------\n",
    "    Lambdas\n",
    "        The Schmidt values of phi2.\n",
    "        \n",
    "    Gammas\n",
    "        The Gamma matrices in the Vidal canonical form of phi2.\n",
    "    \"\"\"\n",
    "\n",
    "    M0 = np.zeros((2, 1, 2))\n",
    "    M0[0, :] = [1, 0]\n",
    "    M0[1, :] = [1, 0]\n",
    "    \n",
    "    M = np.zeros((2, 2, 2))\n",
    "    M[0] = np.identity(2)\n",
    "    M[1] = np.identity(2)\n",
    "    \n",
    "    MN = np.transpose(M0, [0, 2, 1])\n",
    "\n",
    "    Ms = [M0/np.sqrt(2)]\n",
    "    for i in range(N - 2):\n",
    "        Ms.append(np.copy(M)/np.sqrt(2))\n",
    "\n",
    "    Ms.append(MN/np.sqrt(2))\n",
    "    return vidal_form(Ms)"
   ]
  },
  {
   "cell_type": "code",
   "execution_count": null,
   "metadata": {},
   "outputs": [
    {
     "name": "stdout",
     "output_type": "stream",
     "text": [
      "10\n",
      "[[[0.         0.        ]\n",
      "  [0.         1.41421356]]\n",
      "\n",
      " [[1.41421356 0.        ]\n",
      "  [0.         0.        ]]]\n",
      "[[[ 0.         -1.41421356]\n",
      "  [ 0.          0.        ]]\n",
      "\n",
      " [[ 0.          0.        ]\n",
      "  [-1.41421356  0.        ]]]\n",
      "[[[1.]\n",
      "  [0.]]\n",
      "\n",
      " [[0.]\n",
      "  [1.]]]\n"
     ]
    }
   ],
   "source": [
    "N = 10\n",
    "Lambdas1, Gammas1 = phi1(N)\n",
    "Lambdas2, Gammas2 = phi2(N)\n",
    "print(Gammas1[7]) #up to this point everything is fine\n",
    "print(Gammas1[8]) #here something not clear happens. The matrices at\n",
    "#this site simply are not the ones one would expect (according\n",
    "#to my understanding the rows are exchanged for some reason)\n",
    "print(Gammas1[9]) #it should be with the two gammas reversed or rows\n",
    "# exchanged \n"
   ]
  },
  {
   "cell_type": "markdown",
   "metadata": {},
   "source": [
    "## 2.4\n",
    "Write a function that, given two generic states in the Vidal's canonical form, evaluates their overlap as describe in the exercise sheet. Then, calculate the overlap between $|\\Psi_1>$ and $|\\Psi_2>$ for N = 30 spins."
   ]
  },
  {
   "cell_type": "code",
   "execution_count": 24,
   "metadata": {
    "tags": []
   },
   "outputs": [],
   "source": [
    "def overlap(Lambdas1, Gammas1, Lambdas2, Gammas2):\n",
    "    \"\"\"\n",
    "    Compute the overlap of two wave functions given in Vidal canonical form.\n",
    "\n",
    "    Parameters\n",
    "    ----------\n",
    "    Lambdas1 : list of rank 1 tensors.\n",
    "        Schmidt values of the first state.\n",
    "\n",
    "    Gammas1 : list of rank 3 tensors.\n",
    "        Gamma matrices of the first state.\n",
    "\n",
    "    Lambdas2 : list of rank 1 tensors.\n",
    "        Schmidt values of the second state.\n",
    "\n",
    "    Gammas2 : list of rank 3 tensors.\n",
    "        Gamma matrices of the second state.\n",
    "\n",
    "    Returns\n",
    "    -------\n",
    "    complex\n",
    "        Overlap of the two states\n",
    "    \"\"\"\n",
    "\n",
    "    assert(len(Gammas1) == len(Gammas2))\n",
    "\n",
    "    overlap = np.tensordot(Gammas2[0], Gammas1[0].conj(), axes=(0, 0))\n",
    "    overlap = np.transpose(overlap, [0, 2, 1, 3])\n",
    "    for i in range(1, len(Gammas1)):\n",
    "        # Multiply Lambdas\n",
    "        overlap = np.tensordot(overlap, np.diag(Lambdas2[i]), axes=(2, 0))\n",
    "        overlap = np.tensordot(overlap, np.diag(Lambdas1[i]), axes=(2, 0))\n",
    "        \n",
    "        # Multiply Gammas\n",
    "        overlap = np.tensordot(overlap, Gammas2[i], axes=(2, 1))\n",
    "        overlap = np.tensordot(overlap, Gammas1[i].conj(), axes=([2,3], [1, 0]))\n",
    "\n",
    "    return overlap.flatten()[0]"
   ]
  },
  {
   "cell_type": "code",
   "execution_count": 25,
   "metadata": {
    "tags": []
   },
   "outputs": [
    {
     "name": "stdout",
     "output_type": "stream",
     "text": [
      "Numeric:    4.315837287515538e-05\n",
      "Analytical: 4.31583728751554e-05\n"
     ]
    }
   ],
   "source": [
    "N = 30\n",
    "Lambdas1, Gammas1 = phi1(N)\n",
    "Lambdas2, Gammas2 = phi2(N)\n",
    "print(\"Numeric:   \", overlap(Lambdas1, Gammas1, Lambdas2, Gammas2))\n",
    "print(\"Analytical:\", 2*1/np.sqrt(2)*1/np.sqrt(2)**N)"
   ]
  },
  {
   "cell_type": "markdown",
   "metadata": {},
   "source": [
    "Verify the correct implementation of your function by calculating the normalization of an arbitrary MPS state in canonical form (should be equal to 1)."
   ]
  },
  {
   "cell_type": "code",
   "execution_count": 22,
   "metadata": {
    "tags": []
   },
   "outputs": [
    {
     "name": "stdout",
     "output_type": "stream",
     "text": [
      "Norm: 1.0000000000000007\n",
      "Is canonical: True\n"
     ]
    }
   ],
   "source": [
    "def random_MPS(d, N):\n",
    "    \"\"\"\n",
    "    returns random MPS with bond dimension d\n",
    "    \"\"\"\n",
    "    A1 = np.random.rand(2,1,d)\n",
    "    Ms = [A1]\n",
    "    for i in range(N - 2):\n",
    "        Ai=np.random.rand(2,d,d) \n",
    "        Ms.append(Ai)\n",
    "\n",
    "    An = np.random.rand(2,d,1)\n",
    "    Ms.append(An)\n",
    "    return Ms\n",
    "\n",
    "def check_left_normalisation(A):\n",
    "    \"\"\"\n",
    "    returns True, if A is right-normalized. \n",
    "    Only yields true result if rank of singular values not smaller than bond dimension.\n",
    "    has to be modified!\n",
    "    \"\"\"\n",
    "    E = np.tensordot(A, np.conjugate(A), axes=([0, 1], [0, 1]))\n",
    "    return np.linalg.norm(E - np.eye(np.shape(E)[0])) < 1e-4\n",
    "\n",
    "def check_right_normalisation(A):\n",
    "    \"\"\"\n",
    "    returns True, if A is right-normalized. \n",
    "    Only yields true result if rank of singular values not smaller than bond dimension.\n",
    "    has to be modified!\n",
    "    \"\"\"\n",
    "    E = np.tensordot(A, np.conjugate(A), axes=([0, 2], [0, 2]))\n",
    "    return np.linalg.norm(E - np.eye(np.shape(E)[0])) < 1e-4\n",
    "\n",
    "def check_properties(Lambdas, Gammas):\n",
    "    properties = True\n",
    "    for i in range(len(Gammas)):\n",
    "        A = np.tensordot(np.diag(Lambdas[i]), Gammas[i], axes=(1, 1))\n",
    "        A = np.transpose(A, [1, 0, 2])\n",
    "        B = np.tensordot(Gammas[i], np.diag(Lambdas[i+1]), axes=(2, 0))\n",
    "        properties = properties and check_left_normalisation(A) and check_right_normalisation(B)\n",
    "\n",
    "    return properties\n",
    "\n",
    "Lambdas_rand, Gammas_rand = vidal_form(random_MPS(2, 30))\n",
    "print(\"Norm:\", overlap(Lambdas_rand, Gammas_rand, Lambdas_rand, Gammas_rand))\n",
    "print(\"Is canonical:\", check_properties(Lambdas_rand, Gammas_rand))"
   ]
  },
  {
   "cell_type": "code",
   "execution_count": null,
   "metadata": {},
   "outputs": [],
   "source": []
  },
  {
   "cell_type": "code",
   "execution_count": null,
   "metadata": {},
   "outputs": [],
   "source": []
  }
 ],
 "metadata": {
  "kernelspec": {
   "display_name": "venv_CQM",
   "language": "python",
   "name": "python3"
  },
  "language_info": {
   "codemirror_mode": {
    "name": "ipython",
    "version": 3
   },
   "file_extension": ".py",
   "mimetype": "text/x-python",
   "name": "python",
   "nbconvert_exporter": "python",
   "pygments_lexer": "ipython3",
   "version": "3.9.7"
  }
 },
 "nbformat": 4,
 "nbformat_minor": 4
}
