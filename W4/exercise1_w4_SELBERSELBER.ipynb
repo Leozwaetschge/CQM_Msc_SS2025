{
 "cells": [
  {
   "cell_type": "code",
   "execution_count": 4,
   "metadata": {},
   "outputs": [],
   "source": [
    "import numpy as np\n",
    "\n",
    "def mps_psi1_even(N):\n",
    "    assert N % 2 == 0, \"N muss gerade sein\"\n",
    "    A = np.zeros((2, 2, 2), dtype=complex)\n",
    "    B = np.zeros((2, 2, 2), dtype=complex)\n",
    "    \n",
    "    A[0, 0, 0] = 1 / np.sqrt(2)\n",
    "    A[1, 1, 0] = 1 / np.sqrt(2)\n",
    "    B[0, 0, 1] = 1 / np.sqrt(2)\n",
    "    B[1, 1, 1] = 1 / np.sqrt(2)\n",
    "    \n",
    "    mps = [A if i % 2 == 0 else B for i in range(N)]\n",
    "    return mps"
   ]
  },
  {
   "cell_type": "code",
   "execution_count": 1,
   "metadata": {},
   "outputs": [],
   "source": [
    "def mps_psi1_odd(N):\n",
    "    assert N % 2 == 1, \"N muss ungerade sein\"\n",
    "    A = np.zeros((2, 2, 2), dtype=complex)\n",
    "    B = np.zeros((2, 2, 2), dtype=complex)\n",
    "    \n",
    "    A[0, 0, 0] = 1 / np.sqrt(2)\n",
    "    A[1, 1, 0] = 1 / np.sqrt(2)\n",
    "    B[0, 0, 1] = 1 / np.sqrt(2)\n",
    "    B[1, 1, 1] = 1 / np.sqrt(2)\n",
    "    \n",
    "    mps = [A if i % 2 == 0 else B for i in range(N)]\n",
    "    return mps"
   ]
  },
  {
   "cell_type": "code",
   "execution_count": 2,
   "metadata": {},
   "outputs": [],
   "source": [
    "def mps_psi2(N):\n",
    "    A = np.zeros((2, 2, 2), dtype=complex)\n",
    "    A[0, 0, 0] = 1 / np.sqrt(2)\n",
    "    A[1, 1, 0] = 1 / np.sqrt(2)\n",
    "    A[0, 0, 1] = 1 / np.sqrt(2)\n",
    "    A[1, 1, 1] = 1 / np.sqrt(2)\n",
    "    \n",
    "    mps = [A for _ in range(N)]\n",
    "    return mps"
   ]
  },
  {
   "cell_type": "code",
   "execution_count": 5,
   "metadata": {},
   "outputs": [],
   "source": [
    "def canonical_form(mps):\n",
    "    N = len(mps)\n",
    "    for i in range(N - 1):\n",
    "        A = mps[i]\n",
    "        d, D1, D2 = A.shape\n",
    "        A = A.reshape(d * D1, D2)\n",
    "        U, S, Vh = np.linalg.svd(A, full_matrices=False)\n",
    "        U = U.reshape(d, D1, -1)\n",
    "        mps[i] = U\n",
    "        S = np.diag(S)\n",
    "        mps[i + 1] = np.tensordot(S, Vh, axes=(1, 0)).reshape(-1, *mps[i + 1].shape[1:])\n",
    "    return mps\n",
    "\n",
    "# Beispielaufruf\n",
    "N = 4\n",
    "mps = mps_psi2(N)\n",
    "canonical_mps = canonical_form(mps)"
   ]
  },
  {
   "cell_type": "code",
   "execution_count": 7,
   "metadata": {},
   "outputs": [],
   "source": [
    "def heisenberg_mpo(N, J):\n",
    "    d = 2\n",
    "    W = np.zeros((5, 5, d, d), dtype=complex)\n",
    "    \n",
    "    # Identitätsoperator\n",
    "    I = np.eye(d)\n",
    "    \n",
    "    # Pauli-Matrizen\n",
    "    Sx = np.array([[0, 1], [1, 0]], dtype=complex)\n",
    "    Sy = np.array([[0, -1j], [1j, 0]], dtype=complex)\n",
    "    Sz = np.array([[1, 0], [0, -1]], dtype=complex)\n",
    "    \n",
    "    W[0, 0] = I\n",
    "    W[4, 4] = I\n",
    "    W[0, 1] = Sx\n",
    "    W[0, 2] = Sy\n",
    "    W[0, 3] = Sz\n",
    "    W[1, 4] = J * Sx\n",
    "    W[2, 4] = J * Sy\n",
    "    W[3, 4] = J * Sz\n",
    "    \n",
    "    mpo = [W] * N\n",
    "    return mpo\n",
    "\n",
    "# Beispielaufruf\n",
    "N = 4\n",
    "J = 1.0\n",
    "mpo = heisenberg_mpo(N, J)"
   ]
  },
  {
   "cell_type": "code",
   "execution_count": null,
   "metadata": {},
   "outputs": [],
   "source": []
  }
 ],
 "metadata": {
  "kernelspec": {
   "display_name": "venv_CQM",
   "language": "python",
   "name": "python3"
  },
  "language_info": {
   "codemirror_mode": {
    "name": "ipython",
    "version": 3
   },
   "file_extension": ".py",
   "mimetype": "text/x-python",
   "name": "python",
   "nbconvert_exporter": "python",
   "pygments_lexer": "ipython3",
   "version": "3.9.7"
  }
 },
 "nbformat": 4,
 "nbformat_minor": 2
}
