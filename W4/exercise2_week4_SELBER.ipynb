{
 "cells": [
  {
   "cell_type": "code",
   "execution_count": null,
   "metadata": {
    "tags": []
   },
   "outputs": [],
   "source": [
    "import numpy as np"
   ]
  },
  {
   "cell_type": "markdown",
   "metadata": {
    "tags": []
   },
   "source": [
    "# Exercise 2\n",
    "Throughout this exercise we will use the following labelling of legs:\n",
    "![title](labelling.png)\n",
    "\n",
    "We will also be using the convention that we include trivial (i.e., one-dimensional) \"phantom\" singular values at either end of the MPS chain."
   ]
  },
  {
   "cell_type": "markdown",
   "metadata": {
    "tags": []
   },
   "source": [
    "## 2.1"
   ]
  },
  {
   "cell_type": "markdown",
   "metadata": {},
   "source": [
    "The first step is to implement functions that, given a MPS representation $M = [M^{[1]\\sigma_1} , . . . ,M^{[N]\\sigma_N}]$, compute the left-normalized\n",
    "representation $[A^{[1]}, . . . ,A^{[n]}]$ and the right-normalized representation $[B^{[1]}, . . . ,B^{[n]}]$."
   ]
  },
  {
   "cell_type": "code",
   "execution_count": 23,
   "metadata": {
    "tags": []
   },
   "outputs": [],
   "source": [
    "#what we have to do:\n",
    "# reshape the Tensor into a matrix \n",
    "#take the tensor and plit it in U, S, Vh\n",
    "#Vh absorbs the S\n",
    "#U is the new A but we convert it back to a tensor\n",
    "\n",
    "def left_normalize(Ms):\n",
    "    \"\"\"\n",
    "    Convert a MPS to a left-normalized MPS.\n",
    "\n",
    "    Parameters\n",
    "    ----------\n",
    "    Ms : list of rank 3 tensors.\n",
    "        A MPS representation of the state.\n",
    "\n",
    "    Returns\n",
    "    -------\n",
    "    As : list of rank 3 tensors.\n",
    "        A left-normalized MPS representation of the state.\n",
    "    \"\"\"\n",
    "\n",
    "    As = []\n",
    "    T = np.ones((1,1)) #initial tensor only has one element\n",
    "    for M in Ms:\n",
    "        np.tensordot(T,M,axes = (1,1)) #correct the axes                                            ########WHY DO THAT?\n",
    "        np.transpose(M, [1,0,2]) #transpose the tensor so it has the right shape for the SVD\n",
    "        d, chi1, chi2 = M.shape #get the dimensions of the tensor\n",
    "        M = np.reshape(M, (d*chi1, chi2)) #reshape the tensor into a matrix to perform the SVD\n",
    "        U, S, Vh = np.linalg.svd(M,full_matrices = False)\n",
    "        As.append(np.reshape(U, (d, chi1, -1))) #convert the matrix back into a tensor\n",
    "        T = np.matmul(np.diag(S), Vh) #absorb the S into Vh\n",
    "        \n",
    "    # Keep leftover signs (but no normalization)\n",
    "    As[0] = As[0]*np.sign(T)                                                                          ########WHY DO THAT?\n",
    "    return As\n",
    "\n",
    "def right_normalize(Ms):\n",
    "    \"\"\"\n",
    "    Convert a MPS to a right-normalized MPS.\n",
    "\n",
    "    Parameters\n",
    "    ----------\n",
    "    Ms : list of rank 3 tensors.\n",
    "        A MPS representation of the state.\n",
    "\n",
    "    Returns\n",
    "    -------\n",
    "    Bs : list of rank 3 tensors.\n",
    "        A right-normalized MPS representation of the state.\n",
    "    \"\"\"\n",
    "\n",
    "    Bs = []\n",
    "    T = np.ones((1,1)) #initial tensor only has one element\n",
    "    for M in reversed(Ms):\n",
    "        np.tensordot(M,T,axes = (2,0))\n",
    "        d, chi1, chi2 = M.shape\n",
    "        M = np.transpose(M, [1,0,2])\n",
    "        M = np.reshape(M, (chi1, d*chi2))\n",
    "        U, S, Vh = np.linalg.svd(M,full_matrices = False)\n",
    "        Vh = np.reshape(Vh, (-1, d, chi2))\n",
    "        Bs.append(np.transpose(Vh, [1,0,2]))\n",
    "        T = np.matmul(U, np.diag(S))\n",
    "\n",
    "    Bs = Bs[::-1]\n",
    "    Bs[0] = Bs[0]*np.sign(T)                                                                          ########WHY DO THAT?\n",
    "    return Bs\n"
   ]
  },
  {
   "cell_type": "markdown",
   "metadata": {
    "tags": []
   },
   "source": [
    "## 2.2"
   ]
  },
  {
   "cell_type": "markdown",
   "metadata": {},
   "source": [
    "Implement a function that constructs the Vidal canonical form and returns the matrices $\\Gamma = [\\Gamma^{[1]\\sigma_1} , . . . ,\\Gamma^{[N]\\sigma_N}]$ and $\\Lambda = [\\Lambda^{[1]} , . . . ,\\Lambda^{[N-1]}]$."
   ]
  },
  {
   "cell_type": "code",
   "execution_count": 25,
   "metadata": {},
   "outputs": [],
   "source": [
    "def truncate(U, S, Vh):\n",
    "    \"\"\"\n",
    "    Remove singular values below threshold.\n",
    "    \"\"\"\n",
    "\n",
    "    l = np.sum(np.abs(S) > 1e-8)\n",
    "    return U[:, :l], S[:l], Vh[:l, :]\n",
    "\n",
    "def vidal_form(Ms):\n",
    "    \"\"\"\n",
    "    Convert a MPS to Vidal canonical form.\n",
    "\n",
    "    Parameters\n",
    "    ----------\n",
    "    Ms : list of rank 3 tensors.\n",
    "        A MPS representation of the state.\n",
    "\n",
    "    Returns\n",
    "    -------\n",
    "    Lambdas : list of rank 1 tensors.\n",
    "        The Schmidt values of every site.\n",
    "\n",
    "    Gammas : list of rank 3 tensors.\n",
    "        The Gamma matrices in the Vidal canonical form.\n",
    "    \"\"\"\n",
    "\n",
    "    Lambdas = [np.array([1])]\n",
    "    Gammas = []\n",
    "    Bs = right_normalize(Ms)\n",
    "    T = np.ones((1,1))\n",
    "    N = len(Bs)\n",
    "    for i in range(N):\n",
    "        Bi = np.tensordot(T, Bs[i], axes = (1,1))\n",
    "        Bi = np.transpose(Bi, [1,0,2])\n",
    "        d, chi1, chi2 = Bi.shape\n",
    "        Bi = np.reshape(Bi, [d*chi1, chi2])\n",
    "        U, S, Vh = truncate(*np.linalg.svd(Bi, full_matrices = False))\n",
    "        \n",
    "        A = np.reshape(U, [d, chi1, len(S)])\n",
    "        Gamma = np.tensordot(np.diag(1.0/Lambdas[-1]), A, axes=(1, 1))\n",
    "        Gammas.append(Gamma.transpose([1, 0, 2]))\n",
    "        Lambdas.append(S)\n",
    "        T = np.matmul(np.diag(S), Vh)\n",
    "\n",
    "\n",
    "    return Lambdas, Gammas"
   ]
  },
  {
   "cell_type": "markdown",
   "metadata": {},
   "source": [
    "You can use the implemented functions to get the Vidal's canonical form for states $|\\Psi_1>$ and $|\\Psi_2>$. "
   ]
  },
  {
   "cell_type": "code",
   "execution_count": 34,
   "metadata": {
    "tags": []
   },
   "outputs": [],
   "source": [
    "def phi1(N):\n",
    "    \"\"\"\n",
    "    Get MPS form of phi1.\n",
    "\n",
    "    Parameters\n",
    "    ----------\n",
    "    N : int\n",
    "        The number of sites.\n",
    "\n",
    "    Returns\n",
    "    -------\n",
    "    Lambdas\n",
    "        The Schmidt values of phi1.\n",
    "\n",
    "    Gammas\n",
    "        The Gamma matrices in the Vidal canonical form of phi1.\n",
    "    \"\"\"\n",
    "\n",
    "    M0 = np.zeros((2, 1, 2))\n",
    "    M0[0,:,:] = [1, 0]/np.sqrt(2)\n",
    "    M0[1,:,:] = [0, 1]/np.sqrt(2)\n",
    "    if N % 2 == 0:\n",
    "        MN = np.zeros((2, 2, 1)) #MN is actually the matrix at site N-1\n",
    "        MN[0,:,:] = np.vstack([0, 1]) \n",
    "        MN[1,:,:] = np.vstack([1, 0])\n",
    "    else:\n",
    "        MN = np.zeros((2, 2, 1))\n",
    "        MN[0, :] = np.vstack([1, 0])\n",
    "        MN[1, :] = np.vstack([0, 1])\n",
    "\n",
    "    M_even = np.zeros((2, 2, 2))\n",
    "    M_even[0,:,:] = [[1, 0], [0, 0]]\n",
    "    M_even[1,:,:] = [[0, 0], [0, 1]]\n",
    "    \n",
    "    M_odd = np.flip(M_even, 0)\n",
    "\n",
    "    Ms = [M0]\n",
    "    for i in range(1, N - 1):\n",
    "        if i % 2 == 0:\n",
    "            Ms.append(np.copy(M_even))\n",
    "        else:\n",
    "            Ms.append(np.copy(M_odd))\n",
    "\n",
    "    Ms.append(MN)\n",
    "    return vidal_form(Ms)\n",
    "\n",
    "def phi2(N):\n",
    "    \"\"\"\n",
    "    Get MPS form of phi2.\n",
    "\n",
    "    Parameters\n",
    "    ----------\n",
    "    N : int\n",
    "        The number of sites.\n",
    "\n",
    "    Returns\n",
    "    -------\n",
    "    Lambdas\n",
    "        The Schmidt values of phi2.\n",
    "        \n",
    "    Gammas\n",
    "        The Gamma matrices in the Vidal canonical form of phi2.\n",
    "    \"\"\"\n",
    "\n",
    "    M0 = np.zeros((2, 1, 2))\n",
    "    M0[0, :] = [1, 0]\n",
    "    M0[1, :] = [1, 0]\n",
    "    \n",
    "    M = np.zeros((2, 2, 2))\n",
    "    M[0] = np.identity(2)\n",
    "    M[1] = np.identity(2)\n",
    "    \n",
    "    MN = np.transpose(M0, [0, 2, 1])\n",
    "\n",
    "    Ms = [M0/np.sqrt(2)]\n",
    "    for i in range(N - 2):\n",
    "        Ms.append(np.copy(M)/np.sqrt(2))\n",
    "\n",
    "    Ms.append(MN/np.sqrt(2))\n",
    "    return vidal_form(Ms)"
   ]
  },
  {
   "cell_type": "markdown",
   "metadata": {},
   "source": [
    "## 2.4"
   ]
  },
  {
   "cell_type": "code",
   "execution_count": 35,
   "metadata": {},
   "outputs": [
    {
     "name": "stdout",
     "output_type": "stream",
     "text": [
      "[[[0.         0.        ]\n",
      "  [0.         1.41421356]]\n",
      "\n",
      " [[1.41421356 0.        ]\n",
      "  [0.         0.        ]]]\n",
      "[[[1.41421356 0.        ]\n",
      "  [0.         0.        ]]\n",
      "\n",
      " [[0.         0.        ]\n",
      "  [0.         1.41421356]]]\n",
      "[[[1.]\n",
      "  [0.]]\n",
      "\n",
      " [[0.]\n",
      "  [1.]]]\n"
     ]
    }
   ],
   "source": [
    "N = 10\n",
    "Lambdas1, Gammas1 = phi1(N)\n",
    "Lambdas2, Gammas2 = phi2(N)\n",
    "print(Gammas1[7]) #up to this point everything is fine\n",
    "print(Gammas1[8]) #here something not clear happens. The matrices at\n",
    "#this site simply are not the ones one would expect (according\n",
    "#to my understanding the rows are exchanged for some reason)\n",
    "print(Gammas1[9]) #it should be with the two gammas reversed or rows\n",
    "# exchanged "
   ]
  },
  {
   "cell_type": "markdown",
   "metadata": {},
   "source": [
    "Write a function that, given two generic states in the Vidal's canonical form, evaluates their overlap as describe in the exercise sheet. Then, calculate the overlap between $|\\Psi_1>$ and $|\\Psi_2>$ for N = 30 spins."
   ]
  },
  {
   "cell_type": "code",
   "execution_count": 43,
   "metadata": {},
   "outputs": [],
   "source": [
    "def overlap(Lambdas1, Gammas1, Lambdas2, Gammas2):\n",
    "    \"\"\"\n",
    "    Compute the overlap of two wave functions given in Vidal canonical form.\n",
    "\n",
    "    Parameters\n",
    "    ----------\n",
    "    Lambdas1 : list of rank 1 tensors.\n",
    "        Schmidt values of the first state.\n",
    "\n",
    "    Gammas1 : list of rank 3 tensors.\n",
    "        Gamma matrices of the first state.\n",
    "\n",
    "    Lambdas2 : list of rank 1 tensors.\n",
    "        Schmidt values of the second state.\n",
    "\n",
    "    Gammas2 : list of rank 3 tensors.\n",
    "        Gamma matrices of the second state.\n",
    "\n",
    "    Returns\n",
    "    -------\n",
    "    complex\n",
    "        Overlap of the two states\n",
    "    \"\"\"\n",
    "    #print(len(Gammas1))\n",
    "    #print(len(Gammas2))\n",
    "    overlap = np.tensordot(Gammas2[0], Gammas1[0].conj(), axes = (0,0))\n",
    "    overlap = np.transpose(overlap, [0,2,1,3])\n",
    "    #print(overlap.shape)\n",
    "    for i in range(1, len(Gammas1)):\n",
    "        overlap = np.tensordot(overlap, np.diag(Lambdas2[i]), axes = (2,0))\n",
    "        overlap = np.tensordot(overlap, np.diag(Lambdas1[i]), axes = (2,0))\n",
    "        \n",
    "        overlap = np.tensordot(overlap, Gammas2[i], axes = (2,1))\n",
    "        overlap = np.tensordot(overlap, Gammas1[i].conj(), axes =([2,3], [1, 0]))                    #how to understand what values to se in the axes?\n",
    "        #print(overlap.shape)\n",
    "        \n",
    "    return overlap.flatten()[0]"
   ]
  },
  {
   "cell_type": "code",
   "execution_count": 45,
   "metadata": {
    "tags": []
   },
   "outputs": [
    {
     "name": "stdout",
     "output_type": "stream",
     "text": [
      "Numeric: -4.315837287515538e-05\n",
      "Analytical: 4.31583728751554e-05\n"
     ]
    }
   ],
   "source": [
    "N = 30\n",
    "Lambdas1, Gammas1 = phi1(N)\n",
    "Lambdas2, Gammas2 = phi2(N)\n",
    "print(\"Numeric:\", overlap(Lambdas1, Gammas1, Lambdas2, Gammas2))\n",
    "print(\"Analytical:\", 2/np.sqrt(2)/(np.sqrt(2))**N)"
   ]
  },
  {
   "cell_type": "markdown",
   "metadata": {},
   "source": [
    "Verify the correct implementation of your function by calculating the normalization of an arbitrary MPS state in canonical form (should be equal to 1)."
   ]
  },
  {
   "cell_type": "code",
   "execution_count": 46,
   "metadata": {
    "tags": []
   },
   "outputs": [
    {
     "name": "stdout",
     "output_type": "stream",
     "text": [
      "Norm: 1.0000000000000009\n",
      "Is canonical: True\n"
     ]
    }
   ],
   "source": [
    "def random_MPS(d, N):\n",
    "    \"\"\"\n",
    "    returns random MPS with bond dimension d\n",
    "    \"\"\"\n",
    "    A1 = np.random.rand(2,1,d) #starting points only zeilevecotrs aber d mal\n",
    "    Ms = [A1]\n",
    "    for i in range(N - 2):\n",
    "        Ai=np.random.rand(2,d,d) #adding random matrices for both cases\n",
    "        Ms.append(Ai)\n",
    "\n",
    "    An = np.random.rand(2,d,1) #last point only spaltenvektor\n",
    "    Ms.append(An)\n",
    "    return Ms\n",
    "\n",
    "def check_left_normalisation(A):\n",
    "    \"\"\"\n",
    "    returns True, if A is right-normalized. \n",
    "    Only yields true result if rank of singular values not smaller than bond dimension.\n",
    "    has to be modified!\n",
    "    \"\"\"\n",
    "    E = np.tensordot(A, np.conjugate(A), axes=([0, 1], [0, 1]))\n",
    "    return np.linalg.norm(E - np.eye(np.shape(E)[0])) < 1e-4\n",
    "\n",
    "def check_right_normalisation(A):\n",
    "    \"\"\"\n",
    "    returns True, if A is right-normalized. \n",
    "    Only yields true result if rank of singular values not smaller than bond dimension.\n",
    "    has to be modified!\n",
    "    \"\"\"\n",
    "    E = np.tensordot(A, np.conjugate(A), axes=([0, 2], [0, 2]))\n",
    "    return np.linalg.norm(E - np.eye(np.shape(E)[0])) < 1e-4\n",
    "\n",
    "def check_properties(Lambdas, Gammas):\n",
    "    properties = True\n",
    "    for i in range(len(Gammas)):\n",
    "        A = np.tensordot(np.diag(Lambdas[i]), Gammas[i], axes=(1, 1))\n",
    "        A = np.transpose(A, [1, 0, 2])\n",
    "        B = np.tensordot(Gammas[i], np.diag(Lambdas[i+1]), axes=(2, 0))\n",
    "        properties = properties and check_left_normalisation(A) and check_right_normalisation(B)\n",
    "\n",
    "    return properties\n",
    "\n",
    "Lambdas_rand, Gammas_rand = vidal_form(random_MPS(2, 30))\n",
    "print(\"Norm:\", overlap(Lambdas_rand, Gammas_rand, Lambdas_rand, Gammas_rand))\n",
    "print(\"Is canonical:\", check_properties(Lambdas_rand, Gammas_rand))"
   ]
  },
  {
   "cell_type": "code",
   "execution_count": null,
   "metadata": {},
   "outputs": [],
   "source": []
  },
  {
   "cell_type": "code",
   "execution_count": null,
   "metadata": {},
   "outputs": [],
   "source": []
  }
 ],
 "metadata": {
  "kernelspec": {
   "display_name": "venv_CQM",
   "language": "python",
   "name": "python3"
  },
  "language_info": {
   "codemirror_mode": {
    "name": "ipython",
    "version": 3
   },
   "file_extension": ".py",
   "mimetype": "text/x-python",
   "name": "python",
   "nbconvert_exporter": "python",
   "pygments_lexer": "ipython3",
   "version": "3.9.7"
  }
 },
 "nbformat": 4,
 "nbformat_minor": 4
}
