{
 "cells": [
  {
   "cell_type": "code",
   "execution_count": 13,
   "metadata": {
    "tags": []
   },
   "outputs": [],
   "source": [
    "import numpy as np"
   ]
  },
  {
   "cell_type": "code",
   "execution_count": 14,
   "metadata": {},
   "outputs": [],
   "source": [
    "def mps_psi1_even(N):\n",
    "    assert N % 2 == 0, \"N muss gerade sein\"\n",
    "    A = np.zeros((2, 2, 2), dtype=complex)\n",
    "    B = np.zeros((2, 2, 2), dtype=complex)\n",
    "    \n",
    "    A[0, 0, 0] = 1 / np.sqrt(2)\n",
    "    A[1, 1, 0] = 1 / np.sqrt(2)\n",
    "    B[0, 0, 1] = 1 / np.sqrt(2)\n",
    "    B[1, 1, 1] = 1 / np.sqrt(2)\n",
    "    \n",
    "    mps = [A if i % 2 == 0 else B for i in range(N)]\n",
    "    return mps\n",
    "\n",
    "def mps_psi1_odd(N):\n",
    "    assert N % 2 == 1, \"N muss ungerade sein\"\n",
    "    A = np.zeros((2, 2, 2), dtype=complex)\n",
    "    B = np.zeros((2, 2, 2), dtype=complex)\n",
    "    \n",
    "    A[0, 0, 0] = 1 / np.sqrt(2)\n",
    "    A[1, 1, 0] = 1 / np.sqrt(2)\n",
    "    B[0, 0, 1] = 1 / np.sqrt(2)\n",
    "    B[1, 1, 1] = 1 / np.sqrt(2)\n",
    "    \n",
    "    mps = [A if i % 2 == 0 else B for i in range(N)]\n",
    "    return mps\n",
    "\n",
    "def mps_psi2(N):\n",
    "    A = np.zeros((2, 2, 2), dtype=complex)\n",
    "    A[0, 0, 0] = 1 / np.sqrt(2)\n",
    "    A[1, 1, 0] = 1 / np.sqrt(2)\n",
    "    A[0, 0, 1] = 1 / np.sqrt(2)\n",
    "    A[1, 1, 1] = 1 / np.sqrt(2)\n",
    "    \n",
    "    mps = [A for _ in range(N)]\n",
    "    return mps\n"
   ]
  },
  {
   "cell_type": "markdown",
   "metadata": {
    "tags": []
   },
   "source": [
    "# Exercise 2\n",
    "Throughout this exercise we will use the following labelling of legs:\n",
    "![title](labelling.png)\n",
    "\n",
    "We will also be using the convention that we include trivial (i.e., one-dimensional) \"phantom\" singular values at either end of the MPS chain."
   ]
  },
  {
   "cell_type": "markdown",
   "metadata": {
    "tags": []
   },
   "source": [
    "## 2.1"
   ]
  },
  {
   "cell_type": "markdown",
   "metadata": {},
   "source": [
    "The first step is to implement functions that, given a MPS representation $M = [M^{[1]\\sigma_1} , . . . ,M^{[N]\\sigma_N}]$, compute the left-normalized\n",
    "representation $[A^{[1]}, . . . ,A^{[n]}]$ and the right-normalized representation $[B^{[1]}, . . . ,B^{[n]}]$."
   ]
  },
  {
   "cell_type": "code",
   "execution_count": 15,
   "metadata": {
    "tags": []
   },
   "outputs": [],
   "source": [
    "def left_normalize(Ms):\n",
    "    \"\"\"\n",
    "    Convert a MPS to a left-normalized MPS.\n",
    "\n",
    "    Parameters\n",
    "    ----------\n",
    "    Ms : list of rank 3 tensors.\n",
    "        A MPS representation of the state.\n",
    "\n",
    "    Returns\n",
    "    -------\n",
    "    As : list of rank 3 tensors.\n",
    "        A left-normalized MPS representation of the state.\n",
    "    \"\"\"\n",
    "    As = []\n",
    "    for i in range(len(Ms)):\n",
    "        M = Ms[i]\n",
    "        d, D1, D2 = M.shape\n",
    "        M = M.reshape(d * D1, D2)\n",
    "        U, S, Vh = np.linalg.svd(M, full_matrices=False)\n",
    "        U = U.reshape(d, D1, -1)\n",
    "        As.append(U)\n",
    "        if i < len(Ms) - 1:\n",
    "            Ms[i + 1] = np.tensordot(np.diag(S), Vh, axes=(1, 0)).reshape(-1, *Ms[i + 1].shape[1:])\n",
    "    return As\n",
    "\n",
    "\n",
    "def right_normalize(Ms):\n",
    "    \"\"\"\n",
    "    Convert a MPS to a right-normalized MPS.\n",
    "\n",
    "    Parameters\n",
    "    ----------\n",
    "    Ms : list of rank 3 tensors.\n",
    "        A MPS representation of the state.\n",
    "\n",
    "    Returns\n",
    "    -------\n",
    "    Bs : list of rank 3 tensors.\n",
    "        A right-normalized MPS representation of the state.\n",
    "    \"\"\"\n",
    "    Bs = []\n",
    "    for i in range(len(Ms) - 1, -1, -1):\n",
    "        M = Ms[i]\n",
    "        d, D1, D2 = M.shape\n",
    "        M = M.reshape(d, D1 * D2)\n",
    "        U, S, Vh = np.linalg.svd(M, full_matrices=False)\n",
    "        Vh = Vh.reshape(-1, D1, D2)\n",
    "        Bs.insert(0, Vh)\n",
    "        if i > 0:\n",
    "            Ms[i - 1] = np.tensordot(Ms[i - 1], np.diag(S), axes=(2, 0)).reshape(*Ms[i - 1].shape[:-1], -1)\n",
    "    return Bs"
   ]
  },
  {
   "cell_type": "markdown",
   "metadata": {
    "tags": []
   },
   "source": [
    "## 2.2"
   ]
  },
  {
   "cell_type": "markdown",
   "metadata": {},
   "source": [
    "Implement a function that constructs the Vidal canonical form and returns the matrices $\\Gamma = [\\Gamma^{[1]\\sigma_1} , . . . ,\\Gamma^{[N]\\sigma_N}]$ and $\\Lambda = [\\Lambda^{[1]} , . . . ,\\Lambda^{[N-1]}]$."
   ]
  },
  {
   "cell_type": "code",
   "execution_count": 16,
   "metadata": {},
   "outputs": [],
   "source": [
    "def truncate(U, S, Vh):\n",
    "    \"\"\"\n",
    "    Remove singular values below threshold.\n",
    "    \"\"\"\n",
    "    l = np.sum(np.abs(S) > 1e-8)\n",
    "    return U[:, :l], S[:l], Vh[:l, :]\n",
    "\n",
    "def vidal_form(Ms):\n",
    "    \"\"\"\n",
    "    Convert a MPS to Vidal canonical form.\n",
    "\n",
    "    Parameters\n",
    "    ----------\n",
    "    Ms : list of rank 3 tensors.\n",
    "        A MPS representation of the state.\n",
    "\n",
    "    Returns\n",
    "    -------\n",
    "    Lambdas : list of rank 1 tensors.\n",
    "        The Schmidt values of every site.\n",
    "\n",
    "    Gammas : list of rank 3 tensors.\n",
    "        The Gamma matrices in the Vidal canonical form.\n",
    "    \"\"\"\n",
    "    Lambdas = [np.array([1])]\n",
    "    Gammas = []\n",
    "    \n",
    "    for i in range(len(Ms)):\n",
    "        M = Ms[i]\n",
    "        d, D1, D2 = M.shape\n",
    "        M = M.reshape(d * D1, D2)\n",
    "        U, S, Vh = np.linalg.svd(M, full_matrices=False)\n",
    "        U, S, Vh = truncate(U, S, Vh)\n",
    "        U = U.reshape(d, D1, -1)\n",
    "        Gammas.append(U)\n",
    "        Lambdas.append(S)\n",
    "        if i < len(Ms) - 1:\n",
    "            next_shape = Ms[i + 1].shape\n",
    "            Ms[i + 1] = np.tensordot(np.diag(S), Vh, axes=(1, 0)).reshape(-1, *next_shape[1:])\n",
    "    \n",
    "    return Lambdas, Gammas"
   ]
  },
  {
   "cell_type": "markdown",
   "metadata": {},
   "source": [
    "You can use the implemented functions to get the Vidal's canonical form for states $|\\Psi_1>$ and $|\\Psi_2>$. "
   ]
  },
  {
   "cell_type": "code",
   "execution_count": 17,
   "metadata": {
    "tags": []
   },
   "outputs": [],
   "source": [
    "def phi1(N):\n",
    "    \"\"\"\n",
    "    Get MPS form of phi1.\n",
    "\n",
    "    Parameters\n",
    "    ----------\n",
    "    N : int\n",
    "        The number of sites.\n",
    "\n",
    "    Returns\n",
    "    -------\n",
    "    Lambdas\n",
    "        The Schmidt values of phi1.\n",
    "\n",
    "    Gammas\n",
    "        The Gamma matrices in the Vidal canonical form of phi1.\n",
    "    \"\"\"\n",
    "    if N % 2 == 0:\n",
    "        Ms = mps_psi1_even(N)\n",
    "    else:\n",
    "        Ms = mps_psi1_odd(N)\n",
    "    \n",
    "    Lambdas, Gammas = vidal_form(Ms)\n",
    "    return Lambdas, Gammas\n",
    "\n",
    "def phi2(N):\n",
    "    \"\"\"\n",
    "    Get MPS form of phi2.\n",
    "\n",
    "    Parameters\n",
    "    ----------\n",
    "    N : int\n",
    "        The number of sites.\n",
    "\n",
    "    Returns\n",
    "    -------\n",
    "    Lambdas\n",
    "        The Schmidt values of phi2.\n",
    "        \n",
    "    Gammas\n",
    "        The Gamma matrices in the Vidal canonical form of phi2.\n",
    "    \"\"\"\n",
    "    Ms = mps_psi2(N)\n",
    "    Lambdas, Gammas = vidal_form(Ms)\n",
    "    return Lambdas, Gammas"
   ]
  },
  {
   "cell_type": "markdown",
   "metadata": {},
   "source": [
    "## 2.4"
   ]
  },
  {
   "cell_type": "markdown",
   "metadata": {},
   "source": [
    "Write a function that, given two generic states in the Vidal's canonical form, evaluates their overlap as describe in the exercise sheet. Then, calculate the overlap between $|\\Psi_1>$ and $|\\Psi_2>$ for N = 30 spins."
   ]
  },
  {
   "cell_type": "code",
   "execution_count": 18,
   "metadata": {},
   "outputs": [],
   "source": [
    "def overlap(Lambdas1, Gammas1, Lambdas2, Gammas2):\n",
    "    \"\"\"\n",
    "    Compute the overlap of two wave functions given in Vidal canonical form.\n",
    "\n",
    "    Parameters\n",
    "    ----------\n",
    "    Lambdas1 : list of rank 1 tensors.\n",
    "        Schmidt values of the first state.\n",
    "\n",
    "    Gammas1 : list of rank 3 tensors.\n",
    "        Gamma matrices of the first state.\n",
    "\n",
    "    Lambdas2 : list of rank 1 tensors.\n",
    "        Schmidt values of the second state.\n",
    "\n",
    "    Gammas2 : list of rank 3 tensors.\n",
    "        Gamma matrices of the second state.\n",
    "\n",
    "    Returns\n",
    "    -------\n",
    "    complex\n",
    "        Overlap of the two states\n",
    "    \"\"\"\n",
    "    N = len(Gammas1)\n",
    "    assert N == len(Gammas2), \"Die Anzahl der Gamma-Matrizen muss gleich sein\"\n",
    "    \n",
    "    # Initialisiere das Überlappungsprodukt\n",
    "    overlap = 1.0 + 0j\n",
    "    \n",
    "    for i in range(N):\n",
    "        # Kontrahiere die Gamma-Matrizen und Schmidt-Werte\n",
    "        Gamma1 = Gammas1[i]\n",
    "        Gamma2 = Gammas2[i]\n",
    "        Lambda1 = Lambdas1[i]\n",
    "        Lambda2 = Lambdas2[i]\n",
    "        \n",
    "        # Berechne das Produkt der Schmidt-Werte\n",
    "        overlap *= np.dot(Lambda1, Lambda2)\n",
    "        \n",
    "        # Kontrahiere die Gamma-Matrizen\n",
    "        overlap *= np.tensordot(np.conj(Gamma1), Gamma2, axes=([0, 1, 2], [0, 1, 2]))\n",
    "    \n",
    "    # Berücksichtige den letzten Schmidt-Wert\n",
    "    overlap *= np.dot(Lambdas1[-1], Lambdas2[-1])\n",
    "    \n",
    "    return overlap"
   ]
  },
  {
   "cell_type": "code",
   "execution_count": 19,
   "metadata": {
    "tags": []
   },
   "outputs": [
    {
     "ename": "ValueError",
     "evalue": "cannot reshape array of size 2 into shape (2,2)",
     "output_type": "error",
     "traceback": [
      "\u001b[0;31m---------------------------------------------------------------------------\u001b[0m",
      "\u001b[0;31mValueError\u001b[0m                                Traceback (most recent call last)",
      "Cell \u001b[0;32mIn[19], line 2\u001b[0m\n\u001b[1;32m      1\u001b[0m N \u001b[38;5;241m=\u001b[39m \u001b[38;5;241m30\u001b[39m\n\u001b[0;32m----> 2\u001b[0m Lambdas1, Gammas1 \u001b[38;5;241m=\u001b[39m \u001b[43mphi1\u001b[49m\u001b[43m(\u001b[49m\u001b[43mN\u001b[49m\u001b[43m)\u001b[49m\n\u001b[1;32m      3\u001b[0m Lambdas2, Gammas2 \u001b[38;5;241m=\u001b[39m phi2(N)\n\u001b[1;32m      4\u001b[0m \u001b[38;5;28mprint\u001b[39m(\u001b[38;5;124m\"\u001b[39m\u001b[38;5;124mNumeric:   \u001b[39m\u001b[38;5;124m\"\u001b[39m, overlap(Lambdas1, Gammas1, Lambdas2, Gammas2))\n",
      "Cell \u001b[0;32mIn[17], line 23\u001b[0m, in \u001b[0;36mphi1\u001b[0;34m(N)\u001b[0m\n\u001b[1;32m     20\u001b[0m \u001b[38;5;28;01melse\u001b[39;00m:\n\u001b[1;32m     21\u001b[0m     Ms \u001b[38;5;241m=\u001b[39m mps_psi1_odd(N)\n\u001b[0;32m---> 23\u001b[0m Lambdas, Gammas \u001b[38;5;241m=\u001b[39m \u001b[43mvidal_form\u001b[49m\u001b[43m(\u001b[49m\u001b[43mMs\u001b[49m\u001b[43m)\u001b[49m\n\u001b[1;32m     24\u001b[0m \u001b[38;5;28;01mreturn\u001b[39;00m Lambdas, Gammas\n",
      "Cell \u001b[0;32mIn[16], line 39\u001b[0m, in \u001b[0;36mvidal_form\u001b[0;34m(Ms)\u001b[0m\n\u001b[1;32m     37\u001b[0m     \u001b[38;5;28;01mif\u001b[39;00m i \u001b[38;5;241m<\u001b[39m \u001b[38;5;28mlen\u001b[39m(Ms) \u001b[38;5;241m-\u001b[39m \u001b[38;5;241m1\u001b[39m:\n\u001b[1;32m     38\u001b[0m         next_shape \u001b[38;5;241m=\u001b[39m Ms[i \u001b[38;5;241m+\u001b[39m \u001b[38;5;241m1\u001b[39m]\u001b[38;5;241m.\u001b[39mshape\n\u001b[0;32m---> 39\u001b[0m         Ms[i \u001b[38;5;241m+\u001b[39m \u001b[38;5;241m1\u001b[39m] \u001b[38;5;241m=\u001b[39m \u001b[43mnp\u001b[49m\u001b[38;5;241;43m.\u001b[39;49m\u001b[43mtensordot\u001b[49m\u001b[43m(\u001b[49m\u001b[43mnp\u001b[49m\u001b[38;5;241;43m.\u001b[39;49m\u001b[43mdiag\u001b[49m\u001b[43m(\u001b[49m\u001b[43mS\u001b[49m\u001b[43m)\u001b[49m\u001b[43m,\u001b[49m\u001b[43m \u001b[49m\u001b[43mVh\u001b[49m\u001b[43m,\u001b[49m\u001b[43m \u001b[49m\u001b[43maxes\u001b[49m\u001b[38;5;241;43m=\u001b[39;49m\u001b[43m(\u001b[49m\u001b[38;5;241;43m1\u001b[39;49m\u001b[43m,\u001b[49m\u001b[43m \u001b[49m\u001b[38;5;241;43m0\u001b[39;49m\u001b[43m)\u001b[49m\u001b[43m)\u001b[49m\u001b[38;5;241;43m.\u001b[39;49m\u001b[43mreshape\u001b[49m\u001b[43m(\u001b[49m\u001b[38;5;241;43m-\u001b[39;49m\u001b[38;5;241;43m1\u001b[39;49m\u001b[43m,\u001b[49m\u001b[43m \u001b[49m\u001b[38;5;241;43m*\u001b[39;49m\u001b[43mnext_shape\u001b[49m\u001b[43m[\u001b[49m\u001b[38;5;241;43m1\u001b[39;49m\u001b[43m:\u001b[49m\u001b[43m]\u001b[49m\u001b[43m)\u001b[49m\n\u001b[1;32m     41\u001b[0m \u001b[38;5;28;01mreturn\u001b[39;00m Lambdas, Gammas\n",
      "\u001b[0;31mValueError\u001b[0m: cannot reshape array of size 2 into shape (2,2)"
     ]
    }
   ],
   "source": [
    "N = 30\n",
    "Lambdas1, Gammas1 = phi1(N)\n",
    "Lambdas2, Gammas2 = phi2(N)\n",
    "print(\"Numeric:   \", overlap(Lambdas1, Gammas1, Lambdas2, Gammas2))\n",
    "print(\"Analytical:\", 2/np.sqrt(2)/(np.sqrt(2))**N)"
   ]
  },
  {
   "cell_type": "markdown",
   "metadata": {},
   "source": [
    "Verify the correct implementation of your function by calculating the normalization of an arbitrary MPS state in canonical form (should be equal to 1)."
   ]
  },
  {
   "cell_type": "code",
   "execution_count": null,
   "metadata": {
    "tags": []
   },
   "outputs": [
    {
     "name": "stdout",
     "output_type": "stream",
     "text": [
      "Norm: (7.226848875514486e+17+0j)\n"
     ]
    },
    {
     "ename": "ValueError",
     "evalue": "shape-mismatch for sum",
     "output_type": "error",
     "traceback": [
      "\u001b[0;31m---------------------------------------------------------------------------\u001b[0m",
      "\u001b[0;31mValueError\u001b[0m                                Traceback (most recent call last)",
      "Cell \u001b[0;32mIn[20], line 56\u001b[0m\n\u001b[1;32m     54\u001b[0m Lambdas_rand, Gammas_rand \u001b[38;5;241m=\u001b[39m vidal_form(random_MPS(\u001b[38;5;241m2\u001b[39m, \u001b[38;5;241m30\u001b[39m))\n\u001b[1;32m     55\u001b[0m \u001b[38;5;28mprint\u001b[39m(\u001b[38;5;124m\"\u001b[39m\u001b[38;5;124mNorm:\u001b[39m\u001b[38;5;124m\"\u001b[39m, overlap(Lambdas_rand, Gammas_rand, Lambdas_rand, Gammas_rand))\n\u001b[0;32m---> 56\u001b[0m \u001b[38;5;28mprint\u001b[39m(\u001b[38;5;124m\"\u001b[39m\u001b[38;5;124mIs canonical:\u001b[39m\u001b[38;5;124m\"\u001b[39m, \u001b[43mcheck_properties\u001b[49m\u001b[43m(\u001b[49m\u001b[43mLambdas_rand\u001b[49m\u001b[43m,\u001b[49m\u001b[43m \u001b[49m\u001b[43mGammas_rand\u001b[49m\u001b[43m)\u001b[49m)\n",
      "Cell \u001b[0;32mIn[20], line 47\u001b[0m, in \u001b[0;36mcheck_properties\u001b[0;34m(Lambdas, Gammas)\u001b[0m\n\u001b[1;32m     45\u001b[0m properties \u001b[38;5;241m=\u001b[39m \u001b[38;5;28;01mTrue\u001b[39;00m\n\u001b[1;32m     46\u001b[0m \u001b[38;5;28;01mfor\u001b[39;00m i \u001b[38;5;129;01min\u001b[39;00m \u001b[38;5;28mrange\u001b[39m(\u001b[38;5;28mlen\u001b[39m(Gammas)):\n\u001b[0;32m---> 47\u001b[0m     A \u001b[38;5;241m=\u001b[39m \u001b[43mnp\u001b[49m\u001b[38;5;241;43m.\u001b[39;49m\u001b[43mtensordot\u001b[49m\u001b[43m(\u001b[49m\u001b[43mnp\u001b[49m\u001b[38;5;241;43m.\u001b[39;49m\u001b[43mdiag\u001b[49m\u001b[43m(\u001b[49m\u001b[43mLambdas\u001b[49m\u001b[43m[\u001b[49m\u001b[43mi\u001b[49m\u001b[43m]\u001b[49m\u001b[43m)\u001b[49m\u001b[43m,\u001b[49m\u001b[43m \u001b[49m\u001b[43mGammas\u001b[49m\u001b[43m[\u001b[49m\u001b[43mi\u001b[49m\u001b[43m]\u001b[49m\u001b[43m,\u001b[49m\u001b[43m \u001b[49m\u001b[43maxes\u001b[49m\u001b[38;5;241;43m=\u001b[39;49m\u001b[43m(\u001b[49m\u001b[38;5;241;43m1\u001b[39;49m\u001b[43m,\u001b[49m\u001b[43m \u001b[49m\u001b[38;5;241;43m1\u001b[39;49m\u001b[43m)\u001b[49m\u001b[43m)\u001b[49m\n\u001b[1;32m     48\u001b[0m     A \u001b[38;5;241m=\u001b[39m np\u001b[38;5;241m.\u001b[39mtranspose(A, [\u001b[38;5;241m1\u001b[39m, \u001b[38;5;241m0\u001b[39m, \u001b[38;5;241m2\u001b[39m])\n\u001b[1;32m     49\u001b[0m     B \u001b[38;5;241m=\u001b[39m np\u001b[38;5;241m.\u001b[39mtensordot(Gammas[i], np\u001b[38;5;241m.\u001b[39mdiag(Lambdas[i\u001b[38;5;241m+\u001b[39m\u001b[38;5;241m1\u001b[39m]), axes\u001b[38;5;241m=\u001b[39m(\u001b[38;5;241m2\u001b[39m, \u001b[38;5;241m0\u001b[39m))\n",
      "File \u001b[0;32m~/Documents/14_Master/Msc_SS25/CQM_Msc_SS2025/venv_CQM/lib/python3.9/site-packages/numpy/_core/numeric.py:1146\u001b[0m, in \u001b[0;36mtensordot\u001b[0;34m(a, b, axes)\u001b[0m\n\u001b[1;32m   1144\u001b[0m             axes_b[k] \u001b[38;5;241m+\u001b[39m\u001b[38;5;241m=\u001b[39m ndb\n\u001b[1;32m   1145\u001b[0m \u001b[38;5;28;01mif\u001b[39;00m \u001b[38;5;129;01mnot\u001b[39;00m equal:\n\u001b[0;32m-> 1146\u001b[0m     \u001b[38;5;28;01mraise\u001b[39;00m \u001b[38;5;167;01mValueError\u001b[39;00m(\u001b[38;5;124m\"\u001b[39m\u001b[38;5;124mshape-mismatch for sum\u001b[39m\u001b[38;5;124m\"\u001b[39m)\n\u001b[1;32m   1148\u001b[0m \u001b[38;5;66;03m# Move the axes to sum over to the end of \"a\"\u001b[39;00m\n\u001b[1;32m   1149\u001b[0m \u001b[38;5;66;03m# and to the front of \"b\"\u001b[39;00m\n\u001b[1;32m   1150\u001b[0m notin \u001b[38;5;241m=\u001b[39m [k \u001b[38;5;28;01mfor\u001b[39;00m k \u001b[38;5;129;01min\u001b[39;00m \u001b[38;5;28mrange\u001b[39m(nda) \u001b[38;5;28;01mif\u001b[39;00m k \u001b[38;5;129;01mnot\u001b[39;00m \u001b[38;5;129;01min\u001b[39;00m axes_a]\n",
      "\u001b[0;31mValueError\u001b[0m: shape-mismatch for sum"
     ]
    }
   ],
   "source": [
    "def random_MPS(d, N):\n",
    "    \"\"\"\n",
    "    Returns a random MPS with bond dimension d.\n",
    "\n",
    "    Parameters\n",
    "    ----------\n",
    "    d : int\n",
    "        The bond dimension.\n",
    "\n",
    "    N : int\n",
    "        The number of sites.\n",
    "\n",
    "    Returns\n",
    "    -------\n",
    "    Ms : list of rank 3 tensors.\n",
    "        A random MPS representation of the state.\n",
    "    \"\"\"\n",
    "    Ms = []\n",
    "    for i in range(N):\n",
    "        if i == 0 or i == N - 1:\n",
    "            # First and last tensor have bond dimension 1\n",
    "            M = np.random.rand(2, 1, d) + 1j * np.random.rand(2, 1, d)\n",
    "        else:\n",
    "            M = np.random.rand(2, d, d) + 1j * np.random.rand(2, d, d)\n",
    "        Ms.append(M)\n",
    "    return Ms\n",
    "\n",
    "def check_left_normalisation(A):\n",
    "    \"\"\"\n",
    "    Returns True if A is left-normalized.\n",
    "    \"\"\"\n",
    "    E = np.tensordot(A, np.conjugate(A), axes=([0, 1], [0, 1]))\n",
    "    return np.linalg.norm(E - np.eye(np.shape(E)[0])) < 1e-4\n",
    "\n",
    "def check_right_normalisation(A):\n",
    "    \"\"\"\n",
    "    Returns True if A is right-normalized.\n",
    "    \"\"\"\n",
    "    E = np.tensordot(A, np.conjugate(A), axes=([0, 2], [0, 2]))\n",
    "    return np.linalg.norm(E - np.eye(np.shape(E)[0])) < 1e-4\n",
    "\n",
    "def check_properties(Lambdas, Gammas):\n",
    "    properties = True\n",
    "    for i in range(len(Gammas)):\n",
    "        A = np.tensordot(np.diag(Lambdas[i]), Gammas[i], axes=(1, 1))\n",
    "        A = np.transpose(A, [1, 0, 2])\n",
    "        B = np.tensordot(Gammas[i], np.diag(Lambdas[i+1]), axes=(2, 0))\n",
    "        properties = properties and check_left_normalisation(A) and check_right_normalisation(B)\n",
    "    return properties\n",
    "\n",
    "# Beispielaufruf zur Überprüfung der Normierung und kanonischen Form\n",
    "Lambdas_rand, Gammas_rand = vidal_form(random_MPS(2, 30))\n",
    "print(\"Norm:\", overlap(Lambdas_rand, Gammas_rand, Lambdas_rand, Gammas_rand))\n",
    "print(\"Is canonical:\", check_properties(Lambdas_rand, Gammas_rand))"
   ]
  },
  {
   "cell_type": "code",
   "execution_count": null,
   "metadata": {},
   "outputs": [],
   "source": []
  }
 ],
 "metadata": {
  "kernelspec": {
   "display_name": "venv_CQM",
   "language": "python",
   "name": "python3"
  },
  "language_info": {
   "codemirror_mode": {
    "name": "ipython",
    "version": 3
   },
   "file_extension": ".py",
   "mimetype": "text/x-python",
   "name": "python",
   "nbconvert_exporter": "python",
   "pygments_lexer": "ipython3",
   "version": "3.9.7"
  }
 },
 "nbformat": 4,
 "nbformat_minor": 4
}
