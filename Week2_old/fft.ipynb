{
 "cells": [
  {
   "cell_type": "markdown",
   "id": "38ec5fd3",
   "metadata": {},
   "source": [
    "***Installing Packages Needed for This Notebook and/or Beyond***"
   ]
  },
  {
   "cell_type": "code",
   "execution_count": null,
   "id": "07bef28f",
   "metadata": {},
   "outputs": [],
   "source": [
    "#%pip install --upgrade pip\n",
    "#%pip install numpy\n",
    "#%pip install scipy\n",
    "#%pip install matplotlib"
   ]
  },
  {
   "cell_type": "markdown",
   "id": "2ca59cc0",
   "metadata": {},
   "source": [
    "***Import useful packages and functions***"
   ]
  },
  {
   "cell_type": "code",
   "execution_count": null,
   "id": "6182895c-fb6c-4b8a-a9a0-6c21ec1d6f6e",
   "metadata": {
    "tags": []
   },
   "outputs": [],
   "source": [
    "from scipy.fftpack import fft, fftfreq, fftshift\n",
    "import numpy as np\n",
    "import matplotlib.pyplot as plt"
   ]
  },
  {
   "cell_type": "markdown",
   "id": "882e1337",
   "metadata": {},
   "source": [
    "## Discrete Fourier Transform (DFT)"
   ]
  },
  {
   "cell_type": "markdown",
   "id": "6c6720df",
   "metadata": {},
   "source": [
    "The discrete Fourier transform (DFT) algorithm transforms samples of signals from the time domain into the frequency domain.\n",
    "We consider a sequence of N discrete time $$t_n=n \\Delta t.$$"
   ]
  },
  {
   "cell_type": "code",
   "execution_count": null,
   "id": "d3bd9992-0f09-45e3-b074-1126ed1b1f74",
   "metadata": {
    "tags": []
   },
   "outputs": [],
   "source": [
    "N = 200\n",
    "T = 20.0\n",
    "t, dt = np.linspace(0.0, T, N, endpoint=False, retstep=True)"
   ]
  },
  {
   "cell_type": "markdown",
   "id": "e995e0af",
   "metadata": {},
   "source": [
    "We assume that $x_n$ are samples of a signal at times $t_n$. The DFT is calculated with the following formula (using `scipy.fftpack.fft`)\n",
    "\\begin{equation}\n",
    "y_k = \\sum_{n=0}^{N-1} x_n e^{-2 \\pi i k n /N}, \\quad k=0,1,...,N-1\n",
    "\\end{equation}\n",
    "and the frequencies are $f_k=\\frac{k}{N \\Delta t}$ and can be computed using `scipy.fftpack.fftfreq`."
   ]
  },
  {
   "cell_type": "code",
   "execution_count": null,
   "id": "78a6daf5-7467-4bfe-847e-e28fbf2a7417",
   "metadata": {
    "tags": []
   },
   "outputs": [],
   "source": [
    "def fft_with_freqs(t: np.ndarray, x: np.ndarray):\n",
    "    N = len(t)\n",
    "    dt = (t[-1] - t[0]) / N # Assuming constant step width\n",
    "\n",
    "    y = fft(x)\n",
    "    freqs = fftfreq(N, d=dt)\n",
    "    return fftshift(freqs), fftshift(1/N*y)"
   ]
  },
  {
   "cell_type": "markdown",
   "id": "5b66fc7f",
   "metadata": {},
   "source": [
    "### Example"
   ]
  },
  {
   "cell_type": "code",
   "execution_count": null,
   "id": "9a6e4579-e0f2-43f9-86fb-48b2101bf304",
   "metadata": {
    "tags": []
   },
   "outputs": [],
   "source": [
    "x = 0.3*np.exp(2j*2*np.pi*t) + 0.7*np.exp(-1j*2*np.pi*t)\n",
    "freqs, y = fft_with_freqs(t, x)\n",
    "plt.plot(t,np.real(x), label='Re$x$')\n",
    "plt.plot(t,np.imag(x), label='Im$x$')\n",
    "plt.xlabel(\"time\")\n",
    "plt.ylabel(\"x\")\n",
    "plt.legend()\n",
    "\n",
    "plt.figure()\n",
    "plt.plot(freqs, np.abs(y))\n",
    "plt.xlabel(\"frequency\")\n",
    "plt.ylabel(\"|y|\")\n",
    "plt.grid()\n",
    "plt.show()"
   ]
  },
  {
   "cell_type": "code",
   "execution_count": null,
   "id": "006739e5-bc10-42da-b19b-34b81b9affc2",
   "metadata": {
    "tags": []
   },
   "outputs": [],
   "source": [
    "x = 0.3*np.exp(2j*2.02*np.pi*t) + 0.7*np.exp(-1j*2*np.pi*t)\n",
    "freqs, y = fft_with_freqs(t, x)\n",
    "\n",
    "plt.plot(freqs, np.abs(y))\n",
    "plt.xlim(-5, 5)\n",
    "plt.xlabel(\"frequency\")\n",
    "plt.ylabel(\"|y|\")\n",
    "plt.grid()\n",
    "plt.show()"
   ]
  },
  {
   "cell_type": "code",
   "execution_count": null,
   "id": "531a7a36-c0a1-45ed-9603-f36d39ad720f",
   "metadata": {},
   "outputs": [],
   "source": [
    "print(fftfreq(N, dt))\n",
    "my_freqs = np.arange(N)/N\n",
    "print((my_freqs + (-1)*(my_freqs > 0.5))/dt)"
   ]
  }
 ],
 "metadata": {
  "kernelspec": {
   "display_name": "Python 3 (ipykernel)",
   "language": "python",
   "name": "python3"
  },
  "language_info": {
   "codemirror_mode": {
    "name": "ipython",
    "version": 3
   },
   "file_extension": ".py",
   "mimetype": "text/x-python",
   "name": "python",
   "nbconvert_exporter": "python",
   "pygments_lexer": "ipython3",
   "version": "3.10.0"
  }
 },
 "nbformat": 4,
 "nbformat_minor": 5
}
