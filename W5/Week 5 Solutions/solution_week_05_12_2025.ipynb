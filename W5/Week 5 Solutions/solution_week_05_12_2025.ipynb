{
  "cells": [
    {
      "cell_type": "markdown",
      "metadata": {
        "id": "kjhdCmAPeA2V"
      },
      "source": [
        "**Ex. 1: MPO's of spin systems**: *Part 1*."
      ]
    },
    {
      "cell_type": "markdown",
      "metadata": {
        "id": "V9lLsxHdeA2Y"
      },
      "source": [
        "We can find an MPO representation of the Heisenberg model with bond dimension $d=5$\n",
        "\n",
        "$O^{[i]}=\\begin{pmatrix}  I & 0 & 0 & 0 & 0 \\\\ S^{x}_i & 0 & 0 & 0 & 0 \\\\ S^{y}_i & 0 & 0 & 0 & 0 \\\\ S^{z}_i & 0 & 0 & 0 & 0 \\\\ 0 & -JS^{x}_{i}& -JS^{y}_{i}& -JS^{z}_{i} & I \\end{pmatrix}$\n",
        "\n",
        "with boundary tensors\n",
        "$O^{[1]}=\\begin{pmatrix}   0 & -JS^{x}_{1}& -JS^{y}_{1}& -JS^{z}_{1} & I \\end{pmatrix}$\n",
        "\n",
        "and  \n",
        "\n",
        "$O^{[N]}=\\begin{pmatrix}  I  \\\\ S^{x}_N \\\\ S^{y}_N \\\\ S^{z}_N \\\\ 0 \\end{pmatrix}$"
      ]
    },
    {
      "cell_type": "markdown",
      "metadata": {
        "id": "SuJI40Tb-zNP"
      },
      "source": [
        "**Ex. 1**: *Part 2*. Implementing the TFIM MPO will be done in Exercise 2 below, so we do not reproduce the code here."
      ]
    },
    {
      "cell_type": "markdown",
      "metadata": {
        "id": "i0CbV0xzeA2Z"
      },
      "source": [
        "**Ex. 2: Expectation values of MPOs**"
      ]
    },
    {
      "cell_type": "markdown",
      "metadata": {
        "id": "bVLsu4ooeA2Z"
      },
      "source": [
        "We now want to evaluate expectation values of Matrix Product Operators. We start by constructing the canonized MPS of $|\\Psi_1\\rangle$,  $|\\Psi_2\\rangle$ and a random state with bond dimension 2 and $N=30$. This is the same as Exercise Sheet 4!"
      ]
    },
    {
      "cell_type": "code",
      "execution_count": 14,
      "metadata": {
        "id": "8PzwE_3KeA2Z"
      },
      "outputs": [],
      "source": [
        "import numpy as np\n",
        "import matplotlib.pyplot as plt\n",
        "from numpy import transpose as tr, conjugate as co\n",
        "from scipy.linalg import expm, svd\n",
        "from scipy.sparse.linalg import eigsh, LinearOperator\n",
        "import math\n",
        "np.random.seed(1)"
      ]
    },
    {
      "cell_type": "code",
      "execution_count": 16,
      "metadata": {
        "id": "M9fhGSsyeA2b"
      },
      "outputs": [],
      "source": [
        "sigma_x=np.array([[0,1],[1,0]])\n",
        "sigma_y=np.array([[0+0j,0-1j],[0+0j,0+1j]])\n",
        "sigma_z=np.array([[1,0],[0,-1]])"
      ]
    },
    {
      "cell_type": "markdown",
      "metadata": {
        "id": "xtCEfmu2HoQV"
      },
      "source": [
        "some helper functions"
      ]
    },
    {
      "cell_type": "code",
      "execution_count": 17,
      "metadata": {
        "id": "_YkkxYqTeA2b"
      },
      "outputs": [],
      "source": [
        "def inverse(S,d):\n",
        "    \"\"\"\n",
        "    Helper function.\n",
        "    Returns inverse of non-zero part of a diagonal matrix\n",
        "\n",
        "    Parameters\n",
        "    ----------\n",
        "    S: array [d2xd2]\n",
        "       S=np.diag([lambda_1, ...0,..lambda_d,0..]) diagonal, with dimension d2>=d\n",
        "    d: int\n",
        "       number of non-zero diagonal elements of S\n",
        "\n",
        "    Returns\n",
        "    -------\n",
        "    array [dxd], Sinv=np.diag([1/lambda_1,...1/lambda_d]) with dimension d\n",
        "    \"\"\"\n",
        "    d2=np.shape(S)[0]\n",
        "    Sinv=np.zeros((d,d))\n",
        "    for i in range(d2):\n",
        "        if (S[i]>1e-3):\n",
        "            Sinv[i,i]=1.0/S[i]\n",
        "    return Sinv\n",
        "\n",
        "def dot(A,B):\n",
        "    \"\"\"\n",
        "    Helper function.\n",
        "    Does the dot product like np.dot, but preserves the shapes also for singleton dimensions\n",
        "    Example: If np.shape(A)=(1,3) and np.shape(B)=(3,4),\n",
        "             then dot(A,B) yields an array with shape (1,4) instead of (4)\n",
        "\n",
        "    Parameters\n",
        "    ----------\n",
        "    A: array [nxm]\n",
        "    B: array [mxs]\n",
        "\n",
        "    Returns\n",
        "    -------\n",
        "    array [nxs], matrix multiplication of A and B\n",
        "    \"\"\"\n",
        "    s1 = A.shape\n",
        "    s2 = B.shape\n",
        "    return np.dot(A,B).reshape((s1[0],s2[1]))"
      ]
    },
    {
      "cell_type": "markdown",
      "metadata": {
        "id": "8pVJfyQoHw45"
      },
      "source": [
        "to obtain the Vidal canonical form"
      ]
    },
    {
      "cell_type": "code",
      "execution_count": 18,
      "metadata": {
        "id": "KIStrDeVeA2c"
      },
      "outputs": [],
      "source": [
        "def right_canonize_step(M_im1,Mtilde_i,return_S = False):\n",
        "    \"\"\"\n",
        "    One step of the right-normalization procedure.\n",
        "    Right normalizes Mtilde_i into B matrix by performing svd, M_im1 loses its canonization\n",
        "\n",
        "    Parameters\n",
        "    ----------\n",
        "    Mtilde_i: array, shape (s,da,db)\n",
        "              obtained from previous canonization step\n",
        "              physical index: s\n",
        "              left bond dim: da, right bond dim: db\n",
        "\n",
        "    M_im1: array, shape (s,dleft,da)\n",
        "              Tensor M^sigma_{i-1} from the original MPS representation\n",
        "              physical index: s\n",
        "              left bond dim: dleft, right bond dim: da\n",
        "\n",
        "    return_S: if True, returns also the singular values\n",
        "\n",
        "    Returns\n",
        "    -------\n",
        "    Mtilde_im1: array, shape (s,dleft,da)\n",
        "              to be used as input in next call of right_canonize_step\n",
        "    B_i: array, shape (s,da,db)\n",
        "              right-normalized tensor\n",
        "    if return_S:\n",
        "       S: array, shape (da) (or svd rank)\n",
        "              singular values from svd decomposition of Mtilde_i\n",
        "    \"\"\"\n",
        "    s, da, db = Mtilde_i.shape\n",
        "    U, S, Vh = svd(Mtilde_i.transpose((1,0,2)).reshape((da,s*db)))\n",
        "    B_i     = Vh.reshape((Vh.shape[0],s,db)).transpose((1,0,2))[:,:da,:] #the truncation of the bond dimension is already implemented\n",
        "                                                                         # with the \"[:,:da,:]\"\n",
        "    M_im1     = np.tensordot(M_im1,dot(U[:,:min(da,np.shape(S)[0])],np.diag(S[:min(da,np.shape(S)[0])])),axes=((2),(0)))\n",
        "    if return_S:\n",
        "        return M_im1, B_i, S\n",
        "    else:\n",
        "        return M_im1, B_i\n",
        "\n",
        "\n",
        "def right_canonize_complete(M):\n",
        "    \"\"\" performs right-canonization and returns right-normalized MPS [B_1, ...B_N]\n",
        "\n",
        "    Parameters\n",
        "    ----------\n",
        "    M: list of tensors [M_1, ...M_N]\n",
        "       where M_i is an array of shape (s,dleft,dright)-> s=2 (physical index), dleft and dright are the bond dimensions\n",
        "       Matrix Product representation of a given state with N spins\n",
        "\n",
        "    Returns\n",
        "    -------\n",
        "    B: list of tensors [B_1, ...B_N]\n",
        "       right-normalized MPS representation of given state\n",
        "    \"\"\"\n",
        "    N=len(M)\n",
        "    B=[]\n",
        "    Mitilde,Bi,Si=right_canonize_step(M[N-2],M[N-1],True)\n",
        "    Bi.reshape(np.shape(Bi)[0],np.shape(Bi)[1],1)\n",
        "    B.insert(0,Bi)\n",
        "    for i in range(N-2):\n",
        "        Mitilde,Bi,Si=right_canonize_step(M[N-3-i],Mitilde,True)\n",
        "        B.insert(0,Bi)\n",
        "    _,Bi,Si=right_canonize_step(np.zeros((np.shape(M[0])[0],1,1)),Mitilde,True)\n",
        "    B.insert(0,Bi)\n",
        "\n",
        "    return B"
      ]
    },
    {
      "cell_type": "code",
      "execution_count": 19,
      "metadata": {
        "id": "jQm_ubi2eA2c"
      },
      "outputs": [],
      "source": [
        "def make_randomMPS(d,N):\n",
        "    \"\"\"\n",
        "    returns random MPS with bond dimension d, N spins\n",
        "    \"\"\"\n",
        "    A1=np.random.rand(2,1,d)\n",
        "    Ai=np.random.rand(2,d,d)\n",
        "    A3=np.random.rand(2,d,1)\n",
        "    M_GHZ=[A1]\n",
        "    for i in range(N-2):\n",
        "        M_GHZ.append(Ai)\n",
        "    M_GHZ.append(A3)\n",
        "    return M_GHZ"
      ]
    },
    {
      "cell_type": "code",
      "execution_count": 20,
      "metadata": {
        "id": "lW86ndYUeA2d"
      },
      "outputs": [],
      "source": [
        "def canonize_start(B1,B2):\n",
        "    \"\"\"\n",
        "    performs svd on first site\n",
        "\n",
        "    Parameters\n",
        "    ----------\n",
        "    B1: array, shape (s,da,db) with da=1\n",
        "        first tensor from the left of the right-canonized MPS\n",
        "    B2: array, shape (s,db,dright)\n",
        "        second tensor from the left of the right-canonized MPS\n",
        "\n",
        "    Returns\n",
        "    -------\n",
        "    Gamma_1: array, shape (s,da,db)\n",
        "         Vidal form tensor on first site\n",
        "    Btilde_2: array, shape (s,db,dright)\n",
        "        Tensor to be used as input for the next canonization step\n",
        "    S: array, shape (min(da,db)) (singular values)\n",
        "        np.diag(S) corresponds to Lambda_1, Vidal form tensor between site 1 and 2\n",
        "    \"\"\"\n",
        "    s,da,db=np.shape(B1)\n",
        "    reshapedB=np.reshape(B1,(s*da,db))\n",
        "    U,S,Vdag=np.linalg.svd(reshapedB,full_matrices=0)\n",
        "    A2=np.reshape(U,(s,da,U.shape[1]))\n",
        "    Gamma_1=np.zeros((s,da,db))\n",
        "    Gamma_1[:,:,:U.shape[1]]=A2\n",
        "    Btilde_2=np.tensordot(np.dot(np.diag(S),Vdag),B2,axes=(1,1))\n",
        "    Btilde_2=np.transpose(Btilde_2,(1,0,2))\n",
        "    return Gamma_1,Btilde_2,S\n",
        "\n",
        "def canonize_step(Btilde_i,S1,B_ip1):\n",
        "    \"\"\"\n",
        "    performs svd on site i\n",
        "\n",
        "    Parameters\n",
        "    ----------\n",
        "    Btilde_i: array, shape (s,da,db)\n",
        "        tensor on site i obtained from svd of the last step\n",
        "    S1: array,\n",
        "        singular values obtained in previous step\n",
        "    B_ip1: array, shape (s,db,dright)\n",
        "        tensor on site i+1 of the right-canonized MPS\n",
        "\n",
        "    Returns\n",
        "    -------\n",
        "    Gamma_i: array, shape (s,da,db)\n",
        "        Gamma_i: Vidal form tensor on site i\n",
        "    Btilde_ip1: array, shape (s,db,dright)\n",
        "        Tensor to be used as input for the next canonization step\n",
        "    S2: array, shape (min(da,db)) (singular values)\n",
        "        np.diag(S) corresponds to Lambda_i, Vidal form tensor between site i and i+1\n",
        "        to be used as input for next step\n",
        "    \"\"\"\n",
        "    s,da,db=np.shape(Btilde_i)\n",
        "    reshapedB=np.reshape(Btilde_i,(s*da,db))\n",
        "    U,S2,Vdag=np.linalg.svd(reshapedB,full_matrices=0)\n",
        "    Gamma_i=np.reshape(U,(s,da,U.shape[1]))[:,:,:db]\n",
        "    Gamma_i=np.tensordot(inverse(S1,da),Gamma_i,axes=(1,1))\n",
        "    Gamma_i=np.transpose(Gamma_i,(1,0,2))\n",
        "    Btilde_ip1=np.tensordot(np.dot(np.diag(S2),Vdag),B_ip1,axes=(1,1))\n",
        "    Btilde_ip1=np.transpose(Btilde_ip1,(1,0,2))\n",
        "    return Gamma_i,Btilde_ip1,S2\n",
        "\n",
        "def canonize_end(Btilde_N,S1):\n",
        "    \"\"\"\n",
        "    performs svd on last site\n",
        "    input: M1 obtained from svd of the last step, S1 singular values of svd of last step\n",
        "    output: Gamma matrix of last site\n",
        "    wave-function is normalized by setting lambda of last site to 1\n",
        "\n",
        "    performs svd on last site\n",
        "\n",
        "    Parameters\n",
        "    ----------\n",
        "    Btilde_N: array, shape (s,da,db)\n",
        "        tensor on site i obtained from svd of the last step\n",
        "    S1: array,\n",
        "        singular values obtained in previous step\n",
        "\n",
        "    Returns\n",
        "    -------\n",
        "    Gamma_N: array, shape (s,da,db) with db=1\n",
        "        Gamma_N: Vidal form tensor on site N\n",
        "\n",
        "    The wave-function is normalized by setting lambda of last site to 1\n",
        "    \"\"\"\n",
        "    s,da,db=np.shape(Btilde_N)\n",
        "    reshapedB=np.reshape(Btilde_N,(s*da,db))\n",
        "    U,S2,Vdag=np.linalg.svd(reshapedB,full_matrices=0)\n",
        "    Gamma_N=np.reshape(U,(s,da,U.shape[1]))[:,:,:1]\n",
        "    Gamma_N=np.tensordot(inverse(S1,da),Gamma_N,axes=(1,1))\n",
        "    Gamma_N=np.transpose(Gamma_N,(1,0,2))\n",
        "    return Gamma_N\n"
      ]
    },
    {
      "cell_type": "code",
      "execution_count": 21,
      "metadata": {
        "id": "zaJPRlrXeA2e"
      },
      "outputs": [],
      "source": [
        "def canonize(M):\n",
        "    \"\"\"\n",
        "    Given an MPS, this function computes the Vidal form\n",
        "    by first right-normalizing and then performing a sweep from the left.\n",
        "\n",
        "    Parameters\n",
        "    ----------\n",
        "    M: list of tensors [M_1, ...M_N]\n",
        "       where M_i is an array of shape (s,dleft,dright)-> s=2 (physical index), dleft and dright are the bond dimensions\n",
        "       Matrix Product representation of a given state with N spins\n",
        "\n",
        "    Returns\n",
        "    -------\n",
        "    Gammas: list\n",
        "       [Gamma1,...GammaN]\n",
        "    Lambdas: list\n",
        "       [Lambda1,....LambdaN-1]\n",
        "\n",
        "    s.t. the MPS in Vidalform is: [Gamma1,Lambda1,Gamma2,....LambdaN-1,GammaN]\n",
        "    \"\"\"\n",
        "    N=len(M)\n",
        "    M=right_canonize_complete(M)\n",
        "    Gammas=[]\n",
        "    Lambdas=[]\n",
        "    Gamma1,M_i,S_i=canonize_start(M[0],M[1])\n",
        "    Gammas.append(Gamma1)\n",
        "    Lambdas.append(S_i)\n",
        "    for i in range(N-2):\n",
        "        Gammai,M_i,S_i=canonize_step(M_i,S_i,M[i+2])\n",
        "        Gammas.append(Gammai)\n",
        "        Lambdas.append(S_i)\n",
        "    Gamma_N=canonize_end(M_i,S_i)\n",
        "    Gammas.append(Gamma_N)\n",
        "\n",
        "    return Gammas,Lambdas"
      ]
    },
    {
      "cell_type": "markdown",
      "metadata": {
        "id": "ILsWEKDJH32l"
      },
      "source": [
        "getting the MPS for $|\\Psi_1\\rangle$, $|\\Psi_2\\rangle$ and a random state"
      ]
    },
    {
      "cell_type": "code",
      "execution_count": 22,
      "metadata": {
        "id": "01KzjQ8LeA2f"
      },
      "outputs": [],
      "source": [
        "def get_MPsi1(N):\n",
        "    \"\"\"\n",
        "    returns the MPS representation M_AFGHZ=[A1,...AN] of Psi_1, where Ai has the dimensions [s,da,db], s is the spin degree of freedom\n",
        "    \"\"\"\n",
        "    A1=np.zeros((2,1,2))\n",
        "    A1[0,0,:]=1.0/np.sqrt(2)*np.array([[1,0]])\n",
        "    A1[1,0,:]=1.0/np.sqrt(2)*np.array([[0,1]])\n",
        "    #print A1\n",
        "\n",
        "    Ai_odd= np.zeros((2,2,2))\n",
        "    Ai_odd[0,:,:]=np.array([[0,0],[0,1]])\n",
        "    Ai_odd[1,:,:]=np.array([[1,0],[0,0]])\n",
        "\n",
        "    Ai_even=np.zeros((2,2,2))\n",
        "    Ai_even[0,:,:]=np.array([[1,0],[0,0]])\n",
        "    Ai_even[1,:,:]=np.array([[0,0],[0,1]])\n",
        "\n",
        "    # print A2\n",
        "\n",
        "    A_final_odd=np.zeros((2,2,1))\n",
        "    A_final_odd[0,:,0]=np.array([1,0])\n",
        "    A_final_odd[1,:,0]=np.array([0,1])\n",
        "\n",
        "    A_final_even=np.zeros((2,2,1))\n",
        "    A_final_even[0,:,0]=np.array([0,1])\n",
        "    A_final_even[1,:,0]=np.array([1,0])\n",
        "\n",
        "    M_AFGHZ=[A1]\n",
        "    for i in range(N-2):\n",
        "        if ((i+1)%2==0):\n",
        "            M_AFGHZ.append(Ai_even)\n",
        "        elif ((i+1)%2==1):\n",
        "            M_AFGHZ.append(Ai_odd)\n",
        "    if (N%2==0):\n",
        "        M_AFGHZ.append(A_final_even)\n",
        "    else:\n",
        "        M_AFGHZ.append(A_final_odd)\n",
        "    return M_AFGHZ"
      ]
    },
    {
      "cell_type": "code",
      "execution_count": 23,
      "metadata": {
        "id": "ckNrOPeCeA2f"
      },
      "outputs": [],
      "source": [
        "def get_MPsi2(N):\n",
        "    \"\"\"\n",
        "    returns the MPS representation M_x=[A1,...AN] of Psi_2, where Ai has the dimensions [s,da,db], s is the spin degree of freedom\n",
        "    \"\"\"\n",
        "    A1=np.zeros((2,1,1))\n",
        "    A1[0,0,:]=1.0/np.sqrt(2)\n",
        "    A1[1,0,:]=1.0/np.sqrt(2)\n",
        "    Ai=np.zeros((2,1,1))\n",
        "    Ai[0,:,:]=1.0/np.sqrt(2)\n",
        "    Ai[1,:,:]=1.0/np.sqrt(2)\n",
        "    A3=np.zeros((2,1,1))\n",
        "    A3[0,:,0]=1.0/np.sqrt(2)\n",
        "    A3[1,:,0]=1.0/np.sqrt(2)\n",
        "    M_x=[A1]\n",
        "    for i in range(N-2):\n",
        "        M_x.append(Ai)\n",
        "    M_x.append(A3)\n",
        "    return M_x"
      ]
    },
    {
      "cell_type": "code",
      "execution_count": 24,
      "metadata": {
        "id": "3BzpXA5feA2g"
      },
      "outputs": [],
      "source": [
        "Gammas_rand,Lambdas_rand=canonize(make_randomMPS(2,30))\n",
        "\n",
        "M_Psi1=get_MPsi1(30)\n",
        "M_Psi2=get_MPsi2(30)\n",
        "\n",
        "Psi1_Gammas,Psi1_Lambdas=canonize(M_Psi1)\n",
        "Psi2_Gammas,Psi2_Lambdas=canonize(M_Psi2)"
      ]
    },
    {
      "cell_type": "markdown",
      "metadata": {
        "id": "65i7dNENeA2g"
      },
      "source": [
        "Voila! We finally have the results from last week: $|\\Psi_1\\rangle$, $|\\Psi_2\\rangle$ and a random MPS (all canonized)."
      ]
    },
    {
      "cell_type": "markdown",
      "metadata": {
        "id": "vQoP6ex8eA2g"
      },
      "source": [
        "Next, we construct an MPO representation for the transverse field Ising model"
      ]
    },
    {
      "cell_type": "code",
      "execution_count": 25,
      "metadata": {
        "id": "hz40ugq5eA2h"
      },
      "outputs": [],
      "source": [
        "def make_Ising(N,h=0):\n",
        "    \"\"\"\n",
        "    N: number of spins, h: transverse field field\n",
        "    return a list of MPO [O1, ...ON] with dim(Oi)=(s,s,da,db); here s=2 and da=db=3\n",
        "    \"\"\"\n",
        "    O1=np.zeros((2,2,1,3))+0j\n",
        "    O1[:,:,0,0]=-h*sigma_x\n",
        "    O1[:,:,0,1]=sigma_z\n",
        "    O1[:,:,0,2]=np.eye(2)\n",
        "\n",
        "    O2=np.zeros((2,2,3,3))+0j\n",
        "    O2[:,:,0,0]=np.eye(2)\n",
        "    O2[:,:, 1,0]=sigma_z\n",
        "    O2[:,:,2,0]=-h*sigma_x\n",
        "    O2[:,:,2,1]=sigma_z\n",
        "    O2[:,:,2,2]=np.eye(2)\n",
        "\n",
        "    O3=np.zeros((2,2,3,1))+0j\n",
        "    O3[:,:,2,0]=-h*sigma_x\n",
        "    O3[:,:,1,0]=sigma_z\n",
        "    O3[:,:,0,0]=np.eye(2)\n",
        "    O_Ising=[O1]\n",
        "    for i in range(N-2):\n",
        "        O_Ising.append(O2)\n",
        "    O_Ising.append(O3)\n",
        "    return O_Ising"
      ]
    },
    {
      "cell_type": "markdown",
      "metadata": {
        "id": "uOO9BO7JeA2h"
      },
      "source": [
        "We implement the contraction $\\langle \\Psi|H|\\Psi\\rangle$ piecewise, similarly to last week."
      ]
    },
    {
      "cell_type": "code",
      "execution_count": 26,
      "metadata": {
        "id": "ncNp12e6eA2h"
      },
      "outputs": [],
      "source": [
        "def begin_exp(G1, Lam1,H):\n",
        "    \"\"\"\n",
        "    Performs first step of computing the expectation value <Psi|H|Psi>\n",
        "    Parameters\n",
        "    ----------\n",
        "    G1: array, shape (2,1,db_psi)\n",
        "        Gamma_1 of Psi (Vidal tensor at site 1)\n",
        "\n",
        "    Lam1: array, shape (db_psi) (careful with svd rank, if truncated)\n",
        "        Lambda_1 of Psi (Vidal tensor between sites 1 and 2)\n",
        "\n",
        "    H: array, shape (s,s,1,db_H)\n",
        "        MPO at site 1\n",
        "\n",
        "    Returns\n",
        "    -------\n",
        "    L: array, shape (db_psi, db_H, db_psi)\n",
        "       contraction at site 1, including the Lambda matrices between site 1 and 2\n",
        "       to be used as input for next step\n",
        "    \"\"\"\n",
        "\n",
        "    A1=np.tensordot(G1[:,:,:np.shape(Lam1)[0]],np.diag(Lam1),axes=(2,0))\n",
        "\n",
        "    Adag1=np.conj(A1)\n",
        "\n",
        "    L=np.tensordot(A1,H,axes=(0,0))\n",
        "    L=np.tensordot(L,Adag1,axes=(2,0))\n",
        "    L=np.reshape(L,(np.shape(A1)[2],np.shape(H)[3],np.shape(Adag1)[2]))\n",
        "    return L\n",
        "\n",
        "def step_exp(L,G1,Lam1,H):\n",
        "    \"\"\"\n",
        "    Performs i'th step of computing the expectation value <Psi|H|Psi>\n",
        "    Parameters\n",
        "    ----------\n",
        "    L: array, shape (da_psi, da_H, da_psi)\n",
        "        contraction obtained in previous step\n",
        "\n",
        "    G1: array, shape (2,da_psi,db_psi)\n",
        "        Gamma_i of Psi (Vidal tensor at site i)\n",
        "\n",
        "    Lam1: array, shape (db_psi) (careful with svd rank, if truncated)\n",
        "        Lambda_i of Psi (Vidal tensor between sites i and i+1)\n",
        "\n",
        "    H: array, shape (s,s,da_H,db_H)\n",
        "        MPO at site i\n",
        "\n",
        "    Returns\n",
        "    -------\n",
        "    L: array, shape (db_psi, db_H, db_psi)\n",
        "       contraction up to site i, including the Lambda matrices between site i and i+1\n",
        "       to be used as input for next step\n",
        "    \"\"\"\n",
        "    A1=np.tensordot(G1[:,:,:np.shape(Lam1)[0]],np.diag(Lam1),axes=(2,0))\n",
        "    Adag1=np.conj(A1)\n",
        "\n",
        "    L=np.tensordot(L,A1,axes=(0,1))\n",
        "    L=np.tensordot(L,H,axes=([0,2],[2,0]))\n",
        "    L=np.tensordot(L,Adag1,axes=([0,2],[1,0]))\n",
        "    return L\n",
        "\n",
        "def end_exp(L,G1,H):\n",
        "    \"\"\"\n",
        "    G1: Gamma matrices of Psi at site N\n",
        "    H: MPO at site N\n",
        "    L: contraction up to site N-1\n",
        "    returns complete contraction\n",
        "\n",
        "    Performs the las step of computing the expectation value <Psi|H|Psi>\n",
        "\n",
        "    Parameters\n",
        "    ----------\n",
        "    L: array, shape (da_psi, da_H, da_psi)\n",
        "       contraction obtained in previous step\n",
        "\n",
        "    G1: array, shape (2,da_psi,1)\n",
        "       Gamma_N of Psi (Vidal tensor at site N)\n",
        "\n",
        "    H: array, shape (s,s,da_H,1)\n",
        "       MPO at site N\n",
        "\n",
        "    Returns\n",
        "    -------\n",
        "    exp_value: real or complex\n",
        "       contraction up to site N, corresponding to the expectation value <Psi|H|Psi>\n",
        "    \"\"\"\n",
        "    A1=G1\n",
        "    Adag1=np.conj(A1)\n",
        "    L=np.tensordot(L,A1,axes=(0,1))\n",
        "    L=np.tensordot(L,H,axes=([0,2],[2,0]))\n",
        "    L=np.tensordot(L,Adag1,axes=([0,2],[1,0]))\n",
        "    exp_value=L[0,0,0]\n",
        "    return exp_value\n",
        "\n",
        "def calculate_exp(Gammas1,Lambdas1,Hamiltonian):\n",
        "    \"\"\"returns the expectation value <Psi|H|Psi>\n",
        "    with Gammas1,Lambdas1 the canonized MPS representation of Psi\n",
        "    and Hamiltonian an MPO representation of H\n",
        "    \"\"\"\n",
        "    L=begin_exp(Gammas1[0],Lambdas1[0],Hamiltonian[0])\n",
        "    for i in range(len(Gammas1)-2):\n",
        "        L=step_exp(L,Gammas1[i+1],Lambdas1[i+1],Hamiltonian[i+1])\n",
        "    L=end_exp(L,Gammas1[-1],Hamiltonian[-1])\n",
        "    return L"
      ]
    },
    {
      "cell_type": "code",
      "execution_count": 27,
      "metadata": {
        "colab": {
          "base_uri": "https://localhost:8080/"
        },
        "id": "NZCb-av5eA2h",
        "outputId": "d93b6dac-a795-4d8c-e48e-1139e16884f3"
      },
      "outputs": [
        {
          "name": "stdout",
          "output_type": "stream",
          "text": [
            "The expectation value for Psi1, h: 0 is equal to: (-28.999999999999996+0j)\n",
            "The expectation value for Psi2, h: 0 is equal to: 0j\n",
            "The expectation value for a randomly generated MPS, h: 0 is equal to: (13.29143396042737+0j)\n",
            "The expectation value for Psi1, h: 1 is equal to: (-28.999999999999996+0j)\n",
            "The expectation value for Psi2, h: 1 is equal to: (-29.999999999999858+0j)\n",
            "The expectation value for a randomly generated MPS, h: 1 is equal to: (-7.457348864190328+0j)\n",
            "The expectation value for Psi1, h: 2 is equal to: (-28.999999999999996+0j)\n",
            "The expectation value for Psi2, h: 2 is equal to: (-59.999999999999716+0j)\n",
            "The expectation value for a randomly generated MPS, h: 2 is equal to: (-28.206131688808046+0j)\n"
          ]
        }
      ],
      "source": [
        "h_values=[0,1,2]\n",
        "for h in h_values:\n",
        "    O_Ising=make_Ising(30,h)\n",
        "    print(\"The expectation value for Psi1, h:\",h, \"is equal to:\",calculate_exp(Psi1_Gammas,Psi1_Lambdas,O_Ising))\n",
        "    print(\"The expectation value for Psi2, h:\",h, \"is equal to:\",calculate_exp(Psi2_Gammas,Psi2_Lambdas,O_Ising))\n",
        "    print(\"The expectation value for a randomly generated MPS, h:\",h, \"is equal to:\",calculate_exp(Gammas_rand,Lambdas_rand,O_Ising))"
      ]
    },
    {
      "cell_type": "code",
      "execution_count": null,
      "metadata": {
        "id": "GaIZ_n_heA2j"
      },
      "outputs": [],
      "source": []
    }
  ],
  "metadata": {
    "colab": {
      "provenance": []
    },
    "kernelspec": {
      "display_name": "venv_CQM",
      "language": "python",
      "name": "python3"
    },
    "language_info": {
      "codemirror_mode": {
        "name": "ipython",
        "version": 3
      },
      "file_extension": ".py",
      "mimetype": "text/x-python",
      "name": "python",
      "nbconvert_exporter": "python",
      "pygments_lexer": "ipython3",
      "version": "3.9.7"
    }
  },
  "nbformat": 4,
  "nbformat_minor": 0
}
