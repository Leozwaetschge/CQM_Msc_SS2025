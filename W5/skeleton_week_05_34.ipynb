{
 "cells": [
  {
   "cell_type": "markdown",
   "metadata": {},
   "source": [
    "**Ex. 2 DMRG implementation**"
   ]
  },
  {
   "cell_type": "markdown",
   "metadata": {},
   "source": [
    "We start by creating a random MPS and right-normalizing it. We also need the MPO of the transverse field Ising Hamiltonian. These are two ingredients needed as an input to the actual DMRG."
   ]
  },
  {
   "cell_type": "code",
   "execution_count": null,
   "metadata": {},
   "outputs": [],
   "source": [
    "import numpy as np\n",
    "import matplotlib.pyplot as plt\n",
    "import scipy\n",
    "import math\n",
    "from scipy import linalg\n",
    "import scipy.sparse\n",
    "from scipy.sparse import linalg\n",
    "\n",
    "from numpy import transpose as tr, conjugate as co\n",
    "from scipy.linalg import expm, svd\n",
    "from scipy.sparse.linalg import eigsh, LinearOperator\n",
    "import math\n"
   ]
  },
  {
   "cell_type": "markdown",
   "metadata": {},
   "source": [
    "Let us start with some utility functions to left and right nomalize the MPS at a site. This is the same as last week's exercise (Ex. 2) -- the code is given to you."
   ]
  },
  {
   "cell_type": "code",
   "execution_count": null,
   "metadata": {},
   "outputs": [],
   "source": [
    "def dot(A,B):\n",
    "    \"\"\" Does the dot product like np.dot, but preserves the shapes also for singleton dimensions \"\"\"\n",
    "    s1 = A.shape\n",
    "    s2 = B.shape\n",
    "    return np.dot(A,B).reshape((s1[0],s2[1]))\n",
    "\n",
    "def right_canonize(M1,M2,return_S = False):\n",
    "    \"\"\" Right normalizes M2 into B matrix, M1 loses its canonization \"\"\"\n",
    "    s, da, db = M2.shape\n",
    "    U, S, Vh = svd(M2.transpose((1,0,2)).reshape((da,s*db)))\n",
    "    #this reshapes M2 and finds its svd\n",
    "    B2     = Vh.reshape((Vh.shape[0],s,db)).transpose((1,0,2))[:,:da,:]\n",
    "    M1     = np.tensordot(M1,dot(U[:,:min(da,np.shape(S)[0])],np.diag(S[:min(da,np.shape(S)[0])])),axes=((2),(0)))\n",
    "    if return_S:\n",
    "        return M1, B2, S\n",
    "    else:\n",
    "        return M1, B2\n",
    "\n",
    "    \n",
    "def left_canonize(M1,M2,return_S = False):\n",
    "    \"\"\" Left normalizes M1 into A matrix, M2 loses its canonization\"\"\"\n",
    "    s, da, db = M1.shape\n",
    "    U, S, Vh = svd(M1.reshape((s*da,db)))\n",
    "    A1      = U.reshape((s,da,U.shape[1]))[:,:,:min(db,np.shape(S)[0])]\n",
    "    M2     = np.tensordot(dot(np.diag(S[:min(db,np.shape(S)[0])]),Vh[:min(db,np.shape(S)[0]),:]),M2,axes=((1),(1)))\n",
    "    if return_S:\n",
    "        return A1, M2, S\n",
    "    else:\n",
    "        return A1, M2\n"
   ]
  },
  {
   "cell_type": "markdown",
   "metadata": {},
   "source": [
    "The MPO for the TFIM Hamiltonian is the same as in Ex. 2 of this week."
   ]
  },
  {
   "cell_type": "code",
   "execution_count": null,
   "metadata": {},
   "outputs": [],
   "source": [
    "sigma_x=np.array([[0,1],[1,0]])\n",
    "sigma_y=np.array([[0+0j,0-1j],[0+0j,0+1j]])\n",
    "sigma_z=np.array([[1,0],[0,-1]])"
   ]
  },
  {
   "cell_type": "code",
   "execution_count": null,
   "metadata": {},
   "outputs": [],
   "source": [
    "def make_Ising(N, h=0):\n",
    "    \"\"\" return MPO [O1, ...ON] of the transverse field Ising model with dim(Oi)=[s,s,da,db], here s=2 and da=db=3\"\"\"\n",
    "    # implement the MPO representation of the transverse field Ising model here\n",
    "    \n",
    "    return O_Ising\n"
   ]
  },
  {
   "cell_type": "markdown",
   "metadata": {},
   "source": [
    "We will now need functions that form right and left environments on the chain. Starting from the right of the chain, we contract indices up to some vertical cut and obtain $R^i_{a_i a'_i b_i}$ environment tensor that has two MPS virtual indices $a_i$ and $a'_i$ as well as one MPO index $b_i$. Note that we should work here with the right-normalized MPS representation. The recurrent formula for $R^{i + 1}_{a_{i + 1} a'_{i + 1} b_{i + 1}}$ is straightforward:\n",
    "$$R^{i + 1}_{a_{i + 1} a'_{i + 1} b_{i + 1}} = \\sum\\limits_{\\sigma_i \\sigma'_i} \\sum\\limits_{b_i a_i a'_i} R^i_{a_i a'_i b_i} B^{a_{i + 1}}_{\\sigma_i a_i} B^{\\dagger a'_{i + 1}}_{\\sigma'_i a'_i} W^{\\sigma_i \\sigma'_i}_{b_i b_{i + 1}}.$$\n",
    "\n",
    "The same procedure applies to the construction of left environments $L^i_{a_i a'_i b_i}$, which are constructed from MPO $W_i$ and left-normalized MPS representation $A$."
   ]
  },
  {
   "cell_type": "code",
   "execution_count": null,
   "metadata": {},
   "outputs": [],
   "source": [
    "# ---- R^{i + 1}     -- B^{\\dag} -- R^i\n",
    "#      R^{i + 1}          |         R^i\n",
    "# ---- R^{i + 1} === ---- W ------- R^i\n",
    "#      R^{i + 1}          |         R^i\n",
    "# ---- R^{i + 1}     ---- B ------- R^i\n",
    "\n",
    "def add_site_to_R_env(R_env, B, W):\n",
    "    \"\"\"\n",
    "    R_env: right environment from previous step; shape (da_psi, da_H, da_psi) \n",
    "    B: right-normalized; shape (s, db_psi, da_psi)\n",
    "    W: MPO; shape (s, s, db_H, da_H)\n",
    "    \n",
    "    Returns\n",
    "    R_env: updated right environment; shape (db_psi, db_H, db_psi)\n",
    "    \"\"\"\n",
    "    \n",
    "    # implement contractions (either np.tensordot or np.einsum)\n",
    "\n",
    "    return R_env    \n",
    "\n",
    "#  L^i -- A^{\\dag} ---     L^{i + 1} ---\n",
    "#  L^i       |             L^{i + 1}\n",
    "#  L^i ------W ------- === L^{i + 1} ---\n",
    "#  L^i       |             L^{i + 1}\n",
    "#  L^i ------A -------     L^{i + 1} ---\n",
    "\n",
    "def add_site_to_L_env(L_env, A, W):\n",
    "    \"\"\"\n",
    "    L_env: left environment from previous step; shape (da_psi, da_H, da_psi) \n",
    "    A: left-normalized; shape (s, da_psi, db_psi)\n",
    "    W: MPO; shape (s, s, da_H, db_H)\n",
    "    \n",
    "    Returns\n",
    "    L_env: updated left environment; shape (db_psi, db_H, db_psi)\n",
    "    \"\"\"\n",
    "        \n",
    "    # implement contractions (either np.tensordot or np.einsum)\n",
    "\n",
    "    return L_env2"
   ]
  },
  {
   "cell_type": "markdown",
   "metadata": {},
   "source": [
    "In the DMRG algorithm, one locally solves the eigenvalue problem $$\\sum\\limits_{\\sigma_l a_{l - 1} a_l} \\left(\\underbrace{\\sum\\limits_{b_l b_{l - 1}} L_{a_{l - 1} b_{l - 1} a'_{l - 1}} W^{\\sigma'_l \\sigma_l}_{b_{l - 1} b_l} R_{a_l b_l a'_l}}_{\\hat H}\\right) M^{\\sigma_l}_{a_{l - 1} a_l} = \\lambda M^{\\sigma'_l}_{a'_{l - 1} a'_l}.$$\n",
    "\n",
    "The underbraced expression is the local \"Hamiltonian\" acting on the MPS matrix at site $l$. The construction of this Hamiltonian itself is very inefficient, so one only defines the *action* of this Hamiltonian as a Linear Operator. (Recall this sort of procedure from Exercise Sheet 3, Question 1B.)"
   ]
  },
  {
   "cell_type": "code",
   "execution_count": null,
   "metadata": {},
   "outputs": [],
   "source": [
    "def H_local(L_env, W, R_env, M):\n",
    "    \"\"\"\n",
    "    L_env: left environment up to site l-l\n",
    "    W: MPO at site l\n",
    "    R_env: right environment from site l+1\n",
    "    M: MPS matrix at site l\n",
    "    \"\"\"\n",
    "    \n",
    "    # distinguish between the boundary and the bulk\n",
    "    s = 2    # dimension of the physical leg\n",
    "    if len(M.shape) == 1:  # in case of the boundary\n",
    "        flatten = True\n",
    "        M = np.reshape(M, (s, L_env.shape[0], R_env.shape[0]))\n",
    "    elif len(M.shape) == 3:  # in case of the bulk index\n",
    "        flatten = False\n",
    "    else:\n",
    "        raise ValueError('Unknown format for M')\n",
    "    \n",
    "    # L -- (blank) --- R\n",
    "    # L    |           R\n",
    "    # L -- W --------- R\n",
    "    # L    |           R\n",
    "    # L -- M --------- R\n",
    "    \n",
    "    # contract L_env, M, W and R_env as shown above\n",
    "    hpsi = ... # either np.tensordot or np.einsum\n",
    "    \n",
    "    if flatten:\n",
    "        return hpsi.flatten()\n",
    "    return hpsi"
   ]
  },
  {
   "cell_type": "markdown",
   "metadata": {},
   "source": [
    "Now we are ready to run DMRG. For a given value of $h$ transverse field, we construct the MPO, create a random initial MPS, right-normalize it, precompute right environments.\n",
    "\n",
    "Then the algorithm performs consequtive right and left \"sweeps\". Starting from the left, we compute local left environment, construct local \"Hamiltonian\", optimize MPS locally and normalize.\n"
   ]
  },
  {
   "cell_type": "code",
   "execution_count": null,
   "metadata": {},
   "outputs": [],
   "source": [
    "def run_DMRG(h, L, chi = 60, nmax = 1000, verbose = False, atol=1e-12):\n",
    "    \"\"\"\n",
    "    h: transverse field\n",
    "    L: number of spins\n",
    "    chi: maximum bond dimension\n",
    "    nmax: maximum number of left and right sweeps\n",
    "    \n",
    "    returns: \n",
    "    energy: ground state energy\n",
    "    Lambdas: list of singular value matrices\n",
    "    \"\"\"\n",
    "    ### construct the MPO ###\n",
    "    W = ...\n",
    "\n",
    "    ### define a random MPS ###\n",
    "    # we want a list of random MPS tensors from sites 0 to L-1\n",
    "    # e.g. draw from a normal distribution (np.random.standard_normal)\n",
    "    # shape of each tensor: (s, dright, dleft)\n",
    "    # recall how the bond dimension grows from the left: 1, d, d^2...d^(N/2) and then decrease again d^(N/2),..., d^2, d\n",
    "    # take care not to exceed the maximum bond dimension (chi)!\n",
    "    \n",
    "    M = [... for i in range(L)]\n",
    "    \n",
    "    ### right-normalize the MPS ###\n",
    "    # start from the right edge: L-1, L-2...,1\n",
    "    for i in range(L - 1, 0, -1):\n",
    "        # implement that here\n",
    "    # to run on the left boundary, introduce a fake matrix that we discard later\n",
    "    _, M[0] = right_canonize(np.ones((1, 1, 1)), M[0])\n",
    "    \n",
    "    ### compute right environments ###\n",
    "    # again start with a fake matrix on the right boundary\n",
    "    R_environments = [np.ones((1, 1, 1))]    \n",
    "    for i in range(1, L):\n",
    "        # build the right environment from site 1...L-1\n",
    "    \n",
    "    \n",
    "    ### now the left and right sweeps ###\n",
    "    local_energy_previous = np.inf\n",
    "    delta = np.inf\n",
    "    \n",
    "    for n in range(nmax):\n",
    "        ### right sweep ###\n",
    "        # start with a fake matrix on the left boundary\n",
    "        L_environments = [np.ones((1, 1, 1))]  \n",
    "    \n",
    "        #Lambdas = []\n",
    "        for i in range(L - 1):    # start from site 0, move one site to the right at each iteration\n",
    "            # compute the local H dimension (to be used to construct the LinearOperator object)\n",
    "            local_H_dim = ...\n",
    "            \n",
    "            # construct the LinearOperator object\n",
    "            Hop = scipy.sparse.linalg.LinearOperator(...)\n",
    "            \n",
    "            # obtain best local MPS (linearized) and local energy using the Lanczos algorithm\n",
    "            energy, V = scipy.sparse.linalg.eigsh(Hop, k = 1, v0 = M[i].flatten(), \\\n",
    "                                                  tol = 1e-2 if n < 2 else 0, which = 'SA')\n",
    "            \n",
    "            ### update step ###\n",
    "            energy = energy[0]     # calculated ground state energy\n",
    "            delta = energy - local_energy_previous\n",
    "            local_energy_previous = energy \n",
    "\n",
    "            # reshape the obtained result to the shape of the MPS matrix\n",
    "            M[i] = V.reshape(...)\n",
    "            \n",
    "            # left-normalize the result (it will affect M[i + 1], but we will optimize it in the next iteration)\n",
    "            M[i], M[i + 1], Lambda = ...\n",
    "            \n",
    "            # add the left-normalized tensor to the left environment\n",
    "            L_environments.append(...)\n",
    "\n",
    "        ### repeat the same for left sweep ###\n",
    "        R_environments = [np.ones((1, 1, 1))]\n",
    "        \n",
    "        Lambdas = []\n",
    "        \n",
    "        for i in range(L - 1, 0, -1):    # now start at site L-1, iterate until site 1\n",
    "            ### implement the same procedure as right sweep ###\n",
    "            ### append the singular value matrices to the list of Lambdas ###\n",
    "        \n",
    "        # === check convergence ===\n",
    "        if verbose:\n",
    "            print(h, n, 'dE = ', abs(delta))\n",
    "        if abs(delta) < atol:\n",
    "            if verbose:\n",
    "                print(\"Converged after {:d} sweeps!\".format(n))\n",
    "                print('Ground-state energy: {:.10f}'.format(energy))\n",
    "            break\n",
    "    \n",
    "    if abs(delta) > atol:\n",
    "        print(\"Convergence not reached after  {:d} sweeps!\".format(n))\n",
    "        print(h, n, 'dE = ', abs(delta))\n",
    "\n",
    "    return energy, Lambdas"
   ]
  },
  {
   "cell_type": "markdown",
   "metadata": {},
   "source": [
    " Now, as you obtained the working version of DMRG, you should compare it with the exact diagonalization (ED) data. Consider the $L = 8$ chain with open boundary conditions and validate that the ground state energy at $h/J = 2$ equals -16.88514149."
   ]
  },
  {
   "cell_type": "code",
   "execution_count": null,
   "metadata": {},
   "outputs": [],
   "source": [
    "run_DMRG(2, 8, 16)[0]"
   ]
  },
  {
   "cell_type": "code",
   "execution_count": null,
   "metadata": {},
   "outputs": [],
   "source": []
  }
 ],
 "metadata": {
  "kernelspec": {
   "display_name": "Python 3 (ipykernel)",
   "language": "python",
   "name": "python3"
  },
  "language_info": {
   "codemirror_mode": {
    "name": "ipython",
    "version": 3
   },
   "file_extension": ".py",
   "mimetype": "text/x-python",
   "name": "python",
   "nbconvert_exporter": "python",
   "pygments_lexer": "ipython3",
   "version": "3.9.13"
  }
 },
 "nbformat": 4,
 "nbformat_minor": 4
}
