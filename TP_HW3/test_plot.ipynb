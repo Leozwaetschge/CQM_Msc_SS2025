# filepath: TP_HW3/test_plot.ipynb

{
    "cells": [
        {
            "cell_type": "code",
            "metadata": {},
            "source": [
                "import numpy as np",
                "from TP_HW3.plot import r  # Absolute import of the function to test"
            ],
            "outputs": []
        },
        {
            "cell_type": "code",
            "metadata": {},
            "source": [
                "# Test case 1: Basic functionality",
                "T0 = 40",
                "T_inf = 20",
                "h = 50",
                "k = 237",
                "W = 1",
                "L = 10",
                "x = 5",
                "",
                "# Expected result is calculated manually or using a reliable reference",
                "expected = T_inf + (T0 - T_inf) * (np.cosh(np.sqrt(2 * h / (k * W)) * x) - (np.sinh(np.sqrt(2 * h / (k * W)) * x) / np.tanh(np.sqrt(2) * L)))",
                "assert np.isclose(r(x, T0, T_inf, h, k, W, L), expected), \"Test case 1 failed\""
            ],
            "outputs": []
        },
        {
            "cell_type": "code",
            "metadata": {},
            "source": [
                "# Test case 2: Edge case with x=0",
                "x = 0",
                "expected = T0",
                "assert np.isclose(r(x, T0, T_inf, h, k, W, L), expected), \"Test case 2 failed\""
            ],
            "outputs": []
        },
        {
            "cell_type": "code",
            "metadata": {},
            "source": [
                "# Test case 3: Edge case with L=0",
                "L = 0",
                "x = 0",
                "expected = T0",
                "assert np.isclose(r(x, T0, T_inf, h, k, W, L), expected), \"Test case 3 failed\""
            ],
            "outputs": []
        },
        {
            "cell_type": "code",
            "metadata": {},
            "source": [
                "# Test case 4: Large x value",
                "x = 100",
                "L = 100",
                "expected = T_inf + (T0 - T_inf) * (np.cosh(np.sqrt(2 * h / (k * W)) * x) - (np.sinh(np.sqrt(2 * h / (k * W)) * x) / np.tanh(np.sqrt(2) * L)))",
                "assert np.isclose(r(x, T0, T_inf, h, k, W, L), expected), \"Test case 4 failed\""
            ],
            "outputs": []
        },
        {
            "cell_type": "code",
            "metadata": {},
            "source": [
                "print(\"All tests passed!\")"
            ],
            "outputs": []
        }
    ],
    "metadata": {
        "kernelspec": {
            "display_name": "Python 3",
            "language": "python",
            "name": "python3"
        },
        "language_info": {
            "codemirror_mode": {
                "name": "ipython",
                "version": 3
            },
            "file_extension": ".py",
            "mimetype": "text/x-python",
            "name": "python",
            "nbconvert_exporter": "python",
            "pygments_lexer": "ipython3",
            "version": "3.8.5"
        }
    }
}