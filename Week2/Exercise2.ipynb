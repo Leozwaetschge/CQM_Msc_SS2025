{
 "cells": [
  {
   "cell_type": "code",
   "execution_count": 1,
   "id": "8886ef47",
   "metadata": {},
   "outputs": [
    {
     "name": "stdout",
     "output_type": "stream",
     "text": [
      "Requirement already satisfied: pip in /Users/leonardodelgaudio/Documents/14_Master/Msc_SS25/CQM_Msc_SS2025/venv_CQM/lib/python3.9/site-packages (25.0.1)\n",
      "Note: you may need to restart the kernel to use updated packages.\n",
      "Requirement already satisfied: numpy in /Users/leonardodelgaudio/Documents/14_Master/Msc_SS25/CQM_Msc_SS2025/venv_CQM/lib/python3.9/site-packages (2.0.2)\n",
      "Note: you may need to restart the kernel to use updated packages.\n",
      "Requirement already satisfied: scipy in /Users/leonardodelgaudio/Documents/14_Master/Msc_SS25/CQM_Msc_SS2025/venv_CQM/lib/python3.9/site-packages (1.13.1)\n",
      "Requirement already satisfied: numpy<2.3,>=1.22.4 in /Users/leonardodelgaudio/Documents/14_Master/Msc_SS25/CQM_Msc_SS2025/venv_CQM/lib/python3.9/site-packages (from scipy) (2.0.2)\n",
      "Note: you may need to restart the kernel to use updated packages.\n",
      "Requirement already satisfied: matplotlib in /Users/leonardodelgaudio/Documents/14_Master/Msc_SS25/CQM_Msc_SS2025/venv_CQM/lib/python3.9/site-packages (3.9.4)\n",
      "Requirement already satisfied: contourpy>=1.0.1 in /Users/leonardodelgaudio/Documents/14_Master/Msc_SS25/CQM_Msc_SS2025/venv_CQM/lib/python3.9/site-packages (from matplotlib) (1.3.0)\n",
      "Requirement already satisfied: cycler>=0.10 in /Users/leonardodelgaudio/Documents/14_Master/Msc_SS25/CQM_Msc_SS2025/venv_CQM/lib/python3.9/site-packages (from matplotlib) (0.12.1)\n",
      "Requirement already satisfied: fonttools>=4.22.0 in /Users/leonardodelgaudio/Documents/14_Master/Msc_SS25/CQM_Msc_SS2025/venv_CQM/lib/python3.9/site-packages (from matplotlib) (4.56.0)\n",
      "Requirement already satisfied: kiwisolver>=1.3.1 in /Users/leonardodelgaudio/Documents/14_Master/Msc_SS25/CQM_Msc_SS2025/venv_CQM/lib/python3.9/site-packages (from matplotlib) (1.4.7)\n",
      "Requirement already satisfied: numpy>=1.23 in /Users/leonardodelgaudio/Documents/14_Master/Msc_SS25/CQM_Msc_SS2025/venv_CQM/lib/python3.9/site-packages (from matplotlib) (2.0.2)\n",
      "Requirement already satisfied: packaging>=20.0 in /Users/leonardodelgaudio/Documents/14_Master/Msc_SS25/CQM_Msc_SS2025/venv_CQM/lib/python3.9/site-packages (from matplotlib) (24.2)\n",
      "Requirement already satisfied: pillow>=8 in /Users/leonardodelgaudio/Documents/14_Master/Msc_SS25/CQM_Msc_SS2025/venv_CQM/lib/python3.9/site-packages (from matplotlib) (11.1.0)\n",
      "Requirement already satisfied: pyparsing>=2.3.1 in /Users/leonardodelgaudio/Documents/14_Master/Msc_SS25/CQM_Msc_SS2025/venv_CQM/lib/python3.9/site-packages (from matplotlib) (3.2.1)\n",
      "Requirement already satisfied: python-dateutil>=2.7 in /Users/leonardodelgaudio/Documents/14_Master/Msc_SS25/CQM_Msc_SS2025/venv_CQM/lib/python3.9/site-packages (from matplotlib) (2.9.0.post0)\n",
      "Requirement already satisfied: importlib-resources>=3.2.0 in /Users/leonardodelgaudio/Documents/14_Master/Msc_SS25/CQM_Msc_SS2025/venv_CQM/lib/python3.9/site-packages (from matplotlib) (6.5.2)\n",
      "Requirement already satisfied: zipp>=3.1.0 in /Users/leonardodelgaudio/Documents/14_Master/Msc_SS25/CQM_Msc_SS2025/venv_CQM/lib/python3.9/site-packages (from importlib-resources>=3.2.0->matplotlib) (3.21.0)\n",
      "Requirement already satisfied: six>=1.5 in /Users/leonardodelgaudio/Documents/14_Master/Msc_SS25/CQM_Msc_SS2025/venv_CQM/lib/python3.9/site-packages (from python-dateutil>=2.7->matplotlib) (1.17.0)\n",
      "Note: you may need to restart the kernel to use updated packages.\n"
     ]
    }
   ],
   "source": [
    "%pip install --upgrade pip\n",
    "%pip install numpy\n",
    "%pip install scipy\n",
    "%pip install matplotlib"
   ]
  },
  {
   "cell_type": "code",
   "execution_count": 2,
   "id": "688d6a66",
   "metadata": {},
   "outputs": [],
   "source": [
    "import numpy as np\n",
    "import scipy as sp\n",
    "import cmath"
   ]
  },
  {
   "cell_type": "markdown",
   "id": "06a7cbd4",
   "metadata": {},
   "source": [
    "**Part 1: Bitwise operations** $$ \\\\ $$\n",
    "Let us see how to represent a spin $\\frac{1}{2}$ chain (or a chain of spinless fermions) using integers and their bit representation. First, let us see how to get the bitstring out of an integer:"
   ]
  },
  {
   "cell_type": "code",
   "execution_count": 12,
   "id": "46977c09",
   "metadata": {},
   "outputs": [
    {
     "name": "stdout",
     "output_type": "stream",
     "text": [
      "0b1000\n",
      "1000\n"
     ]
    }
   ],
   "source": [
    "print(bin(8))\n",
    "#or \n",
    "print(format(8,'b'))"
   ]
  },
  {
   "cell_type": "markdown",
   "id": "1e54e516",
   "metadata": {},
   "source": [
    "Using bitwise operators, create a function that shifts every state to the right by $n$ units:"
   ]
  },
  {
   "cell_type": "code",
   "execution_count": null,
   "id": "fbd15e7c",
   "metadata": {},
   "outputs": [],
   "source": [
    "def shift_right(i:int,n:int,N:int):\n",
    "    #i: the integer representing the state\n",
    "    #n: the amount of sites by which the state should be shifted\n",
    "    #N: the system size\n",
    "    \n",
    "    #Write a function that gives as an output the integer that one obtains by the shift. So if i=9, n=1 and N=4\n",
    "    #you should get 12 as an output.\n",
    "    \n",
    "    return(output)\n",
    "        "
   ]
  },
  {
   "cell_type": "markdown",
   "id": "e3d0d535",
   "metadata": {},
   "source": [
    "Let us time it for later comparison"
   ]
  },
  {
   "cell_type": "code",
   "execution_count": null,
   "id": "bd6feb8d",
   "metadata": {},
   "outputs": [],
   "source": [
    "%timeit shift_right(4,2,4)"
   ]
  },
  {
   "cell_type": "markdown",
   "id": "7fe4a2af",
   "metadata": {},
   "source": [
    "Let us write the same function for an array, using np.roll:"
   ]
  },
  {
   "cell_type": "code",
   "execution_count": null,
   "id": "8dad59f7",
   "metadata": {},
   "outputs": [],
   "source": [
    "def shift_right_array(a:np.array,n):\n",
    "    return(np.roll(a,n))"
   ]
  },
  {
   "cell_type": "markdown",
   "id": "4d99b812",
   "metadata": {},
   "source": [
    "Let us time it as well and compare:"
   ]
  },
  {
   "cell_type": "code",
   "execution_count": null,
   "id": "378601b7",
   "metadata": {},
   "outputs": [],
   "source": [
    "ar = np.array([1,0,1,0])\n",
    "%timeit shift_right_array(ar,2)"
   ]
  },
  {
   "cell_type": "markdown",
   "id": "f5d034b9",
   "metadata": {},
   "source": [
    "Great, we can actually save quite some time by resorting to the representation of states as bits of an integer. Similarly to above, create a function that shifts every state to the left by $n$ units:"
   ]
  },
  {
   "cell_type": "code",
   "execution_count": null,
   "id": "59499460",
   "metadata": {},
   "outputs": [],
   "source": [
    "def shift_left(i:int,n:int,N:int):\n",
    "    #i: the integer representing the state\n",
    "    #n: the amount of sites by which the state should be shifted\n",
    "    #N: the system size\n",
    "    \n",
    "    #Write a function that gives as an output the integer that one obtains by the shift.\n",
    "    \n",
    "    return(output)"
   ]
  },
  {
   "cell_type": "markdown",
   "id": "c5789dfd",
   "metadata": {},
   "source": [
    "Write a function to count the number of up spins:\n"
   ]
  },
  {
   "cell_type": "code",
   "execution_count": null,
   "id": "a7bdfb83",
   "metadata": {},
   "outputs": [],
   "source": [
    "def count_upspins(i:int):\n",
    "    #i: the integer representing the state\n",
    "    \n",
    "    #Write a function that gives as an output the number of upspins in the state\n",
    "    \n",
    "    return(output)"
   ]
  },
  {
   "cell_type": "markdown",
   "id": "4049c7c8",
   "metadata": {},
   "source": [
    "Write a function to check the spin at site j:"
   ]
  },
  {
   "cell_type": "code",
   "execution_count": null,
   "id": "d5e7c1a7",
   "metadata": {},
   "outputs": [],
   "source": [
    "def spin_at_j(i:int,j:int):\n",
    "    #i: the integer representing the state\n",
    "    #j: the site at which the spin should be flipped\n",
    "    \n",
    "    #Write a function that gives as an output the spin of the state i at site j\n",
    "    \n",
    "    return(output)"
   ]
  },
  {
   "cell_type": "markdown",
   "id": "bba78bfd",
   "metadata": {},
   "source": [
    "Write a function to flip the spin at site j:"
   ]
  },
  {
   "cell_type": "code",
   "execution_count": null,
   "id": "fe1faf70",
   "metadata": {},
   "outputs": [],
   "source": [
    "def flip_spin(i:int,j:int):\n",
    "    #i: the integer representing the state\n",
    "    #j: the site at which the spin should be flipped\n",
    "    \n",
    "    #Write a function that gives as an output the integer obtained by flipping the spin of the state i at site j\n",
    "    return(output)"
   ]
  },
  {
   "cell_type": "markdown",
   "id": "0af00678",
   "metadata": {},
   "source": [
    "Write a function to flip all the spins at once:"
   ]
  },
  {
   "cell_type": "code",
   "execution_count": null,
   "id": "c7f383e1",
   "metadata": {},
   "outputs": [],
   "source": [
    "def flip_all_spins(i:int,N:int):\n",
    "    #i: the integer representing the state\n",
    "    #N: the size of the system\n",
    "    \n",
    "    #Write a function that gives as output the integer obtained if all the spins are flipped\n",
    "    \n",
    "    return(output)"
   ]
  },
  {
   "cell_type": "markdown",
   "id": "7de89cdc",
   "metadata": {},
   "source": [
    "Assuming we have a chain of 10 spin-$\\frac{1}{2}$'s, compute the sizes of the different magnetization sectors of the Hilbert space."
   ]
  },
  {
   "cell_type": "code",
   "execution_count": null,
   "id": "4c316b2c",
   "metadata": {},
   "outputs": [],
   "source": [
    "#state the size of your system\n",
    "N = 10\n",
    "\n",
    "#state the possible values the magnetization may take\n",
    "possible_magnetizations = np.linspace(-N,N,2*N+1)\n",
    "\n",
    "#Create a dictionary to save the set of states for each magnetization sector\n",
    "m_sectors = {}\n",
    "\n",
    "#Initialize an empty list in the dictionary for every possible m-value\n",
    "for m in possible_magnetizations:\n",
    "    m_sectors[f'{m}'] = []\n",
    "\n",
    "\n",
    "#Iterate over all the basis states and order them according to their magnetization\n",
    "for i in range(0,2**N):\n",
    "    #Your code\n",
    "\n",
    "#if you wish, print the subspaces of the different magnetizations\n",
    "\n",
    "#for m,basis in m_sectors.items():\n",
    "#    print(m,basis)"
   ]
  },
  {
   "cell_type": "markdown",
   "id": "61aaadf1",
   "metadata": {},
   "source": [
    "**Part 2: Transverse Field Ising Model**\n",
    "\n",
    "By now you should have solved the exercise to express the Transeverse Field Ising Hamiltonian in the momentum state basis. Let us combine our knowledge to numerical use and apply it on the TFI,\n",
    "$$\\hat H = \\sum\\limits_{i=0}^{N - 1} \\sigma_i^z \\sigma_{i + 1}^z + h^x \\sum\\limits_i \\sigma^x.$$\n",
    "The ultimate goal will be to exactly diagonalize the model and make use of the translation symmetry. Here we'll do some preparatory work. Assume $N=8$. What are the possible momenta $P_n$ that one could have?\n",
    "$$ P_n=\\frac{2\\pi}{N}n, \\; n=0,1,...,7.$$ \n",
    "- Find the representatives of all the orbits generated by the translation operator $\\hat{T}$. Choose as representative of an orbit the state of the orbit corresponding to the lowest integer value (state with up- and down spins <--> integer value via the bit representation).  \n",
    "- Next, check wich orbits are compatible with the momentum $P_n$ (remember that e.g. the orbit created by the state $|\\uparrow\\downarrow\\uparrow\\downarrow\\uparrow\\downarrow\\uparrow\\downarrow\\rangle$ is only compatible with the momenta $P_0=\\frac{2\\pi}{8}0=0$ and $P_2=\\frac{2\\pi}{8}4=\\pi$, because translating the state twice must bring it back to itself, meaning that $\\exp(-iP_n2)$ must be equal to $1$.)\n"
   ]
  },
  {
   "cell_type": "code",
   "execution_count": null,
   "id": "f33558aa",
   "metadata": {},
   "outputs": [],
   "source": [
    "#Write a function that gives you the representatives for every orbit:\n",
    "def orbit_representatives(N:int):\n",
    "    #N:the size of the system\n",
    "    \n",
    "    #Write a function that gives you an array of the representatives for every orbit. Choose as representative the\n",
    "    #state corresponding to the lowest integer value\n",
    "    \n",
    "    return(representatives)\n",
    "\n",
    "\n",
    "#Using the array with representatives, i.e. the output of orbit_representatives, check which orbits\n",
    "#are compatible with the momentum P_n and return the representatives:\n",
    "\n",
    "def compatible_representatives(reps:np.array,n:int,N:int):\n",
    "    #reps: The representatives as obtained in the output of the function above.\n",
    "    #n: the integer corresponding to the momentum Pn=(2*\\pi/N)*n\n",
    "    #N:the system size\n",
    "    \n",
    "    #write a function that returns an array of the compatible representatives.\n",
    "    \n",
    "    \n",
    "    return(compat_reps)\n",
    "                \n",
    "                \n"
   ]
  },
  {
   "cell_type": "markdown",
   "id": "1937de87",
   "metadata": {},
   "source": [
    "If everything is implemented correctly, if you run orbit_representatives(6) you should obtain [0  1  3  5  7  9 11 13 15 21 23 27 31 63], and if you run compatible_representatives(orbit_representatives(6),2,6) you should obtain [ 1  3  5  7  9 11 13 15 23 27 31]"
   ]
  },
  {
   "cell_type": "markdown",
   "id": "697ab53a",
   "metadata": {},
   "source": [
    "The number of representatives that are compatible with a certain momentum is also the dimension of the correponding invariant subspace (make sure that you understand that it is not a basis for the invariant subspace, though...). Check that everything adds up (in the case N=8), i.e. that the compatible states for all the momenta sum up to 256."
   ]
  },
  {
   "cell_type": "code",
   "execution_count": null,
   "id": "5fc7076a",
   "metadata": {},
   "outputs": [],
   "source": [
    "#Define the system size:\n",
    "N = 8\n",
    "\n",
    "#initialize a counter\n",
    "counter = 0\n",
    "\n",
    "for n in range(0,N):\n",
    "    counter+=len(compatible_representatives(orbit_representatives(N),n,N))\n",
    "    \n",
    "print(counter)\n",
    "\n"
   ]
  },
  {
   "cell_type": "code",
   "execution_count": null,
   "id": "35ded510",
   "metadata": {},
   "outputs": [],
   "source": []
  }
 ],
 "metadata": {
  "kernelspec": {
   "display_name": "venv_CQM",
   "language": "python",
   "name": "python3"
  },
  "language_info": {
   "codemirror_mode": {
    "name": "ipython",
    "version": 3
   },
   "file_extension": ".py",
   "mimetype": "text/x-python",
   "name": "python",
   "nbconvert_exporter": "python",
   "pygments_lexer": "ipython3",
   "version": "3.9.7"
  }
 },
 "nbformat": 4,
 "nbformat_minor": 5
}
