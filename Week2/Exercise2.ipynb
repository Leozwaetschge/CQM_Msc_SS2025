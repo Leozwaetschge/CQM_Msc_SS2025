{
 "cells": [
  {
   "cell_type": "code",
   "execution_count": 2,
   "id": "8886ef47",
   "metadata": {},
   "outputs": [
    {
     "name": "stdout",
     "output_type": "stream",
     "text": [
      "Requirement already satisfied: pip in /Users/leonardodelgaudio/Documents/14_Master/Msc_SS25/CQM_Msc_SS2025/venv_CQM/lib/python3.9/site-packages (25.0.1)\n",
      "Note: you may need to restart the kernel to use updated packages.\n",
      "Requirement already satisfied: numpy in /Users/leonardodelgaudio/Documents/14_Master/Msc_SS25/CQM_Msc_SS2025/venv_CQM/lib/python3.9/site-packages (2.0.2)\n",
      "Note: you may need to restart the kernel to use updated packages.\n",
      "Requirement already satisfied: scipy in /Users/leonardodelgaudio/Documents/14_Master/Msc_SS25/CQM_Msc_SS2025/venv_CQM/lib/python3.9/site-packages (1.13.1)\n",
      "Requirement already satisfied: numpy<2.3,>=1.22.4 in /Users/leonardodelgaudio/Documents/14_Master/Msc_SS25/CQM_Msc_SS2025/venv_CQM/lib/python3.9/site-packages (from scipy) (2.0.2)\n",
      "Note: you may need to restart the kernel to use updated packages.\n",
      "Requirement already satisfied: matplotlib in /Users/leonardodelgaudio/Documents/14_Master/Msc_SS25/CQM_Msc_SS2025/venv_CQM/lib/python3.9/site-packages (3.9.4)\n",
      "Requirement already satisfied: contourpy>=1.0.1 in /Users/leonardodelgaudio/Documents/14_Master/Msc_SS25/CQM_Msc_SS2025/venv_CQM/lib/python3.9/site-packages (from matplotlib) (1.3.0)\n",
      "Requirement already satisfied: cycler>=0.10 in /Users/leonardodelgaudio/Documents/14_Master/Msc_SS25/CQM_Msc_SS2025/venv_CQM/lib/python3.9/site-packages (from matplotlib) (0.12.1)\n",
      "Requirement already satisfied: fonttools>=4.22.0 in /Users/leonardodelgaudio/Documents/14_Master/Msc_SS25/CQM_Msc_SS2025/venv_CQM/lib/python3.9/site-packages (from matplotlib) (4.56.0)\n",
      "Requirement already satisfied: kiwisolver>=1.3.1 in /Users/leonardodelgaudio/Documents/14_Master/Msc_SS25/CQM_Msc_SS2025/venv_CQM/lib/python3.9/site-packages (from matplotlib) (1.4.7)\n",
      "Requirement already satisfied: numpy>=1.23 in /Users/leonardodelgaudio/Documents/14_Master/Msc_SS25/CQM_Msc_SS2025/venv_CQM/lib/python3.9/site-packages (from matplotlib) (2.0.2)\n",
      "Requirement already satisfied: packaging>=20.0 in /Users/leonardodelgaudio/Documents/14_Master/Msc_SS25/CQM_Msc_SS2025/venv_CQM/lib/python3.9/site-packages (from matplotlib) (24.2)\n",
      "Requirement already satisfied: pillow>=8 in /Users/leonardodelgaudio/Documents/14_Master/Msc_SS25/CQM_Msc_SS2025/venv_CQM/lib/python3.9/site-packages (from matplotlib) (11.1.0)\n",
      "Requirement already satisfied: pyparsing>=2.3.1 in /Users/leonardodelgaudio/Documents/14_Master/Msc_SS25/CQM_Msc_SS2025/venv_CQM/lib/python3.9/site-packages (from matplotlib) (3.2.1)\n",
      "Requirement already satisfied: python-dateutil>=2.7 in /Users/leonardodelgaudio/Documents/14_Master/Msc_SS25/CQM_Msc_SS2025/venv_CQM/lib/python3.9/site-packages (from matplotlib) (2.9.0.post0)\n",
      "Requirement already satisfied: importlib-resources>=3.2.0 in /Users/leonardodelgaudio/Documents/14_Master/Msc_SS25/CQM_Msc_SS2025/venv_CQM/lib/python3.9/site-packages (from matplotlib) (6.5.2)\n",
      "Requirement already satisfied: zipp>=3.1.0 in /Users/leonardodelgaudio/Documents/14_Master/Msc_SS25/CQM_Msc_SS2025/venv_CQM/lib/python3.9/site-packages (from importlib-resources>=3.2.0->matplotlib) (3.21.0)\n",
      "Requirement already satisfied: six>=1.5 in /Users/leonardodelgaudio/Documents/14_Master/Msc_SS25/CQM_Msc_SS2025/venv_CQM/lib/python3.9/site-packages (from python-dateutil>=2.7->matplotlib) (1.17.0)\n",
      "Note: you may need to restart the kernel to use updated packages.\n"
     ]
    }
   ],
   "source": [
    "%pip install --upgrade pip\n",
    "%pip install numpy\n",
    "%pip install scipy\n",
    "%pip install matplotlib"
   ]
  },
  {
   "cell_type": "code",
   "execution_count": 3,
   "id": "688d6a66",
   "metadata": {},
   "outputs": [],
   "source": [
    "import numpy as np\n",
    "import scipy as sp\n",
    "import cmath"
   ]
  },
  {
   "cell_type": "markdown",
   "id": "06a7cbd4",
   "metadata": {},
   "source": [
    "**Part 1: Bitwise operations** $$ \\\\ $$\n",
    "Let us see how to represent a spin $\\frac{1}{2}$ chain (or a chain of spinless fermions) using integers and their bit representation. First, let us see how to get the bitstring out of an integer:"
   ]
  },
  {
   "cell_type": "code",
   "execution_count": 4,
   "id": "46977c09",
   "metadata": {},
   "outputs": [
    {
     "name": "stdout",
     "output_type": "stream",
     "text": [
      "0b1100\n",
      "110\n"
     ]
    }
   ],
   "source": [
    "print(bin(12))\n",
    "#or \n",
    "print(format(6,'b'))"
   ]
  },
  {
   "cell_type": "markdown",
   "id": "1e54e516",
   "metadata": {},
   "source": [
    "Using bitwise operators, create a function that shifts every state to the right by $n$ units:"
   ]
  },
  {
   "cell_type": "code",
   "execution_count": 5,
   "id": "fbd15e7c",
   "metadata": {},
   "outputs": [],
   "source": [
    "def shift_right(i:int,n:int,N:int):\n",
    "    #i: the integer representing the state\n",
    "    #n: the amount of sites by which the state should be shifted\n",
    "    #N: the system size\n",
    "    \n",
    "    #Write a function that gives as an output the integer that one obtains by the shift. So if i=9, n=1 and N=4\n",
    "    #you should get 12 as an output.\n",
    "    \n",
    "    shifted = (i >> n) | ((i & (1<< n) -1) << (N-n))\n",
    "    return shifted\n",
    "\n",
    "        "
   ]
  },
  {
   "cell_type": "code",
   "execution_count": 6,
   "id": "cccc44fb",
   "metadata": {},
   "outputs": [
    {
     "name": "stdout",
     "output_type": "stream",
     "text": [
      "6\n"
     ]
    }
   ],
   "source": [
    "# Beispielaufruf\n",
    "i = 9  # 1001 in binär\n",
    "n = 2\n",
    "N = 4\n",
    "output = shift_right(i, n, N)\n",
    "print(output)  # Ausgabe sollte 12 sein, was 1100 in binär ist"
   ]
  },
  {
   "cell_type": "markdown",
   "id": "e3d0d535",
   "metadata": {},
   "source": [
    "Let us time it for later comparison"
   ]
  },
  {
   "cell_type": "code",
   "execution_count": 7,
   "id": "bd6feb8d",
   "metadata": {},
   "outputs": [
    {
     "name": "stdout",
     "output_type": "stream",
     "text": [
      "214 ns ± 5.74 ns per loop (mean ± std. dev. of 7 runs, 1,000,000 loops each)\n"
     ]
    }
   ],
   "source": [
    "%timeit shift_right(4,2,4)"
   ]
  },
  {
   "cell_type": "markdown",
   "id": "7fe4a2af",
   "metadata": {},
   "source": [
    "Let us write the same function for an array, using np.roll:"
   ]
  },
  {
   "cell_type": "code",
   "execution_count": 8,
   "id": "8dad59f7",
   "metadata": {},
   "outputs": [],
   "source": [
    "def shift_right_array(a:np.array,n):\n",
    "    return(np.roll(a,n))"
   ]
  },
  {
   "cell_type": "markdown",
   "id": "4d99b812",
   "metadata": {},
   "source": [
    "Let us time it as well and compare:"
   ]
  },
  {
   "cell_type": "code",
   "execution_count": 9,
   "id": "378601b7",
   "metadata": {},
   "outputs": [
    {
     "name": "stdout",
     "output_type": "stream",
     "text": [
      "6.03 µs ± 144 ns per loop (mean ± std. dev. of 7 runs, 100,000 loops each)\n"
     ]
    }
   ],
   "source": [
    "ar = np.array([1,0,1,0])\n",
    "%timeit shift_right_array(ar,2)"
   ]
  },
  {
   "cell_type": "markdown",
   "id": "f5d034b9",
   "metadata": {},
   "source": [
    "Great, we can actually save quite some time by resorting to the representation of states as bits of an integer. Similarly to above, create a function that shifts every state to the left by $n$ units:"
   ]
  },
  {
   "cell_type": "code",
   "execution_count": 10,
   "id": "59499460",
   "metadata": {},
   "outputs": [],
   "source": [
    "def shift_left(i:int,n:int,N:int):\n",
    "    #i: the integer representing the state\n",
    "    #n: the amount of sites by which the state should be shifted\n",
    "    #N: the system size\n",
    "    \n",
    "    #Write a function that gives as an output the integer that one obtains by the shift.\n",
    "    \n",
    "    shifted = (i << n) | ((i & (1 << N) -1) >> (N-n))\n",
    "    return shifted"
   ]
  },
  {
   "cell_type": "markdown",
   "id": "c5789dfd",
   "metadata": {},
   "source": [
    "Write a function to count the number of up spins:\n"
   ]
  },
  {
   "cell_type": "code",
   "execution_count": 11,
   "id": "a7bdfb83",
   "metadata": {},
   "outputs": [],
   "source": [
    "def count_upspins(i:int):\n",
    "    #i: the integer representing the state\n",
    "    \n",
    "    #Write a function that gives as an output the number of upspins in the state\n",
    "    \n",
    "    \n",
    "    return bin(i).count('1')"
   ]
  },
  {
   "cell_type": "markdown",
   "id": "4049c7c8",
   "metadata": {},
   "source": [
    "Write a function to check the spin at site j:"
   ]
  },
  {
   "cell_type": "code",
   "execution_count": 12,
   "id": "d5e7c1a7",
   "metadata": {},
   "outputs": [],
   "source": [
    "def spin_at_j(i:int,j:int):\n",
    "    #i: the integer representing the state\n",
    "    #j: the site at which the spin should be flipped\n",
    "    \n",
    "    #Write a function that gives as an output the spin of the state i at site j\n",
    "    \n",
    "    \n",
    "    return (i >> j) & 1"
   ]
  },
  {
   "cell_type": "markdown",
   "id": "bba78bfd",
   "metadata": {},
   "source": [
    "Write a function to flip the spin at site j:"
   ]
  },
  {
   "cell_type": "code",
   "execution_count": 13,
   "id": "fe1faf70",
   "metadata": {},
   "outputs": [],
   "source": [
    "def flip_spin(i:int,j:int):\n",
    "    #i: the integer representing the state\n",
    "    #j: the site at which the spin should be flipped\n",
    "    \n",
    "    #Write a function that gives as an output the integer obtained by flipping the spin of the state i at site j\n",
    "    return i ^ (1 << j)"
   ]
  },
  {
   "cell_type": "markdown",
   "id": "0af00678",
   "metadata": {},
   "source": [
    "Write a function to flip all the spins at once:"
   ]
  },
  {
   "cell_type": "code",
   "execution_count": 14,
   "id": "c7f383e1",
   "metadata": {},
   "outputs": [],
   "source": [
    "def flip_all_spins(i:int,N:int):\n",
    "    #i: the integer representing the state\n",
    "    #N: the size of the system\n",
    "    \n",
    "    #Write a function that gives as output the integer obtained if all the spins are flipped\n",
    "    mask = (1 << N) - 1\n",
    "    \n",
    "    return ~i & mask"
   ]
  },
  {
   "cell_type": "code",
   "execution_count": 15,
   "id": "9b2a409a",
   "metadata": {},
   "outputs": [
    {
     "name": "stdout",
     "output_type": "stream",
     "text": [
      "6\n"
     ]
    }
   ],
   "source": [
    "# Beispielaufruf\n",
    "i = 9  # 1001 in binär\n",
    "N = 4\n",
    "output = flip_all_spins(i, N)\n",
    "print(output)  # Ausgabe sollte 6 sein, was 0110 in binär ist"
   ]
  },
  {
   "cell_type": "markdown",
   "id": "7de89cdc",
   "metadata": {},
   "source": [
    "Assuming we have a chain of 10 spin-$\\frac{1}{2}$'s, compute the sizes of the different magnetization sectors of the Hilbert space."
   ]
  },
  {
   "cell_type": "code",
   "execution_count": 16,
   "id": "4c316b2c",
   "metadata": {},
   "outputs": [
    {
     "name": "stdout",
     "output_type": "stream",
     "text": [
      "Magnetization -10: [0]\n",
      "Magnetization -9: []\n",
      "Magnetization -8: [1, 2, 4, 8, 16, 32, 64, 128, 256, 512]\n",
      "Magnetization -7: []\n",
      "Magnetization -6: [3, 5, 6, 9, 10, 12, 17, 18, 20, 24, 33, 34, 36, 40, 48, 65, 66, 68, 72, 80, 96, 129, 130, 132, 136, 144, 160, 192, 257, 258, 260, 264, 272, 288, 320, 384, 513, 514, 516, 520, 528, 544, 576, 640, 768]\n",
      "Magnetization -5: []\n",
      "Magnetization -4: [7, 11, 13, 14, 19, 21, 22, 25, 26, 28, 35, 37, 38, 41, 42, 44, 49, 50, 52, 56, 67, 69, 70, 73, 74, 76, 81, 82, 84, 88, 97, 98, 100, 104, 112, 131, 133, 134, 137, 138, 140, 145, 146, 148, 152, 161, 162, 164, 168, 176, 193, 194, 196, 200, 208, 224, 259, 261, 262, 265, 266, 268, 273, 274, 276, 280, 289, 290, 292, 296, 304, 321, 322, 324, 328, 336, 352, 385, 386, 388, 392, 400, 416, 448, 515, 517, 518, 521, 522, 524, 529, 530, 532, 536, 545, 546, 548, 552, 560, 577, 578, 580, 584, 592, 608, 641, 642, 644, 648, 656, 672, 704, 769, 770, 772, 776, 784, 800, 832, 896]\n",
      "Magnetization -3: []\n",
      "Magnetization -2: [15, 23, 27, 29, 30, 39, 43, 45, 46, 51, 53, 54, 57, 58, 60, 71, 75, 77, 78, 83, 85, 86, 89, 90, 92, 99, 101, 102, 105, 106, 108, 113, 114, 116, 120, 135, 139, 141, 142, 147, 149, 150, 153, 154, 156, 163, 165, 166, 169, 170, 172, 177, 178, 180, 184, 195, 197, 198, 201, 202, 204, 209, 210, 212, 216, 225, 226, 228, 232, 240, 263, 267, 269, 270, 275, 277, 278, 281, 282, 284, 291, 293, 294, 297, 298, 300, 305, 306, 308, 312, 323, 325, 326, 329, 330, 332, 337, 338, 340, 344, 353, 354, 356, 360, 368, 387, 389, 390, 393, 394, 396, 401, 402, 404, 408, 417, 418, 420, 424, 432, 449, 450, 452, 456, 464, 480, 519, 523, 525, 526, 531, 533, 534, 537, 538, 540, 547, 549, 550, 553, 554, 556, 561, 562, 564, 568, 579, 581, 582, 585, 586, 588, 593, 594, 596, 600, 609, 610, 612, 616, 624, 643, 645, 646, 649, 650, 652, 657, 658, 660, 664, 673, 674, 676, 680, 688, 705, 706, 708, 712, 720, 736, 771, 773, 774, 777, 778, 780, 785, 786, 788, 792, 801, 802, 804, 808, 816, 833, 834, 836, 840, 848, 864, 897, 898, 900, 904, 912, 928, 960]\n",
      "Magnetization -1: []\n",
      "Magnetization 0: [31, 47, 55, 59, 61, 62, 79, 87, 91, 93, 94, 103, 107, 109, 110, 115, 117, 118, 121, 122, 124, 143, 151, 155, 157, 158, 167, 171, 173, 174, 179, 181, 182, 185, 186, 188, 199, 203, 205, 206, 211, 213, 214, 217, 218, 220, 227, 229, 230, 233, 234, 236, 241, 242, 244, 248, 271, 279, 283, 285, 286, 295, 299, 301, 302, 307, 309, 310, 313, 314, 316, 327, 331, 333, 334, 339, 341, 342, 345, 346, 348, 355, 357, 358, 361, 362, 364, 369, 370, 372, 376, 391, 395, 397, 398, 403, 405, 406, 409, 410, 412, 419, 421, 422, 425, 426, 428, 433, 434, 436, 440, 451, 453, 454, 457, 458, 460, 465, 466, 468, 472, 481, 482, 484, 488, 496, 527, 535, 539, 541, 542, 551, 555, 557, 558, 563, 565, 566, 569, 570, 572, 583, 587, 589, 590, 595, 597, 598, 601, 602, 604, 611, 613, 614, 617, 618, 620, 625, 626, 628, 632, 647, 651, 653, 654, 659, 661, 662, 665, 666, 668, 675, 677, 678, 681, 682, 684, 689, 690, 692, 696, 707, 709, 710, 713, 714, 716, 721, 722, 724, 728, 737, 738, 740, 744, 752, 775, 779, 781, 782, 787, 789, 790, 793, 794, 796, 803, 805, 806, 809, 810, 812, 817, 818, 820, 824, 835, 837, 838, 841, 842, 844, 849, 850, 852, 856, 865, 866, 868, 872, 880, 899, 901, 902, 905, 906, 908, 913, 914, 916, 920, 929, 930, 932, 936, 944, 961, 962, 964, 968, 976, 992]\n",
      "Magnetization 1: []\n",
      "Magnetization 2: [63, 95, 111, 119, 123, 125, 126, 159, 175, 183, 187, 189, 190, 207, 215, 219, 221, 222, 231, 235, 237, 238, 243, 245, 246, 249, 250, 252, 287, 303, 311, 315, 317, 318, 335, 343, 347, 349, 350, 359, 363, 365, 366, 371, 373, 374, 377, 378, 380, 399, 407, 411, 413, 414, 423, 427, 429, 430, 435, 437, 438, 441, 442, 444, 455, 459, 461, 462, 467, 469, 470, 473, 474, 476, 483, 485, 486, 489, 490, 492, 497, 498, 500, 504, 543, 559, 567, 571, 573, 574, 591, 599, 603, 605, 606, 615, 619, 621, 622, 627, 629, 630, 633, 634, 636, 655, 663, 667, 669, 670, 679, 683, 685, 686, 691, 693, 694, 697, 698, 700, 711, 715, 717, 718, 723, 725, 726, 729, 730, 732, 739, 741, 742, 745, 746, 748, 753, 754, 756, 760, 783, 791, 795, 797, 798, 807, 811, 813, 814, 819, 821, 822, 825, 826, 828, 839, 843, 845, 846, 851, 853, 854, 857, 858, 860, 867, 869, 870, 873, 874, 876, 881, 882, 884, 888, 903, 907, 909, 910, 915, 917, 918, 921, 922, 924, 931, 933, 934, 937, 938, 940, 945, 946, 948, 952, 963, 965, 966, 969, 970, 972, 977, 978, 980, 984, 993, 994, 996, 1000, 1008]\n",
      "Magnetization 3: []\n",
      "Magnetization 4: [127, 191, 223, 239, 247, 251, 253, 254, 319, 351, 367, 375, 379, 381, 382, 415, 431, 439, 443, 445, 446, 463, 471, 475, 477, 478, 487, 491, 493, 494, 499, 501, 502, 505, 506, 508, 575, 607, 623, 631, 635, 637, 638, 671, 687, 695, 699, 701, 702, 719, 727, 731, 733, 734, 743, 747, 749, 750, 755, 757, 758, 761, 762, 764, 799, 815, 823, 827, 829, 830, 847, 855, 859, 861, 862, 871, 875, 877, 878, 883, 885, 886, 889, 890, 892, 911, 919, 923, 925, 926, 935, 939, 941, 942, 947, 949, 950, 953, 954, 956, 967, 971, 973, 974, 979, 981, 982, 985, 986, 988, 995, 997, 998, 1001, 1002, 1004, 1009, 1010, 1012, 1016]\n",
      "Magnetization 5: []\n",
      "Magnetization 6: [255, 383, 447, 479, 495, 503, 507, 509, 510, 639, 703, 735, 751, 759, 763, 765, 766, 831, 863, 879, 887, 891, 893, 894, 927, 943, 951, 955, 957, 958, 975, 983, 987, 989, 990, 999, 1003, 1005, 1006, 1011, 1013, 1014, 1017, 1018, 1020]\n",
      "Magnetization 7: []\n",
      "Magnetization 8: [511, 767, 895, 959, 991, 1007, 1015, 1019, 1021, 1022]\n",
      "Magnetization 9: []\n",
      "Magnetization 10: [1023]\n"
     ]
    },
    {
     "data": {
      "image/png": "[encoded data removed]",
      "text/plain": [
       "<Figure size 640x480 with 1 Axes>"
      ]
     },
     "metadata": {},
     "output_type": "display_data"
    }
   ],
   "source": [
    "from matplotlib import pyplot as plt\n",
    "#state the size of your system\n",
    "N = 10\n",
    "\n",
    "#state the possible values the magnetization may take\n",
    "possible_magnetizations = np.linspace(-N,N,2*N+1)\n",
    "\n",
    "#Create a dictionary to save the set of states for each magnetization sector\n",
    "m_sectors = {}\n",
    "\n",
    "#Initialize an empty list in the dictionary for every possible m-value\n",
    "for m in possible_magnetizations:\n",
    "    m_sectors[f'{int(m)}'] = []\n",
    "\n",
    "\n",
    "#Iterate over all the basis states and order them according to their magnetization\n",
    "for i in range(0,2**N):\n",
    "    number_of_upspins = count_upspins(i)\n",
    "    \n",
    "    magnetization = 2 * number_of_upspins - N\n",
    "    \n",
    "    m_sectors[f'{magnetization}'].append(i)\n",
    "\n",
    "#if you wish, print the subspaces of the different magnetizations\n",
    "\n",
    "for m,basis in m_sectors.items():\n",
    "    print(f\"Magnetization {m}: {basis}\")\n",
    "    \n",
    "    \n",
    "# Plot the number of states per magnetization sector as a bar chart\n",
    "magnetizations = [int(m) for m in possible_magnetizations]\n",
    "num_states = [len(m_sectors[f'{int(m)}']) for m in possible_magnetizations]\n",
    "\n",
    "plt.figure()\n",
    "plt.bar(magnetizations, num_states)\n",
    "plt.xlabel('Magnetization')\n",
    "plt.ylabel('Number of states')\n",
    "plt.title('Number of states per magnetization sector')\n",
    "plt.show()\n",
    "    \n",
    "#es sind alles basisvekotrne da kein zustand von andern beschriebn werden kann. also 111 kann also zah lvin 100 ,010,001 beschriebn werden, aber die Null hat ja auch eine gewichtung und ywar spin down "
   ]
  },
  {
   "cell_type": "markdown",
   "id": "61aaadf1",
   "metadata": {},
   "source": [
    "**Part 2: Transverse Field Ising Model**\n",
    "\n",
    "By now you should have solved the exercise to express the Transeverse Field Ising Hamiltonian in the momentum state basis. Let us combine our knowledge to numerical use and apply it on the TFI,\n",
    "$$\\hat H = \\sum\\limits_{i=0}^{N - 1} \\sigma_i^z \\sigma_{i + 1}^z + h^x \\sum\\limits_i \\sigma^x.$$\n",
    "The ultimate goal will be to exactly diagonalize the model and make use of the translation symmetry. Here we'll do some preparatory work. Assume $N=8$. What are the possible momenta $P_n$ that one could have?\n",
    "$$ P_n=\\frac{2\\pi}{N}n, \\; n=0,1,...,7.$$ \n",
    "- Find the representatives of all the orbits generated by the translation operator $\\hat{T}$. Choose as representative of an orbit the state of the orbit corresponding to the lowest integer value (state with up- and down spins <--> integer value via the bit representation).  \n",
    "- Next, check wich orbits are compatible with the momentum $P_n$ (remember that e.g. the orbit created by the state $|\\uparrow\\downarrow\\uparrow\\downarrow\\uparrow\\downarrow\\uparrow\\downarrow\\rangle$ is only compatible with the momenta $P_0=\\frac{2\\pi}{8}0=0$ and $P_2=\\frac{2\\pi}{8}4=\\pi$, because translating the state twice must bring it back to itself, meaning that $\\exp(-iP_n2)$ must be equal to $1$.)\n"
   ]
  },
  {
   "cell_type": "code",
   "execution_count": 17,
   "id": "f33558aa",
   "metadata": {},
   "outputs": [],
   "source": [
    "#Write a function that gives you the representatives for every orbit:\n",
    "def orbit_representatives(N:int):\n",
    "    #N:the size of the system\n",
    "    \n",
    "    #Write a function that gives you an array of the representatives for every orbit. Choose as representative the\n",
    "    #state corresponding to the lowest integer value\n",
    "    representatives = []\n",
    "    for i in range(0,2**N):\n",
    "        min_state = i\n",
    "        for shift in range(N):\n",
    "            shifted_state = shift_right(i,shift,N)\n",
    "            if shifted_state < min_state:\n",
    "                min_state = shifted_state\n",
    "        if min_state not in representatives:\n",
    "            representatives.append(min_state)\n",
    "    return np.array(representatives)\n",
    "\n",
    "\n",
    "#Using the array with representatives, i.e. the output of orbit_representatives, check which orbits\n",
    "#are compatible with the momentum P_n and return the representatives:\n",
    "\n",
    "def compatible_representatives(reps: np.array, n: int, N: int):\n",
    "    # reps: The representatives as obtained in the output of the function above.\n",
    "    # n: The integer corresponding to the momentum Pn = (2 * np.pi / N) * n\n",
    "    # N: The system size\n",
    "    \n",
    "    # Calculate the momentum Pn\n",
    "    Pn = (2 * np.pi / N) * n\n",
    "    \n",
    "    # Initialize an empty list to store compatible representatives\n",
    "    compat_reps = []\n",
    "    \n",
    "    # Iterate through each representative in the reps array\n",
    "    for rep in reps:\n",
    "        # Compute the phase factor for the current representative\n",
    "        phase_factor = cmath.exp(-1j * Pn * rep)\n",
    "        \n",
    "        # Check if the magnitude of the phase factor is close to 1\n",
    "        if np.isclose(abs(phase_factor), 1):\n",
    "            compat_reps.append(rep)\n",
    "    \n",
    "    # Return the compatible representatives as a numpy array\n",
    "    return np.array(compat_reps)\n",
    "\n",
    "                \n",
    "                \n"
   ]
  },
  {
   "cell_type": "markdown",
   "id": "1937de87",
   "metadata": {},
   "source": [
    "If everything is implemented correctly, if you run orbit_representatives(6) you should obtain [0  1  3  5  7  9 11 13 15 21 23 27 31 63], and if you run compatible_representatives(orbit_representatives(6),2,6) you should obtain [ 1  3  5  7  9 11 13 15 23 27 31]"
   ]
  },
  {
   "cell_type": "markdown",
   "id": "697ab53a",
   "metadata": {},
   "source": [
    "The number of representatives that are compatible with a certain momentum is also the dimension of the correponding invariant subspace (make sure that you understand that it is not a basis for the invariant subspace, though...). Check that everything adds up (in the case N=8), i.e. that the compatible states for all the momenta sum up to 256."
   ]
  },
  {
   "cell_type": "code",
   "execution_count": 19,
   "id": "5fc7076a",
   "metadata": {},
   "outputs": [
    {
     "name": "stdout",
     "output_type": "stream",
     "text": [
      "288\n"
     ]
    }
   ],
   "source": [
    "#Define the system size:\n",
    "N = 8\n",
    "\n",
    "#initialize a counter\n",
    "counter = 0\n",
    "\n",
    "for n in range(0,N):\n",
    "    counter+=len(compatible_representatives(orbit_representatives(N),n,N))\n",
    "    \n",
    "print(counter)\n",
    "\n"
   ]
  },
  {
   "cell_type": "code",
   "execution_count": null,
   "id": "35ded510",
   "metadata": {},
   "outputs": [],
   "source": []
  }
 ],
 "metadata": {
  "kernelspec": {
   "display_name": "venv_CQM",
   "language": "python",
   "name": "python3"
  },
  "language_info": {
   "codemirror_mode": {
    "name": "ipython",
    "version": 3
   },
   "file_extension": ".py",
   "mimetype": "text/x-python",
   "name": "python",
   "nbconvert_exporter": "python",
   "pygments_lexer": "ipython3",
   "version": "3.9.7"
  }
 },
 "nbformat": 4,
 "nbformat_minor": 5
}
