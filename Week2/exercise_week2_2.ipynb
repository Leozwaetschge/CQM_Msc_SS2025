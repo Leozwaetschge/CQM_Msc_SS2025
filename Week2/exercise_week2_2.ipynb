{
 "cells": [
  {
   "cell_type": "markdown",
   "id": "22df1944",
   "metadata": {},
   "source": [
    "***Installing Packages Needed for This Notebook and/or Beyond***"
   ]
  },
  {
   "cell_type": "code",
   "execution_count": 1,
   "id": "436e011a",
   "metadata": {},
   "outputs": [
    {
     "name": "stdout",
     "output_type": "stream",
     "text": [
      "Requirement already satisfied: pip in /Users/leonardodelgaudio/Documents/14_Master/Msc_SS25/CQM_Msc_SS2025/venv_CQM/lib/python3.9/site-packages (25.0.1)\n",
      "Note: you may need to restart the kernel to use updated packages.\n",
      "Requirement already satisfied: numpy in /Users/leonardodelgaudio/Documents/14_Master/Msc_SS25/CQM_Msc_SS2025/venv_CQM/lib/python3.9/site-packages (2.0.2)\n",
      "Note: you may need to restart the kernel to use updated packages.\n",
      "Requirement already satisfied: scipy in /Users/leonardodelgaudio/Documents/14_Master/Msc_SS25/CQM_Msc_SS2025/venv_CQM/lib/python3.9/site-packages (1.13.1)\n",
      "Requirement already satisfied: numpy<2.3,>=1.22.4 in /Users/leonardodelgaudio/Documents/14_Master/Msc_SS25/CQM_Msc_SS2025/venv_CQM/lib/python3.9/site-packages (from scipy) (2.0.2)\n",
      "Note: you may need to restart the kernel to use updated packages.\n",
      "Requirement already satisfied: matplotlib in /Users/leonardodelgaudio/Documents/14_Master/Msc_SS25/CQM_Msc_SS2025/venv_CQM/lib/python3.9/site-packages (3.9.4)\n",
      "Requirement already satisfied: contourpy>=1.0.1 in /Users/leonardodelgaudio/Documents/14_Master/Msc_SS25/CQM_Msc_SS2025/venv_CQM/lib/python3.9/site-packages (from matplotlib) (1.3.0)\n",
      "Requirement already satisfied: cycler>=0.10 in /Users/leonardodelgaudio/Documents/14_Master/Msc_SS25/CQM_Msc_SS2025/venv_CQM/lib/python3.9/site-packages (from matplotlib) (0.12.1)\n",
      "Requirement already satisfied: fonttools>=4.22.0 in /Users/leonardodelgaudio/Documents/14_Master/Msc_SS25/CQM_Msc_SS2025/venv_CQM/lib/python3.9/site-packages (from matplotlib) (4.56.0)\n",
      "Requirement already satisfied: kiwisolver>=1.3.1 in /Users/leonardodelgaudio/Documents/14_Master/Msc_SS25/CQM_Msc_SS2025/venv_CQM/lib/python3.9/site-packages (from matplotlib) (1.4.7)\n",
      "Requirement already satisfied: numpy>=1.23 in /Users/leonardodelgaudio/Documents/14_Master/Msc_SS25/CQM_Msc_SS2025/venv_CQM/lib/python3.9/site-packages (from matplotlib) (2.0.2)\n",
      "Requirement already satisfied: packaging>=20.0 in /Users/leonardodelgaudio/Documents/14_Master/Msc_SS25/CQM_Msc_SS2025/venv_CQM/lib/python3.9/site-packages (from matplotlib) (24.2)\n",
      "Requirement already satisfied: pillow>=8 in /Users/leonardodelgaudio/Documents/14_Master/Msc_SS25/CQM_Msc_SS2025/venv_CQM/lib/python3.9/site-packages (from matplotlib) (11.1.0)\n",
      "Requirement already satisfied: pyparsing>=2.3.1 in /Users/leonardodelgaudio/Documents/14_Master/Msc_SS25/CQM_Msc_SS2025/venv_CQM/lib/python3.9/site-packages (from matplotlib) (3.2.1)\n",
      "Requirement already satisfied: python-dateutil>=2.7 in /Users/leonardodelgaudio/Documents/14_Master/Msc_SS25/CQM_Msc_SS2025/venv_CQM/lib/python3.9/site-packages (from matplotlib) (2.9.0.post0)\n",
      "Requirement already satisfied: importlib-resources>=3.2.0 in /Users/leonardodelgaudio/Documents/14_Master/Msc_SS25/CQM_Msc_SS2025/venv_CQM/lib/python3.9/site-packages (from matplotlib) (6.5.2)\n",
      "Requirement already satisfied: zipp>=3.1.0 in /Users/leonardodelgaudio/Documents/14_Master/Msc_SS25/CQM_Msc_SS2025/venv_CQM/lib/python3.9/site-packages (from importlib-resources>=3.2.0->matplotlib) (3.21.0)\n",
      "Requirement already satisfied: six>=1.5 in /Users/leonardodelgaudio/Documents/14_Master/Msc_SS25/CQM_Msc_SS2025/venv_CQM/lib/python3.9/site-packages (from python-dateutil>=2.7->matplotlib) (1.17.0)\n",
      "Note: you may need to restart the kernel to use updated packages.\n"
     ]
    }
   ],
   "source": [
    "%pip install --upgrade pip\n",
    "%pip install numpy\n",
    "%pip install scipy\n",
    "%pip install matplotlib"
   ]
  },
  {
   "cell_type": "markdown",
   "id": "63922403",
   "metadata": {},
   "source": [
    "***Import useful packages***"
   ]
  },
  {
   "cell_type": "code",
   "execution_count": 2,
   "id": "4836c625-51ad-4c02-9e64-a18160169caf",
   "metadata": {
    "tags": []
   },
   "outputs": [],
   "source": [
    "from scipy.fft import fft, ifft, fftfreq\n",
    "import numpy as np\n",
    "import matplotlib.pyplot as plt\n",
    "import scipy\n",
    "from scipy.sparse.linalg import spsolve"
   ]
  },
  {
   "cell_type": "markdown",
   "id": "f8dabf10",
   "metadata": {},
   "source": [
    "# Exercise 1.2 Stopping light"
   ]
  },
  {
   "cell_type": "markdown",
   "id": "b1854bd8-d311-47be-b834-fa21311080e7",
   "metadata": {
    "tags": []
   },
   "source": [
    "## Analytical solution for free evolution\n",
    "\n",
    "For the free evolution of a Gaussian wavepacket, the analytical solution is known and given by:\n",
    "$ \\Psi(x,t)=\\mathcal{N}\\sqrt{\\frac{a^2}{a^2+2it}}e^{i(k_0x-k_0^2t/2)}e^{-(x-x_0-k_0t)^2/(a^2+2it)}$. The normalization factor is $\\mathcal{N}=(\\pi a^2/2)^{-1/4}$."
   ]
  },
  {
   "cell_type": "code",
   "execution_count": null,
   "id": "cafa1469-33d4-49ec-af7e-e24833f925f7",
   "metadata": {
    "tags": []
   },
   "outputs": [],
   "source": [
    "def phi_exact(x, t=0, a=1, k_0=5, x_0=-10):\n",
    "    \"\"\"\n",
    "    Analytical solution of free evolution of Gaussian wavepacket.\n",
    "\n",
    "    Parameters\n",
    "    ----------\n",
    "    x : float or array_like\n",
    "        As we only use numpy functions, `exact_wavepacket` is \n",
    "        vectorized and can accept numbers as well as arrays as\n",
    "        `x` input.\n",
    "\n",
    "    Returns\n",
    "    -------\n",
    "    array_like\n",
    "        Exact solution for wavepacket at time t.\n",
    "    \n",
    "    \"\"\"\n",
    "\n",
    "    N = (np.pi * a**2 / 2)**(-1/4)\n",
    "    factor_1 = np.sqrt(a**2 / (a**2 + 2j * t))\n",
    "    exp_1 = np.exp(1j * (k_0 * x - k_0**2 * t / 2))\n",
    "    gaussian_exp = np.exp(-(x - x_0 - k_0 * t)**2 / (a**2 + 2j * t))\n",
    "    wavepacket = N * factor_1 * exp_1 * gaussian_exp\n",
    "    return wavepacket"
   ]
  },
  {
   "cell_type": "code",
   "execution_count": null,
   "id": "a5b13499-6d59-4cf8-be63-52980aaa2983",
   "metadata": {
    "tags": []
   },
   "outputs": [],
   "source": [
    "# The parameters for the simulation\n",
    "x_steps = 1000\n",
    "x_values, dx = np.linspace(-20, 50, x_steps, retstep=True)\n",
    "\n",
    "t_final = 3\n",
    "pot_free = np.vectorize(lambda x: 0)\n",
    "phi0 = phi_exact(x_values, t=0)"
   ]
  },
  {
   "cell_type": "markdown",
   "id": "5241fd3d-8319-477f-a99a-58a15d7b6671",
   "metadata": {
    "tags": []
   },
   "source": [
    "We define the average position, group velocity, spread (as FWHM) and norm of a generic wavepacket. The velocity of the wavepacket is given by \n",
    "$v(t)=-\\int_{-\\infty}^{\\infty} dx Im \\Psi \\nabla \\Psi^*$."
   ]
  },
  {
   "cell_type": "code",
   "execution_count": null,
   "id": "919acbc3-ef8f-4fb7-91bf-e8e3cc370062",
   "metadata": {
    "tags": []
   },
   "outputs": [],
   "source": [
    "def position(wavepacket, x_values, dx):\n",
    "    # <x> = -int x * |Psi(x)|^2 dx\n",
    "    pos = sum(x_values * abs(wavepacket) ** 2 * dx)/norm(wavepacket, dx)\n",
    "    return pos\n",
    "\n",
    "def velocity(wavepacket, dx):\n",
    "    wavepacket_mean = (wavepacket[1:] + wavepacket[:-1]) / 2.\n",
    "    wavepacket_prime = np.diff(wavepacket).conj() / dx\n",
    "    probability_current = -(wavepacket_mean * wavepacket_prime).imag\n",
    "    average_velocity = sum(probability_current * dx)\n",
    "    return np.real(average_velocity)\n",
    "\n",
    "# FWHM\n",
    "def spread(wavepacket, x_values):\n",
    "    half_max = max(abs(wavepacket))/2\n",
    "    diff = abs(wavepacket) - half_max\n",
    "    node_positions = [i*j < 0 for i, j in zip(diff, diff[1:])]\n",
    "    nodes = x_values[1:][node_positions]\n",
    "    return nodes[-1] - nodes[0]\n",
    "\n",
    "def norm(wavepacket, dx):\n",
    "    return sum(abs(wavepacket)**2 * dx)"
   ]
  },
  {
   "cell_type": "markdown",
   "id": "48da5ffb-923e-447c-96e4-37fa6b907635",
   "metadata": {
    "tags": []
   },
   "source": [
    "## Hamiltonian\n",
    "Here you should implement a discretized Hamiltonian operator that you will use in the rest of the exercise. For this use the approximation:\n",
    "\n",
    "$\\frac{d^2f}{dx^2}(x) \\approx \\frac{f(x+\\Delta x) - 2f(x) + f(x-\\Delta x)}{(\\Delta x)^2}$\n",
    "\n",
    "to approximate the kinetic term in the Hamiltonian:\n",
    "$H = -\\frac{\\hbar^2}{2m}\\frac{d^2}{dx^2} + V$"
   ]
  },
  {
   "cell_type": "code",
   "execution_count": null,
   "id": "4c4b9578-d181-4a2c-9b14-b2cd9ec40c3b",
   "metadata": {
    "tags": []
   },
   "outputs": [],
   "source": [
    "def hamiltonian(pot, x_values, dx):\n",
    "    \"\"\"\n",
    "    Compute the discretized Hamiltonian for the potential `pot`.\n",
    "\n",
    "    Parameters\n",
    "    ----------\n",
    "    pot : function\n",
    "        A (vectorized) function describing the shape of the potential.\n",
    "    x_values : array_like\n",
    "        The x coordinates of the discretized wave function.\n",
    "    dx : float\n",
    "        The difference between discretized x coordinates.\n",
    "\n",
    "    Returns\n",
    "    -------\n",
    "    H : array_like\n",
    "        The discretized Hamiltonian in matrix form.\n",
    "    \"\"\"\n",
    "\n",
    "    # TODO: Compute the Hamiltonian H.\n",
    "    return scipy.sparse.csc_matrix(H) # Return a sparse version of the Hamiltonian"
   ]
  },
  {
   "cell_type": "code",
   "execution_count": null,
   "id": "782c4a66-08a4-46a9-a71c-067e7db23586",
   "metadata": {
    "tags": []
   },
   "outputs": [],
   "source": [
    "# Helper function for making some nice plots\n",
    "def make_plot(phi0, t_final, n_steps, pot, method, title=\"\"):\n",
    "    fig, (ax1, ax2) = plt.subplots(1, 2, sharey=False, figsize=(12, 5))\n",
    "    fig.suptitle(title)\n",
    "    ax1.plot(x_values, abs(phi0), label=r\"$\\phi(t=0)$\")\n",
    "    \n",
    "    phi_num, positions, velocities, spreads, norms = method(phi0, t_final, n_steps=n_steps, pot=pot)\n",
    "    ax1.plot(x_values, abs(phi_num), label=f\"$\\phi(t={{{t_final}}})$ numeric\")\n",
    "    \n",
    "    ax1.plot(x_values, abs(phi_exact(x_values, t_final)), \"--\", label=f\"$\\phi(t={{{t_final}}})$ exact\")\n",
    "    ax1.set_xlabel(r\"x\")\n",
    "    ax1.set_ylabel(r\"$|\\phi(x)|^2$\")\n",
    "    ax1.legend()\n",
    "\n",
    "    ts = np.linspace(0, t_final, n_steps)\n",
    "    ax2.plot(ts, positions, label=\"Position\")\n",
    "    ax2.plot(ts, velocities, label=\"Velocity\")\n",
    "    ax2.plot(ts, spreads, label=\"Spread\")\n",
    "    ax2.set_xlabel(r\"t\")\n",
    "    ax2.plot(ts, norms, label=\"Norm\")\n",
    "    ax2.legend()\n",
    "    fig.tight_layout()"
   ]
  },
  {
   "cell_type": "markdown",
   "id": "dc9c01d4-ef72-4eaf-829b-5f6417d62d73",
   "metadata": {
    "tags": []
   },
   "source": [
    "### Plus: Euler forward method\n",
    "The Euler forward method comes from the first order expansion of the time evolution operator:\n",
    "\n",
    "$\n",
    "|\\Psi(t + \\Delta t)\\rangle \\approx |\\Psi(t)\\rangle - \\frac{i \\Delta t}{\\hbar}H|\\Psi(t)\\rangle\n",
    "$\n",
    "\n",
    "As discussed in the lecture, the Euler forward method is not only numerically unstable, but also violates conservation of norm of the wavefunction. To see this, we implement the Euler forward method. Here, you don't have to do anything yourself (except for the implementation of the Hamiltonian above), just have a look at the plot!"
   ]
  },
  {
   "cell_type": "code",
   "execution_count": null,
   "id": "95567288-9113-4f00-ab12-90712046a0f2",
   "metadata": {
    "tags": []
   },
   "outputs": [],
   "source": [
    "def evolve_euler_forward(phi, t_final, n_steps, pot):\n",
    "    \"\"\"\n",
    "    Perform time evolution using the forward Euler method.\n",
    "\n",
    "    Parameters\n",
    "    ----------\n",
    "    phi : array_like\n",
    "        The wave function at time t=0.\n",
    "    t_final : float\n",
    "        The final time of the time evolution.\n",
    "    n_steps : int\n",
    "        The number of steps used for time evolution.\n",
    "    pot : function\n",
    "        A (vectorized) function describing the shape of the potential.\n",
    "\n",
    "    Returns\n",
    "    -------\n",
    "    phi : array_like\n",
    "        The wave function at time t=t_final.\n",
    "    positions : array_like\n",
    "        The position of the wave function at intermediate times.\n",
    "    velocities : array_like\n",
    "        The velocity of the wave function at intermediate times.\n",
    "    spreads : array_like\n",
    "        The spread of the wave function at intermediate times.\n",
    "    norms : array_like\n",
    "        The norm of the wave function at intermediate times.\n",
    "    \"\"\"\n",
    "\n",
    "    dt = t_final / n_steps\n",
    "\n",
    "    id = scipy.sparse.identity(len(x_values))\n",
    "    H = hamiltonian(pot, x_values, dx)\n",
    "    M = id - 1j*dt*H\n",
    "\n",
    "    positions = []\n",
    "    velocities = []\n",
    "    spreads = []\n",
    "    norms = []\n",
    "    for i in range(n_steps):\n",
    "        phi_new = M @ phi\n",
    "        phi = phi_new\n",
    "        \n",
    "        positions.append(position(phi, x_values, dx))\n",
    "        velocities.append(velocity(phi, dx))\n",
    "        spreads.append(spread(phi, x_values))\n",
    "        norms.append(norm(phi, dx))\n",
    "\n",
    "    return phi, positions, velocities, spreads, norms"
   ]
  },
  {
   "cell_type": "code",
   "execution_count": null,
   "id": "acd76974-0189-432a-b267-63eadcf7da15",
   "metadata": {
    "tags": []
   },
   "outputs": [],
   "source": [
    "make_plot(phi0, 2.0, 1_000, pot_free, method=evolve_euler_forward, title=\"Forward euler\")"
   ]
  },
  {
   "cell_type": "markdown",
   "id": "a7bee567",
   "metadata": {},
   "source": [
    "## Part 2: numerical free time evolution"
   ]
  },
  {
   "cell_type": "markdown",
   "id": "ec30f16b-3fbe-454a-a507-1b3370ae4a63",
   "metadata": {
    "tags": []
   },
   "source": [
    "### (a) Spectral method\n",
    "The simplest and most direct method is by explicitly evaluating the propagator:\n",
    "\n",
    "$U(t) = \\exp[-iH/\\hbar]$,\n",
    "\n",
    "where $\\exp$ is the matrix exponential and can be evaluated using either `np.linalg.expm` or `scipy.sparse.linalg.expm`."
   ]
  },
  {
   "cell_type": "code",
   "execution_count": null,
   "id": "056e948c-37f8-472e-8c5b-c2e724ea0563",
   "metadata": {
    "tags": []
   },
   "outputs": [],
   "source": [
    "def evolve_spectral(phi, t_final, n_steps, pot):\n",
    "    \"\"\"\n",
    "    Perform time evolution using the spectral method.\n",
    "\n",
    "    Parameters\n",
    "    ----------\n",
    "    phi : array_like\n",
    "        The wave function at time t=0.\n",
    "    t_final : float\n",
    "        The final time of the time evolution.\n",
    "    n_steps : int\n",
    "        The number of steps used for time evolution.\n",
    "    pot : function\n",
    "        A (vectorized) function describing the shape of the potential.\n",
    "\n",
    "    Returns\n",
    "    -------\n",
    "    phi : array_like\n",
    "        The wave function at time t=t_final.\n",
    "    positions : array_like\n",
    "        The position of the wave function at intermediate times.\n",
    "    velocities : array_like\n",
    "        The velocity of the wave function at intermediate times.\n",
    "    spreads : array_like\n",
    "        The spread of the wave function at intermediate times.\n",
    "    norms : array_like\n",
    "        The norm of the wave function at intermediate times.\n",
    "    \"\"\"\n",
    "\n",
    "    # TODO: Implement the spectral method.\n",
    "    pass"
   ]
  },
  {
   "cell_type": "code",
   "execution_count": null,
   "id": "ca8a7eda-664a-4280-b902-9a5e6e8c4b1d",
   "metadata": {
    "tags": []
   },
   "outputs": [],
   "source": [
    "make_plot(phi0, 3, 500, pot_free, method=evolve_spectral, title=\"Spectral method\")"
   ]
  },
  {
   "cell_type": "markdown",
   "id": "0e3fc808-69e8-4a7e-a9c7-1037ac6e49bd",
   "metadata": {
    "tags": []
   },
   "source": [
    "### (b) Unitary direct numerical integration scheme\n",
    "Implement the unitary direct numerical integration scheme:\n",
    "\n",
    "$\n",
    "\\left(\\mathbb{I} + \\frac{i\\Delta t}{2\\hbar}H\\right)|\\Psi(t+\\Delta t)\\rangle = \\left(\\mathbb{I} - \\frac{i\\Delta t}{2\\hbar}H\\right)|\\Psi(t)\\rangle.\n",
    "$\n",
    "You can use `scipy.sparse.linalg.spsolve` to solve the linear system (when working with sparse matrices).\n",
    "\n",
    "To see that this evolution is unitary we note that the evolution operator is given by\n",
    "\n",
    "$M = \\left(\\mathbb{I} + \\frac{i\\Delta t}{2\\hbar}H\\right)^{-1} \\left(\\mathbb{I} - \\frac{i\\Delta t}{2\\hbar}H\\right).$\n",
    "\n",
    "Check that $M^{\\dagger}M=\\mathbb{1}$ and $M M^{\\dagger}$ (Part 1 of the exercise)."
   ]
  },
  {
   "cell_type": "code",
   "execution_count": null,
   "id": "3d3d941b-e0f0-4462-8423-1abd3bba2de2",
   "metadata": {
    "tags": []
   },
   "outputs": [],
   "source": [
    "def evolve_unitarily(phi, t_final, n_steps, pot):\n",
    "    \"\"\"\n",
    "    Perform time evolution using the unitary integration method.\n",
    "\n",
    "    Parameters\n",
    "    ----------\n",
    "    phi : array_like\n",
    "        The wave function at time t=0.\n",
    "    t_final : float\n",
    "        The final time of the time evolution.\n",
    "    n_steps : int\n",
    "        The number of steps used for time evolution.\n",
    "    pot : function\n",
    "        A (vectorized) function describing the shape of the potential.\n",
    " \n",
    "    Returns\n",
    "    -------\n",
    "    phi : array_like\n",
    "        The wave function at time t=t_final.\n",
    "    positions : array_like\n",
    "        The position of the wave function at intermediate times.\n",
    "    velocities : array_like\n",
    "        The velocity of the wave function at intermediate times.\n",
    "    spreads : array_like\n",
    "        The spread of the wave function at intermediate times.\n",
    "    norms : array_like\n",
    "        The norm of the wave function at intermediate times.\n",
    "    \"\"\"\n",
    "    \n",
    "    # TODO: Implement the unitary evolution operator.\n",
    "    pass"
   ]
  },
  {
   "cell_type": "code",
   "execution_count": null,
   "id": "b9bc6f86-32f5-4cb0-b4a5-c8584e87a71d",
   "metadata": {
    "tags": []
   },
   "outputs": [],
   "source": [
    "make_plot(phi0, t_final, 1_000, pot_free, method=evolve_unitarily, title=\"Unitary integrator\")"
   ]
  },
  {
   "cell_type": "markdown",
   "id": "11875e08-2574-42b5-979b-42c749b8db64",
   "metadata": {
    "tags": []
   },
   "source": [
    "### (c) Split operator method\n",
    "Making use of the fact that the kinetic part $T$ of the Hamiltonian is diagonal in momentum space and the potential part $V$ diagonal in position space, one can define the split operator method. In it, the evolution by a single timestep is split into two half-timesteps by the potential operator (in position space) and a full timestep by the momentum operator (in momentum space):\n",
    "\n",
    "$\n",
    "e^{-i\\Delta t H/\\hbar}\\approx e^{-i\\Delta t V/2\\hbar}e^{-i\\Delta t T/\\hbar} e^{-i\\Delta t V/2\\hbar}\n",
    "$\n",
    "\n",
    "The full time evolution operator up to time $t=N\\Delta t$ is then given by:\n",
    "\n",
    "$\n",
    "e^{-i t H/\\hbar} \\approx e^{-i\\Delta t V/2\\hbar}\\left[e^{-i\\Delta t T/\\hbar} e^{-i\\Delta t V/\\hbar}\\right]^{N-1}e^{-i\\Delta t T/\\hbar} e^{-i\\Delta t V/2\\hbar}.\n",
    "$\n",
    "\n",
    "The basis changes between position and momentum space can be done using a discrete Fourier transorm (e.g. `scipy.fftpack.fft` and `scipy.fftpack.ifft`)."
   ]
  },
  {
   "cell_type": "code",
   "execution_count": null,
   "id": "31444eca-b144-40c8-a47c-8747171e9e4a",
   "metadata": {
    "tags": []
   },
   "outputs": [],
   "source": [
    "def evolve_split_operator(phi, t_final, n_steps, pot):\n",
    "    \"\"\"\n",
    "    Perform time evolution using the split operator method.\n",
    "\n",
    "    Parameters\n",
    "    ----------\n",
    "    phi : array_like\n",
    "        The wave function at time t=0.\n",
    "    t_final : float\n",
    "        The final time of the time evolution.\n",
    "    n_steps : int\n",
    "        The number of steps used for time evolution.\n",
    "    pot : function\n",
    "        A (vectorized) function describing the shape of the potential.\n",
    "\n",
    "    Returns\n",
    "    -------\n",
    "    phi : array_like\n",
    "        The wave function at time t=t_final.\n",
    "    positions : array_like\n",
    "        The position of the wave function at intermediate times.\n",
    "    velocities : array_like\n",
    "        The velocity of the wave function at intermediate times.\n",
    "    spreads : array_like\n",
    "        The spread of the wave function at intermediate times.\n",
    "    norms : array_like\n",
    "        The norm of the wave function at intermediate times.\n",
    "    \"\"\"\n",
    "\n",
    "    # TODO: Implement the split operator method.\n",
    "    pass"
   ]
  },
  {
   "cell_type": "code",
   "execution_count": null,
   "id": "146772a6-898c-44a7-a7ba-8d3b0d3d1fdd",
   "metadata": {
    "tags": []
   },
   "outputs": [],
   "source": [
    "make_plot(phi0, t_final, 100, pot_free, method=evolve_split_operator, title=\"Split operator\")"
   ]
  },
  {
   "cell_type": "markdown",
   "id": "1cfc14ae-1508-448e-ae4b-783a7b3e7dac",
   "metadata": {},
   "source": [
    "## Part 3: Tilted Wall\n",
    "\n",
    "Let us introduce a non-zero potential: a tilted wall with angle $\\theta$. You will see that the wavepacket will rebound at the tilted wall. For this, plot position and velocity of the wavepacket as a function of time for different angles $\\theta$ (you can use any of the numerical time evolution methods implemented above)."
   ]
  },
  {
   "cell_type": "code",
   "execution_count": null,
   "id": "828b0f08-397d-48ec-bb89-a54dc10858ca",
   "metadata": {
    "tags": []
   },
   "outputs": [],
   "source": [
    "def pot_wall(theta_deg):\n",
    "    m = np.tan(theta_deg * np.pi / 180.)\n",
    "    return np.vectorize(lambda x: max(0., m*x))"
   ]
  },
  {
   "cell_type": "code",
   "execution_count": null,
   "id": "e97b6966-cd3b-47a0-b9cb-efd081b1d92a",
   "metadata": {
    "tags": []
   },
   "outputs": [],
   "source": [
    "# TODO: Plot the position and velocity versus time for the tilted wall at various angles."
   ]
  }
 ],
 "metadata": {
  "kernelspec": {
   "display_name": "venv_CQM",
   "language": "python",
   "name": "python3"
  },
  "language_info": {
   "codemirror_mode": {
    "name": "ipython",
    "version": 3
   },
   "file_extension": ".py",
   "mimetype": "text/x-python",
   "name": "python",
   "nbconvert_exporter": "python",
   "pygments_lexer": "ipython3",
   "version": "3.9.7"
  }
 },
 "nbformat": 4,
 "nbformat_minor": 5
}
