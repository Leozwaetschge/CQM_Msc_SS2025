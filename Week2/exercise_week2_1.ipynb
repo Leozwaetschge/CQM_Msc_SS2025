{
 "cells": [
  {
   "cell_type": "markdown",
   "metadata": {},
   "source": [
    "***Installing Packages Needed for This Notebook and/or Beyond***"
   ]
  },
  {
   "cell_type": "code",
   "execution_count": 2,
   "metadata": {},
   "outputs": [
    {
     "name": "stdout",
     "output_type": "stream",
     "text": [
      "Requirement already satisfied: pip in /Users/leonardodelgaudio/opt/anaconda3/lib/python3.9/site-packages (25.0.1)\n",
      "Note: you may need to restart the kernel to use updated packages.\n",
      "Requirement already satisfied: scipy in /Users/leonardodelgaudio/opt/anaconda3/lib/python3.9/site-packages (1.12.0)\n",
      "Requirement already satisfied: numpy<1.29.0,>=1.22.4 in /Users/leonardodelgaudio/opt/anaconda3/lib/python3.9/site-packages (from scipy) (1.26.4)\n",
      "Note: you may need to restart the kernel to use updated packages.\n",
      "Requirement already satisfied: matplotlib in /Users/leonardodelgaudio/opt/anaconda3/lib/python3.9/site-packages (3.9.4)\n",
      "Requirement already satisfied: contourpy>=1.0.1 in /Users/leonardodelgaudio/opt/anaconda3/lib/python3.9/site-packages (from matplotlib) (1.3.0)\n",
      "Requirement already satisfied: cycler>=0.10 in /Users/leonardodelgaudio/opt/anaconda3/lib/python3.9/site-packages (from matplotlib) (0.12.1)\n",
      "Requirement already satisfied: fonttools>=4.22.0 in /Users/leonardodelgaudio/opt/anaconda3/lib/python3.9/site-packages (from matplotlib) (4.56.0)\n",
      "Requirement already satisfied: kiwisolver>=1.3.1 in /Users/leonardodelgaudio/opt/anaconda3/lib/python3.9/site-packages (from matplotlib) (1.4.7)\n",
      "Requirement already satisfied: numpy>=1.23 in /Users/leonardodelgaudio/opt/anaconda3/lib/python3.9/site-packages (from matplotlib) (1.26.4)\n",
      "Requirement already satisfied: packaging>=20.0 in /Users/leonardodelgaudio/opt/anaconda3/lib/python3.9/site-packages (from matplotlib) (24.2)\n",
      "Requirement already satisfied: pillow>=8 in /Users/leonardodelgaudio/opt/anaconda3/lib/python3.9/site-packages (from matplotlib) (10.2.0)\n",
      "Requirement already satisfied: pyparsing>=2.3.1 in /Users/leonardodelgaudio/opt/anaconda3/lib/python3.9/site-packages (from matplotlib) (3.2.1)\n",
      "Requirement already satisfied: python-dateutil>=2.7 in /Users/leonardodelgaudio/opt/anaconda3/lib/python3.9/site-packages (from matplotlib) (2.9.0.post0)\n",
      "Requirement already satisfied: importlib-resources>=3.2.0 in /Users/leonardodelgaudio/opt/anaconda3/lib/python3.9/site-packages (from matplotlib) (6.5.2)\n",
      "Requirement already satisfied: zipp>=3.1.0 in /Users/leonardodelgaudio/opt/anaconda3/lib/python3.9/site-packages (from importlib-resources>=3.2.0->matplotlib) (3.21.0)\n",
      "Requirement already satisfied: six>=1.5 in /Users/leonardodelgaudio/opt/anaconda3/lib/python3.9/site-packages (from python-dateutil>=2.7->matplotlib) (1.16.0)\n",
      "Note: you may need to restart the kernel to use updated packages.\n"
     ]
    }
   ],
   "source": [
    "%pip install --upgrade pip\n",
    "%pip install scipy\n",
    "%pip install matplotlib"
   ]
  },
  {
   "cell_type": "markdown",
   "metadata": {},
   "source": [
    "***Import useful packages***"
   ]
  },
  {
   "cell_type": "code",
   "execution_count": 3,
   "metadata": {
    "inputHidden": false,
    "outputHidden": false
   },
   "outputs": [
    {
     "name": "stdout",
     "output_type": "stream",
     "text": [
      "Intel MKL WARNING: Support of Intel(R) Streaming SIMD Extensions 4.2 (Intel(R) SSE4.2) enabled only processors has been deprecated. Intel oneAPI Math Kernel Library 2025.0 will require Intel(R) Advanced Vector Extensions (Intel(R) AVX) instructions.\n",
      "Intel MKL WARNING: Support of Intel(R) Streaming SIMD Extensions 4.2 (Intel(R) SSE4.2) enabled only processors has been deprecated. Intel oneAPI Math Kernel Library 2025.0 will require Intel(R) Advanced Vector Extensions (Intel(R) AVX) instructions.\n"
     ]
    }
   ],
   "source": [
    "from functools import partial  # to make a multivalued function single valued\n",
    "\n",
    "import numpy as np\n",
    "import scipy.linalg, scipy.optimize\n",
    "\n",
    "import matplotlib.pyplot as plt"
   ]
  },
  {
   "cell_type": "markdown",
   "metadata": {},
   "source": [
    "# Exercise 1.1 1D Numerov algorithm for a finite harmonic well"
   ]
  },
  {
   "cell_type": "markdown",
   "metadata": {},
   "source": [
    "### System\n",
    "We define a potential well for a 1D system."
   ]
  },
  {
   "cell_type": "code",
   "execution_count": 5,
   "metadata": {
    "inputHidden": false,
    "outputHidden": false
   },
   "outputs": [],
   "source": [
    "def potential(x, c):\n",
    "    \"\"\"\n",
    "    Potential well of depth c.\n",
    "    \"\"\"\n",
    "    if 0. < x < 1.:\n",
    "        return c*x*(x-1.)\n",
    "    else:\n",
    "        return 0"
   ]
  },
  {
   "cell_type": "markdown",
   "metadata": {},
   "source": [
    "The corresponding Numerov coefficient function $k(x)$ is"
   ]
  },
  {
   "cell_type": "code",
   "execution_count": 6,
   "metadata": {},
   "outputs": [],
   "source": [
    "def numerov_coefficient_function(x, E, c):\n",
    "    \"\"\"\n",
    "    The Numerov coefficient function k(x) for a given energy E\n",
    "    and well depth c.\n",
    "    \"\"\"\n",
    "    return 2.*(E - potential(x, c))"
   ]
  },
  {
   "cell_type": "markdown",
   "metadata": {},
   "source": [
    "As the potential is non-zero only in the interval $[0, 1]$, it is sufficient to work in the range $[-dx, 1+dx]$."
   ]
  },
  {
   "cell_type": "code",
   "execution_count": 7,
   "metadata": {
    "inputHidden": false,
    "outputHidden": false
   },
   "outputs": [],
   "source": [
    "dx = 0.01\n",
    "n_steps = int(1/dx) + 2\n",
    "x_values = np.linspace(-dx, 1+dx, n_steps)"
   ]
  },
  {
   "cell_type": "markdown",
   "metadata": {},
   "source": [
    "### Numerov algorithm\n",
    "\n",
    "We implement the numerov algorithm following the lecture notes. The algorithm should return the wavefunction $|\\psi(x_i)\\rangle$ at discrete $x_i \\in [x_{min}, x_{max}]$ for a given Numerov coefficient function $k(x)$. Starting with two initial values $|\\psi_0\\rangle=|\\psi(x_0)\\rangle$ and $|\\psi_1\\rangle=|\\psi(x_1)\\rangle$, the algorithm iteratively calculates values $|\\psi(x_i)\\rangle$ for $i=2,...,n-1$. Note that this can be done starting from the left as well as from the right. Make sure to allow both directions, as we will make use of them in the shooting method later on."
   ]
  },
  {
   "cell_type": "code",
   "execution_count": 8,
   "metadata": {},
   "outputs": [],
   "source": [
    "def numerov(k, psi_0, psi_1, x_min, x_max, n_steps, right_to_left=False):\n",
    "    \"\"\"\n",
    "    Perform the Numerov method on an interval starting with two initial values. \n",
    "    \n",
    "    Parameters\n",
    "    ----------\n",
    "    k : function k = k(x), returning a number\n",
    "        Numerov coefficient function.\n",
    "    psi_0 : float or complex\n",
    "        First initial wavefunction value.\n",
    "    psi_1 : float or complex\n",
    "        Second initial wavefunction value.\n",
    "    x_min : float\n",
    "        Left boundary of the interval of x values.\n",
    "    x_max : float\n",
    "        Right boundary of the interval of x values.\n",
    "    n_steps : int\n",
    "        Number of discrete x values in the interval.\n",
    "    right_to_left : bool, default False\n",
    "        When True, do Numerov steps from right to left, else from left to right.\n",
    "    \n",
    "    Returns\n",
    "    -------\n",
    "    array_like\n",
    "        List of wavefunction values [psi_0, psi_1, psi_2, ..., psi_n].\n",
    "    \n",
    "    \"\"\"\n",
    "    # implement your numerov algorithm here\n",
    "    pass"
   ]
  },
  {
   "cell_type": "markdown",
   "metadata": {},
   "source": [
    "### Shooting method\n",
    "The bidirectional shooting method integrates the Schroedinger equation for a given energy $E$ on $x_i \\in [x_{min}, x_{max}]$ using the Numerov method once from the left and once from the right. \\\n",
    "The 2 solutions are then matched at a point $x_{min} \\leq b \\leq x_{max}$ for which $V(b)=E$. Choosing this point simplifies the matching condition as $\\psi_L(b)''=\\psi_R(b)''=0$. Make sure that your shooting method returns both the number of nodes of the resulting wavefunction and the difference of the logarithmic derivatives at $b$, $\\frac{d\\log\\psi_L(x)}{dx}|_{x=b} - \\frac{d\\log\\psi_R(x)}{dx}|_{x=b}$. This is necessary for the root finding method used to find bound states. Plus you could return the correctly matched and normalized wavefunction for later display."
   ]
  },
  {
   "cell_type": "code",
   "execution_count": 9,
   "metadata": {},
   "outputs": [],
   "source": [
    "def count_nodes(psi):\n",
    "    \"\"\"\n",
    "    Counts number of nodes in the wavefunction psi. A sign change\n",
    "    between neighboring psi values means there is a node in\n",
    "    between.\n",
    "    \"\"\"\n",
    "    n_nodes = np.sum([i*j < 0 for i, j in zip(psi, psi[1:])])\n",
    "    return n_nodes"
   ]
  },
  {
   "cell_type": "code",
   "execution_count": 10,
   "metadata": {
    "inputHidden": false,
    "outputHidden": false
   },
   "outputs": [],
   "source": [
    "def bidirectional_shooting_method(E, c, x_min, x_max, n_steps, return_log_diff_only=False):\n",
    "    \"\"\"\n",
    "    Bidirectional shooting method.\n",
    "    \n",
    "    Shoot wavefunctions with energy E from both the left and the right. Use\n",
    "    the Numerov algorithm to get two solutions, one from the left and one\n",
    "    from the right. Then match these two solutions at a point b, with \n",
    "    V(b) = E. In the search for a bound state, the difference of logarithmic\n",
    "    derivatives at the matching point b will be the variable for which a \n",
    "    root finding method is applied.\n",
    "    \n",
    "    Parameters\n",
    "    ----------\n",
    "    E : float\n",
    "        Energy of the wavefunction.\n",
    "    c : float\n",
    "        Well depth.\n",
    "    x_min : float\n",
    "        Left boundary of the interval of x values.\n",
    "    x_max : float\n",
    "        Right boundary of the interval of x values.\n",
    "    n_steps : int\n",
    "        Number of discrete x values in the interval.\n",
    "    return_log_diff_only : bool, default False\n",
    "        If True, return only the log derivative difference\n",
    "        (needed for root finding).\n",
    "        \n",
    "    Returns\n",
    "    -------\n",
    "    psi : list\n",
    "        Combined wavefunction.\n",
    "    n_nodes : int\n",
    "        Number of nodes of the wavefunction.\n",
    "    d_log_diff : int\n",
    "        Difference of the logarithmic derivatives of the two\n",
    "        wavefunctions at the matching point.\n",
    "    \n",
    "    \"\"\"\n",
    "    # implement the bidirectional shooting method here\n",
    "    pass"
   ]
  },
  {
   "cell_type": "markdown",
   "metadata": {},
   "source": [
    "## Problem analysis\n",
    "\n",
    "Before tackling the problems of finding the number of bound states and finding actual states, let us analyze the implemented methods and how we should use them to find solutions to the Schroedinger equation (and understand what we're actually doing). For bound states, we're interested in finding the finite number of solutions at negative energies. Our potential well of depth $-c/4$ at $x_{min} = 1/2$ further narrows the range of possible solutions: states with energy less than $-c/4$ will not exist.\n",
    "\n",
    "The shooting method tells us that we have found an eigenstate of the Schroedinger equation, if integrating with  Numerov gives the same solution if done from the left as well as from the right. The matching condition is simplified to one statement: if the log-derivative of the two solutions match at $b$ with $V(b)=E$, then $E$ is an eigenvalue and the solution an eigenstate.\n",
    "\n",
    "So, we can restate the problem at the core of this exercise: for every energy $-c/4 \\leq E \\leq 0$, get the log-derivative difference at $b=b(E)=1/2+\\sqrt{1/4 + E/c}$. Then search for all the roots of the log-derivative-differences. A root tells you that the energy is a solution.\n",
    "\n",
    "Generally, before applying a root finder to find the roots of a function, we would like to get some understanding of the function: this will help us understand the solutions, and it will identify possible pitfalls during root finding. \n",
    "\n",
    "In the following figure (img/log_difference.png), you see the difference of logarithmic derivatives of the left and right solution as a function of energy for $c=400$:\n",
    "\n",
    "![image](img/log_difference.png)\n",
    "\n",
    "There are 4 roots, and the function is not continuous. So before finding a root using some root finding method, we need to define intervals for which only one root and no divergence exists: there, a root finder will converge to the correct root. How does the number of nodes for the results from the shooting method help you find such intervals?"
   ]
  },
  {
   "cell_type": "markdown",
   "metadata": {},
   "source": [
    "## Part 1: number of bound states\n",
    "\n",
    "We need to find the number of bound states for the potential well of depth $c$ for different values of $c \\in (0, 1000]$. Looking at the figure from above: how many nodes has a solution for a given energy? How does this help you to find the number of bound states for a given well depth? "
   ]
  },
  {
   "cell_type": "code",
   "execution_count": null,
   "metadata": {
    "inputHidden": false,
    "outputHidden": false
   },
   "outputs": [],
   "source": [
    "def get_number_of_bound_states(c, x_values):\n",
    "    \"\"\"\n",
    "    Get the number of bound states for a potential well of depth `c`.\n",
    "    \n",
    "    Parameters\n",
    "    ----------\n",
    "    c : float\n",
    "        Well depth.\n",
    "    x_values : array_like\n",
    "        Discretized x values.\n",
    "        \n",
    "    Returns\n",
    "    -------\n",
    "    int\n",
    "        Number of bound states for the potential well.\n",
    "    \n",
    "    \"\"\"\n",
    "    # we make use of the fact that the number of nodes (+1) of the \n",
    "    # state at zero energy is the number of bound states, so use\n",
    "    # the shooting method to find a solution to zero energy\n",
    "    psi, n_nodes, d_log_psi_diff = bidirectional_shooting_method(E=0, c=c, x_min=x_values[0], \n",
    "                                                                 x_max=x_values[-1], n_steps=len(x_values))\n",
    "    \n",
    "    # if the d_log_psi difference for zero energy is negative, \n",
    "    # the closest solution actually belongs to a positive energy\n",
    "    # and is not a bound state anymore (take a look at the lonely\n",
    "    # yellow dot in the figure above!)\n",
    "    if d_log_psi_diff < 0:\n",
    "        return n_nodes\n",
    "    else:\n",
    "        return n_nodes + 1"
   ]
  },
  {
   "cell_type": "markdown",
   "metadata": {},
   "source": [
    "### Result\n",
    "Use your function to plot the number of bound states vs well depth."
   ]
  },
  {
   "cell_type": "code",
   "execution_count": null,
   "metadata": {
    "inputHidden": false,
    "outputHidden": false
   },
   "outputs": [],
   "source": [
    "c_values = np.linspace(1, 1000, 500)\n",
    "number_of_bound_states = np.zeros(len(c_values))\n",
    "for i, c in enumerate(c_values):\n",
    "    n_nodes = get_number_of_bound_states(c=c, x_values=x_values)\n",
    "    number_of_bound_states[i] = n_nodes"
   ]
  },
  {
   "cell_type": "code",
   "execution_count": null,
   "metadata": {
    "inputHidden": false,
    "outputHidden": false
   },
   "outputs": [],
   "source": [
    "plt.figure(figsize=(4,4))\n",
    "plt.plot(c_values, number_of_bound_states)\n",
    "plt.title(\"Number of bound states as function of well depth\")\n",
    "plt.xlabel(\"well depth c\")\n",
    "plt.ylabel(\"Number of bound states\")\n",
    "plt.show()"
   ]
  },
  {
   "cell_type": "markdown",
   "metadata": {},
   "source": [
    "## Part 2: bound states spectrum\n",
    "\n",
    "Bound states exist only at discrete energies $E<0$. As discussed, we find them as the roots of the log-derivative-difference function. In order not to crash our root finding method, we should split the energy interval into subintervals, in which there is a single root and the log-derivative-difference is continuous. Then we use `scipy.optimize.bisect` to actually find this root."
   ]
  },
  {
   "cell_type": "code",
   "execution_count": null,
   "metadata": {},
   "outputs": [],
   "source": [
    "def get_eigenenergy_for_n_nodes(n_nodes, c, x_values, tol=1e-6, maxiter=500):\n",
    "    \"\"\"\n",
    "    Get the eigenenergy for an eigenstate with a certain number of nodes.\n",
    "    \n",
    "    Parameters\n",
    "    ----------\n",
    "    n_nodes : int\n",
    "        Number of nodes.\n",
    "    c : float\n",
    "        Well depth.\n",
    "    x_values : array_like\n",
    "        Discrete x values.\n",
    "    tol : float, default 1e-6\n",
    "        Convergence tolerance for scipy.optimize.bisect.\n",
    "    maxiter : int\n",
    "        Maximum iterations to find energy subinterval.\n",
    "        \n",
    "    Returns\n",
    "    -------\n",
    "    float\n",
    "        Eigenenergy of state with `n_nodes` nodes.\n",
    "    \n",
    "    \"\"\"\n",
    "    # write a function that finds the eigenenergy for \n",
    "    # a given number of nodes\n",
    "    pass"
   ]
  },
  {
   "cell_type": "markdown",
   "metadata": {},
   "source": [
    "### Result\n",
    "Get all bound states for well depth $c=400$. First we find the number of bound states, then we will use the bisection method to find a wavefunction solution for $0, 1, ..., n - 1$ number of nodes. These solutions are then the bound states."
   ]
  },
  {
   "cell_type": "code",
   "execution_count": null,
   "metadata": {
    "inputHidden": false,
    "outputHidden": false
   },
   "outputs": [],
   "source": [
    "c = 400\n",
    "number_of_bound_states = get_number_of_bound_states(c=c, x_values=x_values)\n",
    "eigenenergies = []\n",
    "wavefunctions = []\n",
    "for n in range(number_of_bound_states):\n",
    "    # find eigenenergies and corresponding wavefunctions\n",
    "    pass"
   ]
  },
  {
   "cell_type": "code",
   "execution_count": null,
   "metadata": {
    "inputHidden": false,
    "outputHidden": false
   },
   "outputs": [],
   "source": [
    "plt.figure(figsize=(4,4))\n",
    "# plot the potential\n",
    "plt.plot(x_values, [potential(x, c=c) for x in x_values], c='k')\n",
    "\n",
    "for i, energy in enumerate(eigenenergies):\n",
    "    # plot the energy level and the wavefunction centered at the\n",
    "    # energy level\n",
    "    energy_level = np.repeat(energy, len(x_values))\n",
    "    plt.plot(x_values, energy_level, '--', c='b')\n",
    "    # to make the wavefunctions nicely visible\n",
    "    scaling = 1.5 * c / 4 / number_of_bound_states\n",
    "    psi_at_energy_level = energy_level + scaling * wavefunctions[i]\n",
    "    plt.plot(x_values, psi_at_energy_level, '-', c='r')\n",
    "    plt.fill_between(x_values, psi_at_energy_level, energy_level, facecolor='red', alpha=0.1)\n",
    "\n",
    "plt.title(f\"${number_of_bound_states}$ bound states for $c={c}$\")\n",
    "plt.xlabel(\"Position\")\n",
    "plt.ylabel(\"Energy\")\n",
    "plt.show()"
   ]
  }
 ],
 "metadata": {
  "kernelspec": {
   "display_name": "base",
   "language": "python",
   "name": "python3"
  },
  "language_info": {
   "codemirror_mode": {
    "name": "ipython",
    "version": 3
   },
   "file_extension": ".py",
   "mimetype": "text/x-python",
   "name": "python",
   "nbconvert_exporter": "python",
   "pygments_lexer": "ipython3",
   "version": "3.9.7"
  }
 },
 "nbformat": 4,
 "nbformat_minor": 4
}
